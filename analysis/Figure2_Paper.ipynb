{
 "cells": [
  {
   "cell_type": "code",
   "execution_count": 1,
   "metadata": {},
   "outputs": [],
   "source": [
    "from __future__ import annotations\n",
    "import pandas as pd\n",
    "from pathlib import Path\n",
    "import numpy as np\n",
    "from dataclasses import dataclass\n",
    "import plotly.express as px\n",
    "import json\n",
    "pd.set_option('display.max_rows', 500)"
   ]
  },
  {
   "cell_type": "markdown",
   "metadata": {},
   "source": [
    "### Define quality criteria"
   ]
  },
  {
   "cell_type": "code",
   "execution_count": 2,
   "metadata": {},
   "outputs": [
    {
     "name": "stderr",
     "output_type": "stream",
     "text": [
      "/Users/yusuf/miniconda3/envs/vantaiqueue/lib/python3.8/site-packages/google/auth/_default.py:78: UserWarning: Your application has authenticated using end user credentials from Google Cloud SDK without a quota project. You might receive a \"quota exceeded\" or \"API not enabled\" error. See the following page for troubleshooting: https://cloud.google.com/docs/authentication/adc-troubleshooting/user-creds. \n",
      "  warnings.warn(_CLOUD_SDK_CREDENTIALS_WARNING)\n"
     ]
    }
   ],
   "source": [
    "@dataclass\n",
    "class TestCriteria:\n",
    "    max_entry_resolution: float = 3.5\n",
    "    max_entry_r = 0.4\n",
    "    max_entry_rfree = 0.45\n",
    "    max_entry_r_minus_rfree = 0.05\n",
    "    ligand_max_num_unresolved_heavy_atoms = 0\n",
    "    ligand_max_alt_count = 1\n",
    "    ligand_min_average_occupancy: float = 0.8\n",
    "    ligand_min_average_rscc: float = 0.8\n",
    "    ligand_max_average_rsr: float = 0.3\n",
    "    ligand_max_percent_outliers_clashes = 0\n",
    "    pocket_max_num_unresolved_heavy_atoms = 0\n",
    "    pocket_max_alt_count = 1\n",
    "    pocket_min_average_occupancy: float = 0.8\n",
    "    pocket_min_average_rscc: float = 0.8\n",
    "    pocket_max_average_rsr: float = 0.3\n",
    "    pocket_max_percent_outliers_clashes = 100\n",
    "\n",
    "\n",
    "def get_high_quality_systems(\n",
    "    row: pd.Series,\n",
    "    criteria: TestCriteria\n",
    ") -> bool:\n",
    "    if row.system_type != \"holo\":\n",
    "        return False\n",
    "    if row.entry_r is not None and row.system_ligand_average_rscc is not None:\n",
    "        quality = [\n",
    "            # ENTRY\n",
    "            row.entry_resolution <= criteria.max_entry_resolution,\n",
    "            row.entry_r <= criteria.max_entry_r,\n",
    "            row.entry_rfree <= criteria.max_entry_rfree,\n",
    "            row.entry_r_minus_rfree <= criteria.max_entry_r_minus_rfree,\n",
    "            # LIGAND\n",
    "            row.system_ligand_num_unresolved_heavy_atoms <= row.system_num_covalent_ligands + criteria.ligand_max_num_unresolved_heavy_atoms,\n",
    "            row.system_ligand_max_alt_count <= criteria.ligand_max_alt_count, # NOTE: max_alt_count is misnomer - this counts number of total conformers!\n",
    "            row.system_ligand_average_occupancy >= criteria.ligand_min_average_occupancy,\n",
    "            row.system_ligand_average_rscc >= criteria.ligand_min_average_rscc,\n",
    "            row.system_ligand_average_rsr <= criteria.ligand_max_average_rsr,\n",
    "            row.system_ligand_percent_outliers_clashes <= criteria.ligand_max_percent_outliers_clashes,\n",
    "            # POCKET\n",
    "            row.system_pocket_num_unresolved_heavy_atoms <= criteria.pocket_max_num_unresolved_heavy_atoms,\n",
    "            row.system_pocket_max_alt_count <= criteria.pocket_max_alt_count,\n",
    "            row.system_pocket_average_occupancy >= criteria.pocket_min_average_occupancy,\n",
    "            row.system_pocket_average_rscc >= criteria.pocket_min_average_rscc,\n",
    "            row.system_pocket_average_rsr <= criteria.pocket_max_average_rsr,\n",
    "            row.system_pocket_percent_outliers_clashes <= criteria.pocket_max_percent_outliers_clashes,\n",
    "        ]\n",
    "        if np.logical_and.reduce(quality):\n",
    "            return True\n",
    "    return False\n",
    "\n",
    "quality_config = TestCriteria()\n",
    "\n",
    "df = pd.read_parquet(\"gs://plinder-collab-bucket/2024-04/v1/index/annotation_table.parquet\")\n",
    "df[\"system_num_covalent_ligands\"] = df.groupby(\"system_id\")[\"ligand_is_covalent\"].transform(\"sum\")\n",
    "df[\"passes_quality\"] = df.apply(lambda row: get_high_quality_systems(row, criteria=quality_config), axis=1)\n",
    "\n",
    "all_systems_passing_quality = set(df[df[\"passes_quality\"]][\"system_id\"])"
   ]
  },
  {
   "cell_type": "markdown",
   "metadata": {},
   "source": [
    "### Input literature reference to performance of different datasets"
   ]
  },
  {
   "cell_type": "code",
   "execution_count": null,
   "metadata": {},
   "outputs": [],
   "source": [
    "imputed_diffdock_performance_pdbbind = {\n",
    "    # Reference: https://arxiv.org/abs/2402.18396\n",
    "    \"PDBBIND-TIME\": {\n",
    "        \"Split-test\": {\"SR-1-mean\": 35.0  , \"SR-1-std\": 0.00, \"SR-10-mean\": 48, \"SR-10-std\": np.nan},\n",
    "        \"PoseBusters\": {\"SR-1-mean\": 38.0, \"SR-1-std\": 0.00, \"SR-10-mean\": np.nan, \"SR-10-std\":np.nan}},\n",
    "    }"
   ]
  },
  {
   "cell_type": "code",
   "execution_count": null,
   "metadata": {},
   "outputs": [],
   "source": [
    "def evaluate_performance(\n",
    "    prediction_csv: pd.DataFrame,\n",
    "    target_sys_ids: list[str],\n",
    "    test_set_tag=\"Split-test\",\n",
    "    topn: int = 1,\n",
    "    in_target_list: bool =True,\n",
    "    rmsd_threshold:int = 2,\n",
    "    use_all: bool = False) -> float:\n",
    "    \"\"\"\n",
    "    Compute performance metric from predictions csvs\n",
    "    \"\"\"\n",
    "    # Load CSV\n",
    "    prediction_df = pd.read_csv(prediction_csv)\n",
    "    if test_set_tag == \"PoseBusters\":\n",
    "        # Select top N\n",
    "        prediction_df = prediction_df[prediction_df[\"rank\"] <= topn]\n",
    "        # Select all that passed based on quality\n",
    "        success_df = prediction_df[prediction_df.rmsd <= rmsd_threshold]\n",
    "        return (len(prediction_df.id.unique()),\n",
    "                len(success_df.id.unique())/len(prediction_df.id.unique())*100)\n",
    "    # Select systems by quality\n",
    "    if in_target_list and not use_all:\n",
    "        prediction_df_hq = prediction_df[prediction_df.id.isin(target_sys_ids)]\n",
    "    elif (not in_target_list) and use_all:\n",
    "        prediction_df_hq = prediction_df[~(prediction_df.id.isin(target_sys_ids))]\n",
    "    elif use_all:\n",
    "        prediction_df_hq = prediction_df.copy()\n",
    "    # Select top N\n",
    "    prediction_df_hq = prediction_df_hq[prediction_df_hq[\"rank\"] <= topn]\n",
    "    # Select all that passed based on quality\n",
    "    success_df = prediction_df_hq[prediction_df_hq.rmsd <= rmsd_threshold]\n",
    "    return (len(prediction_df_hq.id.unique()),\n",
    "            len(success_df.id.unique())/len(prediction_df_hq.id.unique())*100)\n",
    "\n",
    "\n",
    "def compare_performance(\n",
    "    dict_of_prediction_csvs: dict[Path],\n",
    "    target_sys_ids: list[str],\n",
    "    test_set_tag=\"Split-test\",\n",
    "    topn = 1,\n",
    "    in_target_list: bool =True,\n",
    "    rmsd_threshold: int = 2,\n",
    "    use_all: bool = False) -> pd.DataFrame:\n",
    "    output_dict = []\n",
    "    \"\"\"\n",
    "    Compares performance between splits defined by `dict_of_prediction_csvs`\n",
    "    \"\"\"\n",
    "    for split, list_of_prediction_csvs in dict_of_prediction_csvs.items():\n",
    "        results = []\n",
    "        for prediction_csv in list_of_prediction_csvs:\n",
    "            size, perf = evaluate_performance(\n",
    "                prediction_csv,\n",
    "                target_sys_ids,\n",
    "                test_set_tag,\n",
    "                topn, in_target_list, rmsd_threshold, use_all)\n",
    "            results.append(perf)\n",
    "        output_dict.append([split.upper(), size, test_set_tag, np.mean(results), np.std(results)])\n",
    "    return pd.DataFrame(output_dict, columns=[\"Split\", \"Size\", \"Test_tag\", f\"SR-{topn}-mean\",  f\"SR-{topn}-std\"])\n",
    "\n",
    "def get_top1_and_top10_performance(\n",
    "    dict_of_prediction_csvs: dict[Path],\n",
    "    target_sys_ids: list[str],\n",
    "    test_set_tag=\"Split-test\",\n",
    "    in_target_list: bool =True,\n",
    "    rmsd_threshold: int = 2,\n",
    "    use_all: bool = False) -> pd.DataFrame:\n",
    "    \"\"\"\n",
    "    Compute top 1 and top 10 performance metric from predictions csvs\n",
    "    \"\"\"\n",
    "    # Get top1 perfromance\n",
    "    top1_df = compare_performance(\n",
    "        dict_of_prediction_csvs,\n",
    "        target_sys_ids,\n",
    "        test_set_tag,\n",
    "        topn = 1,\n",
    "        in_target_list=in_target_list,\n",
    "        rmsd_threshold=rmsd_threshold,\n",
    "        use_all=use_all)\n",
    "     # Get top10 perfromance\n",
    "    top10_df = compare_performance(\n",
    "        dict_of_prediction_csvs,\n",
    "        target_sys_ids,\n",
    "        test_set_tag,\n",
    "        topn = 10,\n",
    "        in_target_list=in_target_list,\n",
    "        rmsd_threshold=rmsd_threshold,\n",
    "        use_all=use_all)\n",
    "    return pd.merge(top1_df, top10_df[[\"Split\", \"SR-10-mean\", \"SR-10-std\"]], on=\"Split\")\n",
    "\n",
    "\n",
    "def get_top1_and_top10_perfromance_stratified(\n",
    "        performance_df_dict: dict[pd.DataFrame],\n",
    "        tag=\"\",  exclude=None):\n",
    "    df_list = []\n",
    "    \"\"\"\n",
    "    Compute top 1 and top 10 performance metric stratified by quality\n",
    "    \"\"\"\n",
    "    for idx, (label, df) in enumerate(performance_df_dict.items()):\n",
    "        df[tag] = label\n",
    "        df_list.append(df)\n",
    "    combined_df = pd.concat(df_list)\n",
    "\n",
    "    if exclude is not None:\n",
    "        combined_df = combined_df[combined_df.Split != exclude]\n",
    "    return combined_df\n",
    "\n",
    "def extract_leakage_from_json(\n",
    "        leagake_json,  split,\n",
    "        test_set_tag=\"Split-test\",\n",
    "        is_high_quality=True,\n",
    "        links_threshold=0):\n",
    "    with open(leagake_json, \"r\") as f:\n",
    "        data = json.load(f)\n",
    "    if is_high_quality and test_set_tag == \"Split-test\":\n",
    "        tag_name = f\"fraction_leaked_train_{test_set_tag.lower().split('-')[-1]}_hq_{links_threshold}\"\n",
    "    else:\n",
    "        tag_name = f\"fraction_leaked_train_{test_set_tag.lower().split('-')[-1]}_{links_threshold}\"\n",
    "    qual = \"High\"\n",
    "    return qual, data[split][tag_name]\n",
    "\n",
    "def extract_data_size_from_json(\n",
    "        leagake_json,  split):\n",
    "    with open(leagake_json, \"r\") as f:\n",
    "        data = json.load(f)\n",
    "    return (data[split][\"num_train\"],\n",
    "        data[split][\"num_val\"],\n",
    "          data[split][\"num_test\"])\n",
    "\n",
    "def make_leakage_dataframe(\n",
    "        dict_of_all_leakage_metrics,\n",
    "        list_of_splits, test_set_tag=\"Split-test\",\n",
    "        is_high_quality=True, links_threshold=0):\n",
    "    results = []\n",
    "    for metric, leagake_json in dict_of_all_leakage_metrics.items():\n",
    "        for split in list_of_splits:\n",
    "            leakage = extract_leakage_from_json(\n",
    "                leagake_json, split,\n",
    "                test_set_tag, is_high_quality,\n",
    "                links_threshold)\n",
    "            results.append([metric, split.upper(), test_set_tag, *leakage])\n",
    "    return pd.DataFrame(results, columns=[\"Metric\", \"Split\", \"Test_tag\", \"Quality\", \"Leakage\"])\n",
    "\n",
    "\n",
    "def get_all_merged_pred_dataset(\n",
    "    dict_of_prediction_csvs: dict[Path],\n",
    "    leakage_json_dict:  dict[Path],\n",
    "    splits: list[str],\n",
    "    target_sys_ids: list[str],\n",
    "    reference_dict_to_input,\n",
    "    rmsd_threshold: int = 2, is_high_quality=True, links_threshold=0):\n",
    "    final_preds = []\n",
    "    for test_set_tag, prediction_csv_dict in dict_of_prediction_csvs.items():\n",
    "        df_hq = get_top1_and_top10_performance(\n",
    "            prediction_csv_dict ,\n",
    "            target_sys_ids,\n",
    "            test_set_tag=test_set_tag,\n",
    "            in_target_list=True,\n",
    "            rmsd_threshold= rmsd_threshold,\n",
    "            use_all= False)\n",
    "        if test_set_tag != \"PoseBusters\":\n",
    "            df_all = get_top1_and_top10_performance(\n",
    "                prediction_csv_dict,\n",
    "                target_sys_ids,\n",
    "                test_set_tag=test_set_tag,\n",
    "                use_all=True)\n",
    "        stratififed_df = get_top1_and_top10_perfromance_stratified(\n",
    "            {\"High+Low\": df_all, \"High\": df_hq}, tag=\"Quality\")\n",
    "        final_preds.append(stratififed_df )\n",
    "    final_preds_df = pd.concat(final_preds, ignore_index=True).drop_duplicates()\n",
    "\n",
    "    # Compute leakage\n",
    "    split_leakage = make_leakage_dataframe(\n",
    "        leakage_json_dict,\n",
    "        splits, test_set_tag=\"Split-test\",\n",
    "        is_high_quality=is_high_quality, links_threshold=links_threshold)\n",
    "\n",
    "    posebusters_leakage = make_leakage_dataframe(\n",
    "        leakage_json_dict,\n",
    "        splits, test_set_tag=\"PoseBusters\",\n",
    "        is_high_quality=is_high_quality, links_threshold=links_threshold)\n",
    "    leakage_df = pd.concat([split_leakage, posebusters_leakage])\n",
    "    merged_df = final_preds_df.merge(leakage_df, how=\"outer\", on=['Split','Test_tag', 'Quality'])\n",
    "    # Imput literature reference\n",
    "    for split, v in reference_dict_to_input.items():\n",
    "        for test_tag, sr in v.items():\n",
    "            for sr_tag, val in sr.items():\n",
    "                merged_df.loc[\n",
    "                    (merged_df['Split'] == split) &\\\n",
    "                          (merged_df['Test_tag'] == test_tag), sr_tag] = val\n",
    "    return final_preds_df, leakage_df, merged_df\n",
    "\n",
    "def plot_diffdock_performance_vs_leakage(\n",
    "        performance_vs_leakage_df,\n",
    "        show_only = None, exclude_tanimoto=True, plot_dimension=(400, 650)):\n",
    "    symbols = ['circle', 'square', 'star', 'diamond', 'hourglass' , 'pentagon']\n",
    "    colors = [\"lightblue\", \"pink\", \"lightgreen\", \"purple\", \"goldenrod\" ]\n",
    "    if exclude_tanimoto:\n",
    "         performance_vs_leakage_df =  performance_vs_leakage_df[~ performance_vs_leakage_df.Metric.apply(lambda x : \"LIGAND\" in x)]\n",
    "\n",
    "    if show_only is not None:\n",
    "        performance_vs_leakage_df = performance_vs_leakage_df[performance_vs_leakage_df[show_only[0]].isin(show_only[1])]\n",
    "    no_of_colors =  len(performance_vs_leakage_df.Metric.unique())\n",
    "    fig = px.scatter(\n",
    "         performance_vs_leakage_df,\n",
    "        x=\"Leakage\", y=\"SR-10-mean\", color=\"Metric\", trendline=\"lowess\",\n",
    "        color_discrete_sequence=colors[:no_of_colors],\n",
    "        symbol=\"Metric\",\n",
    "        symbol_sequence=symbols[:no_of_colors],\n",
    "                    height=plot_dimension[0],\n",
    "                    width=plot_dimension[1])\n",
    "    fig.update_layout(\n",
    "        {\"plot_bgcolor\": \"rgba(0, 0, 0, 0)\"},\n",
    "        legend=dict(\n",
    "            x=0,\n",
    "            y=1,\n",
    "            traceorder=\"normal\",\n",
    "            font=dict(\n",
    "                size=18,\n",
    "                color=\"black\"\n",
    "            ),\n",
    "        ),\n",
    "        font=dict(\n",
    "            size=18,  # Set the font size here\n",
    "        ),\n",
    "        yaxis_title=\"Success Rate\",\n",
    "        xaxis_title=\"Fraction of leaked systems\",\n",
    "        yaxis = dict(\n",
    "        tickfont = dict(size=18)),\n",
    "        xaxis = dict(\n",
    "        tickfont = dict(size=18)),\n",
    "        legend_title=None\n",
    "    )\n",
    "    fig.update_xaxes(showline=True, linewidth=2, linecolor='black', color='black')\n",
    "    fig.update_yaxes(showline=True, linewidth=2, linecolor='black', color='black')\n",
    "    fig.update_traces(marker=dict(size=12,\n",
    "                                line=dict(width=1,\n",
    "                                            color='DarkSlateGrey')),\n",
    "                    selector=dict(mode='markers'))\n",
    "    config = {\n",
    "    'toImageButtonOptions': {\n",
    "        'format': 'png', # one of png, svg, jpeg, webp\n",
    "        'filename': 'top10_diffdock_vs_leakage',\n",
    "        'scale':6 # Multiply title/legend/axis/canvas sizes by this factor\n",
    "    }\n",
    "    }\n",
    "    fig.show(config=config)\n",
    "\n",
    "\n",
    "def plot_diffdock_performance_bar(performance_dataset, pdbbind_diffdock_line, posebusters_line=None, topn=1):\n",
    "    color_dict={\"High\": \"#89CFF0\", \"High+Low\": \"#c9a0dc\"}\n",
    "    fig = px.bar(\n",
    "        performance_dataset[\n",
    "    (performance_dataset.Split.isin([\"PLINDER-V0\", \"PLINDER-ECOD\",  \"PLINDER-TIME\"])) & \\\n",
    "                ~((performance_dataset.Test_tag == \"PoseBusters\") \\\n",
    "                  & (performance_dataset.Quality == \"High+Low\"))][\n",
    "                      [\"Split\", f\"SR-{topn}-mean\", f\"SR-{topn}-std\", \"Quality\", \"Test_tag\"]].drop_duplicates(),\n",
    "        x=\"Split\", y=f\"SR-{topn}-mean\",\n",
    "                    color=\"Quality\",\n",
    "                    barmode='group',\n",
    "                    color_discrete_map=color_dict,\n",
    "                    color_continuous_scale=color_dict,\n",
    "                    facet_col=\"Test_tag\",\n",
    "                    error_y=f\"SR-{topn}-std\",\n",
    "                    error_y_minus=f\"SR-{topn}-std\",\n",
    "                    height=400,\n",
    "                    width=1200)\n",
    "    fig.update_layout(\n",
    "        {\"plot_bgcolor\": \"rgba(0, 0, 0, 0)\",\n",
    "         \"paper_bgcolor\": \"rgba(0,0,0,0)\",\n",
    "        \"title\": f\"Top-{topn}\"},\n",
    "\n",
    "        font=dict(\n",
    "            size=18,  # Set the font size here\n",
    "        ),\n",
    "        title=dict(font=dict(color=\"black\")),\n",
    "        legend=dict(font=dict(color=\"black\", size=15)),\n",
    "        yaxis_title=\"Success Rate\",\n",
    "        bargap=0.05,\n",
    "        yaxis = dict(\n",
    "        tickfont = dict(size=18)))\n",
    "\n",
    "    fig.add_hline(y=pdbbind_diffdock_line, line_dash=\"dash\",\n",
    "            annotation=dict( x=0.35, y=pdbbind_diffdock_line, font_size=18,  align='left'),\n",
    "            annotation_text=\"PDBBind-DiffDock\", row=1, col=1, line_color=\"black\"\n",
    "            )\n",
    "    if posebusters_line is not None:\n",
    "        fig.add_hline(y=posebusters_line, line_dash=\"dash\",\n",
    "                annotation=dict( x=0.35, y=posebusters_line, font_size=18, align='left'),\n",
    "                annotation_text=\"PDBBind-DiffDock\", row=1, col=2,\n",
    "                line_color=\"black\"\n",
    "                )\n",
    "    fig.for_each_annotation(lambda a: a.update(text=a.text.replace(\"Test_tag=\", \"\")))\n",
    "    fig.update_annotations(font=dict( size=18, color=\"black\"))\n",
    "    fig.update_xaxes(showline=True, linewidth=2, linecolor='black', color='black')\n",
    "    fig.update_yaxes(showline=True, linewidth=2, linecolor='black', color='black')\n",
    "\n",
    "    config = {\n",
    "    'toImageButtonOptions': {\n",
    "        'format': 'png', # one of png, svg, jpeg, webp\n",
    "        'filename': 'top10_diffdock_vs_leakage',\n",
    "        'scale':6 # Multiply title/legend/axis/canvas sizes by this factor\n",
    "    }\n",
    "    }\n",
    "    fig.show(config=config)\n"
   ]
  },
  {
   "cell_type": "code",
   "execution_count": null,
   "metadata": {},
   "outputs": [],
   "source": [
    "ROOT = Path(\"/Users/yusuf/plinder_local_data\") # Change to your root path"
   ]
  },
  {
   "cell_type": "markdown",
   "metadata": {},
   "source": [
    "### Set path to leakage jsons\n",
    "> Computed by @Jay"
   ]
  },
  {
   "cell_type": "code",
   "execution_count": null,
   "metadata": {},
   "outputs": [],
   "source": [
    "leakage_json_dict = {\n",
    "    'POCKET SHARED ≥ 30': Path(ROOT/'fractions_new/pocket_qcov__30.json'),\n",
    "    'POCKET SHARED ≥ 50': Path(ROOT/'fractions_new/pocket_qcov__50.json'),\n",
    "    'POCKET SHARED ≥ 70': Path(ROOT/'fractions_new/pocket_qcov__70.json'),\n",
    "    'POCKET LDDT ≥ 30': Path(ROOT/'fractions_new/pocket_lddt__30.json'),\n",
    "    'POCKET LDDT ≥ 50': Path(ROOT/'fractions_new/pocket_lddt__50.json'),\n",
    "    'POCKET LDDT ≥ 70': Path(ROOT/'fractions_new/pocket_lddt__70.json'),\n",
    "    'POCKET LDDT ≥ 90': Path(ROOT/'fractions_new/pocket_lddt__90.json'),\n",
    "    'PROTEIN SEQSIM ≥ 30': Path(ROOT/'fractions_new/protein_seqsim_weighted_sum__30.json'),\n",
    "    'PROTEIN SEQSIM ≥ 50': Path(ROOT/'fractions_new/protein_seqsim_weighted_sum__50.json'),\n",
    "    'PLI SHARED ≥ 20': Path(ROOT/'fractions_new/pli_qcov__20.json'),\n",
    "    'PLI SHARED ≥ 30': Path(ROOT/'fractions_new/pli_qcov__30.json'),\n",
    "    'PLI SHARED ≥ 50': Path(ROOT/'fractions_new/pli_qcov__50.json'),\n",
    "    'PLI SHARED ≥ 70': Path(ROOT/'fractions_new/pli_qcov__70.json')}"
   ]
  },
  {
   "cell_type": "code",
   "execution_count": null,
   "metadata": {},
   "outputs": [],
   "source": [
    "input_dict = {\n",
    "    \"plinder-v0\": list(ROOT.glob(\"testset/*hard*.csv\")),\n",
    "    \"plinder-time\": list(ROOT.glob(\"testset/*time*.csv\")),\n",
    "    \"plinder-ecod\": list(ROOT.glob(\"testset/*ecod*.csv\")),\n",
    "    }"
   ]
  },
  {
   "cell_type": "code",
   "execution_count": null,
   "metadata": {},
   "outputs": [],
   "source": [
    "perf, leakage_df, perf_leakage = get_all_merged_pred_dataset(\n",
    "    {\n",
    "        \"Split-test\": {\n",
    "    \"plinder-v0\": list(ROOT.glob(\"testset/*hard*.csv\")),\n",
    "    \"plinder-time\": list(ROOT.glob(\"testset/*time*.csv\")),\n",
    "    \"plinder-ecod\": list(ROOT.glob(\"testset/*ecod*.csv\"))},\n",
    "    \"PoseBusters\" : {\n",
    "        \"plinder-v0\": list(ROOT.glob(\"pb_paper/*hard*.csv\")),\n",
    "        \"plinder-time\": list(ROOT.glob(\"pb_paper/*time*.csv\")),\n",
    "        \"plinder-ecod\": list(ROOT.glob(\"pb_paper/*ecod*.csv\")),\n",
    "    }\n",
    "    },\n",
    "    leakage_json_dict,\n",
    "    [\"plinder-ECOD\", \"plinder-v0\",\n",
    "     \"plinder-Time\", \"PDBBind-Original\",\n",
    "    \"PDBBind-LP\", \"PDBBind-Time\" ],\n",
    "    all_systems_passing_quality,\n",
    "    imputed_diffdock_performance_pdbbind,\n",
    "    rmsd_threshold= 2, is_high_quality=True, links_threshold=0)"
   ]
  },
  {
   "cell_type": "markdown",
   "metadata": {},
   "source": [
    "#### Plot Diffdock performance vs leakage"
   ]
  },
  {
   "cell_type": "code",
   "execution_count": null,
   "metadata": {},
   "outputs": [
    {
     "data": {
      "text/html": [
       "<div>\n",
       "<style scoped>\n",
       "    .dataframe tbody tr th:only-of-type {\n",
       "        vertical-align: middle;\n",
       "    }\n",
       "\n",
       "    .dataframe tbody tr th {\n",
       "        vertical-align: top;\n",
       "    }\n",
       "\n",
       "    .dataframe thead th {\n",
       "        text-align: right;\n",
       "    }\n",
       "</style>\n",
       "<table border=\"1\" class=\"dataframe\">\n",
       "  <thead>\n",
       "    <tr style=\"text-align: right;\">\n",
       "      <th></th>\n",
       "      <th>Split</th>\n",
       "      <th>Size</th>\n",
       "      <th>Test_tag</th>\n",
       "      <th>SR-1-mean</th>\n",
       "      <th>SR-1-std</th>\n",
       "      <th>SR-10-mean</th>\n",
       "      <th>SR-10-std</th>\n",
       "      <th>Quality</th>\n",
       "      <th>Metric</th>\n",
       "      <th>Leakage</th>\n",
       "    </tr>\n",
       "  </thead>\n",
       "  <tbody>\n",
       "    <tr>\n",
       "      <th>0</th>\n",
       "      <td>PLINDER-V0</td>\n",
       "      <td>3518</td>\n",
       "      <td>Split-test</td>\n",
       "      <td>18.186341</td>\n",
       "      <td>0.256169</td>\n",
       "      <td>25.669798</td>\n",
       "      <td>0.527778</td>\n",
       "      <td>High</td>\n",
       "      <td>POCKET SHARED ≥ 30</td>\n",
       "      <td>0.160901</td>\n",
       "    </tr>\n",
       "    <tr>\n",
       "      <th>1</th>\n",
       "      <td>PLINDER-V0</td>\n",
       "      <td>3518</td>\n",
       "      <td>Split-test</td>\n",
       "      <td>18.186341</td>\n",
       "      <td>0.256169</td>\n",
       "      <td>25.669798</td>\n",
       "      <td>0.527778</td>\n",
       "      <td>High</td>\n",
       "      <td>POCKET SHARED ≥ 50</td>\n",
       "      <td>0.089836</td>\n",
       "    </tr>\n",
       "    <tr>\n",
       "      <th>2</th>\n",
       "      <td>PLINDER-V0</td>\n",
       "      <td>3518</td>\n",
       "      <td>Split-test</td>\n",
       "      <td>18.186341</td>\n",
       "      <td>0.256169</td>\n",
       "      <td>25.669798</td>\n",
       "      <td>0.527778</td>\n",
       "      <td>High</td>\n",
       "      <td>POCKET SHARED ≥ 70</td>\n",
       "      <td>0.047466</td>\n",
       "    </tr>\n",
       "    <tr>\n",
       "      <th>3</th>\n",
       "      <td>PLINDER-V0</td>\n",
       "      <td>3518</td>\n",
       "      <td>Split-test</td>\n",
       "      <td>18.186341</td>\n",
       "      <td>0.256169</td>\n",
       "      <td>25.669798</td>\n",
       "      <td>0.527778</td>\n",
       "      <td>High</td>\n",
       "      <td>POCKET LDDT ≥ 30</td>\n",
       "      <td>0.031108</td>\n",
       "    </tr>\n",
       "    <tr>\n",
       "      <th>4</th>\n",
       "      <td>PLINDER-V0</td>\n",
       "      <td>3518</td>\n",
       "      <td>Split-test</td>\n",
       "      <td>18.186341</td>\n",
       "      <td>0.256169</td>\n",
       "      <td>25.669798</td>\n",
       "      <td>0.527778</td>\n",
       "      <td>High</td>\n",
       "      <td>POCKET LDDT ≥ 50</td>\n",
       "      <td>0.000000</td>\n",
       "    </tr>\n",
       "  </tbody>\n",
       "</table>\n",
       "</div>"
      ],
      "text/plain": [
       "        Split  Size    Test_tag  SR-1-mean  SR-1-std  SR-10-mean  SR-10-std  \\\n",
       "0  PLINDER-V0  3518  Split-test  18.186341  0.256169   25.669798   0.527778   \n",
       "1  PLINDER-V0  3518  Split-test  18.186341  0.256169   25.669798   0.527778   \n",
       "2  PLINDER-V0  3518  Split-test  18.186341  0.256169   25.669798   0.527778   \n",
       "3  PLINDER-V0  3518  Split-test  18.186341  0.256169   25.669798   0.527778   \n",
       "4  PLINDER-V0  3518  Split-test  18.186341  0.256169   25.669798   0.527778   \n",
       "\n",
       "  Quality              Metric   Leakage  \n",
       "0    High  POCKET SHARED ≥ 30  0.160901  \n",
       "1    High  POCKET SHARED ≥ 50  0.089836  \n",
       "2    High  POCKET SHARED ≥ 70  0.047466  \n",
       "3    High    POCKET LDDT ≥ 30  0.031108  \n",
       "4    High    POCKET LDDT ≥ 50  0.000000  "
      ]
     },
     "execution_count": 10,
     "metadata": {},
     "output_type": "execute_result"
    }
   ],
   "source": [
    "perf.merge(leakage_df, on=['Split','Test_tag', 'Quality']).head()"
   ]
  },
  {
   "cell_type": "markdown",
   "metadata": {},
   "source": [
    "#### Top 1 Diffdock performance"
   ]
  },
  {
   "cell_type": "code",
   "execution_count": null,
   "metadata": {},
   "outputs": [
    {
     "data": {
      "application/vnd.plotly.v1+json": {
       "config": {
        "plotlyServerURL": "https://plot.ly",
        "toImageButtonOptions": {
         "filename": "top10_diffdock_vs_leakage",
         "format": "png",
         "scale": 6
        }
       },
       "data": [
        {
         "alignmentgroup": "True",
         "error_y": {
          "array": [
           0.2561687688236486,
           0.3417764220279852,
           0.08208792736315998
          ],
          "arrayminus": [
           0.2561687688236486,
           0.3417764220279852,
           0.08208792736315998
          ]
         },
         "hovertemplate": "Quality=High+Low<br>Test_tag=Split-test<br>Split=%{x}<br>SR-1-mean=%{y}<extra></extra>",
         "legendgroup": "High+Low",
         "marker": {
          "color": "#c9a0dc",
          "pattern": {
           "shape": ""
          }
         },
         "name": "High+Low",
         "offsetgroup": "High+Low",
         "orientation": "v",
         "showlegend": true,
         "textposition": "auto",
         "type": "bar",
         "x": [
          "PLINDER-V0",
          "PLINDER-TIME",
          "PLINDER-ECOD"
         ],
         "xaxis": "x",
         "y": [
          18.186341481471544,
          29.26703255158851,
          14.73525736544633
         ],
         "yaxis": "y"
        },
        {
         "alignmentgroup": "True",
         "error_y": {
          "array": [
           0.2561687688236486,
           0.31150536196103384,
           0.19400234273838793
          ],
          "arrayminus": [
           0.2561687688236486,
           0.31150536196103384,
           0.19400234273838793
          ]
         },
         "hovertemplate": "Quality=High<br>Test_tag=Split-test<br>Split=%{x}<br>SR-1-mean=%{y}<extra></extra>",
         "legendgroup": "High",
         "marker": {
          "color": "#89CFF0",
          "pattern": {
           "shape": ""
          }
         },
         "name": "High",
         "offsetgroup": "High",
         "orientation": "v",
         "showlegend": true,
         "textposition": "auto",
         "type": "bar",
         "x": [
          "PLINDER-V0",
          "PLINDER-TIME",
          "PLINDER-ECOD"
         ],
         "xaxis": "x",
         "y": [
          18.186341481471544,
          45.256986013977716,
          19.01502425995514
         ],
         "yaxis": "y"
        },
        {
         "alignmentgroup": "True",
         "error_y": {
          "array": [
           1.3047670517268513,
           0.1912169978753466,
           1.891019132382796
          ],
          "arrayminus": [
           1.3047670517268513,
           0.1912169978753466,
           1.891019132382796
          ]
         },
         "hovertemplate": "Quality=High<br>Test_tag=PoseBusters<br>Split=%{x}<br>SR-1-mean=%{y}<extra></extra>",
         "legendgroup": "High",
         "marker": {
          "color": "#89CFF0",
          "pattern": {
           "shape": ""
          }
         },
         "name": "High",
         "offsetgroup": "High",
         "orientation": "v",
         "showlegend": false,
         "textposition": "auto",
         "type": "bar",
         "x": [
          "PLINDER-V0",
          "PLINDER-TIME",
          "PLINDER-ECOD"
         ],
         "xaxis": "x2",
         "y": [
          29.414519906323186,
          47.7751756440281,
          38.40749414519906
         ],
         "yaxis": "y2"
        }
       ],
       "layout": {
        "annotations": [
         {
          "font": {
           "color": "black",
           "size": 18
          },
          "showarrow": false,
          "text": "Split-test",
          "x": 0.245,
          "xanchor": "center",
          "xref": "paper",
          "y": 1,
          "yanchor": "bottom",
          "yref": "paper"
         },
         {
          "font": {
           "color": "black",
           "size": 18
          },
          "showarrow": false,
          "text": "PoseBusters",
          "x": 0.755,
          "xanchor": "center",
          "xref": "paper",
          "y": 1,
          "yanchor": "bottom",
          "yref": "paper"
         },
         {
          "align": "left",
          "font": {
           "color": "black",
           "size": 18
          },
          "showarrow": false,
          "text": "PDBBind-DiffDock",
          "x": 0.35,
          "xanchor": "right",
          "xref": "x domain",
          "y": 35,
          "yanchor": "bottom",
          "yref": "y"
         },
         {
          "align": "left",
          "font": {
           "color": "black",
           "size": 18
          },
          "showarrow": false,
          "text": "PDBBind-DiffDock",
          "x": 0.35,
          "xanchor": "right",
          "xref": "x2 domain",
          "y": 38,
          "yanchor": "bottom",
          "yref": "y2"
         }
        ],
        "bargap": 0.05,
        "barmode": "group",
        "font": {
         "size": 18
        },
        "height": 400,
        "legend": {
         "font": {
          "color": "black",
          "size": 15
         },
         "title": {
          "text": "Quality"
         },
         "tracegroupgap": 0
        },
        "margin": {
         "t": 60
        },
        "paper_bgcolor": "rgba(0,0,0,0)",
        "plot_bgcolor": "rgba(0, 0, 0, 0)",
        "shapes": [
         {
          "line": {
           "color": "black",
           "dash": "dash"
          },
          "type": "line",
          "x0": 0,
          "x1": 1,
          "xref": "x domain",
          "y0": 35,
          "y1": 35,
          "yref": "y"
         },
         {
          "line": {
           "color": "black",
           "dash": "dash"
          },
          "type": "line",
          "x0": 0,
          "x1": 1,
          "xref": "x2 domain",
          "y0": 38,
          "y1": 38,
          "yref": "y2"
         }
        ],
        "template": {
         "data": {
          "bar": [
           {
            "error_x": {
             "color": "#2a3f5f"
            },
            "error_y": {
             "color": "#2a3f5f"
            },
            "marker": {
             "line": {
              "color": "#E5ECF6",
              "width": 0.5
             },
             "pattern": {
              "fillmode": "overlay",
              "size": 10,
              "solidity": 0.2
             }
            },
            "type": "bar"
           }
          ],
          "barpolar": [
           {
            "marker": {
             "line": {
              "color": "#E5ECF6",
              "width": 0.5
             },
             "pattern": {
              "fillmode": "overlay",
              "size": 10,
              "solidity": 0.2
             }
            },
            "type": "barpolar"
           }
          ],
          "carpet": [
           {
            "aaxis": {
             "endlinecolor": "#2a3f5f",
             "gridcolor": "white",
             "linecolor": "white",
             "minorgridcolor": "white",
             "startlinecolor": "#2a3f5f"
            },
            "baxis": {
             "endlinecolor": "#2a3f5f",
             "gridcolor": "white",
             "linecolor": "white",
             "minorgridcolor": "white",
             "startlinecolor": "#2a3f5f"
            },
            "type": "carpet"
           }
          ],
          "choropleth": [
           {
            "colorbar": {
             "outlinewidth": 0,
             "ticks": ""
            },
            "type": "choropleth"
           }
          ],
          "contour": [
           {
            "colorbar": {
             "outlinewidth": 0,
             "ticks": ""
            },
            "colorscale": [
             [
              0,
              "#0d0887"
             ],
             [
              0.1111111111111111,
              "#46039f"
             ],
             [
              0.2222222222222222,
              "#7201a8"
             ],
             [
              0.3333333333333333,
              "#9c179e"
             ],
             [
              0.4444444444444444,
              "#bd3786"
             ],
             [
              0.5555555555555556,
              "#d8576b"
             ],
             [
              0.6666666666666666,
              "#ed7953"
             ],
             [
              0.7777777777777778,
              "#fb9f3a"
             ],
             [
              0.8888888888888888,
              "#fdca26"
             ],
             [
              1,
              "#f0f921"
             ]
            ],
            "type": "contour"
           }
          ],
          "contourcarpet": [
           {
            "colorbar": {
             "outlinewidth": 0,
             "ticks": ""
            },
            "type": "contourcarpet"
           }
          ],
          "heatmap": [
           {
            "colorbar": {
             "outlinewidth": 0,
             "ticks": ""
            },
            "colorscale": [
             [
              0,
              "#0d0887"
             ],
             [
              0.1111111111111111,
              "#46039f"
             ],
             [
              0.2222222222222222,
              "#7201a8"
             ],
             [
              0.3333333333333333,
              "#9c179e"
             ],
             [
              0.4444444444444444,
              "#bd3786"
             ],
             [
              0.5555555555555556,
              "#d8576b"
             ],
             [
              0.6666666666666666,
              "#ed7953"
             ],
             [
              0.7777777777777778,
              "#fb9f3a"
             ],
             [
              0.8888888888888888,
              "#fdca26"
             ],
             [
              1,
              "#f0f921"
             ]
            ],
            "type": "heatmap"
           }
          ],
          "heatmapgl": [
           {
            "colorbar": {
             "outlinewidth": 0,
             "ticks": ""
            },
            "colorscale": [
             [
              0,
              "#0d0887"
             ],
             [
              0.1111111111111111,
              "#46039f"
             ],
             [
              0.2222222222222222,
              "#7201a8"
             ],
             [
              0.3333333333333333,
              "#9c179e"
             ],
             [
              0.4444444444444444,
              "#bd3786"
             ],
             [
              0.5555555555555556,
              "#d8576b"
             ],
             [
              0.6666666666666666,
              "#ed7953"
             ],
             [
              0.7777777777777778,
              "#fb9f3a"
             ],
             [
              0.8888888888888888,
              "#fdca26"
             ],
             [
              1,
              "#f0f921"
             ]
            ],
            "type": "heatmapgl"
           }
          ],
          "histogram": [
           {
            "marker": {
             "pattern": {
              "fillmode": "overlay",
              "size": 10,
              "solidity": 0.2
             }
            },
            "type": "histogram"
           }
          ],
          "histogram2d": [
           {
            "colorbar": {
             "outlinewidth": 0,
             "ticks": ""
            },
            "colorscale": [
             [
              0,
              "#0d0887"
             ],
             [
              0.1111111111111111,
              "#46039f"
             ],
             [
              0.2222222222222222,
              "#7201a8"
             ],
             [
              0.3333333333333333,
              "#9c179e"
             ],
             [
              0.4444444444444444,
              "#bd3786"
             ],
             [
              0.5555555555555556,
              "#d8576b"
             ],
             [
              0.6666666666666666,
              "#ed7953"
             ],
             [
              0.7777777777777778,
              "#fb9f3a"
             ],
             [
              0.8888888888888888,
              "#fdca26"
             ],
             [
              1,
              "#f0f921"
             ]
            ],
            "type": "histogram2d"
           }
          ],
          "histogram2dcontour": [
           {
            "colorbar": {
             "outlinewidth": 0,
             "ticks": ""
            },
            "colorscale": [
             [
              0,
              "#0d0887"
             ],
             [
              0.1111111111111111,
              "#46039f"
             ],
             [
              0.2222222222222222,
              "#7201a8"
             ],
             [
              0.3333333333333333,
              "#9c179e"
             ],
             [
              0.4444444444444444,
              "#bd3786"
             ],
             [
              0.5555555555555556,
              "#d8576b"
             ],
             [
              0.6666666666666666,
              "#ed7953"
             ],
             [
              0.7777777777777778,
              "#fb9f3a"
             ],
             [
              0.8888888888888888,
              "#fdca26"
             ],
             [
              1,
              "#f0f921"
             ]
            ],
            "type": "histogram2dcontour"
           }
          ],
          "mesh3d": [
           {
            "colorbar": {
             "outlinewidth": 0,
             "ticks": ""
            },
            "type": "mesh3d"
           }
          ],
          "parcoords": [
           {
            "line": {
             "colorbar": {
              "outlinewidth": 0,
              "ticks": ""
             }
            },
            "type": "parcoords"
           }
          ],
          "pie": [
           {
            "automargin": true,
            "type": "pie"
           }
          ],
          "scatter": [
           {
            "fillpattern": {
             "fillmode": "overlay",
             "size": 10,
             "solidity": 0.2
            },
            "type": "scatter"
           }
          ],
          "scatter3d": [
           {
            "line": {
             "colorbar": {
              "outlinewidth": 0,
              "ticks": ""
             }
            },
            "marker": {
             "colorbar": {
              "outlinewidth": 0,
              "ticks": ""
             }
            },
            "type": "scatter3d"
           }
          ],
          "scattercarpet": [
           {
            "marker": {
             "colorbar": {
              "outlinewidth": 0,
              "ticks": ""
             }
            },
            "type": "scattercarpet"
           }
          ],
          "scattergeo": [
           {
            "marker": {
             "colorbar": {
              "outlinewidth": 0,
              "ticks": ""
             }
            },
            "type": "scattergeo"
           }
          ],
          "scattergl": [
           {
            "marker": {
             "colorbar": {
              "outlinewidth": 0,
              "ticks": ""
             }
            },
            "type": "scattergl"
           }
          ],
          "scattermapbox": [
           {
            "marker": {
             "colorbar": {
              "outlinewidth": 0,
              "ticks": ""
             }
            },
            "type": "scattermapbox"
           }
          ],
          "scatterpolar": [
           {
            "marker": {
             "colorbar": {
              "outlinewidth": 0,
              "ticks": ""
             }
            },
            "type": "scatterpolar"
           }
          ],
          "scatterpolargl": [
           {
            "marker": {
             "colorbar": {
              "outlinewidth": 0,
              "ticks": ""
             }
            },
            "type": "scatterpolargl"
           }
          ],
          "scatterternary": [
           {
            "marker": {
             "colorbar": {
              "outlinewidth": 0,
              "ticks": ""
             }
            },
            "type": "scatterternary"
           }
          ],
          "surface": [
           {
            "colorbar": {
             "outlinewidth": 0,
             "ticks": ""
            },
            "colorscale": [
             [
              0,
              "#0d0887"
             ],
             [
              0.1111111111111111,
              "#46039f"
             ],
             [
              0.2222222222222222,
              "#7201a8"
             ],
             [
              0.3333333333333333,
              "#9c179e"
             ],
             [
              0.4444444444444444,
              "#bd3786"
             ],
             [
              0.5555555555555556,
              "#d8576b"
             ],
             [
              0.6666666666666666,
              "#ed7953"
             ],
             [
              0.7777777777777778,
              "#fb9f3a"
             ],
             [
              0.8888888888888888,
              "#fdca26"
             ],
             [
              1,
              "#f0f921"
             ]
            ],
            "type": "surface"
           }
          ],
          "table": [
           {
            "cells": {
             "fill": {
              "color": "#EBF0F8"
             },
             "line": {
              "color": "white"
             }
            },
            "header": {
             "fill": {
              "color": "#C8D4E3"
             },
             "line": {
              "color": "white"
             }
            },
            "type": "table"
           }
          ]
         },
         "layout": {
          "annotationdefaults": {
           "arrowcolor": "#2a3f5f",
           "arrowhead": 0,
           "arrowwidth": 1
          },
          "autotypenumbers": "strict",
          "coloraxis": {
           "colorbar": {
            "outlinewidth": 0,
            "ticks": ""
           }
          },
          "colorscale": {
           "diverging": [
            [
             0,
             "#8e0152"
            ],
            [
             0.1,
             "#c51b7d"
            ],
            [
             0.2,
             "#de77ae"
            ],
            [
             0.3,
             "#f1b6da"
            ],
            [
             0.4,
             "#fde0ef"
            ],
            [
             0.5,
             "#f7f7f7"
            ],
            [
             0.6,
             "#e6f5d0"
            ],
            [
             0.7,
             "#b8e186"
            ],
            [
             0.8,
             "#7fbc41"
            ],
            [
             0.9,
             "#4d9221"
            ],
            [
             1,
             "#276419"
            ]
           ],
           "sequential": [
            [
             0,
             "#0d0887"
            ],
            [
             0.1111111111111111,
             "#46039f"
            ],
            [
             0.2222222222222222,
             "#7201a8"
            ],
            [
             0.3333333333333333,
             "#9c179e"
            ],
            [
             0.4444444444444444,
             "#bd3786"
            ],
            [
             0.5555555555555556,
             "#d8576b"
            ],
            [
             0.6666666666666666,
             "#ed7953"
            ],
            [
             0.7777777777777778,
             "#fb9f3a"
            ],
            [
             0.8888888888888888,
             "#fdca26"
            ],
            [
             1,
             "#f0f921"
            ]
           ],
           "sequentialminus": [
            [
             0,
             "#0d0887"
            ],
            [
             0.1111111111111111,
             "#46039f"
            ],
            [
             0.2222222222222222,
             "#7201a8"
            ],
            [
             0.3333333333333333,
             "#9c179e"
            ],
            [
             0.4444444444444444,
             "#bd3786"
            ],
            [
             0.5555555555555556,
             "#d8576b"
            ],
            [
             0.6666666666666666,
             "#ed7953"
            ],
            [
             0.7777777777777778,
             "#fb9f3a"
            ],
            [
             0.8888888888888888,
             "#fdca26"
            ],
            [
             1,
             "#f0f921"
            ]
           ]
          },
          "colorway": [
           "#636efa",
           "#EF553B",
           "#00cc96",
           "#ab63fa",
           "#FFA15A",
           "#19d3f3",
           "#FF6692",
           "#B6E880",
           "#FF97FF",
           "#FECB52"
          ],
          "font": {
           "color": "#2a3f5f"
          },
          "geo": {
           "bgcolor": "white",
           "lakecolor": "white",
           "landcolor": "#E5ECF6",
           "showlakes": true,
           "showland": true,
           "subunitcolor": "white"
          },
          "hoverlabel": {
           "align": "left"
          },
          "hovermode": "closest",
          "mapbox": {
           "style": "light"
          },
          "paper_bgcolor": "white",
          "plot_bgcolor": "#E5ECF6",
          "polar": {
           "angularaxis": {
            "gridcolor": "white",
            "linecolor": "white",
            "ticks": ""
           },
           "bgcolor": "#E5ECF6",
           "radialaxis": {
            "gridcolor": "white",
            "linecolor": "white",
            "ticks": ""
           }
          },
          "scene": {
           "xaxis": {
            "backgroundcolor": "#E5ECF6",
            "gridcolor": "white",
            "gridwidth": 2,
            "linecolor": "white",
            "showbackground": true,
            "ticks": "",
            "zerolinecolor": "white"
           },
           "yaxis": {
            "backgroundcolor": "#E5ECF6",
            "gridcolor": "white",
            "gridwidth": 2,
            "linecolor": "white",
            "showbackground": true,
            "ticks": "",
            "zerolinecolor": "white"
           },
           "zaxis": {
            "backgroundcolor": "#E5ECF6",
            "gridcolor": "white",
            "gridwidth": 2,
            "linecolor": "white",
            "showbackground": true,
            "ticks": "",
            "zerolinecolor": "white"
           }
          },
          "shapedefaults": {
           "line": {
            "color": "#2a3f5f"
           }
          },
          "ternary": {
           "aaxis": {
            "gridcolor": "white",
            "linecolor": "white",
            "ticks": ""
           },
           "baxis": {
            "gridcolor": "white",
            "linecolor": "white",
            "ticks": ""
           },
           "bgcolor": "#E5ECF6",
           "caxis": {
            "gridcolor": "white",
            "linecolor": "white",
            "ticks": ""
           }
          },
          "title": {
           "x": 0.05
          },
          "xaxis": {
           "automargin": true,
           "gridcolor": "white",
           "linecolor": "white",
           "ticks": "",
           "title": {
            "standoff": 15
           },
           "zerolinecolor": "white",
           "zerolinewidth": 2
          },
          "yaxis": {
           "automargin": true,
           "gridcolor": "white",
           "linecolor": "white",
           "ticks": "",
           "title": {
            "standoff": 15
           },
           "zerolinecolor": "white",
           "zerolinewidth": 2
          }
         }
        },
        "title": {
         "font": {
          "color": "black"
         },
         "text": "Top-1"
        },
        "width": 1200,
        "xaxis": {
         "anchor": "y",
         "color": "black",
         "domain": [
          0,
          0.49
         ],
         "linecolor": "black",
         "linewidth": 2,
         "showline": true,
         "title": {
          "text": "Split"
         }
        },
        "xaxis2": {
         "anchor": "y2",
         "color": "black",
         "domain": [
          0.51,
          1
         ],
         "linecolor": "black",
         "linewidth": 2,
         "matches": "x",
         "showline": true,
         "title": {
          "text": "Split"
         }
        },
        "yaxis": {
         "anchor": "x",
         "color": "black",
         "domain": [
          0,
          1
         ],
         "linecolor": "black",
         "linewidth": 2,
         "showline": true,
         "tickfont": {
          "size": 18
         },
         "title": {
          "text": "Success Rate"
         }
        },
        "yaxis2": {
         "anchor": "x2",
         "color": "black",
         "domain": [
          0,
          1
         ],
         "linecolor": "black",
         "linewidth": 2,
         "matches": "y",
         "showline": true,
         "showticklabels": false
        }
       }
      }
     },
     "metadata": {},
     "output_type": "display_data"
    }
   ],
   "source": [
    "plot_diffdock_performance_bar(\n",
    "    perf_leakage,\n",
    "    pdbbind_diffdock_line=35, # PDBbind-DiffDock baseline\n",
    "    posebusters_line=38, topn=1)"
   ]
  },
  {
   "cell_type": "markdown",
   "metadata": {},
   "source": [
    "#### Figure 1A and 1B: Top 10 Diffdock performance"
   ]
  },
  {
   "cell_type": "code",
   "execution_count": null,
   "metadata": {},
   "outputs": [
    {
     "data": {
      "application/vnd.plotly.v1+json": {
       "config": {
        "plotlyServerURL": "https://plot.ly",
        "toImageButtonOptions": {
         "filename": "top10_diffdock_vs_leakage",
         "format": "png",
         "scale": 6
        }
       },
       "data": [
        {
         "alignmentgroup": "True",
         "error_y": {
          "array": [
           0.5277783895241742,
           0.1264701883200234,
           0.17003519982423104
          ],
          "arrayminus": [
           0.5277783895241742,
           0.1264701883200234,
           0.17003519982423104
          ]
         },
         "hovertemplate": "Quality=High+Low<br>Test_tag=Split-test<br>Split=%{x}<br>SR-10-mean=%{y}<extra></extra>",
         "legendgroup": "High+Low",
         "marker": {
          "color": "#c9a0dc",
          "pattern": {
           "shape": ""
          }
         },
         "name": "High+Low",
         "offsetgroup": "High+Low",
         "orientation": "v",
         "showlegend": true,
         "textposition": "auto",
         "type": "bar",
         "x": [
          "PLINDER-V0",
          "PLINDER-TIME",
          "PLINDER-ECOD"
         ],
         "xaxis": "x",
         "y": [
          25.669797538246375,
          41.77545273589032,
          20.847091040038354
         ],
         "yaxis": "y"
        },
        {
         "alignmentgroup": "True",
         "error_y": {
          "array": [
           0.5277783895241742,
           0.47379517027666335,
           0.3150388192619004
          ],
          "arrayminus": [
           0.5277783895241742,
           0.47379517027666335,
           0.3150388192619004
          ]
         },
         "hovertemplate": "Quality=High<br>Test_tag=Split-test<br>Split=%{x}<br>SR-10-mean=%{y}<extra></extra>",
         "legendgroup": "High",
         "marker": {
          "color": "#89CFF0",
          "pattern": {
           "shape": ""
          }
         },
         "name": "High",
         "offsetgroup": "High",
         "orientation": "v",
         "showlegend": true,
         "textposition": "auto",
         "type": "bar",
         "x": [
          "PLINDER-V0",
          "PLINDER-TIME",
          "PLINDER-ECOD"
         ],
         "xaxis": "x",
         "y": [
          25.669797538246375,
          58.752989062537374,
          26.47053307666272
         ],
         "yaxis": "y"
        },
        {
         "alignmentgroup": "True",
         "error_y": {
          "array": [
           1.8653215692496374,
           0.723935870062116,
           0.845689465352122
          ],
          "arrayminus": [
           1.8653215692496374,
           0.723935870062116,
           0.845689465352122
          ]
         },
         "hovertemplate": "Quality=High<br>Test_tag=PoseBusters<br>Split=%{x}<br>SR-10-mean=%{y}<extra></extra>",
         "legendgroup": "High",
         "marker": {
          "color": "#89CFF0",
          "pattern": {
           "shape": ""
          }
         },
         "name": "High",
         "offsetgroup": "High",
         "orientation": "v",
         "showlegend": false,
         "textposition": "auto",
         "type": "bar",
         "x": [
          "PLINDER-V0",
          "PLINDER-TIME",
          "PLINDER-ECOD"
         ],
         "xaxis": "x2",
         "y": [
          35.45667447306791,
          58.157689305230285,
          47.16627634660422
         ],
         "yaxis": "y2"
        }
       ],
       "layout": {
        "annotations": [
         {
          "font": {
           "color": "black",
           "size": 18
          },
          "showarrow": false,
          "text": "Split-test",
          "x": 0.245,
          "xanchor": "center",
          "xref": "paper",
          "y": 1,
          "yanchor": "bottom",
          "yref": "paper"
         },
         {
          "font": {
           "color": "black",
           "size": 18
          },
          "showarrow": false,
          "text": "PoseBusters",
          "x": 0.755,
          "xanchor": "center",
          "xref": "paper",
          "y": 1,
          "yanchor": "bottom",
          "yref": "paper"
         },
         {
          "align": "left",
          "font": {
           "color": "black",
           "size": 18
          },
          "showarrow": false,
          "text": "PDBBind-DiffDock",
          "x": 0.35,
          "xanchor": "right",
          "xref": "x domain",
          "y": 48,
          "yanchor": "bottom",
          "yref": "y"
         }
        ],
        "bargap": 0.05,
        "barmode": "group",
        "font": {
         "size": 18
        },
        "height": 400,
        "legend": {
         "font": {
          "color": "black",
          "size": 15
         },
         "title": {
          "text": "Quality"
         },
         "tracegroupgap": 0
        },
        "margin": {
         "t": 60
        },
        "paper_bgcolor": "rgba(0,0,0,0)",
        "plot_bgcolor": "rgba(0, 0, 0, 0)",
        "shapes": [
         {
          "line": {
           "color": "black",
           "dash": "dash"
          },
          "type": "line",
          "x0": 0,
          "x1": 1,
          "xref": "x domain",
          "y0": 48,
          "y1": 48,
          "yref": "y"
         }
        ],
        "template": {
         "data": {
          "bar": [
           {
            "error_x": {
             "color": "#2a3f5f"
            },
            "error_y": {
             "color": "#2a3f5f"
            },
            "marker": {
             "line": {
              "color": "#E5ECF6",
              "width": 0.5
             },
             "pattern": {
              "fillmode": "overlay",
              "size": 10,
              "solidity": 0.2
             }
            },
            "type": "bar"
           }
          ],
          "barpolar": [
           {
            "marker": {
             "line": {
              "color": "#E5ECF6",
              "width": 0.5
             },
             "pattern": {
              "fillmode": "overlay",
              "size": 10,
              "solidity": 0.2
             }
            },
            "type": "barpolar"
           }
          ],
          "carpet": [
           {
            "aaxis": {
             "endlinecolor": "#2a3f5f",
             "gridcolor": "white",
             "linecolor": "white",
             "minorgridcolor": "white",
             "startlinecolor": "#2a3f5f"
            },
            "baxis": {
             "endlinecolor": "#2a3f5f",
             "gridcolor": "white",
             "linecolor": "white",
             "minorgridcolor": "white",
             "startlinecolor": "#2a3f5f"
            },
            "type": "carpet"
           }
          ],
          "choropleth": [
           {
            "colorbar": {
             "outlinewidth": 0,
             "ticks": ""
            },
            "type": "choropleth"
           }
          ],
          "contour": [
           {
            "colorbar": {
             "outlinewidth": 0,
             "ticks": ""
            },
            "colorscale": [
             [
              0,
              "#0d0887"
             ],
             [
              0.1111111111111111,
              "#46039f"
             ],
             [
              0.2222222222222222,
              "#7201a8"
             ],
             [
              0.3333333333333333,
              "#9c179e"
             ],
             [
              0.4444444444444444,
              "#bd3786"
             ],
             [
              0.5555555555555556,
              "#d8576b"
             ],
             [
              0.6666666666666666,
              "#ed7953"
             ],
             [
              0.7777777777777778,
              "#fb9f3a"
             ],
             [
              0.8888888888888888,
              "#fdca26"
             ],
             [
              1,
              "#f0f921"
             ]
            ],
            "type": "contour"
           }
          ],
          "contourcarpet": [
           {
            "colorbar": {
             "outlinewidth": 0,
             "ticks": ""
            },
            "type": "contourcarpet"
           }
          ],
          "heatmap": [
           {
            "colorbar": {
             "outlinewidth": 0,
             "ticks": ""
            },
            "colorscale": [
             [
              0,
              "#0d0887"
             ],
             [
              0.1111111111111111,
              "#46039f"
             ],
             [
              0.2222222222222222,
              "#7201a8"
             ],
             [
              0.3333333333333333,
              "#9c179e"
             ],
             [
              0.4444444444444444,
              "#bd3786"
             ],
             [
              0.5555555555555556,
              "#d8576b"
             ],
             [
              0.6666666666666666,
              "#ed7953"
             ],
             [
              0.7777777777777778,
              "#fb9f3a"
             ],
             [
              0.8888888888888888,
              "#fdca26"
             ],
             [
              1,
              "#f0f921"
             ]
            ],
            "type": "heatmap"
           }
          ],
          "heatmapgl": [
           {
            "colorbar": {
             "outlinewidth": 0,
             "ticks": ""
            },
            "colorscale": [
             [
              0,
              "#0d0887"
             ],
             [
              0.1111111111111111,
              "#46039f"
             ],
             [
              0.2222222222222222,
              "#7201a8"
             ],
             [
              0.3333333333333333,
              "#9c179e"
             ],
             [
              0.4444444444444444,
              "#bd3786"
             ],
             [
              0.5555555555555556,
              "#d8576b"
             ],
             [
              0.6666666666666666,
              "#ed7953"
             ],
             [
              0.7777777777777778,
              "#fb9f3a"
             ],
             [
              0.8888888888888888,
              "#fdca26"
             ],
             [
              1,
              "#f0f921"
             ]
            ],
            "type": "heatmapgl"
           }
          ],
          "histogram": [
           {
            "marker": {
             "pattern": {
              "fillmode": "overlay",
              "size": 10,
              "solidity": 0.2
             }
            },
            "type": "histogram"
           }
          ],
          "histogram2d": [
           {
            "colorbar": {
             "outlinewidth": 0,
             "ticks": ""
            },
            "colorscale": [
             [
              0,
              "#0d0887"
             ],
             [
              0.1111111111111111,
              "#46039f"
             ],
             [
              0.2222222222222222,
              "#7201a8"
             ],
             [
              0.3333333333333333,
              "#9c179e"
             ],
             [
              0.4444444444444444,
              "#bd3786"
             ],
             [
              0.5555555555555556,
              "#d8576b"
             ],
             [
              0.6666666666666666,
              "#ed7953"
             ],
             [
              0.7777777777777778,
              "#fb9f3a"
             ],
             [
              0.8888888888888888,
              "#fdca26"
             ],
             [
              1,
              "#f0f921"
             ]
            ],
            "type": "histogram2d"
           }
          ],
          "histogram2dcontour": [
           {
            "colorbar": {
             "outlinewidth": 0,
             "ticks": ""
            },
            "colorscale": [
             [
              0,
              "#0d0887"
             ],
             [
              0.1111111111111111,
              "#46039f"
             ],
             [
              0.2222222222222222,
              "#7201a8"
             ],
             [
              0.3333333333333333,
              "#9c179e"
             ],
             [
              0.4444444444444444,
              "#bd3786"
             ],
             [
              0.5555555555555556,
              "#d8576b"
             ],
             [
              0.6666666666666666,
              "#ed7953"
             ],
             [
              0.7777777777777778,
              "#fb9f3a"
             ],
             [
              0.8888888888888888,
              "#fdca26"
             ],
             [
              1,
              "#f0f921"
             ]
            ],
            "type": "histogram2dcontour"
           }
          ],
          "mesh3d": [
           {
            "colorbar": {
             "outlinewidth": 0,
             "ticks": ""
            },
            "type": "mesh3d"
           }
          ],
          "parcoords": [
           {
            "line": {
             "colorbar": {
              "outlinewidth": 0,
              "ticks": ""
             }
            },
            "type": "parcoords"
           }
          ],
          "pie": [
           {
            "automargin": true,
            "type": "pie"
           }
          ],
          "scatter": [
           {
            "fillpattern": {
             "fillmode": "overlay",
             "size": 10,
             "solidity": 0.2
            },
            "type": "scatter"
           }
          ],
          "scatter3d": [
           {
            "line": {
             "colorbar": {
              "outlinewidth": 0,
              "ticks": ""
             }
            },
            "marker": {
             "colorbar": {
              "outlinewidth": 0,
              "ticks": ""
             }
            },
            "type": "scatter3d"
           }
          ],
          "scattercarpet": [
           {
            "marker": {
             "colorbar": {
              "outlinewidth": 0,
              "ticks": ""
             }
            },
            "type": "scattercarpet"
           }
          ],
          "scattergeo": [
           {
            "marker": {
             "colorbar": {
              "outlinewidth": 0,
              "ticks": ""
             }
            },
            "type": "scattergeo"
           }
          ],
          "scattergl": [
           {
            "marker": {
             "colorbar": {
              "outlinewidth": 0,
              "ticks": ""
             }
            },
            "type": "scattergl"
           }
          ],
          "scattermapbox": [
           {
            "marker": {
             "colorbar": {
              "outlinewidth": 0,
              "ticks": ""
             }
            },
            "type": "scattermapbox"
           }
          ],
          "scatterpolar": [
           {
            "marker": {
             "colorbar": {
              "outlinewidth": 0,
              "ticks": ""
             }
            },
            "type": "scatterpolar"
           }
          ],
          "scatterpolargl": [
           {
            "marker": {
             "colorbar": {
              "outlinewidth": 0,
              "ticks": ""
             }
            },
            "type": "scatterpolargl"
           }
          ],
          "scatterternary": [
           {
            "marker": {
             "colorbar": {
              "outlinewidth": 0,
              "ticks": ""
             }
            },
            "type": "scatterternary"
           }
          ],
          "surface": [
           {
            "colorbar": {
             "outlinewidth": 0,
             "ticks": ""
            },
            "colorscale": [
             [
              0,
              "#0d0887"
             ],
             [
              0.1111111111111111,
              "#46039f"
             ],
             [
              0.2222222222222222,
              "#7201a8"
             ],
             [
              0.3333333333333333,
              "#9c179e"
             ],
             [
              0.4444444444444444,
              "#bd3786"
             ],
             [
              0.5555555555555556,
              "#d8576b"
             ],
             [
              0.6666666666666666,
              "#ed7953"
             ],
             [
              0.7777777777777778,
              "#fb9f3a"
             ],
             [
              0.8888888888888888,
              "#fdca26"
             ],
             [
              1,
              "#f0f921"
             ]
            ],
            "type": "surface"
           }
          ],
          "table": [
           {
            "cells": {
             "fill": {
              "color": "#EBF0F8"
             },
             "line": {
              "color": "white"
             }
            },
            "header": {
             "fill": {
              "color": "#C8D4E3"
             },
             "line": {
              "color": "white"
             }
            },
            "type": "table"
           }
          ]
         },
         "layout": {
          "annotationdefaults": {
           "arrowcolor": "#2a3f5f",
           "arrowhead": 0,
           "arrowwidth": 1
          },
          "autotypenumbers": "strict",
          "coloraxis": {
           "colorbar": {
            "outlinewidth": 0,
            "ticks": ""
           }
          },
          "colorscale": {
           "diverging": [
            [
             0,
             "#8e0152"
            ],
            [
             0.1,
             "#c51b7d"
            ],
            [
             0.2,
             "#de77ae"
            ],
            [
             0.3,
             "#f1b6da"
            ],
            [
             0.4,
             "#fde0ef"
            ],
            [
             0.5,
             "#f7f7f7"
            ],
            [
             0.6,
             "#e6f5d0"
            ],
            [
             0.7,
             "#b8e186"
            ],
            [
             0.8,
             "#7fbc41"
            ],
            [
             0.9,
             "#4d9221"
            ],
            [
             1,
             "#276419"
            ]
           ],
           "sequential": [
            [
             0,
             "#0d0887"
            ],
            [
             0.1111111111111111,
             "#46039f"
            ],
            [
             0.2222222222222222,
             "#7201a8"
            ],
            [
             0.3333333333333333,
             "#9c179e"
            ],
            [
             0.4444444444444444,
             "#bd3786"
            ],
            [
             0.5555555555555556,
             "#d8576b"
            ],
            [
             0.6666666666666666,
             "#ed7953"
            ],
            [
             0.7777777777777778,
             "#fb9f3a"
            ],
            [
             0.8888888888888888,
             "#fdca26"
            ],
            [
             1,
             "#f0f921"
            ]
           ],
           "sequentialminus": [
            [
             0,
             "#0d0887"
            ],
            [
             0.1111111111111111,
             "#46039f"
            ],
            [
             0.2222222222222222,
             "#7201a8"
            ],
            [
             0.3333333333333333,
             "#9c179e"
            ],
            [
             0.4444444444444444,
             "#bd3786"
            ],
            [
             0.5555555555555556,
             "#d8576b"
            ],
            [
             0.6666666666666666,
             "#ed7953"
            ],
            [
             0.7777777777777778,
             "#fb9f3a"
            ],
            [
             0.8888888888888888,
             "#fdca26"
            ],
            [
             1,
             "#f0f921"
            ]
           ]
          },
          "colorway": [
           "#636efa",
           "#EF553B",
           "#00cc96",
           "#ab63fa",
           "#FFA15A",
           "#19d3f3",
           "#FF6692",
           "#B6E880",
           "#FF97FF",
           "#FECB52"
          ],
          "font": {
           "color": "#2a3f5f"
          },
          "geo": {
           "bgcolor": "white",
           "lakecolor": "white",
           "landcolor": "#E5ECF6",
           "showlakes": true,
           "showland": true,
           "subunitcolor": "white"
          },
          "hoverlabel": {
           "align": "left"
          },
          "hovermode": "closest",
          "mapbox": {
           "style": "light"
          },
          "paper_bgcolor": "white",
          "plot_bgcolor": "#E5ECF6",
          "polar": {
           "angularaxis": {
            "gridcolor": "white",
            "linecolor": "white",
            "ticks": ""
           },
           "bgcolor": "#E5ECF6",
           "radialaxis": {
            "gridcolor": "white",
            "linecolor": "white",
            "ticks": ""
           }
          },
          "scene": {
           "xaxis": {
            "backgroundcolor": "#E5ECF6",
            "gridcolor": "white",
            "gridwidth": 2,
            "linecolor": "white",
            "showbackground": true,
            "ticks": "",
            "zerolinecolor": "white"
           },
           "yaxis": {
            "backgroundcolor": "#E5ECF6",
            "gridcolor": "white",
            "gridwidth": 2,
            "linecolor": "white",
            "showbackground": true,
            "ticks": "",
            "zerolinecolor": "white"
           },
           "zaxis": {
            "backgroundcolor": "#E5ECF6",
            "gridcolor": "white",
            "gridwidth": 2,
            "linecolor": "white",
            "showbackground": true,
            "ticks": "",
            "zerolinecolor": "white"
           }
          },
          "shapedefaults": {
           "line": {
            "color": "#2a3f5f"
           }
          },
          "ternary": {
           "aaxis": {
            "gridcolor": "white",
            "linecolor": "white",
            "ticks": ""
           },
           "baxis": {
            "gridcolor": "white",
            "linecolor": "white",
            "ticks": ""
           },
           "bgcolor": "#E5ECF6",
           "caxis": {
            "gridcolor": "white",
            "linecolor": "white",
            "ticks": ""
           }
          },
          "title": {
           "x": 0.05
          },
          "xaxis": {
           "automargin": true,
           "gridcolor": "white",
           "linecolor": "white",
           "ticks": "",
           "title": {
            "standoff": 15
           },
           "zerolinecolor": "white",
           "zerolinewidth": 2
          },
          "yaxis": {
           "automargin": true,
           "gridcolor": "white",
           "linecolor": "white",
           "ticks": "",
           "title": {
            "standoff": 15
           },
           "zerolinecolor": "white",
           "zerolinewidth": 2
          }
         }
        },
        "title": {
         "font": {
          "color": "black"
         },
         "text": "Top-10"
        },
        "width": 1200,
        "xaxis": {
         "anchor": "y",
         "color": "black",
         "domain": [
          0,
          0.49
         ],
         "linecolor": "black",
         "linewidth": 2,
         "showline": true,
         "title": {
          "text": "Split"
         }
        },
        "xaxis2": {
         "anchor": "y2",
         "color": "black",
         "domain": [
          0.51,
          1
         ],
         "linecolor": "black",
         "linewidth": 2,
         "matches": "x",
         "showline": true,
         "title": {
          "text": "Split"
         }
        },
        "yaxis": {
         "anchor": "x",
         "color": "black",
         "domain": [
          0,
          1
         ],
         "linecolor": "black",
         "linewidth": 2,
         "showline": true,
         "tickfont": {
          "size": 18
         },
         "title": {
          "text": "Success Rate"
         }
        },
        "yaxis2": {
         "anchor": "x2",
         "color": "black",
         "domain": [
          0,
          1
         ],
         "linecolor": "black",
         "linewidth": 2,
         "matches": "y",
         "showline": true,
         "showticklabels": false
        }
       }
      }
     },
     "metadata": {},
     "output_type": "display_data"
    }
   ],
   "source": [
    "plot_diffdock_performance_bar(\n",
    "    perf_leakage,\n",
    "    pdbbind_diffdock_line=48,  # PDBbind-DiffDock baseline\n",
    "    posebusters_line=None,\n",
    "    topn=10)"
   ]
  },
  {
   "cell_type": "markdown",
   "metadata": {},
   "source": [
    "#### Figure 2C"
   ]
  },
  {
   "cell_type": "code",
   "execution_count": null,
   "metadata": {},
   "outputs": [
    {
     "data": {
      "application/vnd.plotly.v1+json": {
       "config": {
        "plotlyServerURL": "https://plot.ly",
        "toImageButtonOptions": {
         "filename": "top10_diffdock_vs_leakage",
         "format": "png",
         "scale": 6
        }
       },
       "data": [
        {
         "hovertemplate": "Metric=POCKET SHARED ≥ 50<br>Leakage=%{x}<br>SR-10-mean=%{y}<extra></extra>",
         "legendgroup": "POCKET SHARED ≥ 50",
         "marker": {
          "color": "lightblue",
          "line": {
           "color": "DarkSlateGrey",
           "width": 1
          },
          "size": 12,
          "symbol": "circle"
         },
         "mode": "markers",
         "name": "POCKET SHARED ≥ 50",
         "orientation": "v",
         "showlegend": true,
         "type": "scatter",
         "x": [
          0.08983641727004558,
          0.8640909090909091,
          0.32991318074191,
          0.4722753346080306,
          0.8374760994263862,
          0.734225621414914
         ],
         "xaxis": "x",
         "y": [
          25.669797538246375,
          58.752989062537374,
          26.47053307666272,
          35.45667447306791,
          58.157689305230285,
          47.16627634660422
         ],
         "yaxis": "y"
        },
        {
         "hovertemplate": "<b>LOWESS trendline</b><br><br>Metric=POCKET SHARED ≥ 50<br>Leakage=%{x}<br>SR-10-mean=%{y} <b>(trend)</b><extra></extra>",
         "legendgroup": "POCKET SHARED ≥ 50",
         "marker": {
          "color": "lightblue",
          "symbol": "circle"
         },
         "mode": "lines",
         "name": "POCKET SHARED ≥ 50",
         "showlegend": false,
         "type": "scatter",
         "x": [
          0.08983641727004558,
          0.32991318074191,
          0.4722753346080306,
          0.734225621414914,
          0.8374760994263862,
          0.8640909090909091
         ],
         "xaxis": "x",
         "y": [
          25.669797538246375,
          26.470533076662736,
          35.45667447306789,
          47.16627634660422,
          58.157689305230285,
          58.752989062537374
         ],
         "yaxis": "y"
        },
        {
         "hovertemplate": "Metric=POCKET LDDT ≥ 50<br>Leakage=%{x}<br>SR-10-mean=%{y}<extra></extra>",
         "legendgroup": "POCKET LDDT ≥ 50",
         "marker": {
          "color": "pink",
          "line": {
           "color": "DarkSlateGrey",
           "width": 1
          },
          "size": 12,
          "symbol": "square"
         },
         "mode": "markers",
         "name": "POCKET LDDT ≥ 50",
         "orientation": "v",
         "showlegend": true,
         "type": "scatter",
         "x": [
          0,
          0.945,
          0.4577742699289661,
          0.4684512428298279,
          0.887189292543021,
          0.7667304015296367
         ],
         "xaxis": "x",
         "y": [
          25.669797538246375,
          58.752989062537374,
          26.47053307666272,
          35.45667447306791,
          58.157689305230285,
          47.16627634660422
         ],
         "yaxis": "y"
        },
        {
         "hovertemplate": "<b>LOWESS trendline</b><br><br>Metric=POCKET LDDT ≥ 50<br>Leakage=%{x}<br>SR-10-mean=%{y} <b>(trend)</b><extra></extra>",
         "legendgroup": "POCKET LDDT ≥ 50",
         "marker": {
          "color": "pink",
          "symbol": "square"
         },
         "mode": "lines",
         "name": "POCKET LDDT ≥ 50",
         "showlegend": false,
         "type": "scatter",
         "x": [
          0,
          0.4577742699289661,
          0.4684512428298279,
          0.7667304015296367,
          0.887189292543021,
          0.945
         ],
         "xaxis": "x",
         "y": [
          25.669797538246375,
          26.470533076662864,
          35.45667447306792,
          47.16627634660422,
          58.157689305230285,
          58.752989062537374
         ],
         "yaxis": "y"
        },
        {
         "hovertemplate": "Metric=PROTEIN SEQSIM ≥ 30<br>Leakage=%{x}<br>SR-10-mean=%{y}<extra></extra>",
         "legendgroup": "PROTEIN SEQSIM ≥ 30",
         "marker": {
          "color": "lightgreen",
          "line": {
           "color": "DarkSlateGrey",
           "width": 1
          },
          "size": 12,
          "symbol": "star"
         },
         "mode": "markers",
         "name": "PROTEIN SEQSIM ≥ 30",
         "orientation": "v",
         "showlegend": true,
         "type": "scatter",
         "x": [
          0.3655135425046929,
          0.9690909090909091,
          0.5678768745067088,
          0.6520076481835564,
          0.9445506692160612,
          0.8393881453154876
         ],
         "xaxis": "x",
         "y": [
          25.669797538246375,
          58.752989062537374,
          26.47053307666272,
          35.45667447306791,
          58.157689305230285,
          47.16627634660422
         ],
         "yaxis": "y"
        },
        {
         "hovertemplate": "<b>LOWESS trendline</b><br><br>Metric=PROTEIN SEQSIM ≥ 30<br>Leakage=%{x}<br>SR-10-mean=%{y} <b>(trend)</b><extra></extra>",
         "legendgroup": "PROTEIN SEQSIM ≥ 30",
         "marker": {
          "color": "lightgreen",
          "symbol": "star"
         },
         "mode": "lines",
         "name": "PROTEIN SEQSIM ≥ 30",
         "showlegend": false,
         "type": "scatter",
         "x": [
          0.3655135425046929,
          0.5678768745067088,
          0.6520076481835564,
          0.8393881453154876,
          0.9445506692160612,
          0.9690909090909091
         ],
         "xaxis": "x",
         "y": [
          25.66979753824638,
          26.47053307666268,
          35.45667447306793,
          47.16627634660422,
          58.157689305230285,
          58.752989062537374
         ],
         "yaxis": "y"
        },
        {
         "hovertemplate": "Metric=PLI SHARED ≥ 50<br>Leakage=%{x}<br>SR-10-mean=%{y}<extra></extra>",
         "legendgroup": "PLI SHARED ≥ 50",
         "marker": {
          "color": "purple",
          "line": {
           "color": "DarkSlateGrey",
           "width": 1
          },
          "size": 12,
          "symbol": "diamond"
         },
         "mode": "markers",
         "name": "PLI SHARED ≥ 50",
         "orientation": "v",
         "showlegend": true,
         "type": "scatter",
         "x": [
          0.039688924644676854,
          0.7790909090909091,
          0.2845303867403315,
          0.3938814531548757,
          0.7131931166347992,
          0.655831739961759
         ],
         "xaxis": "x",
         "y": [
          25.669797538246375,
          58.752989062537374,
          26.47053307666272,
          35.45667447306791,
          58.157689305230285,
          47.16627634660422
         ],
         "yaxis": "y"
        },
        {
         "hovertemplate": "<b>LOWESS trendline</b><br><br>Metric=PLI SHARED ≥ 50<br>Leakage=%{x}<br>SR-10-mean=%{y} <b>(trend)</b><extra></extra>",
         "legendgroup": "PLI SHARED ≥ 50",
         "marker": {
          "color": "purple",
          "symbol": "diamond"
         },
         "mode": "lines",
         "name": "PLI SHARED ≥ 50",
         "showlegend": false,
         "type": "scatter",
         "x": [
          0.039688924644676854,
          0.2845303867403315,
          0.3938814531548757,
          0.655831739961759,
          0.7131931166347992,
          0.7790909090909091
         ],
         "xaxis": "x",
         "y": [
          25.66979753824637,
          26.470533076662704,
          35.45667447306793,
          47.16627634660422,
          58.157689305230285,
          58.752989062537374
         ],
         "yaxis": "y"
        }
       ],
       "layout": {
        "font": {
         "size": 18
        },
        "height": 400,
        "legend": {
         "font": {
          "color": "black",
          "size": 18
         },
         "title": {},
         "tracegroupgap": 0,
         "traceorder": "normal",
         "x": 0,
         "y": 1
        },
        "margin": {
         "t": 60
        },
        "plot_bgcolor": "rgba(0, 0, 0, 0)",
        "template": {
         "data": {
          "bar": [
           {
            "error_x": {
             "color": "#2a3f5f"
            },
            "error_y": {
             "color": "#2a3f5f"
            },
            "marker": {
             "line": {
              "color": "#E5ECF6",
              "width": 0.5
             },
             "pattern": {
              "fillmode": "overlay",
              "size": 10,
              "solidity": 0.2
             }
            },
            "type": "bar"
           }
          ],
          "barpolar": [
           {
            "marker": {
             "line": {
              "color": "#E5ECF6",
              "width": 0.5
             },
             "pattern": {
              "fillmode": "overlay",
              "size": 10,
              "solidity": 0.2
             }
            },
            "type": "barpolar"
           }
          ],
          "carpet": [
           {
            "aaxis": {
             "endlinecolor": "#2a3f5f",
             "gridcolor": "white",
             "linecolor": "white",
             "minorgridcolor": "white",
             "startlinecolor": "#2a3f5f"
            },
            "baxis": {
             "endlinecolor": "#2a3f5f",
             "gridcolor": "white",
             "linecolor": "white",
             "minorgridcolor": "white",
             "startlinecolor": "#2a3f5f"
            },
            "type": "carpet"
           }
          ],
          "choropleth": [
           {
            "colorbar": {
             "outlinewidth": 0,
             "ticks": ""
            },
            "type": "choropleth"
           }
          ],
          "contour": [
           {
            "colorbar": {
             "outlinewidth": 0,
             "ticks": ""
            },
            "colorscale": [
             [
              0,
              "#0d0887"
             ],
             [
              0.1111111111111111,
              "#46039f"
             ],
             [
              0.2222222222222222,
              "#7201a8"
             ],
             [
              0.3333333333333333,
              "#9c179e"
             ],
             [
              0.4444444444444444,
              "#bd3786"
             ],
             [
              0.5555555555555556,
              "#d8576b"
             ],
             [
              0.6666666666666666,
              "#ed7953"
             ],
             [
              0.7777777777777778,
              "#fb9f3a"
             ],
             [
              0.8888888888888888,
              "#fdca26"
             ],
             [
              1,
              "#f0f921"
             ]
            ],
            "type": "contour"
           }
          ],
          "contourcarpet": [
           {
            "colorbar": {
             "outlinewidth": 0,
             "ticks": ""
            },
            "type": "contourcarpet"
           }
          ],
          "heatmap": [
           {
            "colorbar": {
             "outlinewidth": 0,
             "ticks": ""
            },
            "colorscale": [
             [
              0,
              "#0d0887"
             ],
             [
              0.1111111111111111,
              "#46039f"
             ],
             [
              0.2222222222222222,
              "#7201a8"
             ],
             [
              0.3333333333333333,
              "#9c179e"
             ],
             [
              0.4444444444444444,
              "#bd3786"
             ],
             [
              0.5555555555555556,
              "#d8576b"
             ],
             [
              0.6666666666666666,
              "#ed7953"
             ],
             [
              0.7777777777777778,
              "#fb9f3a"
             ],
             [
              0.8888888888888888,
              "#fdca26"
             ],
             [
              1,
              "#f0f921"
             ]
            ],
            "type": "heatmap"
           }
          ],
          "heatmapgl": [
           {
            "colorbar": {
             "outlinewidth": 0,
             "ticks": ""
            },
            "colorscale": [
             [
              0,
              "#0d0887"
             ],
             [
              0.1111111111111111,
              "#46039f"
             ],
             [
              0.2222222222222222,
              "#7201a8"
             ],
             [
              0.3333333333333333,
              "#9c179e"
             ],
             [
              0.4444444444444444,
              "#bd3786"
             ],
             [
              0.5555555555555556,
              "#d8576b"
             ],
             [
              0.6666666666666666,
              "#ed7953"
             ],
             [
              0.7777777777777778,
              "#fb9f3a"
             ],
             [
              0.8888888888888888,
              "#fdca26"
             ],
             [
              1,
              "#f0f921"
             ]
            ],
            "type": "heatmapgl"
           }
          ],
          "histogram": [
           {
            "marker": {
             "pattern": {
              "fillmode": "overlay",
              "size": 10,
              "solidity": 0.2
             }
            },
            "type": "histogram"
           }
          ],
          "histogram2d": [
           {
            "colorbar": {
             "outlinewidth": 0,
             "ticks": ""
            },
            "colorscale": [
             [
              0,
              "#0d0887"
             ],
             [
              0.1111111111111111,
              "#46039f"
             ],
             [
              0.2222222222222222,
              "#7201a8"
             ],
             [
              0.3333333333333333,
              "#9c179e"
             ],
             [
              0.4444444444444444,
              "#bd3786"
             ],
             [
              0.5555555555555556,
              "#d8576b"
             ],
             [
              0.6666666666666666,
              "#ed7953"
             ],
             [
              0.7777777777777778,
              "#fb9f3a"
             ],
             [
              0.8888888888888888,
              "#fdca26"
             ],
             [
              1,
              "#f0f921"
             ]
            ],
            "type": "histogram2d"
           }
          ],
          "histogram2dcontour": [
           {
            "colorbar": {
             "outlinewidth": 0,
             "ticks": ""
            },
            "colorscale": [
             [
              0,
              "#0d0887"
             ],
             [
              0.1111111111111111,
              "#46039f"
             ],
             [
              0.2222222222222222,
              "#7201a8"
             ],
             [
              0.3333333333333333,
              "#9c179e"
             ],
             [
              0.4444444444444444,
              "#bd3786"
             ],
             [
              0.5555555555555556,
              "#d8576b"
             ],
             [
              0.6666666666666666,
              "#ed7953"
             ],
             [
              0.7777777777777778,
              "#fb9f3a"
             ],
             [
              0.8888888888888888,
              "#fdca26"
             ],
             [
              1,
              "#f0f921"
             ]
            ],
            "type": "histogram2dcontour"
           }
          ],
          "mesh3d": [
           {
            "colorbar": {
             "outlinewidth": 0,
             "ticks": ""
            },
            "type": "mesh3d"
           }
          ],
          "parcoords": [
           {
            "line": {
             "colorbar": {
              "outlinewidth": 0,
              "ticks": ""
             }
            },
            "type": "parcoords"
           }
          ],
          "pie": [
           {
            "automargin": true,
            "type": "pie"
           }
          ],
          "scatter": [
           {
            "fillpattern": {
             "fillmode": "overlay",
             "size": 10,
             "solidity": 0.2
            },
            "type": "scatter"
           }
          ],
          "scatter3d": [
           {
            "line": {
             "colorbar": {
              "outlinewidth": 0,
              "ticks": ""
             }
            },
            "marker": {
             "colorbar": {
              "outlinewidth": 0,
              "ticks": ""
             }
            },
            "type": "scatter3d"
           }
          ],
          "scattercarpet": [
           {
            "marker": {
             "colorbar": {
              "outlinewidth": 0,
              "ticks": ""
             }
            },
            "type": "scattercarpet"
           }
          ],
          "scattergeo": [
           {
            "marker": {
             "colorbar": {
              "outlinewidth": 0,
              "ticks": ""
             }
            },
            "type": "scattergeo"
           }
          ],
          "scattergl": [
           {
            "marker": {
             "colorbar": {
              "outlinewidth": 0,
              "ticks": ""
             }
            },
            "type": "scattergl"
           }
          ],
          "scattermapbox": [
           {
            "marker": {
             "colorbar": {
              "outlinewidth": 0,
              "ticks": ""
             }
            },
            "type": "scattermapbox"
           }
          ],
          "scatterpolar": [
           {
            "marker": {
             "colorbar": {
              "outlinewidth": 0,
              "ticks": ""
             }
            },
            "type": "scatterpolar"
           }
          ],
          "scatterpolargl": [
           {
            "marker": {
             "colorbar": {
              "outlinewidth": 0,
              "ticks": ""
             }
            },
            "type": "scatterpolargl"
           }
          ],
          "scatterternary": [
           {
            "marker": {
             "colorbar": {
              "outlinewidth": 0,
              "ticks": ""
             }
            },
            "type": "scatterternary"
           }
          ],
          "surface": [
           {
            "colorbar": {
             "outlinewidth": 0,
             "ticks": ""
            },
            "colorscale": [
             [
              0,
              "#0d0887"
             ],
             [
              0.1111111111111111,
              "#46039f"
             ],
             [
              0.2222222222222222,
              "#7201a8"
             ],
             [
              0.3333333333333333,
              "#9c179e"
             ],
             [
              0.4444444444444444,
              "#bd3786"
             ],
             [
              0.5555555555555556,
              "#d8576b"
             ],
             [
              0.6666666666666666,
              "#ed7953"
             ],
             [
              0.7777777777777778,
              "#fb9f3a"
             ],
             [
              0.8888888888888888,
              "#fdca26"
             ],
             [
              1,
              "#f0f921"
             ]
            ],
            "type": "surface"
           }
          ],
          "table": [
           {
            "cells": {
             "fill": {
              "color": "#EBF0F8"
             },
             "line": {
              "color": "white"
             }
            },
            "header": {
             "fill": {
              "color": "#C8D4E3"
             },
             "line": {
              "color": "white"
             }
            },
            "type": "table"
           }
          ]
         },
         "layout": {
          "annotationdefaults": {
           "arrowcolor": "#2a3f5f",
           "arrowhead": 0,
           "arrowwidth": 1
          },
          "autotypenumbers": "strict",
          "coloraxis": {
           "colorbar": {
            "outlinewidth": 0,
            "ticks": ""
           }
          },
          "colorscale": {
           "diverging": [
            [
             0,
             "#8e0152"
            ],
            [
             0.1,
             "#c51b7d"
            ],
            [
             0.2,
             "#de77ae"
            ],
            [
             0.3,
             "#f1b6da"
            ],
            [
             0.4,
             "#fde0ef"
            ],
            [
             0.5,
             "#f7f7f7"
            ],
            [
             0.6,
             "#e6f5d0"
            ],
            [
             0.7,
             "#b8e186"
            ],
            [
             0.8,
             "#7fbc41"
            ],
            [
             0.9,
             "#4d9221"
            ],
            [
             1,
             "#276419"
            ]
           ],
           "sequential": [
            [
             0,
             "#0d0887"
            ],
            [
             0.1111111111111111,
             "#46039f"
            ],
            [
             0.2222222222222222,
             "#7201a8"
            ],
            [
             0.3333333333333333,
             "#9c179e"
            ],
            [
             0.4444444444444444,
             "#bd3786"
            ],
            [
             0.5555555555555556,
             "#d8576b"
            ],
            [
             0.6666666666666666,
             "#ed7953"
            ],
            [
             0.7777777777777778,
             "#fb9f3a"
            ],
            [
             0.8888888888888888,
             "#fdca26"
            ],
            [
             1,
             "#f0f921"
            ]
           ],
           "sequentialminus": [
            [
             0,
             "#0d0887"
            ],
            [
             0.1111111111111111,
             "#46039f"
            ],
            [
             0.2222222222222222,
             "#7201a8"
            ],
            [
             0.3333333333333333,
             "#9c179e"
            ],
            [
             0.4444444444444444,
             "#bd3786"
            ],
            [
             0.5555555555555556,
             "#d8576b"
            ],
            [
             0.6666666666666666,
             "#ed7953"
            ],
            [
             0.7777777777777778,
             "#fb9f3a"
            ],
            [
             0.8888888888888888,
             "#fdca26"
            ],
            [
             1,
             "#f0f921"
            ]
           ]
          },
          "colorway": [
           "#636efa",
           "#EF553B",
           "#00cc96",
           "#ab63fa",
           "#FFA15A",
           "#19d3f3",
           "#FF6692",
           "#B6E880",
           "#FF97FF",
           "#FECB52"
          ],
          "font": {
           "color": "#2a3f5f"
          },
          "geo": {
           "bgcolor": "white",
           "lakecolor": "white",
           "landcolor": "#E5ECF6",
           "showlakes": true,
           "showland": true,
           "subunitcolor": "white"
          },
          "hoverlabel": {
           "align": "left"
          },
          "hovermode": "closest",
          "mapbox": {
           "style": "light"
          },
          "paper_bgcolor": "white",
          "plot_bgcolor": "#E5ECF6",
          "polar": {
           "angularaxis": {
            "gridcolor": "white",
            "linecolor": "white",
            "ticks": ""
           },
           "bgcolor": "#E5ECF6",
           "radialaxis": {
            "gridcolor": "white",
            "linecolor": "white",
            "ticks": ""
           }
          },
          "scene": {
           "xaxis": {
            "backgroundcolor": "#E5ECF6",
            "gridcolor": "white",
            "gridwidth": 2,
            "linecolor": "white",
            "showbackground": true,
            "ticks": "",
            "zerolinecolor": "white"
           },
           "yaxis": {
            "backgroundcolor": "#E5ECF6",
            "gridcolor": "white",
            "gridwidth": 2,
            "linecolor": "white",
            "showbackground": true,
            "ticks": "",
            "zerolinecolor": "white"
           },
           "zaxis": {
            "backgroundcolor": "#E5ECF6",
            "gridcolor": "white",
            "gridwidth": 2,
            "linecolor": "white",
            "showbackground": true,
            "ticks": "",
            "zerolinecolor": "white"
           }
          },
          "shapedefaults": {
           "line": {
            "color": "#2a3f5f"
           }
          },
          "ternary": {
           "aaxis": {
            "gridcolor": "white",
            "linecolor": "white",
            "ticks": ""
           },
           "baxis": {
            "gridcolor": "white",
            "linecolor": "white",
            "ticks": ""
           },
           "bgcolor": "#E5ECF6",
           "caxis": {
            "gridcolor": "white",
            "linecolor": "white",
            "ticks": ""
           }
          },
          "title": {
           "x": 0.05
          },
          "xaxis": {
           "automargin": true,
           "gridcolor": "white",
           "linecolor": "white",
           "ticks": "",
           "title": {
            "standoff": 15
           },
           "zerolinecolor": "white",
           "zerolinewidth": 2
          },
          "yaxis": {
           "automargin": true,
           "gridcolor": "white",
           "linecolor": "white",
           "ticks": "",
           "title": {
            "standoff": 15
           },
           "zerolinecolor": "white",
           "zerolinewidth": 2
          }
         }
        },
        "width": 650,
        "xaxis": {
         "anchor": "y",
         "color": "black",
         "domain": [
          0,
          1
         ],
         "linecolor": "black",
         "linewidth": 2,
         "showline": true,
         "tickfont": {
          "size": 18
         },
         "title": {
          "text": "Fraction of leaked systems"
         }
        },
        "yaxis": {
         "anchor": "x",
         "color": "black",
         "domain": [
          0,
          1
         ],
         "linecolor": "black",
         "linewidth": 2,
         "showline": true,
         "tickfont": {
          "size": 18
         },
         "title": {
          "text": "Success Rate"
         }
        }
       }
      }
     },
     "metadata": {},
     "output_type": "display_data"
    }
   ],
   "source": [
    "performance_vs_leakage_df = perf.merge(leakage_df, on=['Split','Test_tag', 'Quality'])\n",
    "plot_diffdock_performance_vs_leakage(performance_vs_leakage_df[\n",
    "    performance_vs_leakage_df.Metric.isin([\"PLI SHARED ≥ 50\", \"PROTEIN SEQSIM ≥ 30\",\"POCKET LDDT ≥ 50\", \"POCKET SHARED ≥ 50\" ])])"
   ]
  },
  {
   "cell_type": "markdown",
   "metadata": {},
   "source": [
    "#### All metric leakage plot"
   ]
  },
  {
   "cell_type": "code",
   "execution_count": null,
   "metadata": {},
   "outputs": [
    {
     "data": {
      "application/vnd.plotly.v1+json": {
       "config": {
        "plotlyServerURL": "https://plot.ly",
        "toImageButtonOptions": {
         "filename": "top10_diffdock_vs_leakage",
         "format": "png",
         "scale": 6
        }
       },
       "data": [
        {
         "hovertemplate": "Metric=POCKET SHARED ≥ 30<br>Leakage=%{x}<br>SR-10-mean=%{y}<extra></extra>",
         "legendgroup": "POCKET SHARED ≥ 30",
         "marker": {
          "color": "lightblue",
          "line": {
           "color": "DarkSlateGrey",
           "width": 1
          },
          "size": 12,
          "symbol": "circle"
         },
         "mode": "markers",
         "name": "POCKET SHARED ≥ 30",
         "orientation": "v",
         "showlegend": true,
         "type": "scatter",
         "x": [
          0.16090104585679807,
          0.89,
          0.35201262825572216,
          0.5105162523900574,
          0.8527724665391969,
          0.7418738049713193
         ],
         "xaxis": "x",
         "y": [
          25.669797538246375,
          58.752989062537374,
          26.47053307666272,
          35.45667447306791,
          58.157689305230285,
          47.16627634660422
         ],
         "yaxis": "y"
        },
        {
         "hovertemplate": "<b>LOWESS trendline</b><br><br>Metric=POCKET SHARED ≥ 30<br>Leakage=%{x}<br>SR-10-mean=%{y} <b>(trend)</b><extra></extra>",
         "legendgroup": "POCKET SHARED ≥ 30",
         "marker": {
          "color": "lightblue",
          "symbol": "circle"
         },
         "mode": "lines",
         "name": "POCKET SHARED ≥ 30",
         "showlegend": false,
         "type": "scatter",
         "x": [
          0.16090104585679807,
          0.35201262825572216,
          0.5105162523900574,
          0.7418738049713193,
          0.8527724665391969,
          0.89
         ],
         "xaxis": "x",
         "y": [
          25.669797538246367,
          26.47053307666272,
          35.45667447306791,
          47.1662763466042,
          58.157689305230285,
          58.752989062537374
         ],
         "yaxis": "y"
        },
        {
         "hovertemplate": "Metric=POCKET SHARED ≥ 50<br>Leakage=%{x}<br>SR-10-mean=%{y}<extra></extra>",
         "legendgroup": "POCKET SHARED ≥ 50",
         "marker": {
          "color": "pink",
          "line": {
           "color": "DarkSlateGrey",
           "width": 1
          },
          "size": 12,
          "symbol": "square"
         },
         "mode": "markers",
         "name": "POCKET SHARED ≥ 50",
         "orientation": "v",
         "showlegend": true,
         "type": "scatter",
         "x": [
          0.08983641727004558,
          0.8640909090909091,
          0.32991318074191,
          0.4722753346080306,
          0.8374760994263862,
          0.734225621414914
         ],
         "xaxis": "x",
         "y": [
          25.669797538246375,
          58.752989062537374,
          26.47053307666272,
          35.45667447306791,
          58.157689305230285,
          47.16627634660422
         ],
         "yaxis": "y"
        },
        {
         "hovertemplate": "<b>LOWESS trendline</b><br><br>Metric=POCKET SHARED ≥ 50<br>Leakage=%{x}<br>SR-10-mean=%{y} <b>(trend)</b><extra></extra>",
         "legendgroup": "POCKET SHARED ≥ 50",
         "marker": {
          "color": "pink",
          "symbol": "square"
         },
         "mode": "lines",
         "name": "POCKET SHARED ≥ 50",
         "showlegend": false,
         "type": "scatter",
         "x": [
          0.08983641727004558,
          0.32991318074191,
          0.4722753346080306,
          0.734225621414914,
          0.8374760994263862,
          0.8640909090909091
         ],
         "xaxis": "x",
         "y": [
          25.669797538246375,
          26.470533076662736,
          35.45667447306789,
          47.16627634660422,
          58.157689305230285,
          58.752989062537374
         ],
         "yaxis": "y"
        },
        {
         "hovertemplate": "Metric=POCKET SHARED ≥ 70<br>Leakage=%{x}<br>SR-10-mean=%{y}<extra></extra>",
         "legendgroup": "POCKET SHARED ≥ 70",
         "marker": {
          "color": "lightgreen",
          "line": {
           "color": "DarkSlateGrey",
           "width": 1
          },
          "size": 12,
          "symbol": "star"
         },
         "mode": "markers",
         "name": "POCKET SHARED ≥ 70",
         "orientation": "v",
         "showlegend": true,
         "type": "scatter",
         "x": [
          0.04746580852775543,
          0.8159090909090909,
          0.30505130228887134,
          0.4378585086042065,
          0.8049713193116634,
          0.7074569789674953
         ],
         "xaxis": "x",
         "y": [
          25.669797538246375,
          58.752989062537374,
          26.47053307666272,
          35.45667447306791,
          58.157689305230285,
          47.16627634660422
         ],
         "yaxis": "y"
        },
        {
         "hovertemplate": "<b>LOWESS trendline</b><br><br>Metric=POCKET SHARED ≥ 70<br>Leakage=%{x}<br>SR-10-mean=%{y} <b>(trend)</b><extra></extra>",
         "legendgroup": "POCKET SHARED ≥ 70",
         "marker": {
          "color": "lightgreen",
          "symbol": "star"
         },
         "mode": "lines",
         "name": "POCKET SHARED ≥ 70",
         "showlegend": false,
         "type": "scatter",
         "x": [
          0.04746580852775543,
          0.30505130228887134,
          0.4378585086042065,
          0.7074569789674953,
          0.8049713193116634,
          0.8159090909090909
         ],
         "xaxis": "x",
         "y": [
          25.669797538246375,
          26.470533076662715,
          35.45667447306789,
          47.16627634660422,
          58.157689305230285,
          58.752989062537374
         ],
         "yaxis": "y"
        },
        {
         "hovertemplate": "Metric=POCKET LDDT ≥ 30<br>Leakage=%{x}<br>SR-10-mean=%{y}<extra></extra>",
         "legendgroup": "POCKET LDDT ≥ 30",
         "marker": {
          "color": "purple",
          "line": {
           "color": "DarkSlateGrey",
           "width": 1
          },
          "size": 12,
          "symbol": "diamond"
         },
         "mode": "markers",
         "name": "POCKET LDDT ≥ 30",
         "orientation": "v",
         "showlegend": true,
         "type": "scatter",
         "x": [
          0.031107535532314292,
          0.9518181818181818,
          0.4723756906077348,
          0.4837476099426386,
          0.8986615678776291,
          0.7782026768642447
         ],
         "xaxis": "x",
         "y": [
          25.669797538246375,
          58.752989062537374,
          26.47053307666272,
          35.45667447306791,
          58.157689305230285,
          47.16627634660422
         ],
         "yaxis": "y"
        },
        {
         "hovertemplate": "<b>LOWESS trendline</b><br><br>Metric=POCKET LDDT ≥ 30<br>Leakage=%{x}<br>SR-10-mean=%{y} <b>(trend)</b><extra></extra>",
         "legendgroup": "POCKET LDDT ≥ 30",
         "marker": {
          "color": "purple",
          "symbol": "diamond"
         },
         "mode": "lines",
         "name": "POCKET LDDT ≥ 30",
         "showlegend": false,
         "type": "scatter",
         "x": [
          0.031107535532314292,
          0.4723756906077348,
          0.4837476099426386,
          0.7782026768642447,
          0.8986615678776291,
          0.9518181818181818
         ],
         "xaxis": "x",
         "y": [
          25.66979753824637,
          26.47053307666264,
          35.45667447306664,
          47.166276346604235,
          58.15768930523011,
          58.75298906253719
         ],
         "yaxis": "y"
        },
        {
         "hovertemplate": "Metric=POCKET LDDT ≥ 50<br>Leakage=%{x}<br>SR-10-mean=%{y}<extra></extra>",
         "legendgroup": "POCKET LDDT ≥ 50",
         "marker": {
          "color": "goldenrod",
          "line": {
           "color": "DarkSlateGrey",
           "width": 1
          },
          "size": 12,
          "symbol": "hourglass"
         },
         "mode": "markers",
         "name": "POCKET LDDT ≥ 50",
         "orientation": "v",
         "showlegend": true,
         "type": "scatter",
         "x": [
          0,
          0.945,
          0.4577742699289661,
          0.4684512428298279,
          0.887189292543021,
          0.7667304015296367
         ],
         "xaxis": "x",
         "y": [
          25.669797538246375,
          58.752989062537374,
          26.47053307666272,
          35.45667447306791,
          58.157689305230285,
          47.16627634660422
         ],
         "yaxis": "y"
        },
        {
         "hovertemplate": "<b>LOWESS trendline</b><br><br>Metric=POCKET LDDT ≥ 50<br>Leakage=%{x}<br>SR-10-mean=%{y} <b>(trend)</b><extra></extra>",
         "legendgroup": "POCKET LDDT ≥ 50",
         "marker": {
          "color": "goldenrod",
          "symbol": "hourglass"
         },
         "mode": "lines",
         "name": "POCKET LDDT ≥ 50",
         "showlegend": false,
         "type": "scatter",
         "x": [
          0,
          0.4577742699289661,
          0.4684512428298279,
          0.7667304015296367,
          0.887189292543021,
          0.945
         ],
         "xaxis": "x",
         "y": [
          25.669797538246375,
          26.470533076662864,
          35.45667447306792,
          47.16627634660422,
          58.157689305230285,
          58.752989062537374
         ],
         "yaxis": "y"
        },
        {
         "hovertemplate": "Metric=POCKET LDDT ≥ 70<br>Leakage=%{x}<br>SR-10-mean=%{y}<extra></extra>",
         "legendgroup": "POCKET LDDT ≥ 70",
         "marker": {
          "color": "lightblue",
          "line": {
           "color": "DarkSlateGrey",
           "width": 1
          },
          "size": 12,
          "symbol": "pentagon"
         },
         "mode": "markers",
         "name": "POCKET LDDT ≥ 70",
         "orientation": "v",
         "showlegend": true,
         "type": "scatter",
         "x": [
          0,
          0.9281818181818182,
          0.4340962904498816,
          0.4340344168260038,
          0.8623326959847036,
          0.739961759082218
         ],
         "xaxis": "x",
         "y": [
          25.669797538246375,
          58.752989062537374,
          26.47053307666272,
          35.45667447306791,
          58.157689305230285,
          47.16627634660422
         ],
         "yaxis": "y"
        },
        {
         "hovertemplate": "<b>LOWESS trendline</b><br><br>Metric=POCKET LDDT ≥ 70<br>Leakage=%{x}<br>SR-10-mean=%{y} <b>(trend)</b><extra></extra>",
         "legendgroup": "POCKET LDDT ≥ 70",
         "marker": {
          "color": "lightblue",
          "symbol": "pentagon"
         },
         "mode": "lines",
         "name": "POCKET LDDT ≥ 70",
         "showlegend": false,
         "type": "scatter",
         "x": [
          0,
          0.4340344168260038,
          0.4340962904498816,
          0.739961759082218,
          0.8623326959847036,
          0.9281818181818182
         ],
         "xaxis": "x",
         "y": [
          25.669797538246375,
          35.45667447306791,
          26.47053307666272,
          47.16627634660425,
          58.15768930523049,
          58.752989062537374
         ],
         "yaxis": "y"
        },
        {
         "hovertemplate": "Metric=POCKET LDDT ≥ 90<br>Leakage=%{x}<br>SR-10-mean=%{y}<extra></extra>",
         "legendgroup": "POCKET LDDT ≥ 90",
         "marker": {
          "color": "pink",
          "line": {
           "color": "DarkSlateGrey",
           "width": 1
          },
          "size": 12,
          "symbol": "circle"
         },
         "mode": "markers",
         "name": "POCKET LDDT ≥ 90",
         "orientation": "v",
         "showlegend": true,
         "type": "scatter",
         "x": [
          0,
          0.8004545454545454,
          0.3472770323599053,
          0.38049713193116635,
          0.7017208413001912,
          0.6405353728489483
         ],
         "xaxis": "x",
         "y": [
          25.669797538246375,
          58.752989062537374,
          26.47053307666272,
          35.45667447306791,
          58.157689305230285,
          47.16627634660422
         ],
         "yaxis": "y"
        },
        {
         "hovertemplate": "<b>LOWESS trendline</b><br><br>Metric=POCKET LDDT ≥ 90<br>Leakage=%{x}<br>SR-10-mean=%{y} <b>(trend)</b><extra></extra>",
         "legendgroup": "POCKET LDDT ≥ 90",
         "marker": {
          "color": "pink",
          "symbol": "circle"
         },
         "mode": "lines",
         "name": "POCKET LDDT ≥ 90",
         "showlegend": false,
         "type": "scatter",
         "x": [
          0,
          0.3472770323599053,
          0.38049713193116635,
          0.6405353728489483,
          0.7017208413001912,
          0.8004545454545454
         ],
         "xaxis": "x",
         "y": [
          25.669797538246375,
          26.470533076662775,
          35.45667447306786,
          47.16627634660418,
          58.15768930523027,
          58.752989062537395
         ],
         "yaxis": "y"
        },
        {
         "hovertemplate": "Metric=PROTEIN SEQSIM ≥ 30<br>Leakage=%{x}<br>SR-10-mean=%{y}<extra></extra>",
         "legendgroup": "PROTEIN SEQSIM ≥ 30",
         "marker": {
          "color": "lightgreen",
          "line": {
           "color": "DarkSlateGrey",
           "width": 1
          },
          "size": 12,
          "symbol": "square"
         },
         "mode": "markers",
         "name": "PROTEIN SEQSIM ≥ 30",
         "orientation": "v",
         "showlegend": true,
         "type": "scatter",
         "x": [
          0.3655135425046929,
          0.9690909090909091,
          0.5678768745067088,
          0.6520076481835564,
          0.9445506692160612,
          0.8393881453154876
         ],
         "xaxis": "x",
         "y": [
          25.669797538246375,
          58.752989062537374,
          26.47053307666272,
          35.45667447306791,
          58.157689305230285,
          47.16627634660422
         ],
         "yaxis": "y"
        },
        {
         "hovertemplate": "<b>LOWESS trendline</b><br><br>Metric=PROTEIN SEQSIM ≥ 30<br>Leakage=%{x}<br>SR-10-mean=%{y} <b>(trend)</b><extra></extra>",
         "legendgroup": "PROTEIN SEQSIM ≥ 30",
         "marker": {
          "color": "lightgreen",
          "symbol": "square"
         },
         "mode": "lines",
         "name": "PROTEIN SEQSIM ≥ 30",
         "showlegend": false,
         "type": "scatter",
         "x": [
          0.3655135425046929,
          0.5678768745067088,
          0.6520076481835564,
          0.8393881453154876,
          0.9445506692160612,
          0.9690909090909091
         ],
         "xaxis": "x",
         "y": [
          25.66979753824638,
          26.47053307666268,
          35.45667447306793,
          47.16627634660422,
          58.157689305230285,
          58.752989062537374
         ],
         "yaxis": "y"
        },
        {
         "hovertemplate": "Metric=PROTEIN SEQSIM ≥ 50<br>Leakage=%{x}<br>SR-10-mean=%{y}<extra></extra>",
         "legendgroup": "PROTEIN SEQSIM ≥ 50",
         "marker": {
          "color": "purple",
          "line": {
           "color": "DarkSlateGrey",
           "width": 1
          },
          "size": 12,
          "symbol": "star"
         },
         "mode": "markers",
         "name": "PROTEIN SEQSIM ≥ 50",
         "orientation": "v",
         "showlegend": true,
         "type": "scatter",
         "x": [
          0.2386698846875838,
          0.9113636363636364,
          0.5027624309392266,
          0.5697896749521989,
          0.8623326959847036,
          0.768642447418738
         ],
         "xaxis": "x",
         "y": [
          25.669797538246375,
          58.752989062537374,
          26.47053307666272,
          35.45667447306791,
          58.157689305230285,
          47.16627634660422
         ],
         "yaxis": "y"
        },
        {
         "hovertemplate": "<b>LOWESS trendline</b><br><br>Metric=PROTEIN SEQSIM ≥ 50<br>Leakage=%{x}<br>SR-10-mean=%{y} <b>(trend)</b><extra></extra>",
         "legendgroup": "PROTEIN SEQSIM ≥ 50",
         "marker": {
          "color": "purple",
          "symbol": "star"
         },
         "mode": "lines",
         "name": "PROTEIN SEQSIM ≥ 50",
         "showlegend": false,
         "type": "scatter",
         "x": [
          0.2386698846875838,
          0.5027624309392266,
          0.5697896749521989,
          0.768642447418738,
          0.8623326959847036,
          0.9113636363636364
         ],
         "xaxis": "x",
         "y": [
          25.669797538246367,
          26.470533076662697,
          35.45667447306789,
          47.16627634660422,
          58.15768930523028,
          58.75298906253749
         ],
         "yaxis": "y"
        },
        {
         "hovertemplate": "Metric=PLI SHARED ≥ 20<br>Leakage=%{x}<br>SR-10-mean=%{y}<extra></extra>",
         "legendgroup": "PLI SHARED ≥ 20",
         "marker": {
          "color": "goldenrod",
          "line": {
           "color": "DarkSlateGrey",
           "width": 1
          },
          "size": 12,
          "symbol": "diamond"
         },
         "mode": "markers",
         "name": "PLI SHARED ≥ 20",
         "orientation": "v",
         "showlegend": true,
         "type": "scatter",
         "x": [
          0.11531241619737195,
          0.8459090909090909,
          0.3259668508287293,
          0.4684512428298279,
          0.8374760994263862,
          0.7246653919694073
         ],
         "xaxis": "x",
         "y": [
          25.669797538246375,
          58.752989062537374,
          26.47053307666272,
          35.45667447306791,
          58.157689305230285,
          47.16627634660422
         ],
         "yaxis": "y"
        },
        {
         "hovertemplate": "<b>LOWESS trendline</b><br><br>Metric=PLI SHARED ≥ 20<br>Leakage=%{x}<br>SR-10-mean=%{y} <b>(trend)</b><extra></extra>",
         "legendgroup": "PLI SHARED ≥ 20",
         "marker": {
          "color": "goldenrod",
          "symbol": "diamond"
         },
         "mode": "lines",
         "name": "PLI SHARED ≥ 20",
         "showlegend": false,
         "type": "scatter",
         "x": [
          0.11531241619737195,
          0.3259668508287293,
          0.4684512428298279,
          0.7246653919694073,
          0.8374760994263862,
          0.8459090909090909
         ],
         "xaxis": "x",
         "y": [
          25.669797538246375,
          26.47053307666271,
          35.45667447306791,
          47.16627634660422,
          58.157689305230285,
          58.752989062537374
         ],
         "yaxis": "y"
        },
        {
         "hovertemplate": "Metric=PLI SHARED ≥ 30<br>Leakage=%{x}<br>SR-10-mean=%{y}<extra></extra>",
         "legendgroup": "PLI SHARED ≥ 30",
         "marker": {
          "color": "lightblue",
          "line": {
           "color": "DarkSlateGrey",
           "width": 1
          },
          "size": 12,
          "symbol": "hourglass"
         },
         "mode": "markers",
         "name": "PLI SHARED ≥ 30",
         "orientation": "v",
         "showlegend": true,
         "type": "scatter",
         "x": [
          0.08608205953338696,
          0.8277272727272728,
          0.31373322809786897,
          0.4416826003824092,
          0.8049713193116634,
          0.7036328871892925
         ],
         "xaxis": "x",
         "y": [
          25.669797538246375,
          58.752989062537374,
          26.47053307666272,
          35.45667447306791,
          58.157689305230285,
          47.16627634660422
         ],
         "yaxis": "y"
        },
        {
         "hovertemplate": "<b>LOWESS trendline</b><br><br>Metric=PLI SHARED ≥ 30<br>Leakage=%{x}<br>SR-10-mean=%{y} <b>(trend)</b><extra></extra>",
         "legendgroup": "PLI SHARED ≥ 30",
         "marker": {
          "color": "lightblue",
          "symbol": "hourglass"
         },
         "mode": "lines",
         "name": "PLI SHARED ≥ 30",
         "showlegend": false,
         "type": "scatter",
         "x": [
          0.08608205953338696,
          0.31373322809786897,
          0.4416826003824092,
          0.7036328871892925,
          0.8049713193116634,
          0.8277272727272728
         ],
         "xaxis": "x",
         "y": [
          25.669797538246375,
          26.470533076662726,
          35.456674473067935,
          47.16627634660422,
          58.157689305230285,
          58.752989062537374
         ],
         "yaxis": "y"
        },
        {
         "hovertemplate": "Metric=PLI SHARED ≥ 50<br>Leakage=%{x}<br>SR-10-mean=%{y}<extra></extra>",
         "legendgroup": "PLI SHARED ≥ 50",
         "marker": {
          "color": "pink",
          "line": {
           "color": "DarkSlateGrey",
           "width": 1
          },
          "size": 12,
          "symbol": "pentagon"
         },
         "mode": "markers",
         "name": "PLI SHARED ≥ 50",
         "orientation": "v",
         "showlegend": true,
         "type": "scatter",
         "x": [
          0.039688924644676854,
          0.7790909090909091,
          0.2845303867403315,
          0.3938814531548757,
          0.7131931166347992,
          0.655831739961759
         ],
         "xaxis": "x",
         "y": [
          25.669797538246375,
          58.752989062537374,
          26.47053307666272,
          35.45667447306791,
          58.157689305230285,
          47.16627634660422
         ],
         "yaxis": "y"
        },
        {
         "hovertemplate": "<b>LOWESS trendline</b><br><br>Metric=PLI SHARED ≥ 50<br>Leakage=%{x}<br>SR-10-mean=%{y} <b>(trend)</b><extra></extra>",
         "legendgroup": "PLI SHARED ≥ 50",
         "marker": {
          "color": "pink",
          "symbol": "pentagon"
         },
         "mode": "lines",
         "name": "PLI SHARED ≥ 50",
         "showlegend": false,
         "type": "scatter",
         "x": [
          0.039688924644676854,
          0.2845303867403315,
          0.3938814531548757,
          0.655831739961759,
          0.7131931166347992,
          0.7790909090909091
         ],
         "xaxis": "x",
         "y": [
          25.66979753824637,
          26.470533076662704,
          35.45667447306793,
          47.16627634660422,
          58.157689305230285,
          58.752989062537374
         ],
         "yaxis": "y"
        },
        {
         "hovertemplate": "Metric=PLI SHARED ≥ 70<br>Leakage=%{x}<br>SR-10-mean=%{y}<extra></extra>",
         "legendgroup": "PLI SHARED ≥ 70",
         "marker": {
          "color": "lightgreen",
          "line": {
           "color": "DarkSlateGrey",
           "width": 1
          },
          "size": 12,
          "symbol": "circle"
         },
         "mode": "markers",
         "name": "PLI SHARED ≥ 70",
         "orientation": "v",
         "showlegend": true,
         "type": "scatter",
         "x": [
          0.011531241619737195,
          0.6368181818181818,
          0.23638516179952643,
          0.2925430210325048,
          0.5449330783938815,
          0.5296367112810707
         ],
         "xaxis": "x",
         "y": [
          25.669797538246375,
          58.752989062537374,
          26.47053307666272,
          35.45667447306791,
          58.157689305230285,
          47.16627634660422
         ],
         "yaxis": "y"
        },
        {
         "hovertemplate": "<b>LOWESS trendline</b><br><br>Metric=PLI SHARED ≥ 70<br>Leakage=%{x}<br>SR-10-mean=%{y} <b>(trend)</b><extra></extra>",
         "legendgroup": "PLI SHARED ≥ 70",
         "marker": {
          "color": "lightgreen",
          "symbol": "circle"
         },
         "mode": "lines",
         "name": "PLI SHARED ≥ 70",
         "showlegend": false,
         "type": "scatter",
         "x": [
          0.011531241619737195,
          0.23638516179952643,
          0.2925430210325048,
          0.5296367112810707,
          0.5449330783938815,
          0.6368181818181818
         ],
         "xaxis": "x",
         "y": [
          25.669797538246375,
          26.47053307666271,
          35.456674473067956,
          47.16627634660422,
          58.157689305230285,
          58.752989062537374
         ],
         "yaxis": "y"
        }
       ],
       "layout": {
        "font": {
         "size": 18
        },
        "height": 400,
        "legend": {
         "font": {
          "color": "black",
          "size": 18
         },
         "title": {},
         "tracegroupgap": 0,
         "traceorder": "normal",
         "x": 0,
         "y": 1
        },
        "margin": {
         "t": 60
        },
        "plot_bgcolor": "rgba(0, 0, 0, 0)",
        "template": {
         "data": {
          "bar": [
           {
            "error_x": {
             "color": "#2a3f5f"
            },
            "error_y": {
             "color": "#2a3f5f"
            },
            "marker": {
             "line": {
              "color": "#E5ECF6",
              "width": 0.5
             },
             "pattern": {
              "fillmode": "overlay",
              "size": 10,
              "solidity": 0.2
             }
            },
            "type": "bar"
           }
          ],
          "barpolar": [
           {
            "marker": {
             "line": {
              "color": "#E5ECF6",
              "width": 0.5
             },
             "pattern": {
              "fillmode": "overlay",
              "size": 10,
              "solidity": 0.2
             }
            },
            "type": "barpolar"
           }
          ],
          "carpet": [
           {
            "aaxis": {
             "endlinecolor": "#2a3f5f",
             "gridcolor": "white",
             "linecolor": "white",
             "minorgridcolor": "white",
             "startlinecolor": "#2a3f5f"
            },
            "baxis": {
             "endlinecolor": "#2a3f5f",
             "gridcolor": "white",
             "linecolor": "white",
             "minorgridcolor": "white",
             "startlinecolor": "#2a3f5f"
            },
            "type": "carpet"
           }
          ],
          "choropleth": [
           {
            "colorbar": {
             "outlinewidth": 0,
             "ticks": ""
            },
            "type": "choropleth"
           }
          ],
          "contour": [
           {
            "colorbar": {
             "outlinewidth": 0,
             "ticks": ""
            },
            "colorscale": [
             [
              0,
              "#0d0887"
             ],
             [
              0.1111111111111111,
              "#46039f"
             ],
             [
              0.2222222222222222,
              "#7201a8"
             ],
             [
              0.3333333333333333,
              "#9c179e"
             ],
             [
              0.4444444444444444,
              "#bd3786"
             ],
             [
              0.5555555555555556,
              "#d8576b"
             ],
             [
              0.6666666666666666,
              "#ed7953"
             ],
             [
              0.7777777777777778,
              "#fb9f3a"
             ],
             [
              0.8888888888888888,
              "#fdca26"
             ],
             [
              1,
              "#f0f921"
             ]
            ],
            "type": "contour"
           }
          ],
          "contourcarpet": [
           {
            "colorbar": {
             "outlinewidth": 0,
             "ticks": ""
            },
            "type": "contourcarpet"
           }
          ],
          "heatmap": [
           {
            "colorbar": {
             "outlinewidth": 0,
             "ticks": ""
            },
            "colorscale": [
             [
              0,
              "#0d0887"
             ],
             [
              0.1111111111111111,
              "#46039f"
             ],
             [
              0.2222222222222222,
              "#7201a8"
             ],
             [
              0.3333333333333333,
              "#9c179e"
             ],
             [
              0.4444444444444444,
              "#bd3786"
             ],
             [
              0.5555555555555556,
              "#d8576b"
             ],
             [
              0.6666666666666666,
              "#ed7953"
             ],
             [
              0.7777777777777778,
              "#fb9f3a"
             ],
             [
              0.8888888888888888,
              "#fdca26"
             ],
             [
              1,
              "#f0f921"
             ]
            ],
            "type": "heatmap"
           }
          ],
          "heatmapgl": [
           {
            "colorbar": {
             "outlinewidth": 0,
             "ticks": ""
            },
            "colorscale": [
             [
              0,
              "#0d0887"
             ],
             [
              0.1111111111111111,
              "#46039f"
             ],
             [
              0.2222222222222222,
              "#7201a8"
             ],
             [
              0.3333333333333333,
              "#9c179e"
             ],
             [
              0.4444444444444444,
              "#bd3786"
             ],
             [
              0.5555555555555556,
              "#d8576b"
             ],
             [
              0.6666666666666666,
              "#ed7953"
             ],
             [
              0.7777777777777778,
              "#fb9f3a"
             ],
             [
              0.8888888888888888,
              "#fdca26"
             ],
             [
              1,
              "#f0f921"
             ]
            ],
            "type": "heatmapgl"
           }
          ],
          "histogram": [
           {
            "marker": {
             "pattern": {
              "fillmode": "overlay",
              "size": 10,
              "solidity": 0.2
             }
            },
            "type": "histogram"
           }
          ],
          "histogram2d": [
           {
            "colorbar": {
             "outlinewidth": 0,
             "ticks": ""
            },
            "colorscale": [
             [
              0,
              "#0d0887"
             ],
             [
              0.1111111111111111,
              "#46039f"
             ],
             [
              0.2222222222222222,
              "#7201a8"
             ],
             [
              0.3333333333333333,
              "#9c179e"
             ],
             [
              0.4444444444444444,
              "#bd3786"
             ],
             [
              0.5555555555555556,
              "#d8576b"
             ],
             [
              0.6666666666666666,
              "#ed7953"
             ],
             [
              0.7777777777777778,
              "#fb9f3a"
             ],
             [
              0.8888888888888888,
              "#fdca26"
             ],
             [
              1,
              "#f0f921"
             ]
            ],
            "type": "histogram2d"
           }
          ],
          "histogram2dcontour": [
           {
            "colorbar": {
             "outlinewidth": 0,
             "ticks": ""
            },
            "colorscale": [
             [
              0,
              "#0d0887"
             ],
             [
              0.1111111111111111,
              "#46039f"
             ],
             [
              0.2222222222222222,
              "#7201a8"
             ],
             [
              0.3333333333333333,
              "#9c179e"
             ],
             [
              0.4444444444444444,
              "#bd3786"
             ],
             [
              0.5555555555555556,
              "#d8576b"
             ],
             [
              0.6666666666666666,
              "#ed7953"
             ],
             [
              0.7777777777777778,
              "#fb9f3a"
             ],
             [
              0.8888888888888888,
              "#fdca26"
             ],
             [
              1,
              "#f0f921"
             ]
            ],
            "type": "histogram2dcontour"
           }
          ],
          "mesh3d": [
           {
            "colorbar": {
             "outlinewidth": 0,
             "ticks": ""
            },
            "type": "mesh3d"
           }
          ],
          "parcoords": [
           {
            "line": {
             "colorbar": {
              "outlinewidth": 0,
              "ticks": ""
             }
            },
            "type": "parcoords"
           }
          ],
          "pie": [
           {
            "automargin": true,
            "type": "pie"
           }
          ],
          "scatter": [
           {
            "fillpattern": {
             "fillmode": "overlay",
             "size": 10,
             "solidity": 0.2
            },
            "type": "scatter"
           }
          ],
          "scatter3d": [
           {
            "line": {
             "colorbar": {
              "outlinewidth": 0,
              "ticks": ""
             }
            },
            "marker": {
             "colorbar": {
              "outlinewidth": 0,
              "ticks": ""
             }
            },
            "type": "scatter3d"
           }
          ],
          "scattercarpet": [
           {
            "marker": {
             "colorbar": {
              "outlinewidth": 0,
              "ticks": ""
             }
            },
            "type": "scattercarpet"
           }
          ],
          "scattergeo": [
           {
            "marker": {
             "colorbar": {
              "outlinewidth": 0,
              "ticks": ""
             }
            },
            "type": "scattergeo"
           }
          ],
          "scattergl": [
           {
            "marker": {
             "colorbar": {
              "outlinewidth": 0,
              "ticks": ""
             }
            },
            "type": "scattergl"
           }
          ],
          "scattermapbox": [
           {
            "marker": {
             "colorbar": {
              "outlinewidth": 0,
              "ticks": ""
             }
            },
            "type": "scattermapbox"
           }
          ],
          "scatterpolar": [
           {
            "marker": {
             "colorbar": {
              "outlinewidth": 0,
              "ticks": ""
             }
            },
            "type": "scatterpolar"
           }
          ],
          "scatterpolargl": [
           {
            "marker": {
             "colorbar": {
              "outlinewidth": 0,
              "ticks": ""
             }
            },
            "type": "scatterpolargl"
           }
          ],
          "scatterternary": [
           {
            "marker": {
             "colorbar": {
              "outlinewidth": 0,
              "ticks": ""
             }
            },
            "type": "scatterternary"
           }
          ],
          "surface": [
           {
            "colorbar": {
             "outlinewidth": 0,
             "ticks": ""
            },
            "colorscale": [
             [
              0,
              "#0d0887"
             ],
             [
              0.1111111111111111,
              "#46039f"
             ],
             [
              0.2222222222222222,
              "#7201a8"
             ],
             [
              0.3333333333333333,
              "#9c179e"
             ],
             [
              0.4444444444444444,
              "#bd3786"
             ],
             [
              0.5555555555555556,
              "#d8576b"
             ],
             [
              0.6666666666666666,
              "#ed7953"
             ],
             [
              0.7777777777777778,
              "#fb9f3a"
             ],
             [
              0.8888888888888888,
              "#fdca26"
             ],
             [
              1,
              "#f0f921"
             ]
            ],
            "type": "surface"
           }
          ],
          "table": [
           {
            "cells": {
             "fill": {
              "color": "#EBF0F8"
             },
             "line": {
              "color": "white"
             }
            },
            "header": {
             "fill": {
              "color": "#C8D4E3"
             },
             "line": {
              "color": "white"
             }
            },
            "type": "table"
           }
          ]
         },
         "layout": {
          "annotationdefaults": {
           "arrowcolor": "#2a3f5f",
           "arrowhead": 0,
           "arrowwidth": 1
          },
          "autotypenumbers": "strict",
          "coloraxis": {
           "colorbar": {
            "outlinewidth": 0,
            "ticks": ""
           }
          },
          "colorscale": {
           "diverging": [
            [
             0,
             "#8e0152"
            ],
            [
             0.1,
             "#c51b7d"
            ],
            [
             0.2,
             "#de77ae"
            ],
            [
             0.3,
             "#f1b6da"
            ],
            [
             0.4,
             "#fde0ef"
            ],
            [
             0.5,
             "#f7f7f7"
            ],
            [
             0.6,
             "#e6f5d0"
            ],
            [
             0.7,
             "#b8e186"
            ],
            [
             0.8,
             "#7fbc41"
            ],
            [
             0.9,
             "#4d9221"
            ],
            [
             1,
             "#276419"
            ]
           ],
           "sequential": [
            [
             0,
             "#0d0887"
            ],
            [
             0.1111111111111111,
             "#46039f"
            ],
            [
             0.2222222222222222,
             "#7201a8"
            ],
            [
             0.3333333333333333,
             "#9c179e"
            ],
            [
             0.4444444444444444,
             "#bd3786"
            ],
            [
             0.5555555555555556,
             "#d8576b"
            ],
            [
             0.6666666666666666,
             "#ed7953"
            ],
            [
             0.7777777777777778,
             "#fb9f3a"
            ],
            [
             0.8888888888888888,
             "#fdca26"
            ],
            [
             1,
             "#f0f921"
            ]
           ],
           "sequentialminus": [
            [
             0,
             "#0d0887"
            ],
            [
             0.1111111111111111,
             "#46039f"
            ],
            [
             0.2222222222222222,
             "#7201a8"
            ],
            [
             0.3333333333333333,
             "#9c179e"
            ],
            [
             0.4444444444444444,
             "#bd3786"
            ],
            [
             0.5555555555555556,
             "#d8576b"
            ],
            [
             0.6666666666666666,
             "#ed7953"
            ],
            [
             0.7777777777777778,
             "#fb9f3a"
            ],
            [
             0.8888888888888888,
             "#fdca26"
            ],
            [
             1,
             "#f0f921"
            ]
           ]
          },
          "colorway": [
           "#636efa",
           "#EF553B",
           "#00cc96",
           "#ab63fa",
           "#FFA15A",
           "#19d3f3",
           "#FF6692",
           "#B6E880",
           "#FF97FF",
           "#FECB52"
          ],
          "font": {
           "color": "#2a3f5f"
          },
          "geo": {
           "bgcolor": "white",
           "lakecolor": "white",
           "landcolor": "#E5ECF6",
           "showlakes": true,
           "showland": true,
           "subunitcolor": "white"
          },
          "hoverlabel": {
           "align": "left"
          },
          "hovermode": "closest",
          "mapbox": {
           "style": "light"
          },
          "paper_bgcolor": "white",
          "plot_bgcolor": "#E5ECF6",
          "polar": {
           "angularaxis": {
            "gridcolor": "white",
            "linecolor": "white",
            "ticks": ""
           },
           "bgcolor": "#E5ECF6",
           "radialaxis": {
            "gridcolor": "white",
            "linecolor": "white",
            "ticks": ""
           }
          },
          "scene": {
           "xaxis": {
            "backgroundcolor": "#E5ECF6",
            "gridcolor": "white",
            "gridwidth": 2,
            "linecolor": "white",
            "showbackground": true,
            "ticks": "",
            "zerolinecolor": "white"
           },
           "yaxis": {
            "backgroundcolor": "#E5ECF6",
            "gridcolor": "white",
            "gridwidth": 2,
            "linecolor": "white",
            "showbackground": true,
            "ticks": "",
            "zerolinecolor": "white"
           },
           "zaxis": {
            "backgroundcolor": "#E5ECF6",
            "gridcolor": "white",
            "gridwidth": 2,
            "linecolor": "white",
            "showbackground": true,
            "ticks": "",
            "zerolinecolor": "white"
           }
          },
          "shapedefaults": {
           "line": {
            "color": "#2a3f5f"
           }
          },
          "ternary": {
           "aaxis": {
            "gridcolor": "white",
            "linecolor": "white",
            "ticks": ""
           },
           "baxis": {
            "gridcolor": "white",
            "linecolor": "white",
            "ticks": ""
           },
           "bgcolor": "#E5ECF6",
           "caxis": {
            "gridcolor": "white",
            "linecolor": "white",
            "ticks": ""
           }
          },
          "title": {
           "x": 0.05
          },
          "xaxis": {
           "automargin": true,
           "gridcolor": "white",
           "linecolor": "white",
           "ticks": "",
           "title": {
            "standoff": 15
           },
           "zerolinecolor": "white",
           "zerolinewidth": 2
          },
          "yaxis": {
           "automargin": true,
           "gridcolor": "white",
           "linecolor": "white",
           "ticks": "",
           "title": {
            "standoff": 15
           },
           "zerolinecolor": "white",
           "zerolinewidth": 2
          }
         }
        },
        "width": 1200,
        "xaxis": {
         "anchor": "y",
         "color": "black",
         "domain": [
          0,
          1
         ],
         "linecolor": "black",
         "linewidth": 2,
         "showline": true,
         "tickfont": {
          "size": 18
         },
         "title": {
          "text": "Fraction of leaked systems"
         }
        },
        "yaxis": {
         "anchor": "x",
         "color": "black",
         "domain": [
          0,
          1
         ],
         "linecolor": "black",
         "linewidth": 2,
         "showline": true,
         "tickfont": {
          "size": 18
         },
         "title": {
          "text": "Success Rate"
         }
        }
       }
      }
     },
     "metadata": {},
     "output_type": "display_data"
    }
   ],
   "source": [
    "performance_vs_leakage_df = perf.merge(leakage_df, on=['Split','Test_tag', 'Quality'])\n",
    "plot_diffdock_performance_vs_leakage(performance_vs_leakage_df, exclude_tanimoto=True,  plot_dimension=(400, 1200))"
   ]
  },
  {
   "cell_type": "code",
   "execution_count": null,
   "metadata": {},
   "outputs": [],
   "source": []
  }
 ],
 "metadata": {
  "kernelspec": {
   "display_name": "Python 3",
   "language": "python",
   "name": "python3"
  },
  "language_info": {
   "codemirror_mode": {
    "name": "ipython",
    "version": 3
   },
   "file_extension": ".py",
   "mimetype": "text/x-python",
   "name": "python",
   "nbconvert_exporter": "python",
   "pygments_lexer": "ipython3",
   "version": "3.8.15"
  }
 },
 "nbformat": 4,
 "nbformat_minor": 2
}
