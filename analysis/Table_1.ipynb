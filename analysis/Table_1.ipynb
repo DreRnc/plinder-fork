{
 "cells": [
  {
   "cell_type": "code",
   "execution_count": 1,
   "id": "f88beaa7-c583-4f56-a879-2ef3f6bbdb4a",
   "metadata": {},
   "outputs": [],
   "source": [
    "from pathlib import Path\n",
    "from plinder.data.pipeline import utils, tasks\n",
    "from tqdm import tqdm\n",
    "import networkx as nx\n",
    "import json\n",
    "import pandas as pd\n",
    "import numpy as np\n",
    "from collections import Counter, defaultdict\n",
    "from plinder.data.utils import cluster\n",
    "from dataclasses import dataclass, field"
   ]
  },
  {
   "cell_type": "code",
   "execution_count": null,
   "id": "0feadb59-9f32-47ac-891b-8194eb8773b8",
   "metadata": {},
   "outputs": [],
   "source": [
    "from rdkit import Chem"
   ]
  },
  {
   "cell_type": "code",
   "execution_count": 2,
   "id": "6dcc7a75-448d-4203-944b-926e8b7cea46",
   "metadata": {},
   "outputs": [],
   "source": [
    "@dataclass\n",
    "class TestCriteria:\n",
    "    max_entry_resolution: float = 3.5\n",
    "    max_entry_r = 0.4\n",
    "    max_entry_rfree = 0.45\n",
    "    max_entry_r_minus_rfree = 0.05\n",
    "    ligand_max_num_unresolved_heavy_atoms = 0\n",
    "    ligand_max_alt_count = 1\n",
    "    ligand_min_average_occupancy: float = 0.8\n",
    "    ligand_min_average_rscc: float = 0.8\n",
    "    ligand_max_average_rsr: float = 0.3\n",
    "    ligand_max_percent_outliers_clashes = 0\n",
    "    pocket_max_num_unresolved_heavy_atoms = 0\n",
    "    pocket_max_alt_count = 1\n",
    "    pocket_min_average_occupancy: float = 0.8\n",
    "    pocket_min_average_rscc: float = 0.8\n",
    "    pocket_max_average_rsr: float = 0.3\n",
    "    pocket_max_percent_outliers_clashes = 100\n",
    "\n",
    "\n",
    "quality_config = TestCriteria()\n",
    "\n",
    "def get_high_quality_systems(\n",
    "    row: pd.Series,\n",
    "    criteria: TestCriteria\n",
    ") -> bool:\n",
    "    if row.system_type != \"holo\":\n",
    "        return False\n",
    "    if row.entry_r is not None and row.system_ligand_average_rscc is not None:\n",
    "        quality = [\n",
    "            # ENTRY\n",
    "            row.entry_resolution <= criteria.max_entry_resolution,\n",
    "            row.entry_r <= criteria.max_entry_r,\n",
    "            row.entry_rfree <= criteria.max_entry_rfree,\n",
    "            row.entry_r_minus_rfree <= criteria.max_entry_r_minus_rfree,\n",
    "            # LIGAND\n",
    "            row.system_ligand_num_unresolved_heavy_atoms <= row.system_num_covalent_ligands + criteria.ligand_max_num_unresolved_heavy_atoms,\n",
    "            row.system_ligand_max_alt_count <= criteria.ligand_max_alt_count, # NOTE: max_alt_count is misnomer - this counts number of total conformers!\n",
    "            row.system_ligand_average_occupancy >= criteria.ligand_min_average_occupancy,\n",
    "            row.system_ligand_average_rscc >= criteria.ligand_min_average_rscc,\n",
    "            row.system_ligand_average_rsr <= criteria.ligand_max_average_rsr,\n",
    "            row.system_ligand_percent_outliers_clashes <= criteria.ligand_max_percent_outliers_clashes,\n",
    "            # POCKET\n",
    "            row.system_pocket_num_unresolved_heavy_atoms <= criteria.pocket_max_num_unresolved_heavy_atoms,\n",
    "            row.system_pocket_max_alt_count <= criteria.pocket_max_alt_count,\n",
    "            row.system_pocket_average_occupancy >= criteria.pocket_min_average_occupancy,\n",
    "            row.system_pocket_average_rscc >= criteria.pocket_min_average_rscc,\n",
    "            row.system_pocket_average_rsr <= criteria.pocket_max_average_rsr,\n",
    "            row.system_pocket_percent_outliers_clashes <= criteria.pocket_max_percent_outliers_clashes,\n",
    "        ]\n",
    "        if np.logical_and.reduce(quality):\n",
    "            return True\n",
    "    return False"
   ]
  },
  {
   "cell_type": "code",
   "execution_count": 3,
   "id": "1213e482-2074-4439-b5b3-17dedbbe1327",
   "metadata": {},
   "outputs": [],
   "source": [
    "ecod_df = pd.read_csv(\"v0/dbs/ecod/ecod_raw.tsv\", sep=\"\\t\", skiprows=4)\n",
    "ecod_mapping = {}\n",
    "for name in [\"t_id\", \"t_name\"]:\n",
    "    ecod_mapping[name] = dict(zip(ecod_df[\"ecod_domain_id\"], ecod_df[name]))"
   ]
  },
  {
   "cell_type": "code",
   "execution_count": 4,
   "id": "2f6d6548-e3af-4752-98a7-7fe084546e5a",
   "metadata": {},
   "outputs": [],
   "source": [
    "df = pd.read_parquet(\"v1/index/annotation_table.parquet\")\n",
    "df[\"system_num_covalent_ligands\"] = df.groupby(\"system_id\")[\"ligand_is_covalent\"].transform(\"sum\")\n",
    "df[\"passes_quality\"] = df.apply(lambda row: get_high_quality_systems(row, criteria=quality_config), axis=1)\n",
    "df[\"system_pocket_ECOD_t_id\"] = df[\"system_pocket_ECOD\"].map(ecod_mapping[\"t_id\"])"
   ]
  },
  {
   "cell_type": "code",
   "execution_count": 6,
   "id": "cc984d4e-52d5-4b56-8596-a2cf1b499494",
   "metadata": {},
   "outputs": [],
   "source": [
    "mms_df = pd.read_parquet(\"v1/mmp/plinder_mmp_series.parquet\")"
   ]
  },
  {
   "cell_type": "code",
   "execution_count": 7,
   "id": "81e24c1e-a63e-48f3-9801-014135ad9a1f",
   "metadata": {},
   "outputs": [],
   "source": [
    "clusters = pd.read_parquet(\"v1/clusters/metric=protein_fident_qcov_weighted_sum/directed=False/threshold=100.parquet\")\n",
    "system_to_cluster = dict(zip(clusters[\"system_id\"], clusters[\"component\"]))"
   ]
  },
  {
   "cell_type": "code",
   "execution_count": 8,
   "id": "a47fd328-f1fa-4a97-a094-6fb9b6c9fc12",
   "metadata": {},
   "outputs": [],
   "source": [
    "df.loc[:, \"receptor_cluster\"] = df[\"system_id\"].map(system_to_cluster)\n",
    "df_holo = df[(df[\"system_type\"] == \"holo\") & (df[\"system_num_interacting_protein_chains\"] <= 5) & (df[\"system_num_ligand_chains\"] <= 5)]"
   ]
  },
  {
   "cell_type": "code",
   "execution_count": 9,
   "id": "c3364d3d-89af-415a-8fc6-ace37c1d129a",
   "metadata": {},
   "outputs": [],
   "source": [
    "threshold = 95\n",
    "apo = pd.read_parquet(\n",
    "            \"v1/scores/search_db=apo/\",\n",
    "            columns=[\"query_system\", \"target_system\", \"similarity\"],\n",
    "            filters=[\n",
    "                (\"similarity\", \">=\", threshold),\n",
    "                (\"metric\", \"==\", \"pocket_fident\"),\n",
    "            ],\n",
    "        )\n",
    "\n",
    "pred = pd.read_parquet(\n",
    "            \"v1/scores/search_db=pred/\",\n",
    "            columns=[\"query_system\", \"target_system\", \"similarity\"],\n",
    "            filters=[\n",
    "                (\"similarity\", \">=\", threshold),\n",
    "                (\"metric\", \"==\", \"pocket_fident\"),\n",
    "            ],\n",
    "        )"
   ]
  },
  {
   "cell_type": "code",
   "execution_count": 57,
   "id": "750fee45-06bb-4502-b508-b290eac56d69",
   "metadata": {},
   "outputs": [
    {
     "name": "stdout",
     "output_type": "stream",
     "text": [
      "At the time of writing of this article, \\plinder contains 1344214 PLI systems extracted \n",
      "from 162978 PDB entries of which \n",
      "449383 are holo systems (with the remaining consisting of 573169 artifact systems, \n",
      "318060 ion systems, and \n",
      "3602 systems containing more than five protein and or ligand chains). \n",
      "Within the holo systems, 26.7% have more than one ligand, \n",
      "24.8% have more than one interacting protein chain, \n",
      "and 113498 (34.1% of systems determined by X-ray diffraction) pass the X-ray quality criteria listed in Tablerefappendix:quality.  \n",
      "\n",
      "These systems contain 74256 protein sequence combinations, as measured by the strongly connected components at 100% protein\\_fident\\_qcov\n",
      "As the curation workflow operates on the entire PDB, the collection and labelling of holo systems allowed us to simultaneously identify X chains \n",
      "from X PDB entries as being apo. Thus, plinder also provides an automatically curated dataset of apo chains with no detectable ligand \n",
      "interactions (except with artifacts or ions). Using this, 98473 single protein chain holo systems could be linked to at least one \n",
      "corresponding apo structure of the same protein, and 205300 are linked to corresponding AFDB models.\n",
      "\n",
      "Of the 615932 ligands in holo systems covering 46988 unique CCD codes, \n",
      "233760 (38.0%) pass the Lipinski Ro5 criteria, \n",
      "146444 (23.8%) have a covalent linkage, \n",
      "122741 (19.9%) are cofactors, \n",
      "105836 (17.2%) are oligo-saccharides, -nucleotides or -peptides, \n",
      "and 55987 (9.1%) are fragments. \n",
      "\n",
      "15383 systems are part of 2117 congeneric MMS, \n",
      "each with at least 3 ligands containing a common core. \n",
      "\n",
      "Thanks to extensive molecule processing and cleaning efforts to correct bond, valence and chirality issues, only 180 ligands in \\plinder \n",
      "could not be processed by RDKit - thus, unlike many other datasets, the vast majority of \\plinder can readily be processed and used by the \n",
      "typical pre-processing and feature extraction routines employed by deep learning methods, and those which cannot are clearly annotated.\n",
      "\n"
     ]
    }
   ],
   "source": [
    "text = f\"\"\"At the time of writing of this article, \\plinder contains {df[\"system_id\"].nunique()} PLI systems extracted \n",
    "from {df['entry_pdb_id'].nunique()} PDB entries of which \n",
    "{df_holo['system_id'].nunique()} are holo systems (with the remaining consisting of {df[df['system_type'] == 'artifact']['system_id'].nunique()} artifact systems, \n",
    "{df[df['system_type'] == 'ion']['system_id'].nunique()} ion systems, and \n",
    "{df[(df['system_type'] == 'holo') & ((df['system_num_interacting_protein_chains'] > 5) | (df['system_num_ligand_chains']>5))]['system_id'].nunique()} systems containing more than five protein and or ligand chains). \n",
    "Within the holo systems, {100 * df_holo[df_holo[\"system_num_ligand_chains\"] > 1][\"system_id\"].nunique() / df_holo['system_id'].nunique():.1f}% have more than one ligand, \n",
    "{100 * df_holo[df_holo[\"system_num_interacting_protein_chains\"] > 1][\"system_id\"].nunique() / df_holo['system_id'].nunique():.1f}% have more than one interacting protein chain, \n",
    "and {df_holo[df_holo[\"passes_quality\"]][\"system_id\"].nunique()} ({100 * df_holo[df_holo[\"passes_quality\"]][\"system_id\"].nunique() / df_holo[df_holo[\"entry_determination_method\"] == \"X-RAY DIFFRACTION\"][\"system_id\"].nunique():.1f}% of systems determined by X-ray diffraction) pass the X-ray quality criteria listed in Tablerefappendix:quality.  \n",
    "\n",
    "These systems contain {df_holo[\"receptor_cluster\"].nunique()} protein sequence combinations, as measured by the strongly connected components at 100% protein\\_fident\\_qcov\n",
    "As the curation workflow operates on the entire PDB, the collection and labelling of holo systems allowed us to simultaneously identify X chains \n",
    "from X PDB entries as being apo. Thus, plinder also provides an automatically curated dataset of apo chains with no detectable ligand \n",
    "interactions (except with artifacts or ions). Using this, {apo[\"query_system\"].nunique()} single protein chain holo systems could be linked to at least one \n",
    "corresponding apo structure of the same protein, and {pred[\"query_system\"].nunique()} are linked to corresponding AFDB models.\n",
    "\n",
    "Of the {df_holo.shape[0]} ligands in holo systems covering {df_holo[\"ligand_unique_ccd_code\"].nunique()} unique CCD codes, \n",
    "{df_holo[\"ligand_is_lipinski\"].sum()} ({100 * df_holo[\"ligand_is_lipinski\"].sum() / df_holo.shape[0]:.1f}%) pass the Lipinski Ro5 criteria, \n",
    "{df_holo[\"ligand_is_covalent\"].sum()} ({100 * df_holo[\"ligand_is_covalent\"].sum() / df_holo.shape[0]:.1f}%) have a covalent linkage, \n",
    "{df_holo[\"ligand_is_cofactor\"].sum()} ({100 * df_holo[\"ligand_is_cofactor\"].sum() / df_holo.shape[0]:.1f}%) are cofactors, \n",
    "{df_holo[\"ligand_is_oligo\"].sum()} ({100 * df_holo[\"ligand_is_oligo\"].sum() / df_holo.shape[0]:.1f}%) are oligo-saccharides, -nucleotides or -peptides, \n",
    "and {df_holo[\"ligand_is_fragment\"].sum()} ({100 * df_holo[\"ligand_is_fragment\"].sum() / df_holo.shape[0]:.1f}%) are fragments. \n",
    "\n",
    "{mms_df[mms_df[\"mms_unique_count\"] > 2][\"system_id\"].nunique()} systems are part of {mms_df[mms_df[\"mms_unique_count\"] > 2][\"congeneric_id\"].nunique()} congeneric MMS, \n",
    "each with at least 3 ligands containing a common core. \n",
    "\n",
    "Thanks to extensive molecule processing and cleaning efforts to correct bond, valence and chirality issues, only {df_holo[df_holo[\"ligand_is_invalid\"]].shape[0]} ligands in \\plinder \n",
    "could not be processed by RDKit - thus, unlike many other datasets, the vast majority of \\plinder can readily be processed and used by the \n",
    "typical pre-processing and feature extraction routines employed by deep learning methods, and those which cannot are clearly annotated.\n",
    "\"\"\"\n",
    "\n",
    "print(text)"
   ]
  },
  {
   "cell_type": "code",
   "execution_count": 39,
   "id": "fa4c1763-a832-4d7c-8117-16a00f167257",
   "metadata": {},
   "outputs": [
    {
     "name": "stderr",
     "output_type": "stream",
     "text": [
      "100%|██████████| 19443/19443 [06:08<00:00, 52.82it/s]\n"
     ]
    }
   ],
   "source": [
    "pdb_id_ccds = set()\n",
    "with open(\"v1/other_splits/pdbbind/INDEX_general_PL.2020\") as f:\n",
    "    for i, line in enumerate(f):\n",
    "        if i < 6:\n",
    "            continue\n",
    "        ccd = [x for x in line.split() if x.startswith(\"(\")]\n",
    "        pdb_id_ccds.add((line.split()[0], ccd[0].replace('(', '').replace(')', '').strip().split('.')[0].upper()))\n",
    "df_smaller = df[df[\"entry_pdb_id\"].isin(set(x[0] for x in pdb_id_ccds))][[\"system_id\", \"entry_pdb_id\", \"ligand_ccd_code\", \"ligand_unique_ccd_code\"]].reset_index(drop=True)\n",
    "\n",
    "def map_peptide_id_pdbbind(peptidecode):\n",
    "    # \"HSR-HSR-BMA-MAN-MAN\" -> def map_peptide_id_pdbbind(peptidecode):\n",
    "    return str(peptidecode.count('-')+1) + '-MER'\n",
    "\n",
    "df_smaller['new_ligand_code'] = df_smaller['ligand_unique_ccd_code'].map(str.upper)\n",
    "df_smaller.loc[df_smaller['ligand_unique_ccd_code'].str.contains('-'),'new_ligand_code'] = df_smaller.loc[df_smaller['ligand_unique_ccd_code'].str.contains('-'),'new_ligand_code'].map(map_peptide_id_pdbbind)\n",
    "df_smaller['new_ligand_code2'] = df_smaller['ligand_ccd_code'].map(str.upper)\n",
    "df_smaller.loc[df_smaller['ligand_ccd_code'].str.contains('-'),'new_ligand_code2'] = df_smaller.loc[df_smaller['ligand_ccd_code'].str.contains('-'),'new_ligand_code2'].map(map_peptide_id_pdbbind)\n",
    "pdbbind_systems = set()\n",
    "missing = []\n",
    "for pdb_id, ccd_code in tqdm(pdb_id_ccds):\n",
    "    df_p = df_smaller[(df_smaller[\"entry_pdb_id\"] == pdb_id) & ((df_smaller[\"new_ligand_code\"] == ccd_code) | (df_smaller[\"new_ligand_code2\"] == ccd_code))]\n",
    "    if df_p.shape[0] == 0:\n",
    "        missing.append((pdb_id, ccd_code))\n",
    "    else:\n",
    "        pdbbind_systems |= set(df_p[\"system_id\"])"
   ]
  },
  {
   "cell_type": "code",
   "execution_count": 69,
   "id": "4545a09c-4132-4dcd-9b2f-c966a705c65e",
   "metadata": {},
   "outputs": [
    {
     "name": "stderr",
     "output_type": "stream",
     "text": [
      "100%|██████████| 1811/1811 [00:11<00:00, 153.15it/s]\n"
     ]
    }
   ],
   "source": [
    "inconsistent = set()\n",
    "for pdb_id, ccd_code in tqdm(missing):\n",
    "    df_p = df_smaller[(df_smaller[\"entry_pdb_id\"] == pdb_id)]\n",
    "    if df_p.shape[0] > 0:\n",
    "        for _, system in df_p.iterrows():\n",
    "            pdbbind_systems.add(system[\"system_id\"])\n",
    "            inconsistent.add((pdb_id, ccd_code))"
   ]
  },
  {
   "cell_type": "code",
   "execution_count": 70,
   "id": "5ad6f4e4-9e3e-44df-9269-427b62a62eaa",
   "metadata": {},
   "outputs": [
    {
     "data": {
      "text/plain": [
       "(1375, 436)"
      ]
     },
     "execution_count": 70,
     "metadata": {},
     "output_type": "execute_result"
    }
   ],
   "source": [
    "len(inconsistent), len(set(missing).difference(inconsistent))"
   ]
  },
  {
   "cell_type": "code",
   "execution_count": 71,
   "id": "631157b1-9848-4d66-8391-1be15403a505",
   "metadata": {},
   "outputs": [],
   "source": [
    "df_pdbbind = df[df[\"system_id\"].isin(pdbbind_systems)].reset_index(drop=True)\n",
    "a = df_pdbbind[\"system_biounit_id\"].astype(int).sort_values()\n",
    "df_pdbbind = df_pdbbind.reindex(index=a.index).drop_duplicates([\"entry_pdb_id\", \"system_biounit_id\", \"ligand_ccd_code\"])"
   ]
  },
  {
   "cell_type": "code",
   "execution_count": 85,
   "id": "1469e599-a430-463a-b58a-97bc59cb9de0",
   "metadata": {},
   "outputs": [],
   "source": [
    "with open(\"v1/other_splits/pdbbind/pdbbind_systems\", \"w\") as f:\n",
    "    f.write(\"\\n\".join(df_pdbbind[\"system_id\"].unique()))"
   ]
  },
  {
   "cell_type": "code",
   "execution_count": 86,
   "id": "c0afbde3-84eb-4051-956b-d33a40cff62f",
   "metadata": {},
   "outputs": [],
   "source": [
    "pdbbind_lp = pd.read_csv(\"v1/other_splits/pdbbind_lp/LP_PDBBind.csv\")\n",
    "pdbbind_lp.rename(columns={\"Unnamed: 0\": \"entry_pdb_id\"}, inplace=True)"
   ]
  },
  {
   "cell_type": "code",
   "execution_count": 89,
   "id": "24932b5d-eeeb-4619-9875-86dc6d4e66e0",
   "metadata": {},
   "outputs": [
    {
     "data": {
      "text/html": [
       "<div>\n",
       "<style scoped>\n",
       "    .dataframe tbody tr th:only-of-type {\n",
       "        vertical-align: middle;\n",
       "    }\n",
       "\n",
       "    .dataframe tbody tr th {\n",
       "        vertical-align: top;\n",
       "    }\n",
       "\n",
       "    .dataframe thead th {\n",
       "        text-align: right;\n",
       "    }\n",
       "</style>\n",
       "<table border=\"1\" class=\"dataframe\">\n",
       "  <thead>\n",
       "    <tr style=\"text-align: right;\">\n",
       "      <th></th>\n",
       "      <th>entry_pdb_id</th>\n",
       "      <th>header</th>\n",
       "      <th>smiles</th>\n",
       "      <th>category</th>\n",
       "      <th>seq</th>\n",
       "      <th>resolution</th>\n",
       "      <th>date</th>\n",
       "      <th>type</th>\n",
       "      <th>new_split</th>\n",
       "      <th>CL1</th>\n",
       "      <th>CL2</th>\n",
       "      <th>CL3</th>\n",
       "      <th>remove_for_balancing_val</th>\n",
       "      <th>kd/ki</th>\n",
       "      <th>value</th>\n",
       "      <th>covalent</th>\n",
       "    </tr>\n",
       "  </thead>\n",
       "  <tbody>\n",
       "    <tr>\n",
       "      <th>0</th>\n",
       "      <td>6r8o</td>\n",
       "      <td>isomerase</td>\n",
       "      <td>CSc1ccccc1[C@H]1CCCN1C(=O)CNC(=O)NCc1ccc2c(c1)...</td>\n",
       "      <td>refined</td>\n",
       "      <td>GNPLVYLDVDANGKPLGRVVLELKADVVPKTAENFRALCTGEKGFG...</td>\n",
       "      <td>1.36</td>\n",
       "      <td>2019-11-27</td>\n",
       "      <td>isomerase</td>\n",
       "      <td>test</td>\n",
       "      <td>True</td>\n",
       "      <td>True</td>\n",
       "      <td>True</td>\n",
       "      <td>False</td>\n",
       "      <td>Kd=0.006uM</td>\n",
       "      <td>8.22</td>\n",
       "      <td>False</td>\n",
       "    </tr>\n",
       "    <tr>\n",
       "      <th>1</th>\n",
       "      <td>3fh7</td>\n",
       "      <td>hydrolase/hydrolase inhibitor</td>\n",
       "      <td>O=C([O-])CCC[N@H+]1CCC[C@H]1COc1ccc(Oc2ccc(Cl)...</td>\n",
       "      <td>refined</td>\n",
       "      <td>VDTCSLASPASVCRTKHLHLRCSVDFTRRTLTGTAALTVQSQEDNL...</td>\n",
       "      <td>2.05</td>\n",
       "      <td>2010-01-05</td>\n",
       "      <td>hydrolase</td>\n",
       "      <td>test</td>\n",
       "      <td>True</td>\n",
       "      <td>True</td>\n",
       "      <td>True</td>\n",
       "      <td>False</td>\n",
       "      <td>Kd=25nM</td>\n",
       "      <td>7.60</td>\n",
       "      <td>False</td>\n",
       "    </tr>\n",
       "    <tr>\n",
       "      <th>2</th>\n",
       "      <td>4b7r</td>\n",
       "      <td>hydrolase</td>\n",
       "      <td>CCC(CC)O[C@@H]1C[C@H](C(=O)[O-])C[C@H]([NH3+])...</td>\n",
       "      <td>refined</td>\n",
       "      <td>VKLAGNSSLCPVSGWAIYSKDNSVRIGSKGDVFVIREPFISCSPLE...</td>\n",
       "      <td>1.90</td>\n",
       "      <td>2012-10-03</td>\n",
       "      <td>hydrolase</td>\n",
       "      <td>NaN</td>\n",
       "      <td>True</td>\n",
       "      <td>True</td>\n",
       "      <td>True</td>\n",
       "      <td>False</td>\n",
       "      <td>Ki=0.23nM</td>\n",
       "      <td>9.64</td>\n",
       "      <td>False</td>\n",
       "    </tr>\n",
       "    <tr>\n",
       "      <th>3</th>\n",
       "      <td>3qfd</td>\n",
       "      <td>immune system</td>\n",
       "      <td>CC[C@H](C)[C@H](NC(=O)CNC(=O)[C@H](C)NC(=O)[C@...</td>\n",
       "      <td>refined</td>\n",
       "      <td>GSHSMRYFFTSVSRPGRGEPRFIAVGYVDDTQFVRFDSDAASQRME...</td>\n",
       "      <td>1.68</td>\n",
       "      <td>2011-09-28</td>\n",
       "      <td>other</td>\n",
       "      <td>train</td>\n",
       "      <td>False</td>\n",
       "      <td>False</td>\n",
       "      <td>False</td>\n",
       "      <td>False</td>\n",
       "      <td>Kd=68uM</td>\n",
       "      <td>4.17</td>\n",
       "      <td>False</td>\n",
       "    </tr>\n",
       "    <tr>\n",
       "      <th>4</th>\n",
       "      <td>3fvn</td>\n",
       "      <td>membrane protein</td>\n",
       "      <td>[NH3+][C@@H](C[C@]1(C(=O)[O-])C[C@H]2OCC[C@@H]...</td>\n",
       "      <td>refined</td>\n",
       "      <td>ANRTLIVTTILEEPYVMYRKSDKPLYGNDRFEGYCLDLLKELSNIL...</td>\n",
       "      <td>1.50</td>\n",
       "      <td>2010-01-19</td>\n",
       "      <td>membrane</td>\n",
       "      <td>val</td>\n",
       "      <td>True</td>\n",
       "      <td>True</td>\n",
       "      <td>True</td>\n",
       "      <td>False</td>\n",
       "      <td>Ki=169nM</td>\n",
       "      <td>6.77</td>\n",
       "      <td>False</td>\n",
       "    </tr>\n",
       "  </tbody>\n",
       "</table>\n",
       "</div>"
      ],
      "text/plain": [
       "  entry_pdb_id                         header  \\\n",
       "0         6r8o                      isomerase   \n",
       "1         3fh7  hydrolase/hydrolase inhibitor   \n",
       "2         4b7r                      hydrolase   \n",
       "3         3qfd                  immune system   \n",
       "4         3fvn               membrane protein   \n",
       "\n",
       "                                              smiles category  \\\n",
       "0  CSc1ccccc1[C@H]1CCCN1C(=O)CNC(=O)NCc1ccc2c(c1)...  refined   \n",
       "1  O=C([O-])CCC[N@H+]1CCC[C@H]1COc1ccc(Oc2ccc(Cl)...  refined   \n",
       "2  CCC(CC)O[C@@H]1C[C@H](C(=O)[O-])C[C@H]([NH3+])...  refined   \n",
       "3  CC[C@H](C)[C@H](NC(=O)CNC(=O)[C@H](C)NC(=O)[C@...  refined   \n",
       "4  [NH3+][C@@H](C[C@]1(C(=O)[O-])C[C@H]2OCC[C@@H]...  refined   \n",
       "\n",
       "                                                 seq  resolution        date  \\\n",
       "0  GNPLVYLDVDANGKPLGRVVLELKADVVPKTAENFRALCTGEKGFG...        1.36  2019-11-27   \n",
       "1  VDTCSLASPASVCRTKHLHLRCSVDFTRRTLTGTAALTVQSQEDNL...        2.05  2010-01-05   \n",
       "2  VKLAGNSSLCPVSGWAIYSKDNSVRIGSKGDVFVIREPFISCSPLE...        1.90  2012-10-03   \n",
       "3  GSHSMRYFFTSVSRPGRGEPRFIAVGYVDDTQFVRFDSDAASQRME...        1.68  2011-09-28   \n",
       "4  ANRTLIVTTILEEPYVMYRKSDKPLYGNDRFEGYCLDLLKELSNIL...        1.50  2010-01-19   \n",
       "\n",
       "        type new_split    CL1    CL2    CL3  remove_for_balancing_val  \\\n",
       "0  isomerase      test   True   True   True                     False   \n",
       "1  hydrolase      test   True   True   True                     False   \n",
       "2  hydrolase       NaN   True   True   True                     False   \n",
       "3      other     train  False  False  False                     False   \n",
       "4   membrane       val   True   True   True                     False   \n",
       "\n",
       "        kd/ki  value  covalent  \n",
       "0  Kd=0.006uM   8.22     False  \n",
       "1     Kd=25nM   7.60     False  \n",
       "2   Ki=0.23nM   9.64     False  \n",
       "3     Kd=68uM   4.17     False  \n",
       "4    Ki=169nM   6.77     False  "
      ]
     },
     "execution_count": 89,
     "metadata": {},
     "output_type": "execute_result"
    }
   ],
   "source": [
    "pdbbind_lp.head()"
   ]
  },
  {
   "cell_type": "code",
   "execution_count": 93,
   "id": "8623a530-e12b-4a34-83ce-b95f5083a283",
   "metadata": {},
   "outputs": [
    {
     "data": {
      "text/plain": [
       "original_split\n",
       "train    28059\n",
       "val       9730\n",
       "test       517\n",
       "Name: count, dtype: int64"
      ]
     },
     "execution_count": 93,
     "metadata": {},
     "output_type": "execute_result"
    }
   ],
   "source": [
    "df_pdbbind.loc[df_pdbbind[\"entry_pdb_id\"].isin(set(pdbbind_lp[pdbbind_lp[\"category\"] == \"general\"][\"entry_pdb_id\"])), \n",
    "                                                     \"original_split\"] = \"train\"\n",
    "df_pdbbind.loc[df_pdbbind[\"entry_pdb_id\"].isin(set(pdbbind_lp[pdbbind_lp[\"category\"] == \"refined\"][\"entry_pdb_id\"])), \n",
    "                                                     \"original_split\"] = \"val\"\n",
    "df_pdbbind.loc[df_pdbbind[\"entry_pdb_id\"].isin(set(pdbbind_lp[pdbbind_lp[\"category\"] == \"core\"][\"entry_pdb_id\"])), \n",
    "                                                     \"original_split\"] = \"test\"\n",
    "df_pdbbind[\"original_split\"].value_counts()"
   ]
  },
  {
   "cell_type": "code",
   "execution_count": 109,
   "id": "b668b39f-a6a4-467a-93b6-2c9d99cbb121",
   "metadata": {},
   "outputs": [
    {
     "data": {
      "text/plain": [
       "lp_split\n",
       "train    22898\n",
       "test      9493\n",
       "val       4643\n",
       "Name: count, dtype: int64"
      ]
     },
     "execution_count": 109,
     "metadata": {},
     "output_type": "execute_result"
    }
   ],
   "source": [
    "df_pdbbind.loc[df_pdbbind[\"entry_pdb_id\"].isin(set(pdbbind_lp[pdbbind_lp[\"new_split\"] == \"train\"][\"entry_pdb_id\"])), \n",
    "                                                     \"lp_split\"] = \"train\"\n",
    "df_pdbbind.loc[df_pdbbind[\"entry_pdb_id\"].isin(set(pdbbind_lp[pdbbind_lp[\"new_split\"] == \"val\"][\"entry_pdb_id\"])), \n",
    "                                                     \"lp_split\"] = \"val\"\n",
    "df_pdbbind.loc[df_pdbbind[\"entry_pdb_id\"].isin(set(pdbbind_lp[pdbbind_lp[\"new_split\"] == \"test\"][\"entry_pdb_id\"])), \n",
    "                                                     \"lp_split\"] = \"test\"\n",
    "df_pdbbind[\"lp_split\"].value_counts()"
   ]
  },
  {
   "cell_type": "code",
   "execution_count": 100,
   "id": "c95cd05b-c96d-4323-bcad-1f75504e234b",
   "metadata": {},
   "outputs": [],
   "source": [
    "for filename in Path(\"v1/other_splits/equibind/\").glob(\"timesplit_*\"):\n",
    "    with open(filename) as f:\n",
    "        pdb_ids = set(l.strip() for l in f)\n",
    "    split = filename.stem.replace(\"timesplit_\", \"\").replace(\"no_lig_overlap\", \"\").replace(\"no_rec_overlap\", \"\").replace(\"_\", \"\")\n",
    "    df_pdbbind.loc[df_pdbbind[\"entry_pdb_id\"].isin(pdb_ids), \"equibind_split\"] = split"
   ]
  },
  {
   "cell_type": "code",
   "execution_count": 101,
   "id": "32853ea4-e060-4c2b-937c-1c4c4ef5f11d",
   "metadata": {},
   "outputs": [
    {
     "data": {
      "text/plain": [
       "equibind_split\n",
       "train    32018\n",
       "val       1955\n",
       "test       277\n",
       "Name: count, dtype: int64"
      ]
     },
     "execution_count": 101,
     "metadata": {},
     "output_type": "execute_result"
    }
   ],
   "source": [
    "df_pdbbind[\"equibind_split\"].value_counts()"
   ]
  },
  {
   "cell_type": "code",
   "execution_count": 110,
   "id": "ea9df042-2aae-4028-a4b1-f4b04bcbb5ff",
   "metadata": {},
   "outputs": [],
   "source": [
    "df_pdbbind[[\"system_id\", \"original_split\"]].rename(columns={\"original_split\": \"split\"}).to_csv(\"v1/other_splits/pdbbind/pdbbind.csv\", index=False)\n",
    "df_pdbbind[[\"system_id\", \"lp_split\"]].rename(columns={\"lp_split\": \"split\"}).to_csv(\"v1/other_splits/pdbbind_lp/pdbbind_lp.csv\", index=False)\n",
    "df_pdbbind[[\"system_id\", \"equibind_split\"]].rename(columns={\"equibind_split\": \"split\"}).to_csv(\"v1/other_splits/equibind/equibind.csv\", index=False)"
   ]
  },
  {
   "cell_type": "code",
   "execution_count": 118,
   "id": "06e0db88-9f9c-4733-8c39-49e2a832a5fb",
   "metadata": {},
   "outputs": [
    {
     "data": {
      "text/plain": [
       "19007"
      ]
     },
     "execution_count": 118,
     "metadata": {},
     "output_type": "execute_result"
    }
   ],
   "source": [
    "df_pdbbind[\"entry_pdb_id\"].nunique()"
   ]
  },
  {
   "cell_type": "code",
   "execution_count": 72,
   "id": "b2bab160-9b48-446d-8333-757639438c96",
   "metadata": {},
   "outputs": [
    {
     "data": {
      "text/plain": [
       "30337"
      ]
     },
     "execution_count": 72,
     "metadata": {},
     "output_type": "execute_result"
    }
   ],
   "source": [
    "df_pdbbind[\"system_id\"].nunique()"
   ]
  },
  {
   "cell_type": "code",
   "execution_count": 117,
   "id": "4b70ed33-1834-419a-8db1-99c86c1e6f5b",
   "metadata": {},
   "outputs": [
    {
     "data": {
      "text/plain": [
       "system_type\n",
       "holo        28184\n",
       "artifact     1442\n",
       "ion           711\n",
       "Name: count, dtype: int64"
      ]
     },
     "execution_count": 117,
     "metadata": {},
     "output_type": "execute_result"
    }
   ],
   "source": [
    "df_pdbbind.drop_duplicates(\"system_id\")[\"system_type\"].value_counts()"
   ]
  },
  {
   "cell_type": "code",
   "execution_count": 119,
   "id": "e9d3eae3-1c9a-4c72-b570-17f36c64c978",
   "metadata": {},
   "outputs": [
    {
     "data": {
      "text/plain": [
       "16881"
      ]
     },
     "execution_count": 119,
     "metadata": {},
     "output_type": "execute_result"
    }
   ],
   "source": [
    "df_dockgen[\"entry_pdb_id\"].nunique()"
   ]
  },
  {
   "cell_type": "code",
   "execution_count": 77,
   "id": "9d2e3273-9daf-47c4-a11f-6ea7e6472072",
   "metadata": {},
   "outputs": [
    {
     "name": "stderr",
     "output_type": "stream",
     "text": [
      "100%|██████████| 25698/25698 [08:10<00:00, 52.44it/s]\n",
      "100%|██████████| 141/141 [00:02<00:00, 52.49it/s]\n",
      "100%|██████████| 189/189 [00:03<00:00, 52.48it/s]\n"
     ]
    }
   ],
   "source": [
    "dockgen_ids = defaultdict(set)\n",
    "for name in [\"train_ccd.txt\", \"val_ccd.txt\", \"test_ccd.txt\"]:\n",
    "    filename = Path(\"v1/other_splits/dockgen/\") / name\n",
    "    with open(filename) as f:\n",
    "        for line in f:\n",
    "            parts = line.split(\"_\")\n",
    "            dockgen_ids[Path(filename).stem].add((parts[0], parts[1], parts[2]))\n",
    "df_smaller = df[df[\"entry_pdb_id\"].isin(set(x[0] for y in dockgen_ids for x in dockgen_ids[y]))][[\"system_id\", \"system_biounit_id\", \"entry_pdb_id\", \"ligand_ccd_code\"]].reset_index(drop=True)\n",
    "dockgen_systems = defaultdict(set)\n",
    "for n in dockgen_ids:\n",
    "    for pdb_id, biounit, ccd_code in tqdm(dockgen_ids[n]):\n",
    "        df_p = df_smaller[(df_smaller[\"entry_pdb_id\"] == pdb_id) & (df_smaller[\"system_biounit_id\"] == biounit) & (df_smaller[\"ligand_ccd_code\"] == ccd_code)]\n",
    "        if df_p.shape[0] > 0:\n",
    "            dockgen_systems[n] |= set(df_p[\"system_id\"])"
   ]
  },
  {
   "cell_type": "code",
   "execution_count": 82,
   "id": "677aaa31-9e53-477f-b3ec-a507feb56571",
   "metadata": {},
   "outputs": [
    {
     "data": {
      "text/plain": [
       "41791"
      ]
     },
     "execution_count": 82,
     "metadata": {},
     "output_type": "execute_result"
    }
   ],
   "source": [
    "df_dockgen = df[df[\"system_id\"].isin(set.union(*dockgen_systems.values()))].reset_index(drop=True)\n",
    "df_dockgen.loc[df_dockgen[\"system_id\"].isin(dockgen_systems[\"train_ccd\"]), \"split\"] = \"train\"\n",
    "df_dockgen.loc[df_dockgen[\"system_id\"].isin(dockgen_systems[\"val_ccd\"]), \"split\"] = \"val\"\n",
    "df_dockgen.loc[df_dockgen[\"system_id\"].isin(dockgen_systems[\"test_ccd\"]), \"split\"] = \"test\"\n",
    "df_dockgen[\"system_id\"].nunique()"
   ]
  },
  {
   "cell_type": "code",
   "execution_count": 104,
   "id": "c3348eff-b381-419f-98c4-c9a45d97e76d",
   "metadata": {},
   "outputs": [],
   "source": [
    "df_dockgen[[\"system_id\", \"split\"]].to_csv(\"v1/other_splits/dockgen/dockgen.csv\", index=False)"
   ]
  },
  {
   "cell_type": "code",
   "execution_count": 121,
   "id": "cd3e6f3e-f9b5-477c-a1eb-784237c63f21",
   "metadata": {},
   "outputs": [
    {
     "data": {
      "text/plain": [
       "system_type\n",
       "holo        37656\n",
       "ion          3212\n",
       "artifact      923\n",
       "Name: count, dtype: int64"
      ]
     },
     "execution_count": 121,
     "metadata": {},
     "output_type": "execute_result"
    }
   ],
   "source": [
    "df_dockgen.drop_duplicates(\"system_id\")[\"system_type\"].value_counts()"
   ]
  },
  {
   "cell_type": "code",
   "execution_count": 122,
   "id": "bba126f2-20f8-468d-b52c-ed2a742b3cd0",
   "metadata": {},
   "outputs": [],
   "source": [
    "all_dockgen_pdb_ids = set()\n",
    "for n in dockgen_ids:\n",
    "    all_dockgen_pdb_ids |= set(x[0] for x in dockgen_ids[n])"
   ]
  },
  {
   "cell_type": "code",
   "execution_count": 129,
   "id": "c8c4845a-23ea-4a59-bacd-600ce6ec840b",
   "metadata": {},
   "outputs": [
    {
     "data": {
      "text/plain": [
       "18504"
      ]
     },
     "execution_count": 129,
     "metadata": {},
     "output_type": "execute_result"
    }
   ],
   "source": [
    "len(all_dockgen_pdb_ids)"
   ]
  },
  {
   "cell_type": "code",
   "execution_count": 126,
   "id": "a75443bf-c768-493a-ba4c-3c33a4705fc2",
   "metadata": {},
   "outputs": [
    {
     "data": {
      "text/plain": [
       "113"
      ]
     },
     "execution_count": 126,
     "metadata": {},
     "output_type": "execute_result"
    }
   ],
   "source": [
    "len(all_dockgen_pdb_ids.difference(df[\"entry_pdb_id\"]))"
   ]
  },
  {
   "cell_type": "code",
   "execution_count": 125,
   "id": "8fcdcf59-0d62-4588-9c84-9daecc5d87b2",
   "metadata": {},
   "outputs": [
    {
     "data": {
      "text/plain": [
       "1623"
      ]
     },
     "execution_count": 125,
     "metadata": {},
     "output_type": "execute_result"
    }
   ],
   "source": [
    "len(all_dockgen_pdb_ids.difference(df_dockgen[\"entry_pdb_id\"]))"
   ]
  },
  {
   "cell_type": "code",
   "execution_count": 74,
   "id": "0b1aa6ec-1bc7-47a8-a931-b11d0d0aa97a",
   "metadata": {},
   "outputs": [
    {
     "data": {
      "text/plain": [
       "(19007, 15070)"
      ]
     },
     "execution_count": 74,
     "metadata": {},
     "output_type": "execute_result"
    }
   ],
   "source": [
    "df_pdbbind[\"entry_pdb_id\"].nunique(), df_pdbbind[\"ligand_ccd_code\"].nunique()"
   ]
  },
  {
   "cell_type": "code",
   "execution_count": 75,
   "id": "18692631-355f-443f-8f70-0210b9e46a91",
   "metadata": {},
   "outputs": [
    {
     "data": {
      "text/plain": [
       "436"
      ]
     },
     "execution_count": 75,
     "metadata": {},
     "output_type": "execute_result"
    }
   ],
   "source": [
    "len(set(x[0] for x in pdb_id_ccds).difference(df_pdbbind[\"entry_pdb_id\"]))"
   ]
  },
  {
   "cell_type": "code",
   "execution_count": 128,
   "id": "6ddf0e91-a3dd-426e-abc1-57b892e77b87",
   "metadata": {},
   "outputs": [
    {
     "data": {
      "text/plain": [
       "41791"
      ]
     },
     "execution_count": 128,
     "metadata": {},
     "output_type": "execute_result"
    }
   ],
   "source": [
    "df_dockgen[\"system_id\"].nunique()"
   ]
  },
  {
   "cell_type": "code",
   "execution_count": 105,
   "id": "1f608b6e-f8d5-4c08-8118-b82fcc785b72",
   "metadata": {},
   "outputs": [],
   "source": [
    "with open(\"v1/other_splits/posebusters/posebuster_systems\") as f:\n",
    "    posebuster_systems = set(l.strip() for l in f)\n",
    "df_posebusters = df[df[\"system_id\"].isin(posebuster_systems)].reset_index(drop=True)"
   ]
  },
  {
   "cell_type": "code",
   "execution_count": 108,
   "id": "4e013f4f-beec-455e-9c71-fd6aceeb50a4",
   "metadata": {},
   "outputs": [
    {
     "name": "stdout",
     "output_type": "stream",
     "text": [
      "\\begin{tabular}{llll}\n",
      "\\toprule\n",
      " & 0 & 1 & 2 \\\\\n",
      "\\midrule\n",
      "dataset & plinder & pdbbind & dockgen \\\\\n",
      "systems & 449383 & 30337 & 41791 \\\\\n",
      "pdb ids & 110791 & 19007 & 16881 \\\\\n",
      "pass quality & 113498 & 10818 & 19355 \\\\\n",
      "receptors & 74256 & 5425 & 7961 \\\\\n",
      "smiles & 51573 & 15279 & 9174 \\\\\n",
      "ccd codes & 46988 & 15064 & 9164 \\\\\n",
      "cath & 1641 & 649 & 603 \\\\\n",
      "scop2b & 11154 & 2423 & 2817 \\\\\n",
      "ecod t name & 1332 & 528 & 478 \\\\\n",
      "ecod t id & 4458 & 1444 & 1513 \\\\\n",
      "protein kinase & 297 & 184 & 174 \\\\\n",
      "kinase inhibitors & 48064 & 4682 & 5605 \\\\\n",
      "\\bottomrule\n",
      "\\end{tabular}\n",
      "\n"
     ]
    }
   ],
   "source": [
    "stats_dataset = []\n",
    "for subdf, name in zip([df_holo, df_pdbbind, df_dockgen], [\"plinder\", \"pdbbind\", 'dockgen', 'posebusters']):\n",
    "    stats_dataset.append([name, subdf[\"system_id\"].nunique(), \n",
    "    subdf['entry_pdb_id'].nunique(),\n",
    "    subdf[subdf['passes_quality']]['system_id'].nunique(),\n",
    "    subdf['receptor_cluster'].nunique(),\n",
    "    subdf['ligand_rdkit_canonical_smiles'].nunique(),\n",
    "    subdf['ligand_unique_ccd_code'].nunique(),\n",
    "    subdf['system_pocket_CATH'].nunique(),\n",
    "    subdf['system_pocket_SCOP2B'].nunique(),\n",
    "    subdf['system_pocket_ECOD_t_name'].nunique(),\n",
    "    subdf['system_pocket_ECOD_t_id'].nunique(),\n",
    "    subdf['system_pocket_Kinase name'].nunique(),\n",
    "    subdf[subdf['system_has_kinase_inhibitor']]['system_id'].nunique(),\n",
    "    ])\n",
    "stats_dataset = pd.DataFrame(stats_dataset, columns=['dataset', 'systems', 'pdb ids', 'pass quality',\n",
    " 'receptors', 'SMILES', 'ccd codes', 'CATH', 'SCOP2B', 'ECOD t name','ECOD t id', 'protein kinase', 'kinase inhibitors'])\n",
    "print(stats_dataset[stats_dataset.dataset!='posebuster'].T.to_latex().lower())\n"
   ]
  },
  {
   "cell_type": "code",
   "execution_count": null,
   "id": "8027c83e-3b30-481b-9117-8c5c414580f4",
   "metadata": {},
   "outputs": [],
   "source": []
  }
 ],
 "metadata": {
  "kernelspec": {
   "display_name": "Python [conda env:mambaforge-plinder]",
   "language": "python",
   "name": "conda-env-mambaforge-plinder-py"
  },
  "language_info": {
   "codemirror_mode": {
    "name": "ipython",
    "version": 3
   },
   "file_extension": ".py",
   "mimetype": "text/x-python",
   "name": "python",
   "nbconvert_exporter": "python",
   "pygments_lexer": "ipython3",
   "version": "3.9.0"
  }
 },
 "nbformat": 4,
 "nbformat_minor": 5
}
