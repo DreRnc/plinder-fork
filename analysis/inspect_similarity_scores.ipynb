{
 "cells": [
  {
   "cell_type": "code",
   "execution_count": 1,
   "metadata": {},
   "outputs": [],
   "source": [
    "from pathlib import Path\n",
    "from plinder.data.scores_dataset import (\n",
    "    SimilarityDataset,\n",
    "    get_inter_vs_inter_cluster_score_metrics_for_kraggle,\n",
    "    make_mock_dataset)\n",
    "dataset_name = Path(\"scores_pyarrow_dataset\")\n"
   ]
  },
  {
   "cell_type": "markdown",
   "metadata": {},
   "source": [
    "### get datframe corresponding to query and a score of interest"
   ]
  },
  {
   "cell_type": "code",
   "execution_count": 2,
   "metadata": {},
   "outputs": [
    {
     "data": {
      "text/html": [
       "<div>\n",
       "<style scoped>\n",
       "    .dataframe tbody tr th:only-of-type {\n",
       "        vertical-align: middle;\n",
       "    }\n",
       "\n",
       "    .dataframe tbody tr th {\n",
       "        vertical-align: top;\n",
       "    }\n",
       "\n",
       "    .dataframe thead th {\n",
       "        text-align: right;\n",
       "    }\n",
       "</style>\n",
       "<table border=\"1\" class=\"dataframe\">\n",
       "  <thead>\n",
       "    <tr style=\"text-align: right;\">\n",
       "      <th></th>\n",
       "      <th>query_pocket</th>\n",
       "      <th>target_pocket</th>\n",
       "      <th>similarity</th>\n",
       "      <th>score</th>\n",
       "      <th>middle_pdb_chars</th>\n",
       "    </tr>\n",
       "  </thead>\n",
       "  <tbody>\n",
       "    <tr>\n",
       "      <th>0</th>\n",
       "      <td>1BA0__1__1.A__1.C_1.D_1.G__PO4_SODIUM_ADP</td>\n",
       "      <td>1QQO__1__1.A__1.E_1.F__K_ADP</td>\n",
       "      <td>0.996</td>\n",
       "      <td>protein_lddt_qcov_weighted_sum</td>\n",
       "      <td>ba</td>\n",
       "    </tr>\n",
       "    <tr>\n",
       "      <th>1</th>\n",
       "      <td>1BA0__1__1.A__1.C_1.D_1.G__PO4_SODIUM_ADP</td>\n",
       "      <td>1HPM__1__1.A__1.C_1.D_1.E_1.H__PO4_K_K_ADP</td>\n",
       "      <td>0.997</td>\n",
       "      <td>protein_lddt_qcov_weighted_sum</td>\n",
       "      <td>ba</td>\n",
       "    </tr>\n",
       "    <tr>\n",
       "      <th>2</th>\n",
       "      <td>1BA0__1__1.A__1.C_1.D_1.G__PO4_SODIUM_ADP</td>\n",
       "      <td>1KAZ__1__1.A__1.C_1.D_1.H__K_K_ATP</td>\n",
       "      <td>0.996</td>\n",
       "      <td>protein_lddt_qcov_weighted_sum</td>\n",
       "      <td>ba</td>\n",
       "    </tr>\n",
       "    <tr>\n",
       "      <th>3</th>\n",
       "      <td>1BA0__1__1.A__1.C_1.D_1.G__PO4_SODIUM_ADP</td>\n",
       "      <td>1KAY__1__1.A__1.E_1.F_1.H__K_K_ATP</td>\n",
       "      <td>0.996</td>\n",
       "      <td>protein_lddt_qcov_weighted_sum</td>\n",
       "      <td>ba</td>\n",
       "    </tr>\n",
       "    <tr>\n",
       "      <th>4</th>\n",
       "      <td>1BA0__1__1.A__1.C_1.D_1.G__PO4_SODIUM_ADP</td>\n",
       "      <td>1QQM__1__1.A__1.C_1.F_1.G__K_PO4_ADP</td>\n",
       "      <td>0.995</td>\n",
       "      <td>protein_lddt_qcov_weighted_sum</td>\n",
       "      <td>ba</td>\n",
       "    </tr>\n",
       "    <tr>\n",
       "      <th>...</th>\n",
       "      <td>...</td>\n",
       "      <td>...</td>\n",
       "      <td>...</td>\n",
       "      <td>...</td>\n",
       "      <td>...</td>\n",
       "    </tr>\n",
       "    <tr>\n",
       "      <th>2184</th>\n",
       "      <td>1BA0__1__1.A__1.C_1.D_1.G__PO4_SODIUM_ADP</td>\n",
       "      <td>4XH5__1__1.A__1.D_1.E__ANP_PPI</td>\n",
       "      <td>0.310</td>\n",
       "      <td>protein_lddt_qcov_weighted_sum</td>\n",
       "      <td>ba</td>\n",
       "    </tr>\n",
       "    <tr>\n",
       "      <th>2185</th>\n",
       "      <td>1BA0__1__1.A__1.C_1.D_1.G__PO4_SODIUM_ADP</td>\n",
       "      <td>4XH5__1__2.A__2.D_2.E__ANP_PPI</td>\n",
       "      <td>0.310</td>\n",
       "      <td>protein_lddt_qcov_weighted_sum</td>\n",
       "      <td>ba</td>\n",
       "    </tr>\n",
       "    <tr>\n",
       "      <th>2186</th>\n",
       "      <td>1BA0__1__1.A__1.C_1.D_1.G__PO4_SODIUM_ADP</td>\n",
       "      <td>3O5B__1__1.A__1.C_1.D_1.E__BGC_SO4_SO4</td>\n",
       "      <td>0.316</td>\n",
       "      <td>protein_lddt_qcov_weighted_sum</td>\n",
       "      <td>ba</td>\n",
       "    </tr>\n",
       "    <tr>\n",
       "      <th>2187</th>\n",
       "      <td>1BA0__1__1.A__1.C_1.D_1.G__PO4_SODIUM_ADP</td>\n",
       "      <td>3IMX__1__1.A__1.B__GLC</td>\n",
       "      <td>0.306</td>\n",
       "      <td>protein_lddt_qcov_weighted_sum</td>\n",
       "      <td>ba</td>\n",
       "    </tr>\n",
       "    <tr>\n",
       "      <th>2188</th>\n",
       "      <td>1BA0__1__1.A__1.C_1.D_1.G__PO4_SODIUM_ADP</td>\n",
       "      <td>3IMX__1__1.A__1.C__B84</td>\n",
       "      <td>0.306</td>\n",
       "      <td>protein_lddt_qcov_weighted_sum</td>\n",
       "      <td>ba</td>\n",
       "    </tr>\n",
       "  </tbody>\n",
       "</table>\n",
       "<p>2189 rows × 5 columns</p>\n",
       "</div>"
      ],
      "text/plain": [
       "                                   query_pocket  \\\n",
       "0     1BA0__1__1.A__1.C_1.D_1.G__PO4_SODIUM_ADP   \n",
       "1     1BA0__1__1.A__1.C_1.D_1.G__PO4_SODIUM_ADP   \n",
       "2     1BA0__1__1.A__1.C_1.D_1.G__PO4_SODIUM_ADP   \n",
       "3     1BA0__1__1.A__1.C_1.D_1.G__PO4_SODIUM_ADP   \n",
       "4     1BA0__1__1.A__1.C_1.D_1.G__PO4_SODIUM_ADP   \n",
       "...                                         ...   \n",
       "2184  1BA0__1__1.A__1.C_1.D_1.G__PO4_SODIUM_ADP   \n",
       "2185  1BA0__1__1.A__1.C_1.D_1.G__PO4_SODIUM_ADP   \n",
       "2186  1BA0__1__1.A__1.C_1.D_1.G__PO4_SODIUM_ADP   \n",
       "2187  1BA0__1__1.A__1.C_1.D_1.G__PO4_SODIUM_ADP   \n",
       "2188  1BA0__1__1.A__1.C_1.D_1.G__PO4_SODIUM_ADP   \n",
       "\n",
       "                                   target_pocket  similarity  \\\n",
       "0                   1QQO__1__1.A__1.E_1.F__K_ADP       0.996   \n",
       "1     1HPM__1__1.A__1.C_1.D_1.E_1.H__PO4_K_K_ADP       0.997   \n",
       "2             1KAZ__1__1.A__1.C_1.D_1.H__K_K_ATP       0.996   \n",
       "3             1KAY__1__1.A__1.E_1.F_1.H__K_K_ATP       0.996   \n",
       "4           1QQM__1__1.A__1.C_1.F_1.G__K_PO4_ADP       0.995   \n",
       "...                                          ...         ...   \n",
       "2184              4XH5__1__1.A__1.D_1.E__ANP_PPI       0.310   \n",
       "2185              4XH5__1__2.A__2.D_2.E__ANP_PPI       0.310   \n",
       "2186      3O5B__1__1.A__1.C_1.D_1.E__BGC_SO4_SO4       0.316   \n",
       "2187                      3IMX__1__1.A__1.B__GLC       0.306   \n",
       "2188                      3IMX__1__1.A__1.C__B84       0.306   \n",
       "\n",
       "                               score middle_pdb_chars  \n",
       "0     protein_lddt_qcov_weighted_sum               ba  \n",
       "1     protein_lddt_qcov_weighted_sum               ba  \n",
       "2     protein_lddt_qcov_weighted_sum               ba  \n",
       "3     protein_lddt_qcov_weighted_sum               ba  \n",
       "4     protein_lddt_qcov_weighted_sum               ba  \n",
       "...                              ...              ...  \n",
       "2184  protein_lddt_qcov_weighted_sum               ba  \n",
       "2185  protein_lddt_qcov_weighted_sum               ba  \n",
       "2186  protein_lddt_qcov_weighted_sum               ba  \n",
       "2187  protein_lddt_qcov_weighted_sum               ba  \n",
       "2188  protein_lddt_qcov_weighted_sum               ba  \n",
       "\n",
       "[2189 rows x 5 columns]"
      ]
     },
     "execution_count": 2,
     "metadata": {},
     "output_type": "execute_result"
    }
   ],
   "source": [
    "query_name = '1BA0__1__1.A__1.C_1.D_1.G__PO4_SODIUM_ADP'\n",
    "score = \"protein_lddt_qcov_weighted_sum\"\n",
    "threshold = 0.3\n",
    "s = SimilarityDataset(dataset_name,\n",
    "        query_tag = \"query_pocket\",\n",
    "        target_tag = \"target_pocket\")\n",
    "s.get_similarity_dataframe(\n",
    "    query=query_name,\n",
    "    middle_pdb_chars=\"ba\",\n",
    "    score_tag=score,\n",
    "    threshold=threshold)"
   ]
  },
  {
   "cell_type": "code",
   "execution_count": null,
   "metadata": {},
   "outputs": [],
   "source": [
    "s.get_similarity_dataframe(\n",
    "    query=query_name,\n",
    "    middle_pdb_chars=\"ba\",\n",
    "    score_tag=score,\n",
    "    threshold=threshold).head(100).to_parquet(f\"../tests/test_data/mini_score_dataset.parquet\")\n"
   ]
  },
  {
   "cell_type": "markdown",
   "metadata": {},
   "source": [
    "### Get list of targets for a list of queries"
   ]
  },
  {
   "cell_type": "code",
   "execution_count": null,
   "metadata": {},
   "outputs": [],
   "source": [
    "test_list = ['1BA0__1__1.A__1.C_1.D_1.G__PO4_SODIUM_ADP',\n",
    "    '1BA1__1__1.A__1.F__ADP', '1BA3__1__1.A__1.B__MBR',\n",
    "    '1BA8__1__1.B__1.D__0IT', '1BAB__1__1.A__1.E__HEM',\n",
    "    '1BAB__1__1.B__1.G__HEM', '1BAB__1__1.C__1.H__HEM',\n",
    "    '1BAB__1__1.D__1.J__HEM', '1BAF__1__1.A_1.B__1.C__NPP',\n",
    "    '1BAI__1__1.A_1.B__1.C__0Q4', '1BAP__1__1.A__1.B_1.C__ARA_ARB',\n",
    "    '1BAV__1__1.A__1.F__BIP', '1BAV__2__1.B__1.G_1.H__ZN_BIP',\n",
    "    '1BAV__3__1.C__1.I_1.J__ZN_BIP', '1BAV__4__1.D__1.L__BIP',\n",
    "    '2BA9__1__1.A__1.D_1.E__FAD_12P', '2BAB__1__1.A__1.E_1.F__FAD_ODD',\n",
    "    '2BAB__1__1.A__1.I__BU1', '2BAC__1__1.A__1.D_1.E__FAD_ODT',\n",
    "    '2BAG__1__2.A__2.D_2.E__1PE_GSG', '2BAG__1__1.A__1.E__GSG',\n",
    "    '2BAJ__1__1.A__1.B__1PP', '2BAK__1__1.A__1.B__AQZ',\n",
    "    '2BAL__1__1.A__1.B__PQA', '2BAN__1__1.A__1.D__357',\n",
    "    '2BAQ__1__1.A__1.B__PQB', '2BAT__1__1.A__1.F__SIA',\n",
    "    '2BAT__1__2.A__2.F__SIA', '2BAT__1__3.A__3.F__SIA',\n",
    "    '2BAT__1__4.A__4.F__SIA', '2BAW__1__1.A__1.C_1.D__B7G_B7G',\n",
    "    '2BAW__1__1.A__1.E__VCA', '2BAW__2__1.B__1.F__VCA',\n",
    "    '2BAX__1__1.A__1.D__MRD', '2BAX__1__1.A__1.F__MRD',\n",
    "    '2BAX__1__1.A__1.G__MRD', '3BA0__1__1.A__1.B_1.H__ZN_HAE',\n",
    "    '3BA2__1__1.A__1.E_1.F__CYN_HKL', '3BA6__1__1.A__1.F__AN2',\n",
    "    '3BA8__1__1.A__1.F__3B8', '3BA8__1__1.A__1.E__NMN']\n",
    "\n",
    "\n",
    "list_of_targets = s.get_similar_protein_for_list_of_queries(\n",
    "    queries=test_list,\n",
    "    middle_pdb_chars=\"ba\",\n",
    "    score_tag=score,\n",
    "    threshold=threshold)"
   ]
  },
  {
   "cell_type": "markdown",
   "metadata": {},
   "source": [
    "### Get pyarrow table iterator of all data for a score and threshold\n",
    "Return pyarrow table iterator\n"
   ]
  },
  {
   "cell_type": "code",
   "execution_count": null,
   "metadata": {},
   "outputs": [],
   "source": [
    "score = \"protein_lddt_qcov_weighted_sum\"\n",
    "threshold = 0.7\n",
    "protein_lddt_qcov_weighted_sum_07 =s.get_score_dataframe(\n",
    "        score,\n",
    "        threshold)\n"
   ]
  },
  {
   "cell_type": "markdown",
   "metadata": {},
   "source": [
    "### Get edge list iterator"
   ]
  },
  {
   "cell_type": "code",
   "execution_count": null,
   "metadata": {},
   "outputs": [],
   "source": [
    "score = \"protein_lddt_qcov_weighted_sum\"\n",
    "threshold = 0.7\n",
    "protein_lddt_qcov_weighted_sum_07_edge_list =s.get_score_dataframe(\n",
    "        score,\n",
    "        threshold)"
   ]
  },
  {
   "cell_type": "code",
   "execution_count": null,
   "metadata": {},
   "outputs": [],
   "source": [
    "edge_list_0 = next(protein_lddt_qcov_weighted_sum_07_edge_list)\n",
    "list(edge_list_0.to_pandas()[[\"query_pocket\",\t\"target_pocket\",\t\"similarity\"]].itertuples(index=False, name=None))"
   ]
  },
  {
   "cell_type": "markdown",
   "metadata": {},
   "source": [
    "### Return networkx graph\n",
    "beware! Might take a while to run"
   ]
  },
  {
   "cell_type": "code",
   "execution_count": null,
   "metadata": {},
   "outputs": [],
   "source": [
    "protein_lddt_qcov_weighted_sum_07_nx = s.make_nx_graph(\n",
    "    score,\n",
    "    threshold)"
   ]
  },
  {
   "cell_type": "code",
   "execution_count": null,
   "metadata": {},
   "outputs": [],
   "source": []
  },
  {
   "cell_type": "code",
   "execution_count": null,
   "metadata": {},
   "outputs": [],
   "source": []
  }
 ],
 "metadata": {
  "kernelspec": {
   "display_name": "plinder",
   "language": "python",
   "name": "python3"
  },
  "language_info": {
   "codemirror_mode": {
    "name": "ipython",
    "version": 3
   },
   "file_extension": ".py",
   "mimetype": "text/x-python",
   "name": "python",
   "nbconvert_exporter": "python",
   "pygments_lexer": "ipython3",
   "version": "3.9.18"
  }
 },
 "nbformat": 4,
 "nbformat_minor": 2
}
