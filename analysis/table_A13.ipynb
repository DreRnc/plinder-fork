{
 "cells": [
  {
   "cell_type": "code",
   "execution_count": 1,
   "metadata": {},
   "outputs": [],
   "source": [
    "# import graph_tool.all as gt\n",
    "from pathlib import Path\n",
    "from tqdm import tqdm\n",
    "import networkx as nx\n",
    "import json\n",
    "import pandas as pd\n",
    "import numpy as np\n",
    "from collections import Counter, defaultdict\n",
    "from dataclasses import dataclass, field"
   ]
  },
  {
   "cell_type": "code",
   "execution_count": 15,
   "metadata": {},
   "outputs": [],
   "source": [
    "def get_set(s):\n",
    "    if 'train_test' in s: return \"Train vs. Test\"\n",
    "    elif 'train_val' in s: return \"Train vs. Val\"\n",
    "    elif 'val_test' in s: return \"Val vs. Test\"\n",
    "    else:\n",
    "        return 'UNK'\n",
    "def get_hq(s):\n",
    "    if 'hq' in s: return True\n",
    "    else:\n",
    "        return False\n"
   ]
  },
  {
   "cell_type": "code",
   "execution_count": 26,
   "metadata": {},
   "outputs": [
    {
     "name": "stdout",
     "output_type": "stream",
     "text": [
      "\\begin{tabular}{lllrrr}\n",
      "\\toprule\n",
      " &  &  & plinder-ECOD & plinder-v0 & plinder-Time \\\\\n",
      "metric & split set & high quality &  &  &  \\\\\n",
      "\\midrule\n",
      "\\multirow[t]{15}{*}{\\makecell{pli_qcov \\\\ $\\geq$ 50}} & \\multirow[t]{3}{*}{Train vs. Test} & False & 0.29 & 0.04 & 0.69 \\\\\n",
      " &  & False & 0.18 & 0.00 & 0.40 \\\\\n",
      " &  & False & 0.05 & 0.00 & 0.10 \\\\\n",
      "\\cline{2-6}\n",
      " & \\multirow[t]{3}{*}{Train vs. Val} & False & 0.05 & 0.10 & 0.77 \\\\\n",
      " &  & False & 0.01 & 0.00 & 0.47 \\\\\n",
      " &  & False & 0.00 & 0.00 & 0.16 \\\\\n",
      "\\cline{2-6}\n",
      " & \\multirow[t]{3}{*}{Val vs. Test} & False & 0.05 & 0.00 & 0.54 \\\\\n",
      " &  & False & 0.01 & 0.00 & 0.22 \\\\\n",
      " &  & False & 0.00 & 0.00 & 0.04 \\\\\n",
      "\\cline{2-6}\n",
      " & \\multirow[t]{3}{*}{Train vs. Test} & True & 0.28 & 0.04 & 0.78 \\\\\n",
      " &  & True & 0.21 & 0.00 & 0.54 \\\\\n",
      " &  & True & 0.08 & 0.00 & 0.18 \\\\\n",
      "\\cline{2-6}\n",
      " & \\multirow[t]{3}{*}{Val vs. Test} & True & 0.05 & 0.00 & 0.58 \\\\\n",
      " &  & True & 0.01 & 0.00 & 0.25 \\\\\n",
      " &  & True & 0.00 & 0.00 & 0.06 \\\\\n",
      "\\cline{1-6} \\cline{2-6}\n",
      "\\bottomrule\n",
      "\\end{tabular}\n",
      "\n"
     ]
    }
   ],
   "source": [
    "# single json example:\n",
    "metric ='pli_qcov'\n",
    "threshold = '50'\n",
    "data = pd.read_json('/Users/xzhang/Work/plinder/analysis/dataset4compare/nvidia_test_output/pli_qcov__50.json').reset_index()\n",
    "data['metric'] = f\"\\\\makecell{{{metric} \\\\\\\\ $\\\\geq$ {threshold}}}\"\n",
    "data['split set']  = data['index'].map(get_set)\n",
    "# update here:\n",
    "cols_to_show = [ 'plinder-ECOD', 'plinder-v0', 'plinder-Time', ]\n",
    "data['high quality']  = data['index'].map(get_hq)\n",
    "\n",
    "print(data.loc[data['split set']!='UNK', \n",
    "    cols_to_show + ['metric', 'split set', 'high quality']\n",
    "    ].set_index(['metric', 'split set', 'high quality']).to_latex(float_format='%.2f'))"
   ]
  },
  {
   "cell_type": "markdown",
   "metadata": {},
   "source": [
    "## looping example codes: \n",
    "i don't have all data; didnot test but should work:"
   ]
  },
  {
   "cell_type": "code",
   "execution_count": null,
   "metadata": {},
   "outputs": [],
   "source": [
    "# update these this list to control what you want to show:\n",
    "cols_to_show = [ 'plinder-ECOD', 'plinder-v0', 'plinder-Time', ]\n",
    "# update to your local json dir: \n",
    "json_dir =Path('/Users/xzhang/Work/plinder/analysis/dataset4compare/nvidia_test_output')\n",
    "datas = []\n",
    "# update the zip list here:\n",
    "for metric, threshold in zip(['pli_qcov'], ['50']):\n",
    "    # need to update \n",
    "    data = pd.read_json(json_dir / f'{metric}__{threshold}.json').reset_index()\n",
    "    data['metric'] = f\"\\\\makecell{{{metric} \\\\\\\\ $\\\\geq$ {threshold}}}\"\n",
    "    data['split set']  = data['index'].map(get_set)\n",
    "    data['high quality']  = data['index'].map(get_hq)\n",
    "    # update here:\n",
    "\n",
    "    data['high quality']  = data['index'].map(get_hq)\n",
    "    datas.append(data)\n",
    "datas = pd.concat(datas)\n",
    "datas.loc[datas['split set']!='UNK', \n",
    "        cols_to_show + ['metric', 'split set', 'high quality']\n",
    "        ].set_index(['metric', 'split set', 'high quality']).to_latex()"
   ]
  }
 ],
 "metadata": {
  "kernelspec": {
   "display_name": "plinder",
   "language": "python",
   "name": "python3"
  },
  "language_info": {
   "codemirror_mode": {
    "name": "ipython",
    "version": 3
   },
   "file_extension": ".py",
   "mimetype": "text/x-python",
   "name": "python",
   "nbconvert_exporter": "python",
   "pygments_lexer": "ipython3",
   "version": "3.9.19"
  }
 },
 "nbformat": 4,
 "nbformat_minor": 2
}
