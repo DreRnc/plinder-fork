{
 "cells": [
  {
   "cell_type": "code",
   "execution_count": 1,
   "id": "2fa33b56-e490-4e96-b6e4-909f321b7e6b",
   "metadata": {},
   "outputs": [],
   "source": [
    "from pathlib import Path\n",
    "import json\n",
    "import pandas as pd\n",
    "import numpy as np\n",
    "from dataclasses import dataclass"
   ]
  },
  {
   "cell_type": "code",
   "execution_count": 2,
   "id": "22e4fc59-95a8-49bf-ba63-d7787f6c3330",
   "metadata": {},
   "outputs": [],
   "source": [
    "@dataclass\n",
    "class TestCriteria:\n",
    "    max_entry_resolution: float = 3.5\n",
    "    max_entry_r = 0.4\n",
    "    max_entry_rfree = 0.45\n",
    "    max_entry_r_minus_rfree = 0.05\n",
    "    ligand_max_num_unresolved_heavy_atoms = 0\n",
    "    ligand_max_alt_count = 1\n",
    "    ligand_min_average_occupancy: float = 0.8\n",
    "    ligand_min_average_rscc: float = 0.8\n",
    "    ligand_max_average_rsr: float = 0.3\n",
    "    ligand_max_percent_outliers_clashes = 0\n",
    "    pocket_max_num_unresolved_heavy_atoms = 0\n",
    "    pocket_max_alt_count = 1\n",
    "    pocket_min_average_occupancy: float = 0.8\n",
    "    pocket_min_average_rscc: float = 0.8\n",
    "    pocket_max_average_rsr: float = 0.3\n",
    "    pocket_max_percent_outliers_clashes = 100\n",
    "\n",
    "\n",
    "def get_high_quality_systems(\n",
    "    row: pd.Series,\n",
    "    criteria: TestCriteria\n",
    ") -> bool:\n",
    "    if row.system_type != \"holo\":\n",
    "        return False\n",
    "    if row.entry_r is not None and row.system_ligand_average_rscc is not None:\n",
    "        quality = [\n",
    "            # ENTRY\n",
    "            row.entry_resolution <= criteria.max_entry_resolution,\n",
    "            row.entry_r <= criteria.max_entry_r,\n",
    "            row.entry_rfree <= criteria.max_entry_rfree,\n",
    "            row.entry_r_minus_rfree <= criteria.max_entry_r_minus_rfree,\n",
    "            # LIGAND\n",
    "            row.system_ligand_num_unresolved_heavy_atoms <= row.system_num_covalent_ligands + criteria.ligand_max_num_unresolved_heavy_atoms,\n",
    "            row.system_ligand_max_alt_count <= criteria.ligand_max_alt_count, # NOTE: max_alt_count is misnomer - this counts number of total conformers!\n",
    "            row.system_ligand_average_occupancy >= criteria.ligand_min_average_occupancy,\n",
    "            row.system_ligand_average_rscc >= criteria.ligand_min_average_rscc,\n",
    "            row.system_ligand_average_rsr <= criteria.ligand_max_average_rsr,\n",
    "            row.system_ligand_percent_outliers_clashes <= criteria.ligand_max_percent_outliers_clashes,\n",
    "            # POCKET\n",
    "            row.system_pocket_num_unresolved_heavy_atoms <= criteria.pocket_max_num_unresolved_heavy_atoms,\n",
    "            row.system_pocket_max_alt_count <= criteria.pocket_max_alt_count,\n",
    "            row.system_pocket_average_occupancy >= criteria.pocket_min_average_occupancy,\n",
    "            row.system_pocket_average_rscc >= criteria.pocket_min_average_rscc,\n",
    "            row.system_pocket_average_rsr <= criteria.pocket_max_average_rsr,\n",
    "            row.system_pocket_percent_outliers_clashes <= criteria.pocket_max_percent_outliers_clashes,\n",
    "        ]\n",
    "        if np.logical_and.reduce(quality):\n",
    "            return True\n",
    "    return False\n",
    "\n",
    "quality_config = TestCriteria()"
   ]
  },
  {
   "cell_type": "code",
   "execution_count": 4,
   "id": "a0516d86-ed9d-43de-81cc-ff1f97ace8a0",
   "metadata": {},
   "outputs": [],
   "source": [
    "df = pd.read_parquet(\"v1/index/annotation_table.parquet\")\n",
    "df[\"system_num_covalent_ligands\"] = df.groupby(\"system_id\")[\"ligand_is_covalent\"].transform(\"sum\")\n",
    "df[\"passes_quality\"] = df.apply(lambda row: get_high_quality_systems(row, criteria=quality_config), axis=1)"
   ]
  },
  {
   "cell_type": "code",
   "execution_count": 5,
   "id": "badd7507-c985-4fd0-b344-b25fba8f5c27",
   "metadata": {},
   "outputs": [],
   "source": [
    "passes_quality = set(df[df[\"passes_quality\"]][\"system_id\"])"
   ]
  },
  {
   "cell_type": "code",
   "execution_count": 6,
   "id": "4f32be31-2eef-4b36-a0c1-d50a94b450e6",
   "metadata": {},
   "outputs": [],
   "source": [
    "split_tables = {\n",
    "    x.stem: pd.read_csv(x) for x in Path(\"v1/workshop_split/\").iterdir()\n",
    "}\n",
    "replace_keys = {'ecod_split': 'plinder-ECOD', \n",
    "                'plinder_v0_no_posbuster': 'plinder-v0', \n",
    "                # 'diffdock_pdbind_nolig_or_rec': 'PDBBind-Time', \n",
    "                'time_split': 'plinder-Time'}\n",
    "split_tables = {replace_keys[k]: v for k, v in split_tables.items() if k in replace_keys}\n",
    "# for x in Path(\"v1/splits/batch_5/\").iterdir():\n",
    "#     split_tables[x.stem] = pd.read_parquet(x)\n",
    "for x in Path(\"v1/splits/batch_6/\").iterdir():\n",
    "    split_tables[x.stem] = pd.read_parquet(x)\n",
    "split_tables[\"pdbbind\"] = pd.read_csv(\"v1/other_splits/pdbbind/pdbbind.csv\")\n",
    "split_tables[\"pdbbind_lp\"] = pd.read_csv(\"v1/other_splits/pdbbind_lp/pdbbind_lp.csv\")\n",
    "split_tables[\"equibind\"] = pd.read_csv(\"v1/other_splits/equibind/equibind.csv\")\n",
    "split_tables[\"dockgen\"] = pd.read_csv(\"v1/other_splits/dockgen/dockgen.csv\")"
   ]
  },
  {
   "cell_type": "code",
   "execution_count": 7,
   "id": "15fa92ba",
   "metadata": {},
   "outputs": [],
   "source": [
    "missing = set(pd.read_csv(\"v1/missing_pdb_ids/missing_pdb_ids.csv\")[\"system_id\"])"
   ]
  },
  {
   "cell_type": "code",
   "execution_count": 8,
   "id": "e61ed9ac-ba45-4aa2-9d68-432410da693b",
   "metadata": {},
   "outputs": [],
   "source": [
    "with open(\"v1/other_splits/posebusters/posebuster_system_ids.csv\") as f:\n",
    "    posebusters = set(line.strip() for line in f).difference(missing)"
   ]
  },
  {
   "cell_type": "code",
   "execution_count": 9,
   "id": "cdb72128-0cb5-4d5c-b07b-526f5e523237",
   "metadata": {},
   "outputs": [],
   "source": [
    "fractions_dir = Path(\"v1/fractions\")\n",
    "fractions_dir.mkdir(exist_ok=True)"
   ]
  },
  {
   "cell_type": "code",
   "execution_count": 10,
   "id": "b7bbe129-c364-4218-bee6-74292aeca159",
   "metadata": {},
   "outputs": [
    {
     "name": "stdout",
     "output_type": "stream",
     "text": [
      "pli_qcov 50\n",
      "pocket_qcov 50\n",
      "pocket_lddt 50\n",
      "protein_lddt_qcov_weighted_sum 50\n",
      "protein_seqsim_weighted_sum 30\n",
      "tanimoto_similarity_max 30\n"
     ]
    }
   ],
   "source": [
    "metric_thresholds = [\n",
    "     (\"pli_qcov\", 50),\n",
    "     (\"pocket_qcov\", 50),\n",
    "     (\"pocket_lddt\", 50),\n",
    "     (\"protein_lddt_qcov_weighted_sum\", 50),\n",
    "     (\"protein_seqsim_weighted_sum\", 30),\n",
    "     (\"tanimoto_similarity_max\", 30)\n",
    "]\n",
    "fractions_all = {}\n",
    "for metric, threshold in metric_thresholds:\n",
    "    n = \"similarity\"\n",
    "    fractions = {}\n",
    "    print(metric, threshold)\n",
    "    for name in split_tables:\n",
    "        split_table = split_tables[name]\n",
    "        train = set(split_table[split_table[\"split\"] == \"train\"][\"system_id\"]).difference(missing)\n",
    "        val = set(split_table[split_table[\"split\"] == \"val\"][\"system_id\"]).difference(missing)\n",
    "        test = set(split_table[split_table[\"split\"] == \"test\"][\"system_id\"]).difference(missing)\n",
    "        fractions[name] = {\"num_test\": len(test),\n",
    "                           \"num_train\": len(train),\n",
    "                           \"num_val\": len(val),\n",
    "                           \"fraction_hq\": len(set(test).intersection(passes_quality)) / len(test),\n",
    "                          }\n",
    "        compare_pairs = [(\"train_test\", (train, test)), \n",
    "                         (\"train_val\", (train, val)), \n",
    "                         (\"val_test\", (val, test)),\n",
    "                         (\"train_posebusters\", (train, posebusters))]\n",
    "        for pair_name, pair in compare_pairs:\n",
    "            pair_table = pd.read_parquet(f\"v1/leakage/{name}__{metric}__{pair_name}.parquet\")\n",
    "            num_leaked = len(set(pair_table[(pair_table[n] >= threshold) & (pair_table[\"query_system\"].isin(pair[1]))][\"query_system\"]))\n",
    "            fractions[name][f\"fraction_leaked_{pair_name}_0\"] = num_leaked / len(pair[1])\n",
    "            if pair_name.endswith(\"_test\"):\n",
    "                num_leaked_hq = len(set(pair_table[(pair_table[n] >= threshold) & (pair_table[\"query_system\"].isin(pair[1]))][\"query_system\"]).intersection(passes_quality))\n",
    "                fractions[name][f\"fraction_leaked_{pair_name}_hq_0\"] = num_leaked_hq / len(pair[1].intersection(passes_quality))\n",
    "    fractions_all[(metric, threshold)] = fractions"
   ]
  },
  {
   "cell_type": "code",
   "execution_count": 11,
   "id": "cedac7b3-e2f8-4441-acb1-2b9c3b96bea3",
   "metadata": {},
   "outputs": [],
   "source": [
    "map_keys = {\n",
    "    \"pdbbind\": \"PDBBind-Original\",\n",
    "    \"pdbbind_lp\": \"PDBBind-LP\",\n",
    "    \"equibind\": \"PDBBind-DiffDock\",\n",
    "    \"dockgen\": \"DockGen\"\n",
    "}\n",
    "for metric, threshold in fractions_all:\n",
    "    with open(f\"v1/fractions/{metric}__{threshold}.json\", \"w\") as f:\n",
    "        json.dump({map_keys.get(k, k): v for k, v in fractions_all[(metric, threshold)].items()}, f)"
   ]
  },
  {
   "cell_type": "code",
   "execution_count": 14,
   "id": "2c589065-9eff-4897-9807-8b111cb8ab78",
   "metadata": {},
   "outputs": [
    {
     "name": "stdout",
     "output_type": "stream",
     "text": [
      "plinder-ECOD\n",
      "plinder-v0\n",
      "plinder-Time\n",
      "pdbbind\n",
      "pdbbind_lp\n",
      "equibind\n",
      "dockgen\n"
     ]
    }
   ],
   "source": [
    "map_keys = {\n",
    "    \"pdbbind\": \"pdbbind-original\",\n",
    "    \"pdbbind_lp\": \"pdbbind-lp\",\n",
    "    \"equibind\": \"pdbbind-diffdock\",\n",
    "}\n",
    "rows = []\n",
    "rows2 = []\n",
    "for name in split_tables:\n",
    "    if \"splits\" in name:\n",
    "        continue\n",
    "    print(name)\n",
    "    row = {\"split\": name.lower() if name not in map_keys else map_keys[name]}\n",
    "    row2 = {\"split\": name.lower() if name not in map_keys else map_keys[name]}\n",
    "    for i, metric_threshold in enumerate(metric_thresholds):\n",
    "        row[f\"{metric_threshold[0]} > {metric_threshold[1]}\"] = f'{fractions_all[metric_threshold][name][\"fraction_leaked_train_test_hq_0\"]:.2f}'\n",
    "        row2[f\"{metric_threshold[0]} > {metric_threshold[1]}\"] = f'{fractions_all[metric_threshold][name][\"fraction_leaked_train_posebusters_0\"]:.2f}'\n",
    "    rows.append(row)\n",
    "    rows2.append(row2)"
   ]
  },
  {
   "cell_type": "code",
   "execution_count": 17,
   "id": "b7160179-14f0-4bd1-ab53-50b1f425ec3b",
   "metadata": {},
   "outputs": [
    {
     "name": "stdout",
     "output_type": "stream",
     "text": [
      "pli_qcov 50\n",
      "train vs. posebusters & 0.51 & 0.48 & 0.52 & 0.60 & 0.64 & 0.72 & 0.40 \\\\\n",
      "train vs. test & 0.88 & 0.71 & 0.27 & 0.05 & 0.30 & 0.80 & 0.04 \\\\\n",
      "train vs. val & 0.73 & 0.64 & 0.78 & 0.13 & 0.05 & 0.78 & 0.10 \\\\\n",
      "val vs. test & 0.89 & 0.69 & 0.08 & 0.01 & 0.05 & 0.59 & 0.00 \\\\\n",
      "pocket_lddt 50\n",
      "train vs. posebusters & 0.66 & 0.67 & 0.69 & 0.74 & 0.74 & 0.88 & 0.47 \\\\\n",
      "train vs. test & 0.97 & 0.84 & 0.53 & 0.09 & 0.49 & 0.96 & 0.00 \\\\\n",
      "train vs. val & 0.84 & 0.84 & 0.89 & 0.20 & 0.30 & 0.95 & 0.77 \\\\\n",
      "val vs. test & 0.97 & 0.83 & 0.23 & 0.03 & 0.18 & 0.79 & 0.00 \\\\\n",
      "pocket_qcov 50\n",
      "train vs. posebusters & 0.63 & 0.64 & 0.65 & 0.70 & 0.70 & 0.83 & 0.47 \\\\\n",
      "train vs. test & 0.96 & 0.81 & 0.47 & 0.06 & 0.35 & 0.88 & 0.09 \\\\\n",
      "train vs. val & 0.82 & 0.80 & 0.87 & 0.14 & 0.07 & 0.87 & 0.29 \\\\\n",
      "val vs. test & 0.94 & 0.80 & 0.16 & 0.01 & 0.08 & 0.70 & 0.00 \\\\\n",
      "protein_lddt_qcov_weighted_sum 50\n",
      "train vs. posebusters & 0.68 & 0.68 & 0.70 & 0.72 & 0.75 & 0.88 & 0.48 \\\\\n",
      "train vs. test & 0.97 & 0.85 & 0.53 & 0.10 & 0.49 & 0.95 & 0.01 \\\\\n",
      "train vs. val & 0.85 & 0.84 & 0.88 & 0.19 & 0.30 & 0.95 & 0.77 \\\\\n",
      "val vs. test & 0.97 & 0.83 & 0.22 & 0.04 & 0.18 & 0.79 & 0.00 \\\\\n",
      "protein_seqsim_weighted_sum 30\n",
      "train vs. posebusters & 0.77 & 0.79 & 0.78 & 0.81 & 0.81 & 0.93 & 0.64 \\\\\n",
      "train vs. test & 0.97 & 0.90 & 0.58 & 0.19 & 0.60 & 0.98 & 0.37 \\\\\n",
      "train vs. val & 0.88 & 0.86 & 0.90 & 0.34 & 0.44 & 0.98 & 0.83 \\\\\n",
      "val vs. test & 0.97 & 0.87 & 0.39 & 0.08 & 0.35 & 0.87 & 0.14 \\\\\n",
      "tanimoto_similarity_max 30\n",
      "train vs. posebusters & 0.57 & 0.57 & 0.59 & 0.61 & 0.65 & 0.66 & 0.64 \\\\\n",
      "train vs. test & 0.55 & 0.40 & 0.37 & 0.53 & 0.52 & 0.54 & 0.58 \\\\\n",
      "train vs. val & 0.50 & 0.44 & 0.50 & 0.71 & 0.45 & 0.41 & 0.48 \\\\\n",
      "val vs. test & 0.52 & 0.36 & 0.25 & 0.54 & 0.50 & 0.46 & 0.51 \\\\\n"
     ]
    }
   ],
   "source": [
    "metric_order = [\"pli_qcov > 50\", \"pocket_lddt > 50\", \"pocket_qcov > 50\", \"protein_lddt_qcov_weighted_sum > 50\", \"protein_seqsim_weighted_sum > 30\", \"tanimoto_similarity_max > 30\"]\n",
    "order = [\"pdbbind\", \"pdbbind_lp\", \"equibind\", \"dockgen\", \"plinder-ECOD\", \"plinder-Time\", \"plinder-v0\"]\n",
    "# order = [\"pdbbind-original\", \"pdbbind-diffdock\", \"dockgen\", \"pdbbind-lp\", \"plinder-time\", \"plinder-ecod\", \"plinder-v0\"]\n",
    "for i, metric in enumerate(metric_order):\n",
    "    metric, threshold = metric.split()[0], int(metric.split(\"> \")[-1])\n",
    "    print(metric, threshold)\n",
    "    for pair in [\"train_posebusters\", \"train_test\", \"train_val\", \"val_test\"]:\n",
    "        l, r = pair.split(\"_\")\n",
    "        vals = []\n",
    "        for name in order:\n",
    "            if name.startswith(\"plinder\") and r == \"test\":\n",
    "                vals.append(f'{fractions_all[(metric, threshold)][name][f\"fraction_leaked_{pair}_hq_0\"]:.2f}')\n",
    "            else:\n",
    "                vals.append(f'{fractions_all[(metric, threshold)][name][f\"fraction_leaked_{pair}_0\"]:.2f}')\n",
    "        print(f\"{l} vs. {r} & \" + \" & \".join(vals) + \" \\\\\\\\\")\n",
    "        "
   ]
  },
  {
   "cell_type": "markdown",
   "id": "2838a6e1",
   "metadata": {},
   "source": [
    "## Test split leakage fractions"
   ]
  },
  {
   "cell_type": "code",
   "execution_count": 19,
   "id": "b1579f5a-cbe1-4696-ad65-67d28a5e7a0e",
   "metadata": {},
   "outputs": [
    {
     "name": "stdout",
     "output_type": "stream",
     "text": [
      "\\begin{tabular}{lllllll}\n",
      "\\toprule\n",
      " & pli_qcov > 50 & pocket_lddt > 50 & pocket_qcov > 50 & protein_lddt_qcov_weighted_sum > 50 & protein_seqsim_weighted_sum > 30 & tanimoto_similarity_max > 30 \\\\\n",
      "split &  &  &  &  &  &  \\\\\n",
      "\\midrule\n",
      "pdbbind-original & 0.91 & 1.00 & 1.00 & 1.00 & 1.00 & 0.62 \\\\\n",
      "pdbbind-diffdock & 0.43 & 0.76 & 0.73 & 0.76 & 0.80 & 0.43 \\\\\n",
      "dockgen & 0.04 & 0.08 & 0.05 & 0.08 & 0.18 & 0.64 \\\\\n",
      "pdbbind-lp & 0.77 & 0.87 & 0.86 & 0.89 & 0.94 & 0.40 \\\\\n",
      "plinder-time & 0.80 & 0.96 & 0.88 & 0.95 & 0.98 & 0.54 \\\\\n",
      "plinder-ecod & 0.30 & 0.49 & 0.35 & 0.49 & 0.60 & 0.52 \\\\\n",
      "plinder-v0 & 0.04 & 0.00 & 0.09 & 0.01 & 0.37 & 0.58 \\\\\n",
      "\\bottomrule\n",
      "\\end{tabular}\n",
      "\n"
     ]
    }
   ],
   "source": [
    "order = [\"pdbbind-original\", \"pdbbind-diffdock\", \"dockgen\", \"pdbbind-lp\", \"plinder-time\", \"plinder-ecod\", \"plinder-v0\"]\n",
    "print(pd.DataFrame(rows).set_index(\"split\")[metric_order].T[order].T.to_latex())"
   ]
  },
  {
   "cell_type": "markdown",
   "id": "4484953a",
   "metadata": {},
   "source": [
    "## Posebusters leakage fractions"
   ]
  },
  {
   "cell_type": "code",
   "execution_count": 20,
   "id": "d5725e2e",
   "metadata": {},
   "outputs": [
    {
     "name": "stdout",
     "output_type": "stream",
     "text": [
      "\\begin{tabular}{lllllll}\n",
      "\\toprule\n",
      " & pli_qcov > 50 & pocket_lddt > 50 & pocket_qcov > 50 & protein_lddt_qcov_weighted_sum > 50 & protein_seqsim_weighted_sum > 30 & tanimoto_similarity_max > 30 \\\\\n",
      "split &  &  &  &  &  &  \\\\\n",
      "\\midrule\n",
      "pdbbind-original & 0.51 & 0.66 & 0.63 & 0.68 & 0.77 & 0.57 \\\\\n",
      "pdbbind-diffdock & 0.52 & 0.69 & 0.65 & 0.70 & 0.78 & 0.59 \\\\\n",
      "dockgen & 0.60 & 0.74 & 0.70 & 0.72 & 0.81 & 0.61 \\\\\n",
      "pdbbind-lp & 0.48 & 0.67 & 0.64 & 0.68 & 0.79 & 0.57 \\\\\n",
      "plinder-time & 0.72 & 0.88 & 0.83 & 0.88 & 0.93 & 0.66 \\\\\n",
      "plinder-ecod & 0.64 & 0.74 & 0.70 & 0.75 & 0.81 & 0.65 \\\\\n",
      "plinder-v0 & 0.40 & 0.47 & 0.47 & 0.48 & 0.64 & 0.64 \\\\\n",
      "\\bottomrule\n",
      "\\end{tabular}\n",
      "\n"
     ]
    }
   ],
   "source": [
    "order = [\"pdbbind-original\", \"pdbbind-diffdock\", \"dockgen\", \"pdbbind-lp\", \"plinder-time\", \"plinder-ecod\", \"plinder-v0\"]\n",
    "print(pd.DataFrame(rows2).set_index(\"split\")[metric_order].T[order].T.to_latex())"
   ]
  },
  {
   "cell_type": "markdown",
   "id": "30c5a8ae",
   "metadata": {},
   "source": [
    "## plinder full splits"
   ]
  },
  {
   "cell_type": "code",
   "execution_count": 22,
   "id": "969af3ae",
   "metadata": {},
   "outputs": [
    {
     "name": "stdout",
     "output_type": "stream",
     "text": [
      "splits_metaflow_config_split_batch_6_9_yaml_e9ca06e682c3cb2f9340542d1ec1f6dc\n",
      "splits_metaflow_config_split_batch_6_2_yaml_ff5ef415b01555aeb2bdef1f1d52a44e\n",
      "splits_metaflow_config_split_batch_6_10_yaml_53e4b810607fa6672394e41abcbf73ed\n",
      "splits_metaflow_config_split_batch_6_7_yaml_f2f13aafadd53ca34a8f399b5e88e7da\n"
     ]
    }
   ],
   "source": [
    "rows = []\n",
    "rows2 = []\n",
    "for name in split_tables:\n",
    "    if \"splits\" not in name:\n",
    "        continue\n",
    "    print(name)\n",
    "    row = {\"split\": name.lower() if name not in map_keys else map_keys[name]}\n",
    "    row2 = {\"split\": name.lower() if name not in map_keys else map_keys[name]}\n",
    "    for i, metric_threshold in enumerate(metric_thresholds):\n",
    "        row[f\"{metric_threshold[0]} > {metric_threshold[1]}\"] = f'{fractions_all[metric_threshold][name][\"fraction_leaked_val_test_hq_0\"]:.2f}'\n",
    "        row2[f\"{metric_threshold[0]} > {metric_threshold[1]}\"] = f'{fractions_all[metric_threshold][name][\"fraction_leaked_train_posebusters_0\"]:.2f}'\n",
    "    rows.append(row)\n",
    "    rows2.append(row2)\n",
    "# rows = rows + rows2"
   ]
  },
  {
   "cell_type": "code",
   "execution_count": 23,
   "id": "2d37bf29",
   "metadata": {},
   "outputs": [
    {
     "data": {
      "text/plain": [
       "[{'split': 'splits_metaflow_config_split_batch_6_9_yaml_e9ca06e682c3cb2f9340542d1ec1f6dc',\n",
       "  'pli_qcov > 50': '0.00',\n",
       "  'pocket_qcov > 50': '0.00',\n",
       "  'pocket_lddt > 50': '0.00',\n",
       "  'protein_lddt_qcov_weighted_sum > 50': '0.00',\n",
       "  'protein_seqsim_weighted_sum > 30': '0.15',\n",
       "  'tanimoto_similarity_max > 30': '0.45'},\n",
       " {'split': 'splits_metaflow_config_split_batch_6_2_yaml_ff5ef415b01555aeb2bdef1f1d52a44e',\n",
       "  'pli_qcov > 50': '0.00',\n",
       "  'pocket_qcov > 50': '0.00',\n",
       "  'pocket_lddt > 50': '0.15',\n",
       "  'protein_lddt_qcov_weighted_sum > 50': '0.17',\n",
       "  'protein_seqsim_weighted_sum > 30': '0.29',\n",
       "  'tanimoto_similarity_max > 30': '0.57'},\n",
       " {'split': 'splits_metaflow_config_split_batch_6_10_yaml_53e4b810607fa6672394e41abcbf73ed',\n",
       "  'pli_qcov > 50': '0.00',\n",
       "  'pocket_qcov > 50': '0.00',\n",
       "  'pocket_lddt > 50': '0.03',\n",
       "  'protein_lddt_qcov_weighted_sum > 50': '0.04',\n",
       "  'protein_seqsim_weighted_sum > 30': '0.18',\n",
       "  'tanimoto_similarity_max > 30': '0.39'},\n",
       " {'split': 'splits_metaflow_config_split_batch_6_7_yaml_f2f13aafadd53ca34a8f399b5e88e7da',\n",
       "  'pli_qcov > 50': '0.00',\n",
       "  'pocket_qcov > 50': '0.00',\n",
       "  'pocket_lddt > 50': '0.00',\n",
       "  'protein_lddt_qcov_weighted_sum > 50': '0.00',\n",
       "  'protein_seqsim_weighted_sum > 30': '0.00',\n",
       "  'tanimoto_similarity_max > 30': '0.44'}]"
      ]
     },
     "execution_count": 23,
     "metadata": {},
     "output_type": "execute_result"
    }
   ],
   "source": [
    "rows"
   ]
  },
  {
   "cell_type": "code",
   "execution_count": null,
   "id": "4728f8f7",
   "metadata": {},
   "outputs": [],
   "source": []
  }
 ],
 "metadata": {
  "kernelspec": {
   "display_name": "plinder",
   "language": "python",
   "name": "python3"
  },
  "language_info": {
   "codemirror_mode": {
    "name": "ipython",
    "version": 3
   },
   "file_extension": ".py",
   "mimetype": "text/x-python",
   "name": "python",
   "nbconvert_exporter": "python",
   "pygments_lexer": "ipython3",
   "version": "3.9.0"
  }
 },
 "nbformat": 4,
 "nbformat_minor": 5
}
