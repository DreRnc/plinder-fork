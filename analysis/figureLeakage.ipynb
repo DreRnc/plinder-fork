{
 "cells": [
  {
   "cell_type": "code",
   "execution_count": 1,
   "metadata": {},
   "outputs": [],
   "source": [
    "%load_ext autoreload\n",
    "%autoreload 2\n",
    "\n",
    "from __future__ import annotations\n",
    "import pandas as pd\n",
    "from pathlib import Path\n",
    "import numpy as np\n",
    "from dataclasses import dataclass\n",
    "import plotly.express as px\n",
    "import json\n",
    "pd.set_option('display.max_rows', 500)\n",
    "\n",
    "import os\n",
    "import glob\n",
    "import pickle\n",
    "from rdkit.Chem import Draw\n",
    "from rdkit import Chem"
   ]
  },
  {
   "cell_type": "markdown",
   "metadata": {},
   "source": [
    "# Get results on inference\n",
    "here we use downloads from\n",
    "- gs://plinder-collab-bucket/xuejin_meta_data/ml_workshop_data/testset\n",
    "- gs://plinder-collab-bucket/2024-04/v1/leakage"
   ]
  },
  {
   "cell_type": "code",
   "execution_count": 2,
   "metadata": {},
   "outputs": [],
   "source": [
    "# output_diffdock_dir = Path('gs://plinder-collab-bucket/xuejin_meta_data/ml_workshop_data/testset')\n",
    "output_diffdock_dir = Path('/Users/vladas/plinder_local_data/testset')\n",
    "if not output_diffdock_dir.exists():\n",
    "    os.system(f'gsutil -m cp -r gs://plinder-collab-bucket/xuejin_meta_data/ml_workshop_data/testset {output_diffdock_dir}')\n",
    "output_maxsim_dir = 'gs://plinder-collab-bucket/2024-04/v1/leakage'\n",
    "# output_maxsim_dir = Path('/Users/vladas/plinder_local_data/leakage')"
   ]
  },
  {
   "cell_type": "code",
   "execution_count": 3,
   "metadata": {},
   "outputs": [
    {
     "data": {
      "text/plain": [
       "dict_keys(['pocket_qcov', 'pocket_lddt', 'protein_lddt_qcov_weighted_sum', 'protein_seqsim_weighted_sum', 'pli_qcov', 'tanimoto_similarity_max'])"
      ]
     },
     "execution_count": 3,
     "metadata": {},
     "output_type": "execute_result"
    }
   ],
   "source": [
    "metrics_dict = {\n",
    "    'pocket_qcov': 'POCKET SHARED', \n",
    "    'pocket_lddt': 'POCKET LDDT',\n",
    "    'protein_lddt_qcov_weighted_sum': 'PROTEIN LDDT',\n",
    "    'protein_seqsim_weighted_sum': 'PROTEIN SEQSIM',\n",
    "    'pli_qcov': 'PLI SHARED',\n",
    "    'tanimoto_similarity_max': 'LIGAND SIMILARITY',\n",
    "}\n",
    "metrics_dict.keys()"
   ]
  },
  {
   "cell_type": "code",
   "execution_count": 4,
   "metadata": {},
   "outputs": [
    {
     "data": {
      "text/html": [
       "<div>\n",
       "<style scoped>\n",
       "    .dataframe tbody tr th:only-of-type {\n",
       "        vertical-align: middle;\n",
       "    }\n",
       "\n",
       "    .dataframe tbody tr th {\n",
       "        vertical-align: top;\n",
       "    }\n",
       "\n",
       "    .dataframe thead th {\n",
       "        text-align: right;\n",
       "    }\n",
       "</style>\n",
       "<table border=\"1\" class=\"dataframe\">\n",
       "  <thead>\n",
       "    <tr style=\"text-align: right;\">\n",
       "      <th></th>\n",
       "      <th>system_id</th>\n",
       "      <th>rank</th>\n",
       "      <th>score</th>\n",
       "      <th>rmsd</th>\n",
       "      <th>dr</th>\n",
       "      <th>inference_set</th>\n",
       "      <th>model</th>\n",
       "      <th>seed</th>\n",
       "    </tr>\n",
       "  </thead>\n",
       "  <tbody>\n",
       "    <tr>\n",
       "      <th>0</th>\n",
       "      <td>16pk__1__1.A__1.B</td>\n",
       "      <td>5</td>\n",
       "      <td>-2.23</td>\n",
       "      <td>3.148070</td>\n",
       "      <td>1.040803</td>\n",
       "      <td>valid</td>\n",
       "      <td>plinder_v0</td>\n",
       "      <td>55</td>\n",
       "    </tr>\n",
       "    <tr>\n",
       "      <th>1</th>\n",
       "      <td>16pk__1__1.A__1.B</td>\n",
       "      <td>9</td>\n",
       "      <td>-3.30</td>\n",
       "      <td>4.055051</td>\n",
       "      <td>2.588200</td>\n",
       "      <td>valid</td>\n",
       "      <td>plinder_v0</td>\n",
       "      <td>55</td>\n",
       "    </tr>\n",
       "    <tr>\n",
       "      <th>2</th>\n",
       "      <td>16pk__1__1.A__1.B</td>\n",
       "      <td>1</td>\n",
       "      <td>-1.37</td>\n",
       "      <td>5.564755</td>\n",
       "      <td>4.457572</td>\n",
       "      <td>valid</td>\n",
       "      <td>plinder_v0</td>\n",
       "      <td>55</td>\n",
       "    </tr>\n",
       "    <tr>\n",
       "      <th>3</th>\n",
       "      <td>16pk__1__1.A__1.B</td>\n",
       "      <td>2</td>\n",
       "      <td>-1.49</td>\n",
       "      <td>6.464864</td>\n",
       "      <td>5.554993</td>\n",
       "      <td>valid</td>\n",
       "      <td>plinder_v0</td>\n",
       "      <td>55</td>\n",
       "    </tr>\n",
       "    <tr>\n",
       "      <th>4</th>\n",
       "      <td>16pk__1__1.A__1.B</td>\n",
       "      <td>10</td>\n",
       "      <td>-4.96</td>\n",
       "      <td>12.848423</td>\n",
       "      <td>7.811364</td>\n",
       "      <td>valid</td>\n",
       "      <td>plinder_v0</td>\n",
       "      <td>55</td>\n",
       "    </tr>\n",
       "    <tr>\n",
       "      <th>...</th>\n",
       "      <td>...</td>\n",
       "      <td>...</td>\n",
       "      <td>...</td>\n",
       "      <td>...</td>\n",
       "      <td>...</td>\n",
       "      <td>...</td>\n",
       "      <td>...</td>\n",
       "      <td>...</td>\n",
       "    </tr>\n",
       "    <tr>\n",
       "      <th>4265</th>\n",
       "      <td>8slg</td>\n",
       "      <td>2</td>\n",
       "      <td>-1.74</td>\n",
       "      <td>8.061517</td>\n",
       "      <td>3.648560</td>\n",
       "      <td>posebuster</td>\n",
       "      <td>plinder_time</td>\n",
       "      <td>51</td>\n",
       "    </tr>\n",
       "    <tr>\n",
       "      <th>4266</th>\n",
       "      <td>8slg</td>\n",
       "      <td>9</td>\n",
       "      <td>-4.01</td>\n",
       "      <td>3.787216</td>\n",
       "      <td>0.375957</td>\n",
       "      <td>posebuster</td>\n",
       "      <td>plinder_time</td>\n",
       "      <td>51</td>\n",
       "    </tr>\n",
       "    <tr>\n",
       "      <th>4267</th>\n",
       "      <td>8slg</td>\n",
       "      <td>7</td>\n",
       "      <td>-3.10</td>\n",
       "      <td>6.629079</td>\n",
       "      <td>2.032816</td>\n",
       "      <td>posebuster</td>\n",
       "      <td>plinder_time</td>\n",
       "      <td>51</td>\n",
       "    </tr>\n",
       "    <tr>\n",
       "      <th>4268</th>\n",
       "      <td>8slg</td>\n",
       "      <td>6</td>\n",
       "      <td>-2.48</td>\n",
       "      <td>8.748929</td>\n",
       "      <td>4.268572</td>\n",
       "      <td>posebuster</td>\n",
       "      <td>plinder_time</td>\n",
       "      <td>51</td>\n",
       "    </tr>\n",
       "    <tr>\n",
       "      <th>4269</th>\n",
       "      <td>8slg</td>\n",
       "      <td>4</td>\n",
       "      <td>-2.24</td>\n",
       "      <td>7.834351</td>\n",
       "      <td>2.123647</td>\n",
       "      <td>posebuster</td>\n",
       "      <td>plinder_time</td>\n",
       "      <td>51</td>\n",
       "    </tr>\n",
       "  </tbody>\n",
       "</table>\n",
       "<p>860020 rows × 8 columns</p>\n",
       "</div>"
      ],
      "text/plain": [
       "              system_id  rank  score       rmsd        dr inference_set  \\\n",
       "0     16pk__1__1.A__1.B     5  -2.23   3.148070  1.040803         valid   \n",
       "1     16pk__1__1.A__1.B     9  -3.30   4.055051  2.588200         valid   \n",
       "2     16pk__1__1.A__1.B     1  -1.37   5.564755  4.457572         valid   \n",
       "3     16pk__1__1.A__1.B     2  -1.49   6.464864  5.554993         valid   \n",
       "4     16pk__1__1.A__1.B    10  -4.96  12.848423  7.811364         valid   \n",
       "...                 ...   ...    ...        ...       ...           ...   \n",
       "4265               8slg     2  -1.74   8.061517  3.648560    posebuster   \n",
       "4266               8slg     9  -4.01   3.787216  0.375957    posebuster   \n",
       "4267               8slg     7  -3.10   6.629079  2.032816    posebuster   \n",
       "4268               8slg     6  -2.48   8.748929  4.268572    posebuster   \n",
       "4269               8slg     4  -2.24   7.834351  2.123647    posebuster   \n",
       "\n",
       "             model seed  \n",
       "0       plinder_v0   55  \n",
       "1       plinder_v0   55  \n",
       "2       plinder_v0   55  \n",
       "3       plinder_v0   55  \n",
       "4       plinder_v0   55  \n",
       "...            ...  ...  \n",
       "4265  plinder_time   51  \n",
       "4266  plinder_time   51  \n",
       "4267  plinder_time   51  \n",
       "4268  plinder_time   51  \n",
       "4269  plinder_time   51  \n",
       "\n",
       "[860020 rows x 8 columns]"
      ]
     },
     "execution_count": 4,
     "metadata": {},
     "output_type": "execute_result"
    }
   ],
   "source": [
    "model_mapping = {\n",
    "    'ecod': 'plinder_v0',\n",
    "    'hard': 'plinder_time',\n",
    "    'time': 'plinder_ecod'\n",
    "}\n",
    "\n",
    "dfs = []\n",
    "for file in list(glob.glob(f\"{output_diffdock_dir}/*.csv\")):\n",
    "    # print(file)\n",
    "    df = pd.read_csv(file)\n",
    "    name = file.split('/')[-1]\n",
    "    testset = name.split('_')[0]\n",
    "    model = name.split('_')[1]\n",
    "    seed = name.split('_')[-1].split('.')[0]\n",
    "    df['inference_set'] = testset\n",
    "    df['model'] = model_mapping[model]\n",
    "    df['seed'] = seed\n",
    "    if testset == 'posebuster':\n",
    "        df['id'] = df['id'].apply(lambda x: x.lower().split('_')[0])\n",
    "    dfs.append(df)\n",
    "dfs = pd.concat(dfs)\n",
    "dfs = dfs.rename(columns={'id':'system_id'})\n",
    "dfs"
   ]
  },
  {
   "cell_type": "code",
   "execution_count": 5,
   "metadata": {},
   "outputs": [
    {
     "name": "stderr",
     "output_type": "stream",
     "text": [
      "/var/folders/8s/zn7mks316fz42nd48972whrh0000gn/T/ipykernel_46908/3194890210.py:1: FutureWarning: The provided callable <function min at 0x1057bf700> is currently using DataFrameGroupBy.min. In a future version of pandas, the provided callable will be used directly. To keep current behavior pass the string \"min\" instead.\n",
      "  df_bestpose = dfs.pivot_table(index=['model', 'inference_set', 'system_id',], values='rmsd', aggfunc=np.min)\n"
     ]
    },
    {
     "data": {
      "text/html": [
       "<div>\n",
       "<style scoped>\n",
       "    .dataframe tbody tr th:only-of-type {\n",
       "        vertical-align: middle;\n",
       "    }\n",
       "\n",
       "    .dataframe tbody tr th {\n",
       "        vertical-align: top;\n",
       "    }\n",
       "\n",
       "    .dataframe thead th {\n",
       "        text-align: right;\n",
       "    }\n",
       "</style>\n",
       "<table border=\"1\" class=\"dataframe\">\n",
       "  <thead>\n",
       "    <tr style=\"text-align: right;\">\n",
       "      <th></th>\n",
       "      <th>model</th>\n",
       "      <th>inference_set</th>\n",
       "      <th>system_id</th>\n",
       "      <th>rmsd</th>\n",
       "      <th>success</th>\n",
       "      <th>metric</th>\n",
       "    </tr>\n",
       "  </thead>\n",
       "  <tbody>\n",
       "    <tr>\n",
       "      <th>0</th>\n",
       "      <td>plinder_ecod</td>\n",
       "      <td>posebuster</td>\n",
       "      <td>5s8i</td>\n",
       "      <td>2.363514</td>\n",
       "      <td>False</td>\n",
       "      <td>pocket_qcov</td>\n",
       "    </tr>\n",
       "    <tr>\n",
       "      <th>0</th>\n",
       "      <td>plinder_ecod</td>\n",
       "      <td>posebuster</td>\n",
       "      <td>5s8i</td>\n",
       "      <td>2.363514</td>\n",
       "      <td>False</td>\n",
       "      <td>pocket_lddt</td>\n",
       "    </tr>\n",
       "    <tr>\n",
       "      <th>0</th>\n",
       "      <td>plinder_ecod</td>\n",
       "      <td>posebuster</td>\n",
       "      <td>5s8i</td>\n",
       "      <td>2.363514</td>\n",
       "      <td>False</td>\n",
       "      <td>protein_lddt_qcov_weighted_sum</td>\n",
       "    </tr>\n",
       "    <tr>\n",
       "      <th>0</th>\n",
       "      <td>plinder_ecod</td>\n",
       "      <td>posebuster</td>\n",
       "      <td>5s8i</td>\n",
       "      <td>2.363514</td>\n",
       "      <td>False</td>\n",
       "      <td>protein_seqsim_weighted_sum</td>\n",
       "    </tr>\n",
       "    <tr>\n",
       "      <th>0</th>\n",
       "      <td>plinder_ecod</td>\n",
       "      <td>posebuster</td>\n",
       "      <td>5s8i</td>\n",
       "      <td>2.363514</td>\n",
       "      <td>False</td>\n",
       "      <td>pli_qcov</td>\n",
       "    </tr>\n",
       "    <tr>\n",
       "      <th>...</th>\n",
       "      <td>...</td>\n",
       "      <td>...</td>\n",
       "      <td>...</td>\n",
       "      <td>...</td>\n",
       "      <td>...</td>\n",
       "      <td>...</td>\n",
       "    </tr>\n",
       "    <tr>\n",
       "      <th>15698</th>\n",
       "      <td>plinder_v0</td>\n",
       "      <td>posebuster</td>\n",
       "      <td>8slg</td>\n",
       "      <td>0.544956</td>\n",
       "      <td>True</td>\n",
       "      <td>pocket_lddt</td>\n",
       "    </tr>\n",
       "    <tr>\n",
       "      <th>15698</th>\n",
       "      <td>plinder_v0</td>\n",
       "      <td>posebuster</td>\n",
       "      <td>8slg</td>\n",
       "      <td>0.544956</td>\n",
       "      <td>True</td>\n",
       "      <td>protein_lddt_qcov_weighted_sum</td>\n",
       "    </tr>\n",
       "    <tr>\n",
       "      <th>15698</th>\n",
       "      <td>plinder_v0</td>\n",
       "      <td>posebuster</td>\n",
       "      <td>8slg</td>\n",
       "      <td>0.544956</td>\n",
       "      <td>True</td>\n",
       "      <td>protein_seqsim_weighted_sum</td>\n",
       "    </tr>\n",
       "    <tr>\n",
       "      <th>15698</th>\n",
       "      <td>plinder_v0</td>\n",
       "      <td>posebuster</td>\n",
       "      <td>8slg</td>\n",
       "      <td>0.544956</td>\n",
       "      <td>True</td>\n",
       "      <td>pli_qcov</td>\n",
       "    </tr>\n",
       "    <tr>\n",
       "      <th>15698</th>\n",
       "      <td>plinder_v0</td>\n",
       "      <td>posebuster</td>\n",
       "      <td>8slg</td>\n",
       "      <td>0.544956</td>\n",
       "      <td>True</td>\n",
       "      <td>tanimoto_similarity_max</td>\n",
       "    </tr>\n",
       "  </tbody>\n",
       "</table>\n",
       "<p>7686 rows × 6 columns</p>\n",
       "</div>"
      ],
      "text/plain": [
       "              model inference_set system_id      rmsd  success  \\\n",
       "0      plinder_ecod    posebuster      5s8i  2.363514    False   \n",
       "0      plinder_ecod    posebuster      5s8i  2.363514    False   \n",
       "0      plinder_ecod    posebuster      5s8i  2.363514    False   \n",
       "0      plinder_ecod    posebuster      5s8i  2.363514    False   \n",
       "0      plinder_ecod    posebuster      5s8i  2.363514    False   \n",
       "...             ...           ...       ...       ...      ...   \n",
       "15698    plinder_v0    posebuster      8slg  0.544956     True   \n",
       "15698    plinder_v0    posebuster      8slg  0.544956     True   \n",
       "15698    plinder_v0    posebuster      8slg  0.544956     True   \n",
       "15698    plinder_v0    posebuster      8slg  0.544956     True   \n",
       "15698    plinder_v0    posebuster      8slg  0.544956     True   \n",
       "\n",
       "                               metric  \n",
       "0                         pocket_qcov  \n",
       "0                         pocket_lddt  \n",
       "0      protein_lddt_qcov_weighted_sum  \n",
       "0         protein_seqsim_weighted_sum  \n",
       "0                            pli_qcov  \n",
       "...                               ...  \n",
       "15698                     pocket_lddt  \n",
       "15698  protein_lddt_qcov_weighted_sum  \n",
       "15698     protein_seqsim_weighted_sum  \n",
       "15698                        pli_qcov  \n",
       "15698         tanimoto_similarity_max  \n",
       "\n",
       "[7686 rows x 6 columns]"
      ]
     },
     "execution_count": 5,
     "metadata": {},
     "output_type": "execute_result"
    }
   ],
   "source": [
    "df_bestpose = dfs.pivot_table(index=['model', 'inference_set', 'system_id',], values='rmsd', aggfunc=np.min)\n",
    "df_bestpose = df_bestpose.reset_index()\n",
    "\n",
    "df_bestpose['success'] = df_bestpose['rmsd'] <= 2\n",
    "df_bestpose = df_bestpose[df_bestpose['inference_set'] == 'posebuster']\n",
    "\n",
    "# Create a new column 'metric' in best_performance that contains the list of metrics\n",
    "df_bestpose['metric'] = [list(metrics_dict)] * len(df_bestpose)\n",
    "\n",
    "# Explode the 'metric' column to replicate each row for each metric\n",
    "df_bestpose = df_bestpose.explode('metric')\n",
    "df_bestpose"
   ]
  },
  {
   "cell_type": "code",
   "execution_count": 6,
   "metadata": {},
   "outputs": [
    {
     "name": "stdout",
     "output_type": "stream",
     "text": [
      "plinder-v0__pocket_qcov__train_posebusters.parquet 406\n",
      "plinder-Time__pocket_qcov__train_posebusters.parquet 640\n",
      "plinder-ECOD__pocket_qcov__train_posebusters.parquet 527\n",
      "plinder-v0__pocket_lddt__train_posebusters.parquet 365\n",
      "plinder-Time__pocket_lddt__train_posebusters.parquet 659\n",
      "plinder-ECOD__pocket_lddt__train_posebusters.parquet 554\n",
      "plinder-v0__protein_lddt_qcov_weighted_sum__train_posebusters.parquet 368\n",
      "plinder-Time__protein_lddt_qcov_weighted_sum__train_posebusters.parquet 661\n",
      "plinder-ECOD__protein_lddt_qcov_weighted_sum__train_posebusters.parquet 561\n",
      "plinder-v0__protein_seqsim_weighted_sum__train_posebusters.parquet 484\n",
      "plinder-Time__protein_seqsim_weighted_sum__train_posebusters.parquet 685\n",
      "plinder-ECOD__protein_seqsim_weighted_sum__train_posebusters.parquet 597\n",
      "plinder-v0__pli_qcov__train_posebusters.parquet 345\n",
      "plinder-Time__pli_qcov__train_posebusters.parquet 615\n",
      "plinder-ECOD__pli_qcov__train_posebusters.parquet 511\n",
      "plinder-v0__tanimoto_similarity_max__train_posebusters.parquet 120409\n",
      "plinder-Time__tanimoto_similarity_max__train_posebusters.parquet 93067\n",
      "plinder-ECOD__tanimoto_similarity_max__train_posebusters.parquet 94818\n",
      "316272\n",
      "85588\n"
     ]
    },
    {
     "data": {
      "text/html": [
       "<div>\n",
       "<style scoped>\n",
       "    .dataframe tbody tr th:only-of-type {\n",
       "        vertical-align: middle;\n",
       "    }\n",
       "\n",
       "    .dataframe tbody tr th {\n",
       "        vertical-align: top;\n",
       "    }\n",
       "\n",
       "    .dataframe thead th {\n",
       "        text-align: right;\n",
       "    }\n",
       "</style>\n",
       "<table border=\"1\" class=\"dataframe\">\n",
       "  <thead>\n",
       "    <tr style=\"text-align: right;\">\n",
       "      <th></th>\n",
       "      <th>system_id</th>\n",
       "      <th>model</th>\n",
       "      <th>inference_set</th>\n",
       "      <th>metric</th>\n",
       "      <th>similarity</th>\n",
       "    </tr>\n",
       "  </thead>\n",
       "  <tbody>\n",
       "    <tr>\n",
       "      <th>0</th>\n",
       "      <td>10mh</td>\n",
       "      <td>plinder_ecod</td>\n",
       "      <td>posebuster</td>\n",
       "      <td>tanimoto_similarity_max</td>\n",
       "      <td>83</td>\n",
       "    </tr>\n",
       "    <tr>\n",
       "      <th>1</th>\n",
       "      <td>10mh</td>\n",
       "      <td>plinder_time</td>\n",
       "      <td>posebuster</td>\n",
       "      <td>tanimoto_similarity_max</td>\n",
       "      <td>83</td>\n",
       "    </tr>\n",
       "    <tr>\n",
       "      <th>2</th>\n",
       "      <td>10mh</td>\n",
       "      <td>plinder_v0</td>\n",
       "      <td>posebuster</td>\n",
       "      <td>tanimoto_similarity_max</td>\n",
       "      <td>83</td>\n",
       "    </tr>\n",
       "    <tr>\n",
       "      <th>3</th>\n",
       "      <td>11as</td>\n",
       "      <td>plinder_ecod</td>\n",
       "      <td>posebuster</td>\n",
       "      <td>tanimoto_similarity_max</td>\n",
       "      <td>100</td>\n",
       "    </tr>\n",
       "    <tr>\n",
       "      <th>4</th>\n",
       "      <td>11as</td>\n",
       "      <td>plinder_time</td>\n",
       "      <td>posebuster</td>\n",
       "      <td>tanimoto_similarity_max</td>\n",
       "      <td>100</td>\n",
       "    </tr>\n",
       "  </tbody>\n",
       "</table>\n",
       "</div>"
      ],
      "text/plain": [
       "  system_id         model inference_set                   metric  similarity\n",
       "0      10mh  plinder_ecod    posebuster  tanimoto_similarity_max          83\n",
       "1      10mh  plinder_time    posebuster  tanimoto_similarity_max          83\n",
       "2      10mh    plinder_v0    posebuster  tanimoto_similarity_max          83\n",
       "3      11as  plinder_ecod    posebuster  tanimoto_similarity_max         100\n",
       "4      11as  plinder_time    posebuster  tanimoto_similarity_max         100"
      ]
     },
     "execution_count": 6,
     "metadata": {},
     "output_type": "execute_result"
    }
   ],
   "source": [
    "dfs_maxsim = []\n",
    "for metric in metrics_dict.keys():\n",
    "    for model in ['plinder-v0', 'plinder-Time', 'plinder-ECOD']:\n",
    "        filename = f'{model}__{metric}__train_posebusters.parquet'\n",
    "        df_maxsim = pd.read_parquet(f'{output_maxsim_dir}/{filename}')\n",
    "        df_maxsim['metric'] =  metric\n",
    "        df_maxsim['model'] =  model.replace(\"-\", \"_\").lower()\n",
    "        df_maxsim['inference_set'] = \"posebuster\"\n",
    "        # df_maxsim[\"similarity\"] /= 100\n",
    "        df_maxsim.rename(columns={\"query_system\": \"system_id\"}, inplace=True)\n",
    "        df_maxsim['system_id'] = df_maxsim['system_id'].apply(lambda x: x.lower().split('_')[0])\n",
    "        print(filename, df_maxsim.shape[0])\n",
    "        dfs_maxsim.append(df_maxsim)\n",
    "dfs_maxsim = pd.concat(dfs_maxsim)\n",
    "print(len(dfs_maxsim))\n",
    "dfs_maxsim = dfs_maxsim.sort_values('similarity', ascending=False).groupby(['system_id', 'model', 'inference_set', 'metric']).agg('first').reset_index()\n",
    "print(len(dfs_maxsim))\n",
    "dfs_maxsim.head()"
   ]
  },
  {
   "cell_type": "code",
   "execution_count": 7,
   "metadata": {},
   "outputs": [
    {
     "data": {
      "text/html": [
       "<div>\n",
       "<style scoped>\n",
       "    .dataframe tbody tr th:only-of-type {\n",
       "        vertical-align: middle;\n",
       "    }\n",
       "\n",
       "    .dataframe tbody tr th {\n",
       "        vertical-align: top;\n",
       "    }\n",
       "\n",
       "    .dataframe thead th {\n",
       "        text-align: right;\n",
       "    }\n",
       "</style>\n",
       "<table border=\"1\" class=\"dataframe\">\n",
       "  <thead>\n",
       "    <tr style=\"text-align: right;\">\n",
       "      <th></th>\n",
       "      <th>model</th>\n",
       "      <th>inference_set</th>\n",
       "      <th>system_id</th>\n",
       "      <th>rmsd</th>\n",
       "      <th>success</th>\n",
       "      <th>metric</th>\n",
       "      <th>similarity</th>\n",
       "    </tr>\n",
       "  </thead>\n",
       "  <tbody>\n",
       "    <tr>\n",
       "      <th>0</th>\n",
       "      <td>plinder_ecod</td>\n",
       "      <td>posebuster</td>\n",
       "      <td>5s8i</td>\n",
       "      <td>2.363514</td>\n",
       "      <td>False</td>\n",
       "      <td>pocket_qcov</td>\n",
       "      <td>100.0</td>\n",
       "    </tr>\n",
       "    <tr>\n",
       "      <th>1</th>\n",
       "      <td>plinder_ecod</td>\n",
       "      <td>posebuster</td>\n",
       "      <td>5s8i</td>\n",
       "      <td>2.363514</td>\n",
       "      <td>False</td>\n",
       "      <td>pocket_lddt</td>\n",
       "      <td>100.0</td>\n",
       "    </tr>\n",
       "    <tr>\n",
       "      <th>2</th>\n",
       "      <td>plinder_ecod</td>\n",
       "      <td>posebuster</td>\n",
       "      <td>5s8i</td>\n",
       "      <td>2.363514</td>\n",
       "      <td>False</td>\n",
       "      <td>protein_lddt_qcov_weighted_sum</td>\n",
       "      <td>100.0</td>\n",
       "    </tr>\n",
       "    <tr>\n",
       "      <th>3</th>\n",
       "      <td>plinder_ecod</td>\n",
       "      <td>posebuster</td>\n",
       "      <td>5s8i</td>\n",
       "      <td>2.363514</td>\n",
       "      <td>False</td>\n",
       "      <td>protein_seqsim_weighted_sum</td>\n",
       "      <td>100.0</td>\n",
       "    </tr>\n",
       "    <tr>\n",
       "      <th>4</th>\n",
       "      <td>plinder_ecod</td>\n",
       "      <td>posebuster</td>\n",
       "      <td>5s8i</td>\n",
       "      <td>2.363514</td>\n",
       "      <td>False</td>\n",
       "      <td>pli_qcov</td>\n",
       "      <td>100.0</td>\n",
       "    </tr>\n",
       "    <tr>\n",
       "      <th>...</th>\n",
       "      <td>...</td>\n",
       "      <td>...</td>\n",
       "      <td>...</td>\n",
       "      <td>...</td>\n",
       "      <td>...</td>\n",
       "      <td>...</td>\n",
       "      <td>...</td>\n",
       "    </tr>\n",
       "    <tr>\n",
       "      <th>7681</th>\n",
       "      <td>plinder_v0</td>\n",
       "      <td>posebuster</td>\n",
       "      <td>8slg</td>\n",
       "      <td>0.544956</td>\n",
       "      <td>True</td>\n",
       "      <td>pocket_lddt</td>\n",
       "      <td>0.0</td>\n",
       "    </tr>\n",
       "    <tr>\n",
       "      <th>7682</th>\n",
       "      <td>plinder_v0</td>\n",
       "      <td>posebuster</td>\n",
       "      <td>8slg</td>\n",
       "      <td>0.544956</td>\n",
       "      <td>True</td>\n",
       "      <td>protein_lddt_qcov_weighted_sum</td>\n",
       "      <td>0.0</td>\n",
       "    </tr>\n",
       "    <tr>\n",
       "      <th>7683</th>\n",
       "      <td>plinder_v0</td>\n",
       "      <td>posebuster</td>\n",
       "      <td>8slg</td>\n",
       "      <td>0.544956</td>\n",
       "      <td>True</td>\n",
       "      <td>protein_seqsim_weighted_sum</td>\n",
       "      <td>100.0</td>\n",
       "    </tr>\n",
       "    <tr>\n",
       "      <th>7684</th>\n",
       "      <td>plinder_v0</td>\n",
       "      <td>posebuster</td>\n",
       "      <td>8slg</td>\n",
       "      <td>0.544956</td>\n",
       "      <td>True</td>\n",
       "      <td>pli_qcov</td>\n",
       "      <td>0.0</td>\n",
       "    </tr>\n",
       "    <tr>\n",
       "      <th>7685</th>\n",
       "      <td>plinder_v0</td>\n",
       "      <td>posebuster</td>\n",
       "      <td>8slg</td>\n",
       "      <td>0.544956</td>\n",
       "      <td>True</td>\n",
       "      <td>tanimoto_similarity_max</td>\n",
       "      <td>100.0</td>\n",
       "    </tr>\n",
       "  </tbody>\n",
       "</table>\n",
       "<p>7686 rows × 7 columns</p>\n",
       "</div>"
      ],
      "text/plain": [
       "             model inference_set system_id      rmsd  success  \\\n",
       "0     plinder_ecod    posebuster      5s8i  2.363514    False   \n",
       "1     plinder_ecod    posebuster      5s8i  2.363514    False   \n",
       "2     plinder_ecod    posebuster      5s8i  2.363514    False   \n",
       "3     plinder_ecod    posebuster      5s8i  2.363514    False   \n",
       "4     plinder_ecod    posebuster      5s8i  2.363514    False   \n",
       "...            ...           ...       ...       ...      ...   \n",
       "7681    plinder_v0    posebuster      8slg  0.544956     True   \n",
       "7682    plinder_v0    posebuster      8slg  0.544956     True   \n",
       "7683    plinder_v0    posebuster      8slg  0.544956     True   \n",
       "7684    plinder_v0    posebuster      8slg  0.544956     True   \n",
       "7685    plinder_v0    posebuster      8slg  0.544956     True   \n",
       "\n",
       "                              metric  similarity  \n",
       "0                        pocket_qcov       100.0  \n",
       "1                        pocket_lddt       100.0  \n",
       "2     protein_lddt_qcov_weighted_sum       100.0  \n",
       "3        protein_seqsim_weighted_sum       100.0  \n",
       "4                           pli_qcov       100.0  \n",
       "...                              ...         ...  \n",
       "7681                     pocket_lddt         0.0  \n",
       "7682  protein_lddt_qcov_weighted_sum         0.0  \n",
       "7683     protein_seqsim_weighted_sum       100.0  \n",
       "7684                        pli_qcov         0.0  \n",
       "7685         tanimoto_similarity_max       100.0  \n",
       "\n",
       "[7686 rows x 7 columns]"
      ]
     },
     "execution_count": 7,
     "metadata": {},
     "output_type": "execute_result"
    }
   ],
   "source": [
    "dfs_bestrmsd_maxsim = pd.merge(df_bestpose, dfs_maxsim, on=['system_id', 'model', 'inference_set', 'metric'], how='left')\n",
    "dfs_bestrmsd_maxsim['similarity'] = dfs_bestrmsd_maxsim['similarity'].fillna(0)\n",
    "dfs_bestrmsd_maxsim"
   ]
  },
  {
   "cell_type": "code",
   "execution_count": 8,
   "metadata": {},
   "outputs": [
    {
     "data": {
      "text/plain": [
       "<Axes: >"
      ]
     },
     "execution_count": 8,
     "metadata": {},
     "output_type": "execute_result"
    },
    {
     "data": {
      "image/png": "[encoded data removed]",
      "text/plain": [
       "<Figure size 640x480 with 1 Axes>"
      ]
     },
     "metadata": {},
     "output_type": "display_data"
    }
   ],
   "source": [
    "dfs_bestrmsd_maxsim['similarity'].hist()"
   ]
  },
  {
   "cell_type": "code",
   "execution_count": 9,
   "metadata": {},
   "outputs": [
    {
     "data": {
      "text/plain": [
       "7686"
      ]
     },
     "execution_count": 9,
     "metadata": {},
     "output_type": "execute_result"
    }
   ],
   "source": [
    "len(dfs_bestrmsd_maxsim.drop_duplicates(['model', 'inference_set','system_id', 'metric']))"
   ]
  },
  {
   "cell_type": "code",
   "execution_count": 10,
   "metadata": {},
   "outputs": [],
   "source": [
    "def perf_vs_traindist(\n",
    "    dfs,\n",
    "    metric='pli_qcov',\n",
    "    bins=np.linspace(0, 100, 11),\n",
    "    groupby='model',\n",
    "    ):\n",
    "    dfs = dfs[dfs['metric'] == metric].copy()\n",
    "    # Y0: excess success rate\n",
    "    # Y1: enrichment factor\n",
    "    # Y2: delta average RMSD\n",
    "    # Y3: CDF for leaked systems\n",
    "    Y = []\n",
    "    for model, dfi in dfs.groupby(groupby):\n",
    "        sr_total = sum(dfi['success']) / len(dfi)\n",
    "        mean_rmsd_total = sum(dfi['rmsd']) / len(dfi)\n",
    "        y = {\n",
    "            'XS': [],\n",
    "            'EF' : [],\n",
    "            'delRMSD': [],\n",
    "            'CDF': []\n",
    "        }\n",
    "        for dist in bins:\n",
    "            train_leaked = dfi['similarity'] >= 100 - dist\n",
    "            sr = sum(dfi[train_leaked]['success']) / np.max([sum(train_leaked), 1])\n",
    "            mean_rmsd = sum(dfi['rmsd'][train_leaked]) / np.max([sum(train_leaked), 1])\n",
    "            fraction_leaked = sum(train_leaked) / len(train_leaked)\n",
    "            y['XS'].append(sr - sr_total)\n",
    "            y['EF'].append(sr / sr_total)\n",
    "            y['delRMSD'].append(mean_rmsd - mean_rmsd_total)\n",
    "            y['CDF'].append(fraction_leaked)\n",
    "        Y.append(y)\n",
    "    trends = {k: np.array([yi[k] for yi in Y]) for k in Y[0].keys()}\n",
    "    # trends['distance_to_train'] = bins\n",
    "    return trends\n",
    "\n",
    "\n",
    "def perf_vs_traindist_all(dfall, xbins=np.linspace(0, 100, 11)):\n",
    "    data = []\n",
    "    for met, dfs in dfall.groupby('metric'):\n",
    "        trends = perf_vs_traindist(dfs, metric=met, bins=xbins)\n",
    "        for k, v in trends.items():\n",
    "            data += [{\n",
    "                'metric': met,\n",
    "                'cutoff': x,\n",
    "                \"mean\": np.mean(v[:,ix]),\n",
    "                \"err\": np.std(v[:,ix]) / np.sqrt(len(v[:,ix])),\n",
    "                \"analysis\": k,\n",
    "            } \n",
    "            for ix, x in enumerate(xbins)]\n",
    "    return pd.DataFrame.from_records(data)"
   ]
  },
  {
   "cell_type": "code",
   "execution_count": 11,
   "metadata": {},
   "outputs": [],
   "source": [
    "df_report = perf_vs_traindist_all(dfs_bestrmsd_maxsim)"
   ]
  },
  {
   "cell_type": "code",
   "execution_count": null,
   "metadata": {},
   "outputs": [],
   "source": []
  },
  {
   "cell_type": "markdown",
   "metadata": {},
   "source": [
    "# Plot"
   ]
  },
  {
   "cell_type": "code",
   "execution_count": 12,
   "metadata": {},
   "outputs": [],
   "source": [
    "def plot_leakage_vs_perfomance(\n",
    "        df_analysis,\n",
    "        # analysis_Y='CDF',\n",
    "        analysis_Y = 'EF',\n",
    "        # analysis_Y = 'XS',\n",
    "        # analysis_Y = 'delRMSD,\n",
    "        exclude_ligand=False,\n",
    "        plot_dimension=(400, 650)\n",
    "    ):\n",
    "\n",
    "    analysis_to_yaxis_label = {\n",
    "        'XS': \"Excess Success Rate\",\n",
    "        'EF': \"Enrichment Factor\",\n",
    "        'delRMSD': \"Change in mean RMSD\",\n",
    "        'CDF': \"Cumulative Leakage Fraction\"\n",
    "    }\n",
    "    xaxis_label = 'Similarity Distance to Train Set'\n",
    "\n",
    "    symbols = ['circle', 'square', 'star', 'diamond', 'hourglass', 'pentagon', 'cross']\n",
    "    colors = [\"lightblue\", \"pink\", \"lightgreen\", \"purple\", \"goldenrod\", 'red', 'blue']\n",
    "\n",
    "    df_plot = df_analysis[df_analysis.analysis==analysis_Y]\n",
    "    df_plot.metric = df_plot.metric.map(metrics_dict)\n",
    "    df_plot = df_plot.rename(columns={\"cutoff\": xaxis_label, \"mean\" : analysis_to_yaxis_label[analysis_Y], 'metric': 'Metric'})\n",
    "    if exclude_ligand:\n",
    "        df_plot =  df_plot[~df_plot.Metric.apply(lambda x : \"LIGAND\" in x)]\n",
    "    \n",
    "    no_of_colors =  len(df_plot.Metric.unique())\n",
    "\n",
    "    fig = px.scatter(\n",
    "            df_plot,\n",
    "            x=xaxis_label,\n",
    "            y=analysis_to_yaxis_label[analysis_Y],\n",
    "            color=\"Metric\",\n",
    "            error_y='err',\n",
    "            # trendline=\"lowess\",\n",
    "            color_discrete_sequence=colors[:no_of_colors],\n",
    "            symbol=\"Metric\",\n",
    "            symbol_sequence=symbols[:no_of_colors],\n",
    "                        height=plot_dimension[0],\n",
    "                        width=plot_dimension[1]\n",
    "    )\n",
    "\n",
    "    fig.update_layout(\n",
    "        {\"plot_bgcolor\": \"rgba(0, 0, 0, 0)\"},\n",
    "        legend=dict(\n",
    "            # x=0,\n",
    "            # y=1,\n",
    "            traceorder=\"normal\",\n",
    "            font=dict(\n",
    "                size=16,\n",
    "                color=\"black\"\n",
    "            ),\n",
    "        ),\n",
    "        font=dict(\n",
    "            size=18,  # Set the font size here\n",
    "        ),\n",
    "        # yaxis_title=\"Success Rate\",\n",
    "        # xaxis_title=\"Fraction of leaked systems\",\n",
    "        yaxis = dict(\n",
    "        tickfont = dict(size=18)),\n",
    "        xaxis = dict(\n",
    "        tickfont = dict(size=18)),\n",
    "        legend_title=None\n",
    "    )\n",
    "    fig.update_xaxes(showline=True, linewidth=2, linecolor='black', color='black')\n",
    "    fig.update_yaxes(showline=True, linewidth=2, linecolor='black', color='black')\n",
    "    fig.update_traces(marker=dict(size=12,\n",
    "                                line=dict(width=1,\n",
    "                                            color='DarkSlateGrey')),\n",
    "                    selector=dict(mode='markers'))\n",
    "    config = {\n",
    "        'toImageButtonOptions': {\n",
    "            'format': 'png', # one of png, svg, jpeg, webp\n",
    "            'filename': f'simtotrain_vs_{analysis_Y}',\n",
    "            # 'scale':6 # Multiply title/legend/axis/canvas sizes by this factor\n",
    "    }\n",
    "    }\n",
    "    return fig.show(config=config)\n"
   ]
  },
  {
   "cell_type": "code",
   "execution_count": 13,
   "metadata": {},
   "outputs": [
    {
     "name": "stderr",
     "output_type": "stream",
     "text": [
      "/var/folders/8s/zn7mks316fz42nd48972whrh0000gn/T/ipykernel_46908/3198298359.py:23: SettingWithCopyWarning: \n",
      "A value is trying to be set on a copy of a slice from a DataFrame.\n",
      "Try using .loc[row_indexer,col_indexer] = value instead\n",
      "\n",
      "See the caveats in the documentation: https://pandas.pydata.org/pandas-docs/stable/user_guide/indexing.html#returning-a-view-versus-a-copy\n",
      "  df_plot.metric = df_plot.metric.map(metrics_dict)\n"
     ]
    },
    {
     "data": {
      "application/vnd.plotly.v1+json": {
       "config": {
        "plotlyServerURL": "https://plot.ly",
        "toImageButtonOptions": {
         "filename": "simtotrain_vs_EF",
         "format": "png"
        }
       },
       "data": [
        {
         "error_y": {
          "array": [
           0.07814801810558752,
           0.0628354984667423,
           0.048528751983722106,
           0.05011640102925561,
           0.03442999614158713,
           0.029470892079299347,
           0.020756011643992867,
           0.02821650398852479,
           0.02362008656003191,
           0.02362008656003191,
           0
          ]
         },
         "hovertemplate": "Metric=PLI SHARED<br>Similarity Distance to Train Set=%{x}<br>Enrichment Factor=%{y}<extra></extra>",
         "legendgroup": "PLI SHARED",
         "marker": {
          "color": "lightblue",
          "line": {
           "color": "DarkSlateGrey",
           "width": 1
          },
          "size": 12,
          "symbol": "circle"
         },
         "mode": "markers",
         "name": "PLI SHARED",
         "orientation": "v",
         "showlegend": true,
         "type": "scatter",
         "x": [
          0,
          10,
          20,
          30,
          40,
          50,
          60,
          70,
          80,
          90,
          100
         ],
         "xaxis": "x",
         "y": [
          1.4557972547263258,
          1.4133184100496956,
          1.3264079659252126,
          1.284333586483857,
          1.217726083928899,
          1.169303855186911,
          1.1515742446392927,
          1.1398564635432185,
          1.1314220940701833,
          1.1314220940701833,
          1
         ],
         "yaxis": "y"
        },
        {
         "error_y": {
          "array": [
           0.037943341704015636,
           0.017451366252217368,
           0.013809159917116303,
           0.012910598500398416,
           0.011462335443037234,
           0.01743596385493692,
           0.01919023109901705,
           0.018777759847081132,
           0.018638810579946916,
           0.018638810579946916,
           0
          ]
         },
         "hovertemplate": "Metric=POCKET LDDT<br>Similarity Distance to Train Set=%{x}<br>Enrichment Factor=%{y}<extra></extra>",
         "legendgroup": "POCKET LDDT",
         "marker": {
          "color": "pink",
          "line": {
           "color": "DarkSlateGrey",
           "width": 1
          },
          "size": 12,
          "symbol": "square"
         },
         "mode": "markers",
         "name": "POCKET LDDT",
         "orientation": "v",
         "showlegend": true,
         "type": "scatter",
         "x": [
          0,
          10,
          20,
          30,
          40,
          50,
          60,
          70,
          80,
          90,
          100
         ],
         "xaxis": "x",
         "y": [
          1.2657691620596514,
          1.1412484298952152,
          1.1098579502137744,
          1.0860498253792679,
          1.0762177357831326,
          1.0835716256156147,
          1.0847193525447838,
          1.0856200045349629,
          1.0860690672241344,
          1.0860690672241344,
          1
         ],
         "yaxis": "y"
        },
        {
         "error_y": {
          "array": [
           0.030680683239329584,
           0.027238682528305736,
           0.02182337269060717,
           0.017249546861023847,
           0.017562666198231804,
           0.019990080795718342,
           0.015096250702153287,
           0.013667473320629554,
           0.017350326250503836,
           0.017350326250503836,
           0
          ]
         },
         "hovertemplate": "Metric=POCKET SHARED<br>Similarity Distance to Train Set=%{x}<br>Enrichment Factor=%{y}<extra></extra>",
         "legendgroup": "POCKET SHARED",
         "marker": {
          "color": "lightgreen",
          "line": {
           "color": "DarkSlateGrey",
           "width": 1
          },
          "size": 12,
          "symbol": "star"
         },
         "mode": "markers",
         "name": "POCKET SHARED",
         "orientation": "v",
         "showlegend": true,
         "type": "scatter",
         "x": [
          0,
          10,
          20,
          30,
          40,
          50,
          60,
          70,
          80,
          90,
          100
         ],
         "xaxis": "x",
         "y": [
          1.2846204213050274,
          1.200897900683411,
          1.1703499501947607,
          1.1444435995421667,
          1.127626622281834,
          1.123583935370213,
          1.1131429520594474,
          1.1133649926628804,
          1.109512481438596,
          1.109512481438596,
          1
         ],
         "yaxis": "y"
        },
        {
         "error_y": {
          "array": [
           0.037270752055674906,
           0.02100963691650166,
           0.019798064581523184,
           0.016135691434626603,
           0.01878257356659327,
           0.01902912581983925,
           0.017306560486437486,
           0.017190933531658917,
           0.013990206925476766,
           0.013990206925476766,
           0
          ]
         },
         "hovertemplate": "Metric=PROTEIN LDDT<br>Similarity Distance to Train Set=%{x}<br>Enrichment Factor=%{y}<extra></extra>",
         "legendgroup": "PROTEIN LDDT",
         "marker": {
          "color": "purple",
          "line": {
           "color": "DarkSlateGrey",
           "width": 1
          },
          "size": 12,
          "symbol": "diamond"
         },
         "mode": "markers",
         "name": "PROTEIN LDDT",
         "orientation": "v",
         "showlegend": true,
         "type": "scatter",
         "x": [
          0,
          10,
          20,
          30,
          40,
          50,
          60,
          70,
          80,
          90,
          100
         ],
         "xaxis": "x",
         "y": [
          1.2327531337603042,
          1.1572405627322973,
          1.1376394941362722,
          1.0894153450016903,
          1.0853301159892013,
          1.0875286845857597,
          1.083811306413403,
          1.0842859605417907,
          1.082087786661084,
          1.082087786661084,
          1
         ],
         "yaxis": "y"
        },
        {
         "error_y": {
          "array": [
           0.01783402580174517,
           0.015275524461177145,
           0.015274951276899896,
           0.011641596148554555,
           0.013892338224493534,
           0.011579030433146552,
           0.011567982824644484,
           0.011357131380829713,
           0.011490847347226808,
           0.011490847347226808,
           0
          ]
         },
         "hovertemplate": "Metric=PROTEIN SEQSIM<br>Similarity Distance to Train Set=%{x}<br>Enrichment Factor=%{y}<extra></extra>",
         "legendgroup": "PROTEIN SEQSIM",
         "marker": {
          "color": "goldenrod",
          "line": {
           "color": "DarkSlateGrey",
           "width": 1
          },
          "size": 12,
          "symbol": "hourglass"
         },
         "mode": "markers",
         "name": "PROTEIN SEQSIM",
         "orientation": "v",
         "showlegend": true,
         "type": "scatter",
         "x": [
          0,
          10,
          20,
          30,
          40,
          50,
          60,
          70,
          80,
          90,
          100
         ],
         "xaxis": "x",
         "y": [
          1.142533010365264,
          1.1290247370064594,
          1.1256440266588499,
          1.109313553384981,
          1.1028911844976015,
          1.0880560714838883,
          1.0617438150454845,
          1.0590675384287724,
          1.0592442768027919,
          1.0592442768027919,
          1
         ],
         "yaxis": "y"
        },
        {
         "error_y": {
          "array": [
           0.004617599312888682,
           0.0026766824982641588,
           0.00564152829187405,
           0.0038871402159885043,
           0.0037326302288451687,
           0.0064112418151811516,
           0.0037975873894245554,
           0.005891866350357045,
           0.005692888041885128,
           0.005692888041885128,
           0
          ]
         },
         "hovertemplate": "Metric=LIGAND SIMILARITY<br>Similarity Distance to Train Set=%{x}<br>Enrichment Factor=%{y}<extra></extra>",
         "legendgroup": "LIGAND SIMILARITY",
         "marker": {
          "color": "red",
          "line": {
           "color": "DarkSlateGrey",
           "width": 1
          },
          "size": 12,
          "symbol": "pentagon"
         },
         "mode": "markers",
         "name": "LIGAND SIMILARITY",
         "orientation": "v",
         "showlegend": true,
         "type": "scatter",
         "x": [
          0,
          10,
          20,
          30,
          40,
          50,
          60,
          70,
          80,
          90,
          100
         ],
         "xaxis": "x",
         "y": [
          1.0287734663021488,
          1.0266285614381545,
          1.0252440820815927,
          1.0414813218630403,
          1.0596740167516845,
          1.0602638216113924,
          1.0569837350721292,
          1.0269568267714992,
          1.032414658859063,
          1.032414658859063,
          1
         ],
         "yaxis": "y"
        }
       ],
       "layout": {
        "font": {
         "size": 18
        },
        "height": 400,
        "legend": {
         "font": {
          "color": "black",
          "size": 16
         },
         "title": {},
         "tracegroupgap": 0,
         "traceorder": "normal"
        },
        "margin": {
         "t": 60
        },
        "plot_bgcolor": "rgba(0, 0, 0, 0)",
        "template": {
         "data": {
          "bar": [
           {
            "error_x": {
             "color": "#2a3f5f"
            },
            "error_y": {
             "color": "#2a3f5f"
            },
            "marker": {
             "line": {
              "color": "#E5ECF6",
              "width": 0.5
             },
             "pattern": {
              "fillmode": "overlay",
              "size": 10,
              "solidity": 0.2
             }
            },
            "type": "bar"
           }
          ],
          "barpolar": [
           {
            "marker": {
             "line": {
              "color": "#E5ECF6",
              "width": 0.5
             },
             "pattern": {
              "fillmode": "overlay",
              "size": 10,
              "solidity": 0.2
             }
            },
            "type": "barpolar"
           }
          ],
          "carpet": [
           {
            "aaxis": {
             "endlinecolor": "#2a3f5f",
             "gridcolor": "white",
             "linecolor": "white",
             "minorgridcolor": "white",
             "startlinecolor": "#2a3f5f"
            },
            "baxis": {
             "endlinecolor": "#2a3f5f",
             "gridcolor": "white",
             "linecolor": "white",
             "minorgridcolor": "white",
             "startlinecolor": "#2a3f5f"
            },
            "type": "carpet"
           }
          ],
          "choropleth": [
           {
            "colorbar": {
             "outlinewidth": 0,
             "ticks": ""
            },
            "type": "choropleth"
           }
          ],
          "contour": [
           {
            "colorbar": {
             "outlinewidth": 0,
             "ticks": ""
            },
            "colorscale": [
             [
              0,
              "#0d0887"
             ],
             [
              0.1111111111111111,
              "#46039f"
             ],
             [
              0.2222222222222222,
              "#7201a8"
             ],
             [
              0.3333333333333333,
              "#9c179e"
             ],
             [
              0.4444444444444444,
              "#bd3786"
             ],
             [
              0.5555555555555556,
              "#d8576b"
             ],
             [
              0.6666666666666666,
              "#ed7953"
             ],
             [
              0.7777777777777778,
              "#fb9f3a"
             ],
             [
              0.8888888888888888,
              "#fdca26"
             ],
             [
              1,
              "#f0f921"
             ]
            ],
            "type": "contour"
           }
          ],
          "contourcarpet": [
           {
            "colorbar": {
             "outlinewidth": 0,
             "ticks": ""
            },
            "type": "contourcarpet"
           }
          ],
          "heatmap": [
           {
            "colorbar": {
             "outlinewidth": 0,
             "ticks": ""
            },
            "colorscale": [
             [
              0,
              "#0d0887"
             ],
             [
              0.1111111111111111,
              "#46039f"
             ],
             [
              0.2222222222222222,
              "#7201a8"
             ],
             [
              0.3333333333333333,
              "#9c179e"
             ],
             [
              0.4444444444444444,
              "#bd3786"
             ],
             [
              0.5555555555555556,
              "#d8576b"
             ],
             [
              0.6666666666666666,
              "#ed7953"
             ],
             [
              0.7777777777777778,
              "#fb9f3a"
             ],
             [
              0.8888888888888888,
              "#fdca26"
             ],
             [
              1,
              "#f0f921"
             ]
            ],
            "type": "heatmap"
           }
          ],
          "heatmapgl": [
           {
            "colorbar": {
             "outlinewidth": 0,
             "ticks": ""
            },
            "colorscale": [
             [
              0,
              "#0d0887"
             ],
             [
              0.1111111111111111,
              "#46039f"
             ],
             [
              0.2222222222222222,
              "#7201a8"
             ],
             [
              0.3333333333333333,
              "#9c179e"
             ],
             [
              0.4444444444444444,
              "#bd3786"
             ],
             [
              0.5555555555555556,
              "#d8576b"
             ],
             [
              0.6666666666666666,
              "#ed7953"
             ],
             [
              0.7777777777777778,
              "#fb9f3a"
             ],
             [
              0.8888888888888888,
              "#fdca26"
             ],
             [
              1,
              "#f0f921"
             ]
            ],
            "type": "heatmapgl"
           }
          ],
          "histogram": [
           {
            "marker": {
             "pattern": {
              "fillmode": "overlay",
              "size": 10,
              "solidity": 0.2
             }
            },
            "type": "histogram"
           }
          ],
          "histogram2d": [
           {
            "colorbar": {
             "outlinewidth": 0,
             "ticks": ""
            },
            "colorscale": [
             [
              0,
              "#0d0887"
             ],
             [
              0.1111111111111111,
              "#46039f"
             ],
             [
              0.2222222222222222,
              "#7201a8"
             ],
             [
              0.3333333333333333,
              "#9c179e"
             ],
             [
              0.4444444444444444,
              "#bd3786"
             ],
             [
              0.5555555555555556,
              "#d8576b"
             ],
             [
              0.6666666666666666,
              "#ed7953"
             ],
             [
              0.7777777777777778,
              "#fb9f3a"
             ],
             [
              0.8888888888888888,
              "#fdca26"
             ],
             [
              1,
              "#f0f921"
             ]
            ],
            "type": "histogram2d"
           }
          ],
          "histogram2dcontour": [
           {
            "colorbar": {
             "outlinewidth": 0,
             "ticks": ""
            },
            "colorscale": [
             [
              0,
              "#0d0887"
             ],
             [
              0.1111111111111111,
              "#46039f"
             ],
             [
              0.2222222222222222,
              "#7201a8"
             ],
             [
              0.3333333333333333,
              "#9c179e"
             ],
             [
              0.4444444444444444,
              "#bd3786"
             ],
             [
              0.5555555555555556,
              "#d8576b"
             ],
             [
              0.6666666666666666,
              "#ed7953"
             ],
             [
              0.7777777777777778,
              "#fb9f3a"
             ],
             [
              0.8888888888888888,
              "#fdca26"
             ],
             [
              1,
              "#f0f921"
             ]
            ],
            "type": "histogram2dcontour"
           }
          ],
          "mesh3d": [
           {
            "colorbar": {
             "outlinewidth": 0,
             "ticks": ""
            },
            "type": "mesh3d"
           }
          ],
          "parcoords": [
           {
            "line": {
             "colorbar": {
              "outlinewidth": 0,
              "ticks": ""
             }
            },
            "type": "parcoords"
           }
          ],
          "pie": [
           {
            "automargin": true,
            "type": "pie"
           }
          ],
          "scatter": [
           {
            "fillpattern": {
             "fillmode": "overlay",
             "size": 10,
             "solidity": 0.2
            },
            "type": "scatter"
           }
          ],
          "scatter3d": [
           {
            "line": {
             "colorbar": {
              "outlinewidth": 0,
              "ticks": ""
             }
            },
            "marker": {
             "colorbar": {
              "outlinewidth": 0,
              "ticks": ""
             }
            },
            "type": "scatter3d"
           }
          ],
          "scattercarpet": [
           {
            "marker": {
             "colorbar": {
              "outlinewidth": 0,
              "ticks": ""
             }
            },
            "type": "scattercarpet"
           }
          ],
          "scattergeo": [
           {
            "marker": {
             "colorbar": {
              "outlinewidth": 0,
              "ticks": ""
             }
            },
            "type": "scattergeo"
           }
          ],
          "scattergl": [
           {
            "marker": {
             "colorbar": {
              "outlinewidth": 0,
              "ticks": ""
             }
            },
            "type": "scattergl"
           }
          ],
          "scattermapbox": [
           {
            "marker": {
             "colorbar": {
              "outlinewidth": 0,
              "ticks": ""
             }
            },
            "type": "scattermapbox"
           }
          ],
          "scatterpolar": [
           {
            "marker": {
             "colorbar": {
              "outlinewidth": 0,
              "ticks": ""
             }
            },
            "type": "scatterpolar"
           }
          ],
          "scatterpolargl": [
           {
            "marker": {
             "colorbar": {
              "outlinewidth": 0,
              "ticks": ""
             }
            },
            "type": "scatterpolargl"
           }
          ],
          "scatterternary": [
           {
            "marker": {
             "colorbar": {
              "outlinewidth": 0,
              "ticks": ""
             }
            },
            "type": "scatterternary"
           }
          ],
          "surface": [
           {
            "colorbar": {
             "outlinewidth": 0,
             "ticks": ""
            },
            "colorscale": [
             [
              0,
              "#0d0887"
             ],
             [
              0.1111111111111111,
              "#46039f"
             ],
             [
              0.2222222222222222,
              "#7201a8"
             ],
             [
              0.3333333333333333,
              "#9c179e"
             ],
             [
              0.4444444444444444,
              "#bd3786"
             ],
             [
              0.5555555555555556,
              "#d8576b"
             ],
             [
              0.6666666666666666,
              "#ed7953"
             ],
             [
              0.7777777777777778,
              "#fb9f3a"
             ],
             [
              0.8888888888888888,
              "#fdca26"
             ],
             [
              1,
              "#f0f921"
             ]
            ],
            "type": "surface"
           }
          ],
          "table": [
           {
            "cells": {
             "fill": {
              "color": "#EBF0F8"
             },
             "line": {
              "color": "white"
             }
            },
            "header": {
             "fill": {
              "color": "#C8D4E3"
             },
             "line": {
              "color": "white"
             }
            },
            "type": "table"
           }
          ]
         },
         "layout": {
          "annotationdefaults": {
           "arrowcolor": "#2a3f5f",
           "arrowhead": 0,
           "arrowwidth": 1
          },
          "autotypenumbers": "strict",
          "coloraxis": {
           "colorbar": {
            "outlinewidth": 0,
            "ticks": ""
           }
          },
          "colorscale": {
           "diverging": [
            [
             0,
             "#8e0152"
            ],
            [
             0.1,
             "#c51b7d"
            ],
            [
             0.2,
             "#de77ae"
            ],
            [
             0.3,
             "#f1b6da"
            ],
            [
             0.4,
             "#fde0ef"
            ],
            [
             0.5,
             "#f7f7f7"
            ],
            [
             0.6,
             "#e6f5d0"
            ],
            [
             0.7,
             "#b8e186"
            ],
            [
             0.8,
             "#7fbc41"
            ],
            [
             0.9,
             "#4d9221"
            ],
            [
             1,
             "#276419"
            ]
           ],
           "sequential": [
            [
             0,
             "#0d0887"
            ],
            [
             0.1111111111111111,
             "#46039f"
            ],
            [
             0.2222222222222222,
             "#7201a8"
            ],
            [
             0.3333333333333333,
             "#9c179e"
            ],
            [
             0.4444444444444444,
             "#bd3786"
            ],
            [
             0.5555555555555556,
             "#d8576b"
            ],
            [
             0.6666666666666666,
             "#ed7953"
            ],
            [
             0.7777777777777778,
             "#fb9f3a"
            ],
            [
             0.8888888888888888,
             "#fdca26"
            ],
            [
             1,
             "#f0f921"
            ]
           ],
           "sequentialminus": [
            [
             0,
             "#0d0887"
            ],
            [
             0.1111111111111111,
             "#46039f"
            ],
            [
             0.2222222222222222,
             "#7201a8"
            ],
            [
             0.3333333333333333,
             "#9c179e"
            ],
            [
             0.4444444444444444,
             "#bd3786"
            ],
            [
             0.5555555555555556,
             "#d8576b"
            ],
            [
             0.6666666666666666,
             "#ed7953"
            ],
            [
             0.7777777777777778,
             "#fb9f3a"
            ],
            [
             0.8888888888888888,
             "#fdca26"
            ],
            [
             1,
             "#f0f921"
            ]
           ]
          },
          "colorway": [
           "#636efa",
           "#EF553B",
           "#00cc96",
           "#ab63fa",
           "#FFA15A",
           "#19d3f3",
           "#FF6692",
           "#B6E880",
           "#FF97FF",
           "#FECB52"
          ],
          "font": {
           "color": "#2a3f5f"
          },
          "geo": {
           "bgcolor": "white",
           "lakecolor": "white",
           "landcolor": "#E5ECF6",
           "showlakes": true,
           "showland": true,
           "subunitcolor": "white"
          },
          "hoverlabel": {
           "align": "left"
          },
          "hovermode": "closest",
          "mapbox": {
           "style": "light"
          },
          "paper_bgcolor": "white",
          "plot_bgcolor": "#E5ECF6",
          "polar": {
           "angularaxis": {
            "gridcolor": "white",
            "linecolor": "white",
            "ticks": ""
           },
           "bgcolor": "#E5ECF6",
           "radialaxis": {
            "gridcolor": "white",
            "linecolor": "white",
            "ticks": ""
           }
          },
          "scene": {
           "xaxis": {
            "backgroundcolor": "#E5ECF6",
            "gridcolor": "white",
            "gridwidth": 2,
            "linecolor": "white",
            "showbackground": true,
            "ticks": "",
            "zerolinecolor": "white"
           },
           "yaxis": {
            "backgroundcolor": "#E5ECF6",
            "gridcolor": "white",
            "gridwidth": 2,
            "linecolor": "white",
            "showbackground": true,
            "ticks": "",
            "zerolinecolor": "white"
           },
           "zaxis": {
            "backgroundcolor": "#E5ECF6",
            "gridcolor": "white",
            "gridwidth": 2,
            "linecolor": "white",
            "showbackground": true,
            "ticks": "",
            "zerolinecolor": "white"
           }
          },
          "shapedefaults": {
           "line": {
            "color": "#2a3f5f"
           }
          },
          "ternary": {
           "aaxis": {
            "gridcolor": "white",
            "linecolor": "white",
            "ticks": ""
           },
           "baxis": {
            "gridcolor": "white",
            "linecolor": "white",
            "ticks": ""
           },
           "bgcolor": "#E5ECF6",
           "caxis": {
            "gridcolor": "white",
            "linecolor": "white",
            "ticks": ""
           }
          },
          "title": {
           "x": 0.05
          },
          "xaxis": {
           "automargin": true,
           "gridcolor": "white",
           "linecolor": "white",
           "ticks": "",
           "title": {
            "standoff": 15
           },
           "zerolinecolor": "white",
           "zerolinewidth": 2
          },
          "yaxis": {
           "automargin": true,
           "gridcolor": "white",
           "linecolor": "white",
           "ticks": "",
           "title": {
            "standoff": 15
           },
           "zerolinecolor": "white",
           "zerolinewidth": 2
          }
         }
        },
        "width": 650,
        "xaxis": {
         "anchor": "y",
         "color": "black",
         "domain": [
          0,
          1
         ],
         "linecolor": "black",
         "linewidth": 2,
         "showline": true,
         "tickfont": {
          "size": 18
         },
         "title": {
          "text": "Similarity Distance to Train Set"
         }
        },
        "yaxis": {
         "anchor": "x",
         "color": "black",
         "domain": [
          0,
          1
         ],
         "linecolor": "black",
         "linewidth": 2,
         "showline": true,
         "tickfont": {
          "size": 18
         },
         "title": {
          "text": "Enrichment Factor"
         }
        }
       }
      }
     },
     "metadata": {},
     "output_type": "display_data"
    }
   ],
   "source": [
    "plot_leakage_vs_perfomance(df_report, analysis_Y='EF')"
   ]
  },
  {
   "cell_type": "code",
   "execution_count": 14,
   "metadata": {},
   "outputs": [
    {
     "name": "stderr",
     "output_type": "stream",
     "text": [
      "/var/folders/8s/zn7mks316fz42nd48972whrh0000gn/T/ipykernel_46908/3198298359.py:23: SettingWithCopyWarning:\n",
      "\n",
      "\n",
      "A value is trying to be set on a copy of a slice from a DataFrame.\n",
      "Try using .loc[row_indexer,col_indexer] = value instead\n",
      "\n",
      "See the caveats in the documentation: https://pandas.pydata.org/pandas-docs/stable/user_guide/indexing.html#returning-a-view-versus-a-copy\n",
      "\n"
     ]
    },
    {
     "data": {
      "application/vnd.plotly.v1+json": {
       "config": {
        "plotlyServerURL": "https://plot.ly",
        "toImageButtonOptions": {
         "filename": "simtotrain_vs_CDF",
         "format": "png"
        }
       },
       "data": [
        {
         "error_y": {
          "array": [
           0.01608699611352978,
           0.03061463161768552,
           0.052587571563151574,
           0.06513863781260429,
           0.07018239822948649,
           0.0761114113507329,
           0.07817582416712181,
           0.08034401360902671,
           0.08109895390033711,
           0.08109895390033711,
           0
          ]
         },
         "hovertemplate": "Metric=PLI SHARED<br>Similarity Distance to Train Set=%{x}<br>Cumulative Leakage Fraction=%{y}<extra></extra>",
         "legendgroup": "PLI SHARED",
         "marker": {
          "color": "lightblue",
          "line": {
           "color": "DarkSlateGrey",
           "width": 1
          },
          "size": 12,
          "symbol": "circle"
         },
         "mode": "markers",
         "name": "PLI SHARED",
         "orientation": "v",
         "showlegend": true,
         "type": "scatter",
         "x": [
          0,
          10,
          20,
          30,
          40,
          50,
          60,
          70,
          80,
          90,
          100
         ],
         "xaxis": "x",
         "y": [
          0.24746291959406716,
          0.3114754098360656,
          0.4168618266978923,
          0.49960967993754873,
          0.5651834504293521,
          0.6135831381733021,
          0.628415300546448,
          0.6471506635441061,
          0.6682279469164715,
          0.6682279469164715,
          1
         ],
         "yaxis": "y"
        },
        {
         "error_y": {
          "array": [
           0.030254211358432634,
           0.08070726626054067,
           0.09262353473532911,
           0.096503034089164,
           0.09818909572297907,
           0.09434448506033391,
           0.09252479244358504,
           0.09118687561743775,
           0.08950054068309438,
           0.08950054068309438,
           0
          ]
         },
         "hovertemplate": "Metric=POCKET LDDT<br>Similarity Distance to Train Set=%{x}<br>Cumulative Leakage Fraction=%{y}<extra></extra>",
         "legendgroup": "POCKET LDDT",
         "marker": {
          "color": "pink",
          "line": {
           "color": "DarkSlateGrey",
           "width": 1
          },
          "size": 12,
          "symbol": "square"
         },
         "mode": "markers",
         "name": "POCKET LDDT",
         "orientation": "v",
         "showlegend": true,
         "type": "scatter",
         "x": [
          0,
          10,
          20,
          30,
          40,
          50,
          60,
          70,
          80,
          90,
          100
         ],
         "xaxis": "x",
         "y": [
          0.30679156908665106,
          0.5823575331772053,
          0.639344262295082,
          0.6744730679156908,
          0.687743950039032,
          0.6978922716627635,
          0.7049180327868853,
          0.7080405932864949,
          0.7111631537861046,
          0.7111631537861046,
          1
         ],
         "yaxis": "y"
        },
        {
         "error_y": {
          "array": [
           0.05598882459653742,
           0.06884992174172384,
           0.07903635912180954,
           0.08022762795113768,
           0.07832379361588558,
           0.08060652695115288,
           0.07971962798490605,
           0.07384652029197088,
           0.06905908057641365,
           0.06905908057641365,
           0
          ]
         },
         "hovertemplate": "Metric=POCKET SHARED<br>Similarity Distance to Train Set=%{x}<br>Cumulative Leakage Fraction=%{y}<extra></extra>",
         "legendgroup": "POCKET SHARED",
         "marker": {
          "color": "lightgreen",
          "line": {
           "color": "DarkSlateGrey",
           "width": 1
          },
          "size": 12,
          "symbol": "star"
         },
         "mode": "markers",
         "name": "POCKET SHARED",
         "orientation": "v",
         "showlegend": true,
         "type": "scatter",
         "x": [
          0,
          10,
          20,
          30,
          40,
          50,
          60,
          70,
          80,
          90,
          100
         ],
         "xaxis": "x",
         "y": [
          0.4543325526932085,
          0.56128024980484,
          0.6245120999219359,
          0.6487119437939111,
          0.6666666666666666,
          0.6744730679156908,
          0.6799375487900078,
          0.6900858704137393,
          0.7072599531615925,
          0.7072599531615925,
          1
         ],
         "yaxis": "y"
        },
        {
         "error_y": {
          "array": [
           0.023840430748990605,
           0.0732665865083627,
           0.08238866657085338,
           0.09003457979738215,
           0.09387393606656708,
           0.09299998354513332,
           0.09239517045033932,
           0.09070890452548032,
           0.08989458864192396,
           0.08989458864192396,
           0
          ]
         },
         "hovertemplate": "Metric=PROTEIN LDDT<br>Similarity Distance to Train Set=%{x}<br>Cumulative Leakage Fraction=%{y}<extra></extra>",
         "legendgroup": "PROTEIN LDDT",
         "marker": {
          "color": "purple",
          "line": {
           "color": "DarkSlateGrey",
           "width": 1
          },
          "size": 12,
          "symbol": "diamond"
         },
         "mode": "markers",
         "name": "PROTEIN LDDT",
         "orientation": "v",
         "showlegend": true,
         "type": "scatter",
         "x": [
          0,
          10,
          20,
          30,
          40,
          50,
          60,
          70,
          80,
          90,
          100
         ],
         "xaxis": "x",
         "y": [
          0.21935987509758,
          0.5753317720530835,
          0.6096799375487899,
          0.6697892271662763,
          0.6947697111631538,
          0.7010148321623731,
          0.7064793130366901,
          0.7096018735362998,
          0.7135050741608118,
          0.7135050741608118,
          1
         ],
         "yaxis": "y"
        },
        {
         "error_y": {
          "array": [
           0.05003815920806205,
           0.05636127995369007,
           0.058275016256342536,
           0.060508422716865254,
           0.06261687628463848,
           0.059687072142436445,
           0.06196466731155236,
           0.06128232153235963,
           0.059516663891576005,
           0.059516663891576005,
           0
          ]
         },
         "hovertemplate": "Metric=PROTEIN SEQSIM<br>Similarity Distance to Train Set=%{x}<br>Cumulative Leakage Fraction=%{y}<extra></extra>",
         "legendgroup": "PROTEIN SEQSIM",
         "marker": {
          "color": "goldenrod",
          "line": {
           "color": "DarkSlateGrey",
           "width": 1
          },
          "size": 12,
          "symbol": "hourglass"
         },
         "mode": "markers",
         "name": "PROTEIN SEQSIM",
         "orientation": "v",
         "showlegend": true,
         "type": "scatter",
         "x": [
          0,
          10,
          20,
          30,
          40,
          50,
          60,
          70,
          80,
          90,
          100
         ],
         "xaxis": "x",
         "y": [
          0.5862607338017175,
          0.6291959406713504,
          0.6448087431693988,
          0.6604215456674473,
          0.6838407494145199,
          0.7353629976580797,
          0.7782982045277128,
          0.7853239656518346,
          0.7876658860265419,
          0.7876658860265419,
          1
         ],
         "yaxis": "y"
        },
        {
         "error_y": {
          "array": [
           0.01001737005200112,
           0.010531411056387227,
           0.014366040845008863,
           0.011490711509664124,
           0.0116835515590131,
           0.0093893409069314,
           0.00835929138912778,
           0.0016863754094217714,
           0.0029208878897532455,
           0.0029208878897532455,
           0
          ]
         },
         "hovertemplate": "Metric=LIGAND SIMILARITY<br>Similarity Distance to Train Set=%{x}<br>Cumulative Leakage Fraction=%{y}<extra></extra>",
         "legendgroup": "LIGAND SIMILARITY",
         "marker": {
          "color": "red",
          "line": {
           "color": "DarkSlateGrey",
           "width": 1
          },
          "size": 12,
          "symbol": "pentagon"
         },
         "mode": "markers",
         "name": "LIGAND SIMILARITY",
         "orientation": "v",
         "showlegend": true,
         "type": "scatter",
         "x": [
          0,
          10,
          20,
          30,
          40,
          50,
          60,
          70,
          80,
          90,
          100
         ],
         "xaxis": "x",
         "y": [
          0.4106167056986729,
          0.4168618266978923,
          0.4324746291959407,
          0.46682279469164717,
          0.5058548009367682,
          0.5394223263075723,
          0.5846994535519126,
          0.6401249024199844,
          0.6463700234192037,
          0.6463700234192037,
          1
         ],
         "yaxis": "y"
        }
       ],
       "layout": {
        "font": {
         "size": 18
        },
        "height": 400,
        "legend": {
         "font": {
          "color": "black",
          "size": 16
         },
         "title": {},
         "tracegroupgap": 0,
         "traceorder": "normal"
        },
        "margin": {
         "t": 60
        },
        "plot_bgcolor": "rgba(0, 0, 0, 0)",
        "template": {
         "data": {
          "bar": [
           {
            "error_x": {
             "color": "#2a3f5f"
            },
            "error_y": {
             "color": "#2a3f5f"
            },
            "marker": {
             "line": {
              "color": "#E5ECF6",
              "width": 0.5
             },
             "pattern": {
              "fillmode": "overlay",
              "size": 10,
              "solidity": 0.2
             }
            },
            "type": "bar"
           }
          ],
          "barpolar": [
           {
            "marker": {
             "line": {
              "color": "#E5ECF6",
              "width": 0.5
             },
             "pattern": {
              "fillmode": "overlay",
              "size": 10,
              "solidity": 0.2
             }
            },
            "type": "barpolar"
           }
          ],
          "carpet": [
           {
            "aaxis": {
             "endlinecolor": "#2a3f5f",
             "gridcolor": "white",
             "linecolor": "white",
             "minorgridcolor": "white",
             "startlinecolor": "#2a3f5f"
            },
            "baxis": {
             "endlinecolor": "#2a3f5f",
             "gridcolor": "white",
             "linecolor": "white",
             "minorgridcolor": "white",
             "startlinecolor": "#2a3f5f"
            },
            "type": "carpet"
           }
          ],
          "choropleth": [
           {
            "colorbar": {
             "outlinewidth": 0,
             "ticks": ""
            },
            "type": "choropleth"
           }
          ],
          "contour": [
           {
            "colorbar": {
             "outlinewidth": 0,
             "ticks": ""
            },
            "colorscale": [
             [
              0,
              "#0d0887"
             ],
             [
              0.1111111111111111,
              "#46039f"
             ],
             [
              0.2222222222222222,
              "#7201a8"
             ],
             [
              0.3333333333333333,
              "#9c179e"
             ],
             [
              0.4444444444444444,
              "#bd3786"
             ],
             [
              0.5555555555555556,
              "#d8576b"
             ],
             [
              0.6666666666666666,
              "#ed7953"
             ],
             [
              0.7777777777777778,
              "#fb9f3a"
             ],
             [
              0.8888888888888888,
              "#fdca26"
             ],
             [
              1,
              "#f0f921"
             ]
            ],
            "type": "contour"
           }
          ],
          "contourcarpet": [
           {
            "colorbar": {
             "outlinewidth": 0,
             "ticks": ""
            },
            "type": "contourcarpet"
           }
          ],
          "heatmap": [
           {
            "colorbar": {
             "outlinewidth": 0,
             "ticks": ""
            },
            "colorscale": [
             [
              0,
              "#0d0887"
             ],
             [
              0.1111111111111111,
              "#46039f"
             ],
             [
              0.2222222222222222,
              "#7201a8"
             ],
             [
              0.3333333333333333,
              "#9c179e"
             ],
             [
              0.4444444444444444,
              "#bd3786"
             ],
             [
              0.5555555555555556,
              "#d8576b"
             ],
             [
              0.6666666666666666,
              "#ed7953"
             ],
             [
              0.7777777777777778,
              "#fb9f3a"
             ],
             [
              0.8888888888888888,
              "#fdca26"
             ],
             [
              1,
              "#f0f921"
             ]
            ],
            "type": "heatmap"
           }
          ],
          "heatmapgl": [
           {
            "colorbar": {
             "outlinewidth": 0,
             "ticks": ""
            },
            "colorscale": [
             [
              0,
              "#0d0887"
             ],
             [
              0.1111111111111111,
              "#46039f"
             ],
             [
              0.2222222222222222,
              "#7201a8"
             ],
             [
              0.3333333333333333,
              "#9c179e"
             ],
             [
              0.4444444444444444,
              "#bd3786"
             ],
             [
              0.5555555555555556,
              "#d8576b"
             ],
             [
              0.6666666666666666,
              "#ed7953"
             ],
             [
              0.7777777777777778,
              "#fb9f3a"
             ],
             [
              0.8888888888888888,
              "#fdca26"
             ],
             [
              1,
              "#f0f921"
             ]
            ],
            "type": "heatmapgl"
           }
          ],
          "histogram": [
           {
            "marker": {
             "pattern": {
              "fillmode": "overlay",
              "size": 10,
              "solidity": 0.2
             }
            },
            "type": "histogram"
           }
          ],
          "histogram2d": [
           {
            "colorbar": {
             "outlinewidth": 0,
             "ticks": ""
            },
            "colorscale": [
             [
              0,
              "#0d0887"
             ],
             [
              0.1111111111111111,
              "#46039f"
             ],
             [
              0.2222222222222222,
              "#7201a8"
             ],
             [
              0.3333333333333333,
              "#9c179e"
             ],
             [
              0.4444444444444444,
              "#bd3786"
             ],
             [
              0.5555555555555556,
              "#d8576b"
             ],
             [
              0.6666666666666666,
              "#ed7953"
             ],
             [
              0.7777777777777778,
              "#fb9f3a"
             ],
             [
              0.8888888888888888,
              "#fdca26"
             ],
             [
              1,
              "#f0f921"
             ]
            ],
            "type": "histogram2d"
           }
          ],
          "histogram2dcontour": [
           {
            "colorbar": {
             "outlinewidth": 0,
             "ticks": ""
            },
            "colorscale": [
             [
              0,
              "#0d0887"
             ],
             [
              0.1111111111111111,
              "#46039f"
             ],
             [
              0.2222222222222222,
              "#7201a8"
             ],
             [
              0.3333333333333333,
              "#9c179e"
             ],
             [
              0.4444444444444444,
              "#bd3786"
             ],
             [
              0.5555555555555556,
              "#d8576b"
             ],
             [
              0.6666666666666666,
              "#ed7953"
             ],
             [
              0.7777777777777778,
              "#fb9f3a"
             ],
             [
              0.8888888888888888,
              "#fdca26"
             ],
             [
              1,
              "#f0f921"
             ]
            ],
            "type": "histogram2dcontour"
           }
          ],
          "mesh3d": [
           {
            "colorbar": {
             "outlinewidth": 0,
             "ticks": ""
            },
            "type": "mesh3d"
           }
          ],
          "parcoords": [
           {
            "line": {
             "colorbar": {
              "outlinewidth": 0,
              "ticks": ""
             }
            },
            "type": "parcoords"
           }
          ],
          "pie": [
           {
            "automargin": true,
            "type": "pie"
           }
          ],
          "scatter": [
           {
            "fillpattern": {
             "fillmode": "overlay",
             "size": 10,
             "solidity": 0.2
            },
            "type": "scatter"
           }
          ],
          "scatter3d": [
           {
            "line": {
             "colorbar": {
              "outlinewidth": 0,
              "ticks": ""
             }
            },
            "marker": {
             "colorbar": {
              "outlinewidth": 0,
              "ticks": ""
             }
            },
            "type": "scatter3d"
           }
          ],
          "scattercarpet": [
           {
            "marker": {
             "colorbar": {
              "outlinewidth": 0,
              "ticks": ""
             }
            },
            "type": "scattercarpet"
           }
          ],
          "scattergeo": [
           {
            "marker": {
             "colorbar": {
              "outlinewidth": 0,
              "ticks": ""
             }
            },
            "type": "scattergeo"
           }
          ],
          "scattergl": [
           {
            "marker": {
             "colorbar": {
              "outlinewidth": 0,
              "ticks": ""
             }
            },
            "type": "scattergl"
           }
          ],
          "scattermapbox": [
           {
            "marker": {
             "colorbar": {
              "outlinewidth": 0,
              "ticks": ""
             }
            },
            "type": "scattermapbox"
           }
          ],
          "scatterpolar": [
           {
            "marker": {
             "colorbar": {
              "outlinewidth": 0,
              "ticks": ""
             }
            },
            "type": "scatterpolar"
           }
          ],
          "scatterpolargl": [
           {
            "marker": {
             "colorbar": {
              "outlinewidth": 0,
              "ticks": ""
             }
            },
            "type": "scatterpolargl"
           }
          ],
          "scatterternary": [
           {
            "marker": {
             "colorbar": {
              "outlinewidth": 0,
              "ticks": ""
             }
            },
            "type": "scatterternary"
           }
          ],
          "surface": [
           {
            "colorbar": {
             "outlinewidth": 0,
             "ticks": ""
            },
            "colorscale": [
             [
              0,
              "#0d0887"
             ],
             [
              0.1111111111111111,
              "#46039f"
             ],
             [
              0.2222222222222222,
              "#7201a8"
             ],
             [
              0.3333333333333333,
              "#9c179e"
             ],
             [
              0.4444444444444444,
              "#bd3786"
             ],
             [
              0.5555555555555556,
              "#d8576b"
             ],
             [
              0.6666666666666666,
              "#ed7953"
             ],
             [
              0.7777777777777778,
              "#fb9f3a"
             ],
             [
              0.8888888888888888,
              "#fdca26"
             ],
             [
              1,
              "#f0f921"
             ]
            ],
            "type": "surface"
           }
          ],
          "table": [
           {
            "cells": {
             "fill": {
              "color": "#EBF0F8"
             },
             "line": {
              "color": "white"
             }
            },
            "header": {
             "fill": {
              "color": "#C8D4E3"
             },
             "line": {
              "color": "white"
             }
            },
            "type": "table"
           }
          ]
         },
         "layout": {
          "annotationdefaults": {
           "arrowcolor": "#2a3f5f",
           "arrowhead": 0,
           "arrowwidth": 1
          },
          "autotypenumbers": "strict",
          "coloraxis": {
           "colorbar": {
            "outlinewidth": 0,
            "ticks": ""
           }
          },
          "colorscale": {
           "diverging": [
            [
             0,
             "#8e0152"
            ],
            [
             0.1,
             "#c51b7d"
            ],
            [
             0.2,
             "#de77ae"
            ],
            [
             0.3,
             "#f1b6da"
            ],
            [
             0.4,
             "#fde0ef"
            ],
            [
             0.5,
             "#f7f7f7"
            ],
            [
             0.6,
             "#e6f5d0"
            ],
            [
             0.7,
             "#b8e186"
            ],
            [
             0.8,
             "#7fbc41"
            ],
            [
             0.9,
             "#4d9221"
            ],
            [
             1,
             "#276419"
            ]
           ],
           "sequential": [
            [
             0,
             "#0d0887"
            ],
            [
             0.1111111111111111,
             "#46039f"
            ],
            [
             0.2222222222222222,
             "#7201a8"
            ],
            [
             0.3333333333333333,
             "#9c179e"
            ],
            [
             0.4444444444444444,
             "#bd3786"
            ],
            [
             0.5555555555555556,
             "#d8576b"
            ],
            [
             0.6666666666666666,
             "#ed7953"
            ],
            [
             0.7777777777777778,
             "#fb9f3a"
            ],
            [
             0.8888888888888888,
             "#fdca26"
            ],
            [
             1,
             "#f0f921"
            ]
           ],
           "sequentialminus": [
            [
             0,
             "#0d0887"
            ],
            [
             0.1111111111111111,
             "#46039f"
            ],
            [
             0.2222222222222222,
             "#7201a8"
            ],
            [
             0.3333333333333333,
             "#9c179e"
            ],
            [
             0.4444444444444444,
             "#bd3786"
            ],
            [
             0.5555555555555556,
             "#d8576b"
            ],
            [
             0.6666666666666666,
             "#ed7953"
            ],
            [
             0.7777777777777778,
             "#fb9f3a"
            ],
            [
             0.8888888888888888,
             "#fdca26"
            ],
            [
             1,
             "#f0f921"
            ]
           ]
          },
          "colorway": [
           "#636efa",
           "#EF553B",
           "#00cc96",
           "#ab63fa",
           "#FFA15A",
           "#19d3f3",
           "#FF6692",
           "#B6E880",
           "#FF97FF",
           "#FECB52"
          ],
          "font": {
           "color": "#2a3f5f"
          },
          "geo": {
           "bgcolor": "white",
           "lakecolor": "white",
           "landcolor": "#E5ECF6",
           "showlakes": true,
           "showland": true,
           "subunitcolor": "white"
          },
          "hoverlabel": {
           "align": "left"
          },
          "hovermode": "closest",
          "mapbox": {
           "style": "light"
          },
          "paper_bgcolor": "white",
          "plot_bgcolor": "#E5ECF6",
          "polar": {
           "angularaxis": {
            "gridcolor": "white",
            "linecolor": "white",
            "ticks": ""
           },
           "bgcolor": "#E5ECF6",
           "radialaxis": {
            "gridcolor": "white",
            "linecolor": "white",
            "ticks": ""
           }
          },
          "scene": {
           "xaxis": {
            "backgroundcolor": "#E5ECF6",
            "gridcolor": "white",
            "gridwidth": 2,
            "linecolor": "white",
            "showbackground": true,
            "ticks": "",
            "zerolinecolor": "white"
           },
           "yaxis": {
            "backgroundcolor": "#E5ECF6",
            "gridcolor": "white",
            "gridwidth": 2,
            "linecolor": "white",
            "showbackground": true,
            "ticks": "",
            "zerolinecolor": "white"
           },
           "zaxis": {
            "backgroundcolor": "#E5ECF6",
            "gridcolor": "white",
            "gridwidth": 2,
            "linecolor": "white",
            "showbackground": true,
            "ticks": "",
            "zerolinecolor": "white"
           }
          },
          "shapedefaults": {
           "line": {
            "color": "#2a3f5f"
           }
          },
          "ternary": {
           "aaxis": {
            "gridcolor": "white",
            "linecolor": "white",
            "ticks": ""
           },
           "baxis": {
            "gridcolor": "white",
            "linecolor": "white",
            "ticks": ""
           },
           "bgcolor": "#E5ECF6",
           "caxis": {
            "gridcolor": "white",
            "linecolor": "white",
            "ticks": ""
           }
          },
          "title": {
           "x": 0.05
          },
          "xaxis": {
           "automargin": true,
           "gridcolor": "white",
           "linecolor": "white",
           "ticks": "",
           "title": {
            "standoff": 15
           },
           "zerolinecolor": "white",
           "zerolinewidth": 2
          },
          "yaxis": {
           "automargin": true,
           "gridcolor": "white",
           "linecolor": "white",
           "ticks": "",
           "title": {
            "standoff": 15
           },
           "zerolinecolor": "white",
           "zerolinewidth": 2
          }
         }
        },
        "width": 650,
        "xaxis": {
         "anchor": "y",
         "color": "black",
         "domain": [
          0,
          1
         ],
         "linecolor": "black",
         "linewidth": 2,
         "showline": true,
         "tickfont": {
          "size": 18
         },
         "title": {
          "text": "Similarity Distance to Train Set"
         }
        },
        "yaxis": {
         "anchor": "x",
         "color": "black",
         "domain": [
          0,
          1
         ],
         "linecolor": "black",
         "linewidth": 2,
         "showline": true,
         "tickfont": {
          "size": 18
         },
         "title": {
          "text": "Cumulative Leakage Fraction"
         }
        }
       }
      }
     },
     "metadata": {},
     "output_type": "display_data"
    }
   ],
   "source": [
    "plot_leakage_vs_perfomance(df_report, analysis_Y='CDF')"
   ]
  },
  {
   "cell_type": "code",
   "execution_count": 15,
   "metadata": {},
   "outputs": [
    {
     "name": "stderr",
     "output_type": "stream",
     "text": [
      "/var/folders/8s/zn7mks316fz42nd48972whrh0000gn/T/ipykernel_46908/3198298359.py:23: SettingWithCopyWarning:\n",
      "\n",
      "\n",
      "A value is trying to be set on a copy of a slice from a DataFrame.\n",
      "Try using .loc[row_indexer,col_indexer] = value instead\n",
      "\n",
      "See the caveats in the documentation: https://pandas.pydata.org/pandas-docs/stable/user_guide/indexing.html#returning-a-view-versus-a-copy\n",
      "\n"
     ]
    },
    {
     "data": {
      "application/vnd.plotly.v1+json": {
       "config": {
        "plotlyServerURL": "https://plot.ly",
        "toImageButtonOptions": {
         "filename": "simtotrain_vs_XS",
         "format": "png"
        }
       },
       "data": [
        {
         "error_y": {
          "array": [
           0.027147145982822113,
           0.025940778714678127,
           0.02591412233094732,
           0.0288552425976283,
           0.02112170679877894,
           0.018371446825831264,
           0.013656246706455672,
           0.017454010417981534,
           0.014635445176353007,
           0.014635445176353007,
           0
          ]
         },
         "hovertemplate": "Metric=PLI SHARED<br>Similarity Distance to Train Set=%{x}<br>Excess Success Rate=%{y}<extra></extra>",
         "legendgroup": "PLI SHARED",
         "marker": {
          "color": "lightblue",
          "line": {
           "color": "DarkSlateGrey",
           "width": 1
          },
          "size": 12,
          "symbol": "circle"
         },
         "mode": "markers",
         "name": "PLI SHARED",
         "orientation": "v",
         "showlegend": true,
         "type": "scatter",
         "x": [
          0,
          10,
          20,
          30,
          40,
          50,
          60,
          70,
          80,
          90,
          100
         ],
         "xaxis": "x",
         "y": [
          0.2552930636752513,
          0.2335369751925506,
          0.18677446882242635,
          0.16345067880621822,
          0.12628105140019985,
          0.09861118806086722,
          0.08842026173229083,
          0.08165775933156512,
          0.07651616664204115,
          0.07651616664204115,
          0
         ],
         "yaxis": "y"
        },
        {
         "error_y": {
          "array": [
           0.017876517126459945,
           0.010463527415754936,
           0.009035493408811737,
           0.008914217630031862,
           0.008080087630356697,
           0.010985829379312783,
           0.01190029513937117,
           0.011640360786958471,
           0.011599523770239125,
           0.011599523770239125,
           0
          ]
         },
         "hovertemplate": "Metric=POCKET LDDT<br>Similarity Distance to Train Set=%{x}<br>Excess Success Rate=%{y}<extra></extra>",
         "legendgroup": "POCKET LDDT",
         "marker": {
          "color": "pink",
          "line": {
           "color": "DarkSlateGrey",
           "width": 1
          },
          "size": 12,
          "symbol": "square"
         },
         "mode": "markers",
         "name": "POCKET LDDT",
         "orientation": "v",
         "showlegend": true,
         "type": "scatter",
         "x": [
          0,
          10,
          20,
          30,
          40,
          50,
          60,
          70,
          80,
          90,
          100
         ],
         "xaxis": "x",
         "y": [
          0.15120225281259192,
          0.08162456157802955,
          0.06392847586390582,
          0.050667610135890384,
          0.04501167276342921,
          0.049128414250798835,
          0.049751794180365204,
          0.05019180808882665,
          0.050492588211546896,
          0.050492588211546896,
          0
         ],
         "yaxis": "y"
        },
        {
         "error_y": {
          "array": [
           0.014681132488166708,
           0.01490695869200202,
           0.013235460388044474,
           0.010861880890860907,
           0.010780397515216665,
           0.012330040056972198,
           0.009890239982746504,
           0.009091803329642916,
           0.011699585830779506,
           0.011699585830779506,
           0
          ]
         },
         "hovertemplate": "Metric=POCKET SHARED<br>Similarity Distance to Train Set=%{x}<br>Excess Success Rate=%{y}<extra></extra>",
         "legendgroup": "POCKET SHARED",
         "marker": {
          "color": "lightgreen",
          "line": {
           "color": "DarkSlateGrey",
           "width": 1
          },
          "size": 12,
          "symbol": "star"
         },
         "mode": "markers",
         "name": "POCKET SHARED",
         "orientation": "v",
         "showlegend": true,
         "type": "scatter",
         "x": [
          0,
          10,
          20,
          30,
          40,
          50,
          60,
          70,
          80,
          90,
          100
         ],
         "xaxis": "x",
         "y": [
          0.16309650995373468,
          0.11533302034767434,
          0.09853342579231845,
          0.08373891517730758,
          0.07392862743376442,
          0.0717551931966854,
          0.06593031380447893,
          0.06600738209583464,
          0.06442456854484561,
          0.06442456854484561,
          0
         ],
         "yaxis": "y"
        },
        {
         "error_y": {
          "array": [
           0.021567240622371472,
           0.011375808652403823,
           0.011376333475057891,
           0.010449612178832817,
           0.011494354093912843,
           0.011635260994951492,
           0.010819290558142649,
           0.010795983333375836,
           0.009209950753521367,
           0.009209950753521367,
           0
          ]
         },
         "hovertemplate": "Metric=PROTEIN LDDT<br>Similarity Distance to Train Set=%{x}<br>Excess Success Rate=%{y}<extra></extra>",
         "legendgroup": "PROTEIN LDDT",
         "marker": {
          "color": "purple",
          "line": {
           "color": "DarkSlateGrey",
           "width": 1
          },
          "size": 12,
          "symbol": "diamond"
         },
         "mode": "markers",
         "name": "PROTEIN LDDT",
         "orientation": "v",
         "showlegend": true,
         "type": "scatter",
         "x": [
          0,
          10,
          20,
          30,
          40,
          50,
          60,
          70,
          80,
          90,
          100
         ],
         "xaxis": "x",
         "y": [
          0.1340090140594309,
          0.09022945033414798,
          0.07925347497487382,
          0.0525432005254605,
          0.0498012283831463,
          0.0510482712519584,
          0.049128615516200104,
          0.049444438850262916,
          0.04826137823513976,
          0.04826137823513976,
          0
         ],
         "yaxis": "y"
        },
        {
         "error_y": {
          "array": [
           0.005295131086575599,
           0.006407580073834636,
           0.006509167430821831,
           0.00732876465919326,
           0.008795404589592734,
           0.007621250311005128,
           0.007691125129361787,
           0.0075454496893156316,
           0.0076136737904042694,
           0.0076136737904042694,
           0
          ]
         },
         "hovertemplate": "Metric=PROTEIN SEQSIM<br>Similarity Distance to Train Set=%{x}<br>Excess Success Rate=%{y}<extra></extra>",
         "legendgroup": "PROTEIN SEQSIM",
         "marker": {
          "color": "goldenrod",
          "line": {
           "color": "DarkSlateGrey",
           "width": 1
          },
          "size": 12,
          "symbol": "hourglass"
         },
         "mode": "markers",
         "name": "PROTEIN SEQSIM",
         "orientation": "v",
         "showlegend": true,
         "type": "scatter",
         "x": [
          0,
          10,
          20,
          30,
          40,
          50,
          60,
          70,
          80,
          90,
          100
         ],
         "xaxis": "x",
         "y": [
          0.08074368250602264,
          0.07355401604695166,
          0.07160005747053706,
          0.06331144505247936,
          0.05976528327030106,
          0.051318535843994595,
          0.036562337918134014,
          0.035030744206776133,
          0.035134634913752426,
          0.035134634913752426,
          0
         ],
         "yaxis": "y"
        },
        {
         "error_y": {
          "array": [
           0.0022514185068562916,
           0.0004566673254753247,
           0.0035830170732981705,
           0.0028318456492973836,
           0.0012856974868334582,
           0.003342809864065316,
           0.002846764685650484,
           0.0031570519427663165,
           0.0025594560245014077,
           0.0025594560245014077,
           0
          ]
         },
         "hovertemplate": "Metric=LIGAND SIMILARITY<br>Similarity Distance to Train Set=%{x}<br>Excess Success Rate=%{y}<extra></extra>",
         "legendgroup": "LIGAND SIMILARITY",
         "marker": {
          "color": "red",
          "line": {
           "color": "DarkSlateGrey",
           "width": 1
          },
          "size": 12,
          "symbol": "pentagon"
         },
         "mode": "markers",
         "name": "LIGAND SIMILARITY",
         "orientation": "v",
         "showlegend": true,
         "type": "scatter",
         "x": [
          0,
          10,
          20,
          30,
          40,
          50,
          60,
          70,
          80,
          90,
          100
         ],
         "xaxis": "x",
         "y": [
          0.01645627133554617,
          0.015157589283130638,
          0.014942140335815016,
          0.02417098428670191,
          0.03431189195795966,
          0.034626068579909276,
          0.033066587367310905,
          0.015425957841579852,
          0.01843954362646442,
          0.01843954362646442,
          0
         ],
         "yaxis": "y"
        }
       ],
       "layout": {
        "font": {
         "size": 18
        },
        "height": 400,
        "legend": {
         "font": {
          "color": "black",
          "size": 16
         },
         "title": {},
         "tracegroupgap": 0,
         "traceorder": "normal"
        },
        "margin": {
         "t": 60
        },
        "plot_bgcolor": "rgba(0, 0, 0, 0)",
        "template": {
         "data": {
          "bar": [
           {
            "error_x": {
             "color": "#2a3f5f"
            },
            "error_y": {
             "color": "#2a3f5f"
            },
            "marker": {
             "line": {
              "color": "#E5ECF6",
              "width": 0.5
             },
             "pattern": {
              "fillmode": "overlay",
              "size": 10,
              "solidity": 0.2
             }
            },
            "type": "bar"
           }
          ],
          "barpolar": [
           {
            "marker": {
             "line": {
              "color": "#E5ECF6",
              "width": 0.5
             },
             "pattern": {
              "fillmode": "overlay",
              "size": 10,
              "solidity": 0.2
             }
            },
            "type": "barpolar"
           }
          ],
          "carpet": [
           {
            "aaxis": {
             "endlinecolor": "#2a3f5f",
             "gridcolor": "white",
             "linecolor": "white",
             "minorgridcolor": "white",
             "startlinecolor": "#2a3f5f"
            },
            "baxis": {
             "endlinecolor": "#2a3f5f",
             "gridcolor": "white",
             "linecolor": "white",
             "minorgridcolor": "white",
             "startlinecolor": "#2a3f5f"
            },
            "type": "carpet"
           }
          ],
          "choropleth": [
           {
            "colorbar": {
             "outlinewidth": 0,
             "ticks": ""
            },
            "type": "choropleth"
           }
          ],
          "contour": [
           {
            "colorbar": {
             "outlinewidth": 0,
             "ticks": ""
            },
            "colorscale": [
             [
              0,
              "#0d0887"
             ],
             [
              0.1111111111111111,
              "#46039f"
             ],
             [
              0.2222222222222222,
              "#7201a8"
             ],
             [
              0.3333333333333333,
              "#9c179e"
             ],
             [
              0.4444444444444444,
              "#bd3786"
             ],
             [
              0.5555555555555556,
              "#d8576b"
             ],
             [
              0.6666666666666666,
              "#ed7953"
             ],
             [
              0.7777777777777778,
              "#fb9f3a"
             ],
             [
              0.8888888888888888,
              "#fdca26"
             ],
             [
              1,
              "#f0f921"
             ]
            ],
            "type": "contour"
           }
          ],
          "contourcarpet": [
           {
            "colorbar": {
             "outlinewidth": 0,
             "ticks": ""
            },
            "type": "contourcarpet"
           }
          ],
          "heatmap": [
           {
            "colorbar": {
             "outlinewidth": 0,
             "ticks": ""
            },
            "colorscale": [
             [
              0,
              "#0d0887"
             ],
             [
              0.1111111111111111,
              "#46039f"
             ],
             [
              0.2222222222222222,
              "#7201a8"
             ],
             [
              0.3333333333333333,
              "#9c179e"
             ],
             [
              0.4444444444444444,
              "#bd3786"
             ],
             [
              0.5555555555555556,
              "#d8576b"
             ],
             [
              0.6666666666666666,
              "#ed7953"
             ],
             [
              0.7777777777777778,
              "#fb9f3a"
             ],
             [
              0.8888888888888888,
              "#fdca26"
             ],
             [
              1,
              "#f0f921"
             ]
            ],
            "type": "heatmap"
           }
          ],
          "heatmapgl": [
           {
            "colorbar": {
             "outlinewidth": 0,
             "ticks": ""
            },
            "colorscale": [
             [
              0,
              "#0d0887"
             ],
             [
              0.1111111111111111,
              "#46039f"
             ],
             [
              0.2222222222222222,
              "#7201a8"
             ],
             [
              0.3333333333333333,
              "#9c179e"
             ],
             [
              0.4444444444444444,
              "#bd3786"
             ],
             [
              0.5555555555555556,
              "#d8576b"
             ],
             [
              0.6666666666666666,
              "#ed7953"
             ],
             [
              0.7777777777777778,
              "#fb9f3a"
             ],
             [
              0.8888888888888888,
              "#fdca26"
             ],
             [
              1,
              "#f0f921"
             ]
            ],
            "type": "heatmapgl"
           }
          ],
          "histogram": [
           {
            "marker": {
             "pattern": {
              "fillmode": "overlay",
              "size": 10,
              "solidity": 0.2
             }
            },
            "type": "histogram"
           }
          ],
          "histogram2d": [
           {
            "colorbar": {
             "outlinewidth": 0,
             "ticks": ""
            },
            "colorscale": [
             [
              0,
              "#0d0887"
             ],
             [
              0.1111111111111111,
              "#46039f"
             ],
             [
              0.2222222222222222,
              "#7201a8"
             ],
             [
              0.3333333333333333,
              "#9c179e"
             ],
             [
              0.4444444444444444,
              "#bd3786"
             ],
             [
              0.5555555555555556,
              "#d8576b"
             ],
             [
              0.6666666666666666,
              "#ed7953"
             ],
             [
              0.7777777777777778,
              "#fb9f3a"
             ],
             [
              0.8888888888888888,
              "#fdca26"
             ],
             [
              1,
              "#f0f921"
             ]
            ],
            "type": "histogram2d"
           }
          ],
          "histogram2dcontour": [
           {
            "colorbar": {
             "outlinewidth": 0,
             "ticks": ""
            },
            "colorscale": [
             [
              0,
              "#0d0887"
             ],
             [
              0.1111111111111111,
              "#46039f"
             ],
             [
              0.2222222222222222,
              "#7201a8"
             ],
             [
              0.3333333333333333,
              "#9c179e"
             ],
             [
              0.4444444444444444,
              "#bd3786"
             ],
             [
              0.5555555555555556,
              "#d8576b"
             ],
             [
              0.6666666666666666,
              "#ed7953"
             ],
             [
              0.7777777777777778,
              "#fb9f3a"
             ],
             [
              0.8888888888888888,
              "#fdca26"
             ],
             [
              1,
              "#f0f921"
             ]
            ],
            "type": "histogram2dcontour"
           }
          ],
          "mesh3d": [
           {
            "colorbar": {
             "outlinewidth": 0,
             "ticks": ""
            },
            "type": "mesh3d"
           }
          ],
          "parcoords": [
           {
            "line": {
             "colorbar": {
              "outlinewidth": 0,
              "ticks": ""
             }
            },
            "type": "parcoords"
           }
          ],
          "pie": [
           {
            "automargin": true,
            "type": "pie"
           }
          ],
          "scatter": [
           {
            "fillpattern": {
             "fillmode": "overlay",
             "size": 10,
             "solidity": 0.2
            },
            "type": "scatter"
           }
          ],
          "scatter3d": [
           {
            "line": {
             "colorbar": {
              "outlinewidth": 0,
              "ticks": ""
             }
            },
            "marker": {
             "colorbar": {
              "outlinewidth": 0,
              "ticks": ""
             }
            },
            "type": "scatter3d"
           }
          ],
          "scattercarpet": [
           {
            "marker": {
             "colorbar": {
              "outlinewidth": 0,
              "ticks": ""
             }
            },
            "type": "scattercarpet"
           }
          ],
          "scattergeo": [
           {
            "marker": {
             "colorbar": {
              "outlinewidth": 0,
              "ticks": ""
             }
            },
            "type": "scattergeo"
           }
          ],
          "scattergl": [
           {
            "marker": {
             "colorbar": {
              "outlinewidth": 0,
              "ticks": ""
             }
            },
            "type": "scattergl"
           }
          ],
          "scattermapbox": [
           {
            "marker": {
             "colorbar": {
              "outlinewidth": 0,
              "ticks": ""
             }
            },
            "type": "scattermapbox"
           }
          ],
          "scatterpolar": [
           {
            "marker": {
             "colorbar": {
              "outlinewidth": 0,
              "ticks": ""
             }
            },
            "type": "scatterpolar"
           }
          ],
          "scatterpolargl": [
           {
            "marker": {
             "colorbar": {
              "outlinewidth": 0,
              "ticks": ""
             }
            },
            "type": "scatterpolargl"
           }
          ],
          "scatterternary": [
           {
            "marker": {
             "colorbar": {
              "outlinewidth": 0,
              "ticks": ""
             }
            },
            "type": "scatterternary"
           }
          ],
          "surface": [
           {
            "colorbar": {
             "outlinewidth": 0,
             "ticks": ""
            },
            "colorscale": [
             [
              0,
              "#0d0887"
             ],
             [
              0.1111111111111111,
              "#46039f"
             ],
             [
              0.2222222222222222,
              "#7201a8"
             ],
             [
              0.3333333333333333,
              "#9c179e"
             ],
             [
              0.4444444444444444,
              "#bd3786"
             ],
             [
              0.5555555555555556,
              "#d8576b"
             ],
             [
              0.6666666666666666,
              "#ed7953"
             ],
             [
              0.7777777777777778,
              "#fb9f3a"
             ],
             [
              0.8888888888888888,
              "#fdca26"
             ],
             [
              1,
              "#f0f921"
             ]
            ],
            "type": "surface"
           }
          ],
          "table": [
           {
            "cells": {
             "fill": {
              "color": "#EBF0F8"
             },
             "line": {
              "color": "white"
             }
            },
            "header": {
             "fill": {
              "color": "#C8D4E3"
             },
             "line": {
              "color": "white"
             }
            },
            "type": "table"
           }
          ]
         },
         "layout": {
          "annotationdefaults": {
           "arrowcolor": "#2a3f5f",
           "arrowhead": 0,
           "arrowwidth": 1
          },
          "autotypenumbers": "strict",
          "coloraxis": {
           "colorbar": {
            "outlinewidth": 0,
            "ticks": ""
           }
          },
          "colorscale": {
           "diverging": [
            [
             0,
             "#8e0152"
            ],
            [
             0.1,
             "#c51b7d"
            ],
            [
             0.2,
             "#de77ae"
            ],
            [
             0.3,
             "#f1b6da"
            ],
            [
             0.4,
             "#fde0ef"
            ],
            [
             0.5,
             "#f7f7f7"
            ],
            [
             0.6,
             "#e6f5d0"
            ],
            [
             0.7,
             "#b8e186"
            ],
            [
             0.8,
             "#7fbc41"
            ],
            [
             0.9,
             "#4d9221"
            ],
            [
             1,
             "#276419"
            ]
           ],
           "sequential": [
            [
             0,
             "#0d0887"
            ],
            [
             0.1111111111111111,
             "#46039f"
            ],
            [
             0.2222222222222222,
             "#7201a8"
            ],
            [
             0.3333333333333333,
             "#9c179e"
            ],
            [
             0.4444444444444444,
             "#bd3786"
            ],
            [
             0.5555555555555556,
             "#d8576b"
            ],
            [
             0.6666666666666666,
             "#ed7953"
            ],
            [
             0.7777777777777778,
             "#fb9f3a"
            ],
            [
             0.8888888888888888,
             "#fdca26"
            ],
            [
             1,
             "#f0f921"
            ]
           ],
           "sequentialminus": [
            [
             0,
             "#0d0887"
            ],
            [
             0.1111111111111111,
             "#46039f"
            ],
            [
             0.2222222222222222,
             "#7201a8"
            ],
            [
             0.3333333333333333,
             "#9c179e"
            ],
            [
             0.4444444444444444,
             "#bd3786"
            ],
            [
             0.5555555555555556,
             "#d8576b"
            ],
            [
             0.6666666666666666,
             "#ed7953"
            ],
            [
             0.7777777777777778,
             "#fb9f3a"
            ],
            [
             0.8888888888888888,
             "#fdca26"
            ],
            [
             1,
             "#f0f921"
            ]
           ]
          },
          "colorway": [
           "#636efa",
           "#EF553B",
           "#00cc96",
           "#ab63fa",
           "#FFA15A",
           "#19d3f3",
           "#FF6692",
           "#B6E880",
           "#FF97FF",
           "#FECB52"
          ],
          "font": {
           "color": "#2a3f5f"
          },
          "geo": {
           "bgcolor": "white",
           "lakecolor": "white",
           "landcolor": "#E5ECF6",
           "showlakes": true,
           "showland": true,
           "subunitcolor": "white"
          },
          "hoverlabel": {
           "align": "left"
          },
          "hovermode": "closest",
          "mapbox": {
           "style": "light"
          },
          "paper_bgcolor": "white",
          "plot_bgcolor": "#E5ECF6",
          "polar": {
           "angularaxis": {
            "gridcolor": "white",
            "linecolor": "white",
            "ticks": ""
           },
           "bgcolor": "#E5ECF6",
           "radialaxis": {
            "gridcolor": "white",
            "linecolor": "white",
            "ticks": ""
           }
          },
          "scene": {
           "xaxis": {
            "backgroundcolor": "#E5ECF6",
            "gridcolor": "white",
            "gridwidth": 2,
            "linecolor": "white",
            "showbackground": true,
            "ticks": "",
            "zerolinecolor": "white"
           },
           "yaxis": {
            "backgroundcolor": "#E5ECF6",
            "gridcolor": "white",
            "gridwidth": 2,
            "linecolor": "white",
            "showbackground": true,
            "ticks": "",
            "zerolinecolor": "white"
           },
           "zaxis": {
            "backgroundcolor": "#E5ECF6",
            "gridcolor": "white",
            "gridwidth": 2,
            "linecolor": "white",
            "showbackground": true,
            "ticks": "",
            "zerolinecolor": "white"
           }
          },
          "shapedefaults": {
           "line": {
            "color": "#2a3f5f"
           }
          },
          "ternary": {
           "aaxis": {
            "gridcolor": "white",
            "linecolor": "white",
            "ticks": ""
           },
           "baxis": {
            "gridcolor": "white",
            "linecolor": "white",
            "ticks": ""
           },
           "bgcolor": "#E5ECF6",
           "caxis": {
            "gridcolor": "white",
            "linecolor": "white",
            "ticks": ""
           }
          },
          "title": {
           "x": 0.05
          },
          "xaxis": {
           "automargin": true,
           "gridcolor": "white",
           "linecolor": "white",
           "ticks": "",
           "title": {
            "standoff": 15
           },
           "zerolinecolor": "white",
           "zerolinewidth": 2
          },
          "yaxis": {
           "automargin": true,
           "gridcolor": "white",
           "linecolor": "white",
           "ticks": "",
           "title": {
            "standoff": 15
           },
           "zerolinecolor": "white",
           "zerolinewidth": 2
          }
         }
        },
        "width": 650,
        "xaxis": {
         "anchor": "y",
         "color": "black",
         "domain": [
          0,
          1
         ],
         "linecolor": "black",
         "linewidth": 2,
         "showline": true,
         "tickfont": {
          "size": 18
         },
         "title": {
          "text": "Similarity Distance to Train Set"
         }
        },
        "yaxis": {
         "anchor": "x",
         "color": "black",
         "domain": [
          0,
          1
         ],
         "linecolor": "black",
         "linewidth": 2,
         "showline": true,
         "tickfont": {
          "size": 18
         },
         "title": {
          "text": "Excess Success Rate"
         }
        }
       }
      }
     },
     "metadata": {},
     "output_type": "display_data"
    }
   ],
   "source": [
    "plot_leakage_vs_perfomance(df_report, analysis_Y='XS')"
   ]
  },
  {
   "cell_type": "code",
   "execution_count": 16,
   "metadata": {},
   "outputs": [
    {
     "name": "stderr",
     "output_type": "stream",
     "text": [
      "/var/folders/8s/zn7mks316fz42nd48972whrh0000gn/T/ipykernel_46908/3198298359.py:23: SettingWithCopyWarning:\n",
      "\n",
      "\n",
      "A value is trying to be set on a copy of a slice from a DataFrame.\n",
      "Try using .loc[row_indexer,col_indexer] = value instead\n",
      "\n",
      "See the caveats in the documentation: https://pandas.pydata.org/pandas-docs/stable/user_guide/indexing.html#returning-a-view-versus-a-copy\n",
      "\n"
     ]
    },
    {
     "data": {
      "application/vnd.plotly.v1+json": {
       "config": {
        "plotlyServerURL": "https://plot.ly",
        "toImageButtonOptions": {
         "filename": "simtotrain_vs_delRMSD",
         "format": "png"
        }
       },
       "data": [
        {
         "error_y": {
          "array": [
           0.13987967193240683,
           0.11115018417804476,
           0.07297644993328779,
           0.04938227095864301,
           0.04568780518285123,
           0.056566731557587985,
           0.057075760363104376,
           0.06669935076089274,
           0.07486646042570819,
           0.07486646042570819,
           0
          ]
         },
         "hovertemplate": "Metric=PLI SHARED<br>Similarity Distance to Train Set=%{x}<br>Change in mean RMSD=%{y}<extra></extra>",
         "legendgroup": "PLI SHARED",
         "marker": {
          "color": "lightblue",
          "line": {
           "color": "DarkSlateGrey",
           "width": 1
          },
          "size": 12,
          "symbol": "circle"
         },
         "mode": "markers",
         "name": "PLI SHARED",
         "orientation": "v",
         "showlegend": true,
         "type": "scatter",
         "x": [
          0,
          10,
          20,
          30,
          40,
          50,
          60,
          70,
          80,
          90,
          100
         ],
         "xaxis": "x",
         "y": [
          -1.1146336375255528,
          -1.0462934147457013,
          -0.8331406895805064,
          -0.6782094520089048,
          -0.553526896982223,
          -0.45016674277589425,
          -0.39418956509252306,
          -0.36642947678832777,
          -0.3495583967458062,
          -0.3495583967458062,
          0
         ],
         "yaxis": "y"
        },
        {
         "error_y": {
          "array": [
           0.0679768666109646,
           0.05346109986096911,
           0.05313182121918481,
           0.03229403383407881,
           0.03320968473252121,
           0.04150911446839811,
           0.04302811155788734,
           0.041161898828193405,
           0.042336737627644776,
           0.042336737627644776,
           0
          ]
         },
         "hovertemplate": "Metric=POCKET LDDT<br>Similarity Distance to Train Set=%{x}<br>Change in mean RMSD=%{y}<extra></extra>",
         "legendgroup": "POCKET LDDT",
         "marker": {
          "color": "pink",
          "line": {
           "color": "DarkSlateGrey",
           "width": 1
          },
          "size": 12,
          "symbol": "square"
         },
         "mode": "markers",
         "name": "POCKET LDDT",
         "orientation": "v",
         "showlegend": true,
         "type": "scatter",
         "x": [
          0,
          10,
          20,
          30,
          40,
          50,
          60,
          70,
          80,
          90,
          100
         ],
         "xaxis": "x",
         "y": [
          -0.4967199457651323,
          -0.2300289936749874,
          -0.1903290332576232,
          -0.13484407585676728,
          -0.1273878456080002,
          -0.14568424880316902,
          -0.1523285010345572,
          -0.15192703345030104,
          -0.15536849417410595,
          -0.15536849417410595,
          0
         ],
         "yaxis": "y"
        },
        {
         "error_y": {
          "array": [
           0.0360140961619182,
           0.038448268327543084,
           0.05984933283236014,
           0.054310332105320054,
           0.058468069364054485,
           0.06550339290506159,
           0.06708893769823165,
           0.0681123635543584,
           0.07395592427520561,
           0.07395592427520561,
           0
          ]
         },
         "hovertemplate": "Metric=POCKET SHARED<br>Similarity Distance to Train Set=%{x}<br>Change in mean RMSD=%{y}<extra></extra>",
         "legendgroup": "POCKET SHARED",
         "marker": {
          "color": "lightgreen",
          "line": {
           "color": "DarkSlateGrey",
           "width": 1
          },
          "size": 12,
          "symbol": "star"
         },
         "mode": "markers",
         "name": "POCKET SHARED",
         "orientation": "v",
         "showlegend": true,
         "type": "scatter",
         "x": [
          0,
          10,
          20,
          30,
          40,
          50,
          60,
          70,
          80,
          90,
          100
         ],
         "xaxis": "x",
         "y": [
          -0.7048665789884603,
          -0.5130732629000971,
          -0.44938008485751224,
          -0.40151421283876537,
          -0.3467745219263522,
          -0.32105061418899034,
          -0.29449222915488277,
          -0.3011450053466415,
          -0.3039980890749128,
          -0.3039980890749128,
          0
         ],
         "yaxis": "y"
        },
        {
         "error_y": {
          "array": [
           0.009096537348969834,
           0.03542979316243122,
           0.004854625318814072,
           0.03630611529505542,
           0.041882183732162695,
           0.04098796046714281,
           0.041069127028885793,
           0.04153921482744196,
           0.03825669813521268,
           0.03825669813521268,
           0
          ]
         },
         "hovertemplate": "Metric=PROTEIN LDDT<br>Similarity Distance to Train Set=%{x}<br>Change in mean RMSD=%{y}<extra></extra>",
         "legendgroup": "PROTEIN LDDT",
         "marker": {
          "color": "purple",
          "line": {
           "color": "DarkSlateGrey",
           "width": 1
          },
          "size": 12,
          "symbol": "diamond"
         },
         "mode": "markers",
         "name": "PROTEIN LDDT",
         "orientation": "v",
         "showlegend": true,
         "type": "scatter",
         "x": [
          0,
          10,
          20,
          30,
          40,
          50,
          60,
          70,
          80,
          90,
          100
         ],
         "xaxis": "x",
         "y": [
          -0.48785347516739463,
          -0.2636671425362538,
          -0.201979802433083,
          -0.1471544762302869,
          -0.14737815070484675,
          -0.15330956977517873,
          -0.15193827067751706,
          -0.15274466966464276,
          -0.149727903522504,
          -0.149727903522504,
          0
         ],
         "yaxis": "y"
        },
        {
         "error_y": {
          "array": [
           0.01795512792435127,
           0.02372822024403013,
           0.029320969840332025,
           0.0483218495041769,
           0.027082554147237203,
           0.02926233085775932,
           0.03619459421896463,
           0.03681777570973539,
           0.038365570288776664,
           0.038365570288776664,
           0
          ]
         },
         "hovertemplate": "Metric=PROTEIN SEQSIM<br>Similarity Distance to Train Set=%{x}<br>Change in mean RMSD=%{y}<extra></extra>",
         "legendgroup": "PROTEIN SEQSIM",
         "marker": {
          "color": "goldenrod",
          "line": {
           "color": "DarkSlateGrey",
           "width": 1
          },
          "size": 12,
          "symbol": "hourglass"
         },
         "mode": "markers",
         "name": "PROTEIN SEQSIM",
         "orientation": "v",
         "showlegend": true,
         "type": "scatter",
         "x": [
          0,
          10,
          20,
          30,
          40,
          50,
          60,
          70,
          80,
          90,
          100
         ],
         "xaxis": "x",
         "y": [
          -0.2551340128044666,
          -0.21799209786439722,
          -0.21198824413205633,
          -0.1884193407270914,
          -0.13430340420659923,
          -0.11280275355707585,
          -0.1022104138424053,
          -0.09912998769219161,
          -0.10119542361595728,
          -0.10119542361595728,
          0
         ],
         "yaxis": "y"
        },
        {
         "error_y": {
          "array": [
           0.02349202429871432,
           0.020100030869940007,
           0.005479807532814138,
           0.03343991795076964,
           0.030992172365580908,
           0.029642602479116164,
           0.02855091994079487,
           0.04789570311578414,
           0.04459277773309578,
           0.04459277773309578,
           0
          ]
         },
         "hovertemplate": "Metric=LIGAND SIMILARITY<br>Similarity Distance to Train Set=%{x}<br>Change in mean RMSD=%{y}<extra></extra>",
         "legendgroup": "LIGAND SIMILARITY",
         "marker": {
          "color": "red",
          "line": {
           "color": "DarkSlateGrey",
           "width": 1
          },
          "size": 12,
          "symbol": "pentagon"
         },
         "mode": "markers",
         "name": "LIGAND SIMILARITY",
         "orientation": "v",
         "showlegend": true,
         "type": "scatter",
         "x": [
          0,
          10,
          20,
          30,
          40,
          50,
          60,
          70,
          80,
          90,
          100
         ],
         "xaxis": "x",
         "y": [
          -0.19176441638380645,
          -0.19059258410248017,
          -0.19591357652944227,
          -0.19957094145471807,
          -0.26363261031555957,
          -0.25243121420203707,
          -0.14713126566620835,
          -0.0729779401129349,
          -0.08646341618964908,
          -0.08646341618964908,
          0
         ],
         "yaxis": "y"
        }
       ],
       "layout": {
        "font": {
         "size": 18
        },
        "height": 400,
        "legend": {
         "font": {
          "color": "black",
          "size": 16
         },
         "title": {},
         "tracegroupgap": 0,
         "traceorder": "normal"
        },
        "margin": {
         "t": 60
        },
        "plot_bgcolor": "rgba(0, 0, 0, 0)",
        "template": {
         "data": {
          "bar": [
           {
            "error_x": {
             "color": "#2a3f5f"
            },
            "error_y": {
             "color": "#2a3f5f"
            },
            "marker": {
             "line": {
              "color": "#E5ECF6",
              "width": 0.5
             },
             "pattern": {
              "fillmode": "overlay",
              "size": 10,
              "solidity": 0.2
             }
            },
            "type": "bar"
           }
          ],
          "barpolar": [
           {
            "marker": {
             "line": {
              "color": "#E5ECF6",
              "width": 0.5
             },
             "pattern": {
              "fillmode": "overlay",
              "size": 10,
              "solidity": 0.2
             }
            },
            "type": "barpolar"
           }
          ],
          "carpet": [
           {
            "aaxis": {
             "endlinecolor": "#2a3f5f",
             "gridcolor": "white",
             "linecolor": "white",
             "minorgridcolor": "white",
             "startlinecolor": "#2a3f5f"
            },
            "baxis": {
             "endlinecolor": "#2a3f5f",
             "gridcolor": "white",
             "linecolor": "white",
             "minorgridcolor": "white",
             "startlinecolor": "#2a3f5f"
            },
            "type": "carpet"
           }
          ],
          "choropleth": [
           {
            "colorbar": {
             "outlinewidth": 0,
             "ticks": ""
            },
            "type": "choropleth"
           }
          ],
          "contour": [
           {
            "colorbar": {
             "outlinewidth": 0,
             "ticks": ""
            },
            "colorscale": [
             [
              0,
              "#0d0887"
             ],
             [
              0.1111111111111111,
              "#46039f"
             ],
             [
              0.2222222222222222,
              "#7201a8"
             ],
             [
              0.3333333333333333,
              "#9c179e"
             ],
             [
              0.4444444444444444,
              "#bd3786"
             ],
             [
              0.5555555555555556,
              "#d8576b"
             ],
             [
              0.6666666666666666,
              "#ed7953"
             ],
             [
              0.7777777777777778,
              "#fb9f3a"
             ],
             [
              0.8888888888888888,
              "#fdca26"
             ],
             [
              1,
              "#f0f921"
             ]
            ],
            "type": "contour"
           }
          ],
          "contourcarpet": [
           {
            "colorbar": {
             "outlinewidth": 0,
             "ticks": ""
            },
            "type": "contourcarpet"
           }
          ],
          "heatmap": [
           {
            "colorbar": {
             "outlinewidth": 0,
             "ticks": ""
            },
            "colorscale": [
             [
              0,
              "#0d0887"
             ],
             [
              0.1111111111111111,
              "#46039f"
             ],
             [
              0.2222222222222222,
              "#7201a8"
             ],
             [
              0.3333333333333333,
              "#9c179e"
             ],
             [
              0.4444444444444444,
              "#bd3786"
             ],
             [
              0.5555555555555556,
              "#d8576b"
             ],
             [
              0.6666666666666666,
              "#ed7953"
             ],
             [
              0.7777777777777778,
              "#fb9f3a"
             ],
             [
              0.8888888888888888,
              "#fdca26"
             ],
             [
              1,
              "#f0f921"
             ]
            ],
            "type": "heatmap"
           }
          ],
          "heatmapgl": [
           {
            "colorbar": {
             "outlinewidth": 0,
             "ticks": ""
            },
            "colorscale": [
             [
              0,
              "#0d0887"
             ],
             [
              0.1111111111111111,
              "#46039f"
             ],
             [
              0.2222222222222222,
              "#7201a8"
             ],
             [
              0.3333333333333333,
              "#9c179e"
             ],
             [
              0.4444444444444444,
              "#bd3786"
             ],
             [
              0.5555555555555556,
              "#d8576b"
             ],
             [
              0.6666666666666666,
              "#ed7953"
             ],
             [
              0.7777777777777778,
              "#fb9f3a"
             ],
             [
              0.8888888888888888,
              "#fdca26"
             ],
             [
              1,
              "#f0f921"
             ]
            ],
            "type": "heatmapgl"
           }
          ],
          "histogram": [
           {
            "marker": {
             "pattern": {
              "fillmode": "overlay",
              "size": 10,
              "solidity": 0.2
             }
            },
            "type": "histogram"
           }
          ],
          "histogram2d": [
           {
            "colorbar": {
             "outlinewidth": 0,
             "ticks": ""
            },
            "colorscale": [
             [
              0,
              "#0d0887"
             ],
             [
              0.1111111111111111,
              "#46039f"
             ],
             [
              0.2222222222222222,
              "#7201a8"
             ],
             [
              0.3333333333333333,
              "#9c179e"
             ],
             [
              0.4444444444444444,
              "#bd3786"
             ],
             [
              0.5555555555555556,
              "#d8576b"
             ],
             [
              0.6666666666666666,
              "#ed7953"
             ],
             [
              0.7777777777777778,
              "#fb9f3a"
             ],
             [
              0.8888888888888888,
              "#fdca26"
             ],
             [
              1,
              "#f0f921"
             ]
            ],
            "type": "histogram2d"
           }
          ],
          "histogram2dcontour": [
           {
            "colorbar": {
             "outlinewidth": 0,
             "ticks": ""
            },
            "colorscale": [
             [
              0,
              "#0d0887"
             ],
             [
              0.1111111111111111,
              "#46039f"
             ],
             [
              0.2222222222222222,
              "#7201a8"
             ],
             [
              0.3333333333333333,
              "#9c179e"
             ],
             [
              0.4444444444444444,
              "#bd3786"
             ],
             [
              0.5555555555555556,
              "#d8576b"
             ],
             [
              0.6666666666666666,
              "#ed7953"
             ],
             [
              0.7777777777777778,
              "#fb9f3a"
             ],
             [
              0.8888888888888888,
              "#fdca26"
             ],
             [
              1,
              "#f0f921"
             ]
            ],
            "type": "histogram2dcontour"
           }
          ],
          "mesh3d": [
           {
            "colorbar": {
             "outlinewidth": 0,
             "ticks": ""
            },
            "type": "mesh3d"
           }
          ],
          "parcoords": [
           {
            "line": {
             "colorbar": {
              "outlinewidth": 0,
              "ticks": ""
             }
            },
            "type": "parcoords"
           }
          ],
          "pie": [
           {
            "automargin": true,
            "type": "pie"
           }
          ],
          "scatter": [
           {
            "fillpattern": {
             "fillmode": "overlay",
             "size": 10,
             "solidity": 0.2
            },
            "type": "scatter"
           }
          ],
          "scatter3d": [
           {
            "line": {
             "colorbar": {
              "outlinewidth": 0,
              "ticks": ""
             }
            },
            "marker": {
             "colorbar": {
              "outlinewidth": 0,
              "ticks": ""
             }
            },
            "type": "scatter3d"
           }
          ],
          "scattercarpet": [
           {
            "marker": {
             "colorbar": {
              "outlinewidth": 0,
              "ticks": ""
             }
            },
            "type": "scattercarpet"
           }
          ],
          "scattergeo": [
           {
            "marker": {
             "colorbar": {
              "outlinewidth": 0,
              "ticks": ""
             }
            },
            "type": "scattergeo"
           }
          ],
          "scattergl": [
           {
            "marker": {
             "colorbar": {
              "outlinewidth": 0,
              "ticks": ""
             }
            },
            "type": "scattergl"
           }
          ],
          "scattermapbox": [
           {
            "marker": {
             "colorbar": {
              "outlinewidth": 0,
              "ticks": ""
             }
            },
            "type": "scattermapbox"
           }
          ],
          "scatterpolar": [
           {
            "marker": {
             "colorbar": {
              "outlinewidth": 0,
              "ticks": ""
             }
            },
            "type": "scatterpolar"
           }
          ],
          "scatterpolargl": [
           {
            "marker": {
             "colorbar": {
              "outlinewidth": 0,
              "ticks": ""
             }
            },
            "type": "scatterpolargl"
           }
          ],
          "scatterternary": [
           {
            "marker": {
             "colorbar": {
              "outlinewidth": 0,
              "ticks": ""
             }
            },
            "type": "scatterternary"
           }
          ],
          "surface": [
           {
            "colorbar": {
             "outlinewidth": 0,
             "ticks": ""
            },
            "colorscale": [
             [
              0,
              "#0d0887"
             ],
             [
              0.1111111111111111,
              "#46039f"
             ],
             [
              0.2222222222222222,
              "#7201a8"
             ],
             [
              0.3333333333333333,
              "#9c179e"
             ],
             [
              0.4444444444444444,
              "#bd3786"
             ],
             [
              0.5555555555555556,
              "#d8576b"
             ],
             [
              0.6666666666666666,
              "#ed7953"
             ],
             [
              0.7777777777777778,
              "#fb9f3a"
             ],
             [
              0.8888888888888888,
              "#fdca26"
             ],
             [
              1,
              "#f0f921"
             ]
            ],
            "type": "surface"
           }
          ],
          "table": [
           {
            "cells": {
             "fill": {
              "color": "#EBF0F8"
             },
             "line": {
              "color": "white"
             }
            },
            "header": {
             "fill": {
              "color": "#C8D4E3"
             },
             "line": {
              "color": "white"
             }
            },
            "type": "table"
           }
          ]
         },
         "layout": {
          "annotationdefaults": {
           "arrowcolor": "#2a3f5f",
           "arrowhead": 0,
           "arrowwidth": 1
          },
          "autotypenumbers": "strict",
          "coloraxis": {
           "colorbar": {
            "outlinewidth": 0,
            "ticks": ""
           }
          },
          "colorscale": {
           "diverging": [
            [
             0,
             "#8e0152"
            ],
            [
             0.1,
             "#c51b7d"
            ],
            [
             0.2,
             "#de77ae"
            ],
            [
             0.3,
             "#f1b6da"
            ],
            [
             0.4,
             "#fde0ef"
            ],
            [
             0.5,
             "#f7f7f7"
            ],
            [
             0.6,
             "#e6f5d0"
            ],
            [
             0.7,
             "#b8e186"
            ],
            [
             0.8,
             "#7fbc41"
            ],
            [
             0.9,
             "#4d9221"
            ],
            [
             1,
             "#276419"
            ]
           ],
           "sequential": [
            [
             0,
             "#0d0887"
            ],
            [
             0.1111111111111111,
             "#46039f"
            ],
            [
             0.2222222222222222,
             "#7201a8"
            ],
            [
             0.3333333333333333,
             "#9c179e"
            ],
            [
             0.4444444444444444,
             "#bd3786"
            ],
            [
             0.5555555555555556,
             "#d8576b"
            ],
            [
             0.6666666666666666,
             "#ed7953"
            ],
            [
             0.7777777777777778,
             "#fb9f3a"
            ],
            [
             0.8888888888888888,
             "#fdca26"
            ],
            [
             1,
             "#f0f921"
            ]
           ],
           "sequentialminus": [
            [
             0,
             "#0d0887"
            ],
            [
             0.1111111111111111,
             "#46039f"
            ],
            [
             0.2222222222222222,
             "#7201a8"
            ],
            [
             0.3333333333333333,
             "#9c179e"
            ],
            [
             0.4444444444444444,
             "#bd3786"
            ],
            [
             0.5555555555555556,
             "#d8576b"
            ],
            [
             0.6666666666666666,
             "#ed7953"
            ],
            [
             0.7777777777777778,
             "#fb9f3a"
            ],
            [
             0.8888888888888888,
             "#fdca26"
            ],
            [
             1,
             "#f0f921"
            ]
           ]
          },
          "colorway": [
           "#636efa",
           "#EF553B",
           "#00cc96",
           "#ab63fa",
           "#FFA15A",
           "#19d3f3",
           "#FF6692",
           "#B6E880",
           "#FF97FF",
           "#FECB52"
          ],
          "font": {
           "color": "#2a3f5f"
          },
          "geo": {
           "bgcolor": "white",
           "lakecolor": "white",
           "landcolor": "#E5ECF6",
           "showlakes": true,
           "showland": true,
           "subunitcolor": "white"
          },
          "hoverlabel": {
           "align": "left"
          },
          "hovermode": "closest",
          "mapbox": {
           "style": "light"
          },
          "paper_bgcolor": "white",
          "plot_bgcolor": "#E5ECF6",
          "polar": {
           "angularaxis": {
            "gridcolor": "white",
            "linecolor": "white",
            "ticks": ""
           },
           "bgcolor": "#E5ECF6",
           "radialaxis": {
            "gridcolor": "white",
            "linecolor": "white",
            "ticks": ""
           }
          },
          "scene": {
           "xaxis": {
            "backgroundcolor": "#E5ECF6",
            "gridcolor": "white",
            "gridwidth": 2,
            "linecolor": "white",
            "showbackground": true,
            "ticks": "",
            "zerolinecolor": "white"
           },
           "yaxis": {
            "backgroundcolor": "#E5ECF6",
            "gridcolor": "white",
            "gridwidth": 2,
            "linecolor": "white",
            "showbackground": true,
            "ticks": "",
            "zerolinecolor": "white"
           },
           "zaxis": {
            "backgroundcolor": "#E5ECF6",
            "gridcolor": "white",
            "gridwidth": 2,
            "linecolor": "white",
            "showbackground": true,
            "ticks": "",
            "zerolinecolor": "white"
           }
          },
          "shapedefaults": {
           "line": {
            "color": "#2a3f5f"
           }
          },
          "ternary": {
           "aaxis": {
            "gridcolor": "white",
            "linecolor": "white",
            "ticks": ""
           },
           "baxis": {
            "gridcolor": "white",
            "linecolor": "white",
            "ticks": ""
           },
           "bgcolor": "#E5ECF6",
           "caxis": {
            "gridcolor": "white",
            "linecolor": "white",
            "ticks": ""
           }
          },
          "title": {
           "x": 0.05
          },
          "xaxis": {
           "automargin": true,
           "gridcolor": "white",
           "linecolor": "white",
           "ticks": "",
           "title": {
            "standoff": 15
           },
           "zerolinecolor": "white",
           "zerolinewidth": 2
          },
          "yaxis": {
           "automargin": true,
           "gridcolor": "white",
           "linecolor": "white",
           "ticks": "",
           "title": {
            "standoff": 15
           },
           "zerolinecolor": "white",
           "zerolinewidth": 2
          }
         }
        },
        "width": 650,
        "xaxis": {
         "anchor": "y",
         "color": "black",
         "domain": [
          0,
          1
         ],
         "linecolor": "black",
         "linewidth": 2,
         "showline": true,
         "tickfont": {
          "size": 18
         },
         "title": {
          "text": "Similarity Distance to Train Set"
         }
        },
        "yaxis": {
         "anchor": "x",
         "color": "black",
         "domain": [
          0,
          1
         ],
         "linecolor": "black",
         "linewidth": 2,
         "showline": true,
         "tickfont": {
          "size": 18
         },
         "title": {
          "text": "Change in mean RMSD"
         }
        }
       }
      }
     },
     "metadata": {},
     "output_type": "display_data"
    }
   ],
   "source": [
    "plot_leakage_vs_perfomance(df_report, analysis_Y='delRMSD')"
   ]
  },
  {
   "cell_type": "code",
   "execution_count": null,
   "metadata": {},
   "outputs": [],
   "source": []
  },
  {
   "cell_type": "code",
   "execution_count": null,
   "metadata": {},
   "outputs": [],
   "source": []
  }
 ],
 "metadata": {
  "kernelspec": {
   "display_name": "plinder",
   "language": "python",
   "name": "python3"
  },
  "language_info": {
   "codemirror_mode": {
    "name": "ipython",
    "version": 3
   },
   "file_extension": ".py",
   "mimetype": "text/x-python",
   "name": "python",
   "nbconvert_exporter": "python",
   "pygments_lexer": "ipython3",
   "version": "3.9.7"
  }
 },
 "nbformat": 4,
 "nbformat_minor": 2
}
