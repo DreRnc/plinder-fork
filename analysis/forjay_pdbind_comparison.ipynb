{
 "cells": [
  {
   "cell_type": "code",
   "execution_count": 3,
   "metadata": {},
   "outputs": [
    {
     "name": "stdout",
     "output_type": "stream",
     "text": [
      "The autoreload extension is already loaded. To reload it, use:\n",
      "  %reload_ext autoreload\n"
     ]
    }
   ],
   "source": [
    "%load_ext autoreload\n",
    "%autoreload 2\n",
    "\n",
    "import pandas as pd\n",
    "from tqdm import tqdm\n",
    "import ast\n",
    "from pathlib import Path\n",
    "from plinder.data.config import local_config\n",
    "from plinder.data.cluster.cluster import *"
   ]
  },
  {
   "cell_type": "code",
   "execution_count": 11,
   "metadata": {},
   "outputs": [
    {
     "name": "stdout",
     "output_type": "stream",
     "text": [
      "entry 15\n",
      "annotation 28\n",
      "protein_qcov 68\n",
      "protein_lddt 136\n",
      "protein_fident 136\n",
      "pocket_fident 136\n",
      "pocket_qcov 69\n",
      "pocket_lddt 137\n",
      "pli_qcov 136\n",
      "ligand 38\n",
      "others 49\n"
     ]
    }
   ],
   "source": [
    "pli_data = pd.read_parquet(local_config['DATA_DIR']/'pli_data_20240409:140625.parquet')\n",
    "pli_data.columns = [\n",
    "        col.lower() if \"system_ID\" != col else col for col in pli_data.columns\n",
    "    ]\n",
    "col_dicts = catogorize_columns(pli_data.columns)\n",
    "for k, v in col_dicts.items():\n",
    "    print(k, len(v))"
   ]
  },
  {
   "cell_type": "code",
   "execution_count": 12,
   "metadata": {},
   "outputs": [
    {
     "data": {
      "text/plain": [
       "(474008, 948)"
      ]
     },
     "execution_count": 12,
     "metadata": {},
     "output_type": "execute_result"
    }
   ],
   "source": [
    "pli_data.shape"
   ]
  },
  {
   "cell_type": "code",
   "execution_count": 17,
   "metadata": {},
   "outputs": [
    {
     "data": {
      "text/plain": [
       "((38471, 2), (33928, 2))"
      ]
     },
     "execution_count": 17,
     "metadata": {},
     "output_type": "execute_result"
    }
   ],
   "source": [
    "pdbpath = Path('/Users/xzhang/plinder_local_data/challenge_submission/pdbbind')\n",
    "pdbbind_nolig = pd.read_csv(pdbpath/'pdbind_nolig.csv')\n",
    "pdbbind_nolig_or_rec = pd.read_csv(pdbpath/'pdbind_nolig_or_rec.csv')\n",
    "pdbbind_nolig.shape, pdbbind_nolig_or_rec.shape"
   ]
  },
  {
   "cell_type": "code",
   "execution_count": 15,
   "metadata": {},
   "outputs": [
    {
     "data": {
      "text/plain": [
       "['validation_pocket_id',\n",
       " 'altcode',\n",
       " 'prox_alternative_configuration_residues_flag',\n",
       " 'pdb_chain',\n",
       " 'iridium_pass',\n",
       " 'joint_pocket_id',\n",
       " 'plip_pocket_id',\n",
       " 'ligtype_x',\n",
       " 'system_biounit',\n",
       " 'has_pocket',\n",
       " 'num_pdbs_for_uniprots',\n",
       " 'has_plip',\n",
       " 'has_validation',\n",
       " 'system_number',\n",
       " 'system_ID',\n",
       " 'system_protein_chains_count',\n",
       " 'validity',\n",
       " 'identical_pocket',\n",
       " 'pdb_chain_asym',\n",
       " 'uniprotacs',\n",
       " 'cath_id',\n",
       " 'pfam_id',\n",
       " 'scop2b_id',\n",
       " 'ecod_t_name_old',\n",
       " 'panther_id',\n",
       " 'kinase_name',\n",
       " 'pdb_chain_auth',\n",
       " 'ecod_t_name',\n",
       " 'ligtype_y',\n",
       " 'rdkit_valid',\n",
       " 'smiles_nochiral',\n",
       " 'organic',\n",
       " 'nha',\n",
       " 'mw',\n",
       " 'n_ring',\n",
       " 'numhacceptors',\n",
       " 'numhdonors',\n",
       " 'n_ro_bonds',\n",
       " 'fcsp3',\n",
       " 'tanisim_0.26',\n",
       " 'tanisim_0.5',\n",
       " 'tanisim_0.7',\n",
       " 'tanisim_0.99',\n",
       " 'tanisim_0.95',\n",
       " 'tanisim_0.9',\n",
       " 'tanisim_0.85',\n",
       " 'smiles_id',\n",
       " 'identity_cluster',\n",
       " 'diversity_cluster']"
      ]
     },
     "execution_count": 15,
     "metadata": {},
     "output_type": "execute_result"
    }
   ],
   "source": [
    "col_dicts['others']"
   ]
  },
  {
   "cell_type": "code",
   "execution_count": 18,
   "metadata": {},
   "outputs": [
    {
     "data": {
      "text/plain": [
       "((52319, 948), (46010, 948))"
      ]
     },
     "execution_count": 18,
     "metadata": {},
     "output_type": "execute_result"
    }
   ],
   "source": [
    "pdbbind_nolig = pli_data[pli_data['system_ID'].isin(pdbbind_nolig.system_ID)]\n",
    "pdbbind_nolig_or_rec = pli_data[pli_data['system_ID'].isin(pdbbind_nolig_or_rec.system_ID)]\n",
    "pdbbind_nolig.shape, pdbbind_nolig_or_rec.shape "
   ]
  },
  {
   "cell_type": "code",
   "execution_count": 21,
   "metadata": {},
   "outputs": [],
   "source": [
    "checklist = ['uniprotacs',\n",
    " 'cath_id',\n",
    " 'pfam_id',\n",
    " 'scop2b_id',\n",
    " 'panther_id',\n",
    " 'kinase_name',\n",
    " 'ecod_t_name']"
   ]
  },
  {
   "cell_type": "code",
   "execution_count": 23,
   "metadata": {},
   "outputs": [
    {
     "data": {
      "text/plain": [
       "3305"
      ]
     },
     "execution_count": 23,
     "metadata": {},
     "output_type": "execute_result"
    }
   ],
   "source": [
    "col = checklist[0]\n",
    "df = pdbbind_nolig_or_rec\n",
    "df.loc[~df[col].str.contains(\"UNK\"), col].nunique()"
   ]
  },
  {
   "cell_type": "code",
   "execution_count": 54,
   "metadata": {},
   "outputs": [],
   "source": [
    "stats = []\n",
    "for df, name in zip([pdbbind_nolig, pdbbind_nolig_or_rec], [\"pdbbind_nolig\", \"pdbbind_nolig_or_rec\"]):\n",
    "    for col in checklist:\n",
    "        stats.append([col, name, df.loc[~df[col].str.contains(\"UNK\"), col].nunique()])\n",
    "for col in checklist:\n",
    "    df = pli_data\n",
    "    stats.append([col, 'total num in plinder', df.loc[~df[col].str.contains(\"UNK\"), col].nunique()])\n",
    "stats = pd.DataFrame(stats, columns=['protein classification', 'dataset', 'num'])\n",
    "stats.pivot(index='protein classification', columns='dataset', values='num').to_clipboard()"
   ]
  },
  {
   "cell_type": "code",
   "execution_count": 43,
   "metadata": {},
   "outputs": [
    {
     "name": "stderr",
     "output_type": "stream",
     "text": [
      "100%|██████████| 8/8 [00:21<00:00,  2.68s/it]\n"
     ]
    }
   ],
   "source": [
    "filelst = [\n",
    "    'gs://plinder-collab-bucket/pre_calculated_cluster_labels/pli_qcov_weighted_sum__0.7__strong__component.csv',\n",
    "    'gs://plinder-collab-bucket/pre_calculated_cluster_labels/pli_qcov_weighted_sum__0.7__weak__component.csv',\n",
    "\n",
    "    'gs://plinder-collab-bucket/pre_calculated_cluster_labels/pli_qcov_weighted_sum__0.5__strong__component.csv',\n",
    "    'gs://plinder-collab-bucket/pre_calculated_cluster_labels/pli_qcov_weighted_sum__0.5__weak__component.csv',\n",
    "\n",
    "    'gs://plinder-collab-bucket/pre_calculated_cluster_labels/pocket_qcov_weighted_sum__0.7__strong__component.csv',\n",
    "    'gs://plinder-collab-bucket/pre_calculated_cluster_labels/pocket_qcov_weighted_sum__0.7__weak__component.csv',\n",
    "\n",
    "    'gs://plinder-collab-bucket/pre_calculated_cluster_labels/pocket_qcov_weighted_sum__0.5__strong__component.csv',\n",
    "    'gs://plinder-collab-bucket/pre_calculated_cluster_labels/pocket_qcov_weighted_sum__0.5__weak__component.csv',\n",
    "           ]\n",
    "dfs = []\n",
    "for file in tqdm(filelst):\n",
    "    df = pd.read_csv(file)\n",
    "    df.set_index('system_ID', inplace=True)\n",
    "    del df['id']\n",
    "    # print(df.shape[0])\n",
    "    dfs.append(df)\n",
    "dfs = pd.concat(dfs, axis=1).reset_index()"
   ]
  },
  {
   "cell_type": "code",
   "execution_count": 48,
   "metadata": {},
   "outputs": [
    {
     "data": {
      "text/plain": [
       "Index(['system_ID', 'pli_qcov_weighted_sum__0.7__strong__component',\n",
       "       'pli_qcov_weighted_sum__0.7__weak__component',\n",
       "       'pli_qcov_weighted_sum__0.5__strong__component',\n",
       "       'pli_qcov_weighted_sum__0.5__weak__component',\n",
       "       'pocket_qcov_weighted_sum__0.7__strong__component',\n",
       "       'pocket_qcov_weighted_sum__0.7__weak__component',\n",
       "       'pocket_qcov_weighted_sum__0.5__strong__component',\n",
       "       'pocket_qcov_weighted_sum__0.5__weak__component'],\n",
       "      dtype='object')"
      ]
     },
     "execution_count": 48,
     "metadata": {},
     "output_type": "execute_result"
    }
   ],
   "source": [
    "dfs.columns"
   ]
  },
  {
   "cell_type": "code",
   "execution_count": 55,
   "metadata": {},
   "outputs": [],
   "source": [
    "stats2 = []\n",
    "for df, name in zip([pdbbind_nolig, pdbbind_nolig_or_rec], [\"pdbbind_nolig\", \"pdbbind_nolig_or_rec\"]):\n",
    "    for col in dfs.columns:\n",
    "        stats2.append([col, name, df[col].nunique()])\n",
    "for col in dfs.columns:\n",
    "    df = pli_data\n",
    "    stats2.append([col, 'total num in plinder', df[col].nunique()])\n",
    "stats2 = pd.DataFrame(stats2, columns=['similarity cluster', 'dataset', 'num'])\n",
    "stats2.pivot(index='similarity cluster', columns='dataset', values='num').to_clipboard()"
   ]
  },
  {
   "cell_type": "code",
   "execution_count": 56,
   "metadata": {},
   "outputs": [
    {
     "data": {
      "text/plain": [
       "0                                           UNK;UNK\n",
       "1                           TIM barrels;TIM barrels\n",
       "2                           TIM barrels;TIM barrels\n",
       "3                           TIM barrels;TIM barrels\n",
       "4         Fluoride ion channel;Fluoride ion channel\n",
       "                            ...                    \n",
       "474003                             Cyclophilin-like\n",
       "474004                             Cyclophilin-like\n",
       "474005                                          UNK\n",
       "474006                                          UNK\n",
       "474007                           Carbonic anhydrase\n",
       "Name: ecod_t_name, Length: 474008, dtype: object"
      ]
     },
     "execution_count": 56,
     "metadata": {},
     "output_type": "execute_result"
    }
   ],
   "source": [
    "pli_data['ecod_t_name']"
   ]
  }
 ],
 "metadata": {
  "kernelspec": {
   "display_name": "plinder",
   "language": "python",
   "name": "python3"
  },
  "language_info": {
   "codemirror_mode": {
    "name": "ipython",
    "version": 3
   },
   "file_extension": ".py",
   "mimetype": "text/x-python",
   "name": "python",
   "nbconvert_exporter": "python",
   "pygments_lexer": "ipython3",
   "version": "3.9.19"
  }
 },
 "nbformat": 4,
 "nbformat_minor": 2
}
