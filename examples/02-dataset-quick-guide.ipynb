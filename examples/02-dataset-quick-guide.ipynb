{
 "cells": [
  {
   "cell_type": "markdown",
   "metadata": {},
   "source": [
    "# 1. Configure dataset environment variable\n",
    "> You need to set this to point to the release and iteration of choice. For the sake of demonstartion, this will be set to point to a smaller toy example dataset, which are `PLINDER_RELEASE=2024-06` and `PLINDER_ITERATION=toy`. \n",
    "\n",
    ">NOTE!: the version used for the preprint is `PLINDER_RELEASE=2024-04` and `PLINDER_ITERATION=v1`, while the current version  updated annotations to be used for the MLSB challenge is`PLINDER_RELEASE=2024-06` and `PLINDER_ITERATION=v2` .\n"
   ]
  },
  {
   "cell_type": "markdown",
   "metadata": {},
   "source": [
    "```bash\n",
    "export PLINDER_RELEASE=2024-04 # Current release\n",
    "export PLINDER_ITERATION=toy # Current iteration\n",
    "```"
   ]
  },
  {
   "cell_type": "code",
   "execution_count": 5,
   "metadata": {},
   "outputs": [],
   "source": [
    "from __future__ import annotations\n",
    "import os\n",
    "from pathlib import Path\n",
    "\n",
    "release = \"2024-04\"\n",
    "iteration = \"toy\"\n",
    "os.environ[\"PLINDER_RELEASE\"] = release\n",
    "os.environ[\"PLINDER_ITERATION\"] = iteration\n",
    "os.environ[\"PLINDER_REPO\"] =  str(Path.home()/\"plinder-org/plinder\")\n",
    "os.environ[\"PLINDER_LOCAL_DIR\"] =  str(Path.home()/\".local/share/plinder\")\n",
    "version = f\"{release}/{iteration}\""
   ]
  },
  {
   "cell_type": "markdown",
   "metadata": {},
   "source": [
    "# 2. Download dataset\n",
    "> You can download all the content of directory, with the command below"
   ]
  },
  {
   "cell_type": "code",
   "execution_count": 4,
   "metadata": {},
   "outputs": [
    {
     "name": "stdout",
     "output_type": "stream",
     "text": [
      "bucket_name: plinder-collab-bucket release: 2024-04 iteration: toy specific_dirs: [] unpack: Trueskip_download: False\n",
      "100%|█████████████████████████████████████████| 299/299 [01:32<00:00,  3.25it/s]\n",
      "2024-08-15 01:52:55,024 | plinder.core.utils.gcs.download_many:24 | INFO : runtime succeeded: 92.65s\n",
      "Extracting /Users/yusuf/.local/share/plinder/2024-04/toy/entries/da.zip: 100%|█|\n",
      "Extracting /Users/yusuf/.local/share/plinder/2024-04/toy/entries/lp.zip: 100%|█|\n",
      "Extracting /Users/yusuf/.local/share/plinder/2024-04/toy/entries/to.zip: 100%|█|\n",
      "Extracting /Users/yusuf/.local/share/plinder/2024-04/toy/systems/da.zip: 100%|█|\n",
      "Extracting /Users/yusuf/.local/share/plinder/2024-04/toy/systems/lp.zip: 100%|█|\n",
      "Extracting /Users/yusuf/.local/share/plinder/2024-04/toy/systems/to.zip: 100%|█|\n",
      "python ${PLINDER_REPO}/scripts/download_plinder.py --bucket_name  --release    346.58s user 125.66s system 448% cpu 1:45.38 total\n"
     ]
    }
   ],
   "source": [
    "# Download systems and splits\n",
    "! time python ${PLINDER_REPO}/scripts/download_plinder.py --bucket_name plinder-collab-bucket --release 2024-04 --iteration toy  --unpack"
   ]
  },
  {
   "cell_type": "markdown",
   "metadata": {},
   "source": [
    "# 3. Inspect the content"
   ]
  },
  {
   "cell_type": "markdown",
   "metadata": {
    "vscode": {
     "languageId": "shellscript"
    }
   },
   "source": [
    "\n",
    "```\n",
    "2024-04/                     # The \"`plinder` release\" (`PLINDER_RELEASE`)\n",
    "|-- toy                       # The \"`plinder` iteration\" (`PLINDER_ITERATION`)\n",
    "|   |-- systems              # Actual structure files for all systems (split by `two_char_code` and zipped)\n",
    "|   |-- splits               # List of system ids in a .parquet and each split  the configs used to generate them (if available)\n",
    "|   |-- clusters             # Pre-calculated cluster labels derived from the protein similarity dataset\n",
    "|   |-- entries              # Raw annotations prior to consolidation (split by `two_char_code` and zipped)\n",
    "|   |-- fingerprints         # Index mapping files for the ligand similarity dataset\n",
    "|   |-- index                # Consolidated tabular annotations\n",
    "|   |-- leakage              # Leakage results\n",
    "|   |-- ligand_scores        # Ligand similarity parquet dataset\n",
    "|   |-- ligands              # Ligand data expanded from entries for computing similarity\n",
    "|   |-- linked_structures    # Linked structures\n",
    "|   |-- mmp                  # Matched Molecular Series/Pair data\n",
    "|   |-- scores               # Extended protein similarity parquet dataset\n",
    "```\n"
   ]
  },
  {
   "cell_type": "code",
   "execution_count": 11,
   "metadata": {},
   "outputs": [
    {
     "name": "stdout",
     "output_type": "stream",
     "text": [
      "\u001b[01;34m/Users/yusuf/.local/share/plinder/2024-04/toy/systems\u001b[00m\n",
      "├── \u001b[01;34m1daa__1__1.A__1.C\u001b[00m\n",
      "│   ├── chain_mapping.json\n",
      "│   ├── \u001b[01;34mligand_files\u001b[00m\n",
      "│   │   └── 1.C.sdf\n",
      "│   ├── receptor.cif\n",
      "│   ├── receptor.pdb\n",
      "│   ├── sequences.fasta\n",
      "│   ├── system.cif\n",
      "│   ├── system.pdb\n"
     ]
    }
   ],
   "source": [
    "! tree ${PLINDER_LOCAL_DIR}/${PLINDER_RELEASE}/${PLINDER_ITERATION}/systems|head"
   ]
  },
  {
   "cell_type": "code",
   "execution_count": 13,
   "metadata": {},
   "outputs": [
    {
     "name": "stdout",
     "output_type": "stream",
     "text": [
      "\u001b[01;34m/Users/yusuf/.local/share/plinder/2024-04/toy/splits\u001b[00m\n",
      "├── plinder-pl50.parquet\n",
      "└── plinder-pl50.yaml\n",
      "\n",
      "0 directories, 2 files\n"
     ]
    }
   ],
   "source": [
    "! tree ${PLINDER_LOCAL_DIR}/${PLINDER_RELEASE}/${PLINDER_ITERATION}/splits"
   ]
  },
  {
   "cell_type": "markdown",
   "metadata": {
    "vscode": {
     "languageId": "shellscript"
    }
   },
   "source": [
    "# 3. Query similarity dataset"
   ]
  },
  {
   "cell_type": "code",
   "execution_count": 18,
   "metadata": {},
   "outputs": [
    {
     "name": "stdout",
     "output_type": "stream",
     "text": [
      "\n",
      "local cache directory: /Users/yusuf/.local/share/plinder/2024-04/toy\n",
      "remote data directory: gs://plinder/2024-04/toy\n",
      "\n"
     ]
    }
   ],
   "source": [
    "import plinder.core.utils.config\n",
    "from plinder.core.scores.query import make_query_no_schema\n",
    "from plinder.core.scores.protein import query_protein_similarity\n",
    "from plinder.core.scores import query_ligand_similarity\n",
    "from plinder.core.utils import gcs, cpl\n",
    "\n",
    "\n",
    "cfg = plinder.core.utils.config.get_config()\n",
    "print(f\"\"\"\n",
    "local cache directory: {cfg.data.plinder_dir}\n",
    "remote data directory: {cfg.data.plinder_remote}\n",
    "\"\"\")\n",
    "data_dir = Path(cfg.data.plinder_dir)"
   ]
  },
  {
   "cell_type": "code",
   "execution_count": 20,
   "metadata": {},
   "outputs": [],
   "source": [
    "def get_specific_protein_similarity(search_db, columns, filters, metric):\n",
    "    prot_sim_df = query_protein_similarity(\n",
    "        search_db=search_db,\n",
    "        #columns=columns,\n",
    "        filters=filters\n",
    "    )\n",
    "    return prot_sim_df[prot_sim_df.metric.isin(metric)]"
   ]
  },
  {
   "cell_type": "code",
   "execution_count": 21,
   "metadata": {},
   "outputs": [
    {
     "name": "stderr",
     "output_type": "stream",
     "text": [
      "2024-08-14 20:41:55,369 | plinder.core.utils.cpl.ping:24 | INFO : runtime succeeded: 1.06s\n",
      "2024-08-14 20:41:55,657 | plinder.core.scores.protein.query_protein_similarity:24 | INFO : runtime succeeded: 3.04s\n"
     ]
    },
    {
     "data": {
      "text/html": [
       "<div>\n",
       "<style scoped>\n",
       "    .dataframe tbody tr th:only-of-type {\n",
       "        vertical-align: middle;\n",
       "    }\n",
       "\n",
       "    .dataframe tbody tr th {\n",
       "        vertical-align: top;\n",
       "    }\n",
       "\n",
       "    .dataframe thead th {\n",
       "        text-align: right;\n",
       "    }\n",
       "</style>\n",
       "<table border=\"1\" class=\"dataframe\">\n",
       "  <thead>\n",
       "    <tr style=\"text-align: right;\">\n",
       "      <th></th>\n",
       "      <th>query_system</th>\n",
       "      <th>target_system</th>\n",
       "      <th>protein_mapping</th>\n",
       "      <th>mapping</th>\n",
       "      <th>protein_mapper</th>\n",
       "      <th>source</th>\n",
       "      <th>metric</th>\n",
       "      <th>similarity</th>\n",
       "    </tr>\n",
       "  </thead>\n",
       "  <tbody>\n",
       "    <tr>\n",
       "      <th>21</th>\n",
       "      <td>3to9__2__2.A__2.B</td>\n",
       "      <td>5j9t_A</td>\n",
       "      <td>2.A:0.A</td>\n",
       "      <td>None</td>\n",
       "      <td>foldseek</td>\n",
       "      <td>foldseek</td>\n",
       "      <td>pocket_lddt</td>\n",
       "      <td>88</td>\n",
       "    </tr>\n",
       "    <tr>\n",
       "      <th>44</th>\n",
       "      <td>3to9__2__2.A__2.B</td>\n",
       "      <td>5j9t_E</td>\n",
       "      <td>2.A:0.E</td>\n",
       "      <td>None</td>\n",
       "      <td>foldseek</td>\n",
       "      <td>foldseek</td>\n",
       "      <td>pocket_lddt</td>\n",
       "      <td>88</td>\n",
       "    </tr>\n",
       "    <tr>\n",
       "      <th>67</th>\n",
       "      <td>3to9__2__2.A__2.B</td>\n",
       "      <td>5j9t_I</td>\n",
       "      <td>2.A:0.I</td>\n",
       "      <td>None</td>\n",
       "      <td>foldseek</td>\n",
       "      <td>foldseek</td>\n",
       "      <td>pocket_lddt</td>\n",
       "      <td>86</td>\n",
       "    </tr>\n",
       "    <tr>\n",
       "      <th>90</th>\n",
       "      <td>3to9__2__2.A__2.B</td>\n",
       "      <td>5j9u_A</td>\n",
       "      <td>2.A:0.A</td>\n",
       "      <td>None</td>\n",
       "      <td>foldseek</td>\n",
       "      <td>foldseek</td>\n",
       "      <td>pocket_lddt</td>\n",
       "      <td>87</td>\n",
       "    </tr>\n",
       "    <tr>\n",
       "      <th>113</th>\n",
       "      <td>3to9__2__2.A__2.B</td>\n",
       "      <td>5j9u_D</td>\n",
       "      <td>2.A:0.D</td>\n",
       "      <td>None</td>\n",
       "      <td>foldseek</td>\n",
       "      <td>foldseek</td>\n",
       "      <td>pocket_lddt</td>\n",
       "      <td>87</td>\n",
       "    </tr>\n",
       "    <tr>\n",
       "      <th>136</th>\n",
       "      <td>3to9__2__2.A__2.B</td>\n",
       "      <td>5j9u_E</td>\n",
       "      <td>2.A:0.E</td>\n",
       "      <td>None</td>\n",
       "      <td>foldseek</td>\n",
       "      <td>foldseek</td>\n",
       "      <td>pocket_lddt</td>\n",
       "      <td>87</td>\n",
       "    </tr>\n",
       "  </tbody>\n",
       "</table>\n",
       "</div>"
      ],
      "text/plain": [
       "          query_system target_system  ...       metric similarity\n",
       "21   3to9__2__2.A__2.B        5j9t_A  ...  pocket_lddt         88\n",
       "44   3to9__2__2.A__2.B        5j9t_E  ...  pocket_lddt         88\n",
       "67   3to9__2__2.A__2.B        5j9t_I  ...  pocket_lddt         86\n",
       "90   3to9__2__2.A__2.B        5j9u_A  ...  pocket_lddt         87\n",
       "113  3to9__2__2.A__2.B        5j9u_D  ...  pocket_lddt         87\n",
       "136  3to9__2__2.A__2.B        5j9u_E  ...  pocket_lddt         87\n",
       "\n",
       "[6 rows x 8 columns]"
      ]
     },
     "execution_count": 21,
     "metadata": {},
     "output_type": "execute_result"
    }
   ],
   "source": [
    "get_specific_protein_similarity(\"apo\", None, [(\"similarity\", \">\", \"50\")], \"pocket_lddt\")"
   ]
  },
  {
   "cell_type": "code",
   "execution_count": 25,
   "metadata": {},
   "outputs": [
    {
     "name": "stderr",
     "output_type": "stream",
     "text": [
      "2024-08-14 20:57:53,809 | plinder.core.utils.cpl.ping:24 | INFO : runtime succeeded: 0.30s\n",
      "2024-08-14 20:57:54,091 | plinder.core.scores.ligand.query_ligand_similarity:24 | INFO : runtime succeeded: 1.87s\n"
     ]
    },
    {
     "data": {
      "text/html": [
       "<div>\n",
       "<style scoped>\n",
       "    .dataframe tbody tr th:only-of-type {\n",
       "        vertical-align: middle;\n",
       "    }\n",
       "\n",
       "    .dataframe tbody tr th {\n",
       "        vertical-align: top;\n",
       "    }\n",
       "\n",
       "    .dataframe thead th {\n",
       "        text-align: right;\n",
       "    }\n",
       "</style>\n",
       "<table border=\"1\" class=\"dataframe\">\n",
       "  <thead>\n",
       "    <tr style=\"text-align: right;\">\n",
       "      <th></th>\n",
       "      <th>query_ligand_id</th>\n",
       "      <th>target_ligand_id</th>\n",
       "      <th>tanimoto_similarity_max</th>\n",
       "    </tr>\n",
       "  </thead>\n",
       "  <tbody>\n",
       "    <tr>\n",
       "      <th>0</th>\n",
       "      <td>19987</td>\n",
       "      <td>19987</td>\n",
       "      <td>100</td>\n",
       "    </tr>\n",
       "    <tr>\n",
       "      <th>1</th>\n",
       "      <td>19987</td>\n",
       "      <td>12591</td>\n",
       "      <td>67</td>\n",
       "    </tr>\n",
       "    <tr>\n",
       "      <th>2</th>\n",
       "      <td>19987</td>\n",
       "      <td>8937</td>\n",
       "      <td>67</td>\n",
       "    </tr>\n",
       "    <tr>\n",
       "      <th>3</th>\n",
       "      <td>19987</td>\n",
       "      <td>19079</td>\n",
       "      <td>64</td>\n",
       "    </tr>\n",
       "    <tr>\n",
       "      <th>4</th>\n",
       "      <td>19987</td>\n",
       "      <td>30879</td>\n",
       "      <td>56</td>\n",
       "    </tr>\n",
       "    <tr>\n",
       "      <th>...</th>\n",
       "      <td>...</td>\n",
       "      <td>...</td>\n",
       "      <td>...</td>\n",
       "    </tr>\n",
       "    <tr>\n",
       "      <th>2239</th>\n",
       "      <td>4274</td>\n",
       "      <td>40444</td>\n",
       "      <td>51</td>\n",
       "    </tr>\n",
       "    <tr>\n",
       "      <th>2240</th>\n",
       "      <td>4274</td>\n",
       "      <td>34909</td>\n",
       "      <td>51</td>\n",
       "    </tr>\n",
       "    <tr>\n",
       "      <th>2241</th>\n",
       "      <td>4274</td>\n",
       "      <td>8435</td>\n",
       "      <td>51</td>\n",
       "    </tr>\n",
       "    <tr>\n",
       "      <th>2242</th>\n",
       "      <td>4274</td>\n",
       "      <td>44573</td>\n",
       "      <td>51</td>\n",
       "    </tr>\n",
       "    <tr>\n",
       "      <th>2243</th>\n",
       "      <td>4274</td>\n",
       "      <td>23838</td>\n",
       "      <td>51</td>\n",
       "    </tr>\n",
       "  </tbody>\n",
       "</table>\n",
       "<p>2244 rows × 3 columns</p>\n",
       "</div>"
      ],
      "text/plain": [
       "      query_ligand_id  target_ligand_id  tanimoto_similarity_max\n",
       "0               19987             19987                      100\n",
       "1               19987             12591                       67\n",
       "2               19987              8937                       67\n",
       "3               19987             19079                       64\n",
       "4               19987             30879                       56\n",
       "...               ...               ...                      ...\n",
       "2239             4274             40444                       51\n",
       "2240             4274             34909                       51\n",
       "2241             4274              8435                       51\n",
       "2242             4274             44573                       51\n",
       "2243             4274             23838                       51\n",
       "\n",
       "[2244 rows x 3 columns]"
      ]
     },
     "execution_count": 25,
     "metadata": {},
     "output_type": "execute_result"
    }
   ],
   "source": [
    "query_ligand_similarity(\n",
    "\n",
    "   filters=[(\"tanimoto_similarity_max\", \">\", \"50\")]\n",
    ")"
   ]
  }
 ],
 "metadata": {
  "kernelspec": {
   "display_name": "plinder",
   "language": "python",
   "name": "python3"
  },
  "language_info": {
   "codemirror_mode": {
    "name": "ipython",
    "version": 3
   },
   "file_extension": ".py",
   "mimetype": "text/x-python",
   "name": "python",
   "nbconvert_exporter": "python",
   "pygments_lexer": "ipython3",
   "version": "3.9.18"
  }
 },
 "nbformat": 4,
 "nbformat_minor": 2
}
