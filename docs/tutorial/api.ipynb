{
 "cells": [
  {
   "cell_type": "markdown",
   "metadata": {},
   "source": [
    "# Python API tutorial\n",
    "\n",
    "## Installation\n",
    "\n",
    "### Getting `plinder`\n",
    "\n",
    "Due to dependencies that are not installable via `pip`, `plinder` is currently not\n",
    "available at PyPI.\n",
    "You can download the official\n",
    "[_GitHub_ repository](https://github.com/plinder-org/plinder/)\n",
    "instead, for example via `git`.\n",
    "\n",
    "```console\n",
    "$ git clone https://github.com/plinder-org/plinder.git\n",
    "```\n",
    "\n",
    "### Creating the Conda environment\n",
    "\n",
    "The most convenient way to install the aforementioned extra dependencies is a _Conda_\n",
    "environment.\n",
    "If you have not _Conda_ installed yet, we recommend its installation via\n",
    "[miniforge](https://github.com/conda-forge/miniforge).\n",
    "Afterwards the environment can be created from the `environment.yml` in the local\n",
    "repository clone.\n",
    "\n",
    ":::{note}\n",
    "We currently only support a Linux environment.\n",
    "`plinder` uses `openstructure` for some of its functionality and is available from the\n",
    "`aivant` conda channel using `conda install aivant::openstructure`, but it is only built\n",
    "targeting Linux architectures.\n",
    "For Windows and MacOS users, please see the relevant\n",
    "[_Docker_](#docker-target) resources.\n",
    ":::\n",
    "\n",
    "```console\n",
    "$ mamba env create -f environment.yml\n",
    "$ mamba activate plinder\n",
    "```\n",
    "\n",
    "### Installing `plinder`\n",
    "\n",
    "Now `plinder` can be installed into the created environment:\n",
    "\n",
    "```console\n",
    "$ pip install .\n",
    "```\n",
    "\n",
    "(docker-target)=\n",
    "### Alternative: Using a Docker container\n",
    "\n",
    "We also publish the `plinder` project as a docker container as alternative to the\n",
    "_Conda_-based installation, to ensure the highest level of compatibility with\n",
    "non-Linux platforms.\n",
    "See the relevant docker resources here for more details:\n",
    "\n",
    "- `docker-compose.yml`: defines a `base` image, the `plinder` \"app\" and a `test`\n",
    "  container\n",
    "- `dockerfiles/base/`: contains the files for the `base` image\n",
    "- `dockerfiles/main/`: contains the files for the `plinder` \"app\" image\n",
    "\n",
    "### Configure dataset environment variables\n",
    "\n",
    "We need to set environment variables to point to the release and iteration of choice.\n",
    "For the sake of demonstration, this will be set to point to a smaller tutorial example\n",
    "dataset, which are `PLINDER_RELEASE=2024-06` and `PLINDER_ITERATION=tutorial`.\n",
    "\n",
    ":::{note}\n",
    "The version used for the preprint is `PLINDER_RELEASE=2024-04` and\n",
    "`PLINDER_ITERATION=v1`, while the current version with updated annotations to be used\n",
    "for the MLSB challenge is`PLINDER_RELEASE=2024-06` and `PLINDER_ITERATION=v2`.\n",
    ":::"
   ]
  },
  {
   "cell_type": "code",
   "execution_count": null,
   "metadata": {},
   "outputs": [],
   "source": [
    "import os\n",
    "from pathlib import Path\n",
    "\n",
    "release = \"2024-06\"\n",
    "iteration = \"tutorial\"\n",
    "os.environ[\"PLINDER_RELEASE\"] = release\n",
    "os.environ[\"PLINDER_ITERATION\"] = iteration\n",
    "os.environ[\"PLINDER_REPO\"] =  str(Path.home()/\"plinder-org/plinder\")\n",
    "os.environ[\"PLINDER_LOCAL_DIR\"] =  str(Path.home()/\".local/share/plinder\")\n",
    "os.environ[\"GCLOUD_PROJECT\"] = \"plinder\"\n",
    "version = f\"{release}/{iteration}\""
   ]
  },
  {
   "cell_type": "markdown",
   "metadata": {},
   "source": [
    "As alternative these variables could also be set from terminal via `export` (*UNIX*) or\n",
    "`set` (*Windows*)."
   ]
  },
  {
   "cell_type": "markdown",
   "metadata": {},
   "source": [
    "## Overview\n",
    "\n",
    "The user-facing subpackage of `plinder` is {mod}`plinder.core`.\n",
    "This provides access to the underlying utility functions for accessing the dataset,\n",
    "split and annotations.\n",
    "It provides access to five top-level functions:\n",
    "\n",
    ":::{currentmodule} plinder.core\n",
    ":::\n",
    "\n",
    "- {func}`get_config()`: access *PLINDER* global configuration\n",
    "- {func}`get_plindex()`: access full annotation table\n",
    "- {func}`get_manifest`: map *PLINDER* system to PDB ID\n",
    "- {func}`get_split`: access full split table\n",
    "\n",
    ":::{currentmodule} plinder\n",
    ":::\n",
    "\n",
    "In addition, it provides access to the data class {class}`PlinderSystem` for\n",
    "reconstituting a *PLINDER* system from its `system_id`.\n",
    "\n",
    "To supplement these data, {mod}`plinder.core.scores` provides functionality for\n",
    "querying metrics, such as protein/ligand similarity and cluster identity."
   ]
  },
  {
   "cell_type": "markdown",
   "metadata": {},
   "source": [
    "## Getting the configuration\n",
    "\n",
    "At first we get the configuration to check that all parameters are correctly set. \n",
    "In the snippet below, we will check, if the local and remote *PLINDER* paths point to\n",
    "the expected location."
   ]
  },
  {
   "cell_type": "code",
   "execution_count": null,
   "metadata": {},
   "outputs": [],
   "source": [
    "import plinder.core.utils.config\n",
    "\n",
    "cfg = plinder.core.get_config()\n",
    "print(f\"local cache directory: {cfg.data.plinder_dir}\")\n",
    "print(f\"remote data directory: {cfg.data.plinder_remote}\")"
   ]
  },
  {
   "cell_type": "markdown",
   "metadata": {},
   "source": [
    "## Query annotations\n",
    "\n",
    ":::{currentmodule} plinder.core\n",
    ":::\n",
    "\n",
    "### Full dataset\n",
    "\n",
    "The annotation table is also called *PLINDER index* or *PLINDEX* in short.\n",
    "{func}`get_plindex()` loads the entire annotation table as\n",
    "[`pandas`](https://pandas.pydata.org) data frame.\n",
    "A description of all columns is available in the\n",
    "[Dataset Reference](#annotation-table-target)."
   ]
  },
  {
   "cell_type": "code",
   "execution_count": null,
   "metadata": {},
   "outputs": [],
   "source": [
    "from plinder.core import get_plindex\n",
    "annotation_df = get_plindex()\n",
    "annotation_df.head()"
   ]
  },
  {
   "cell_type": "markdown",
   "metadata": {},
   "source": [
    "### Query specific columns \n",
    "\n",
    ":::{currentmodule} plinder.core.scores\n",
    ":::\n",
    "\n",
    "To query the annotations table for specific columns or filter by specific criteria, use\n",
    "{func}`query_index()`.\n",
    "The function could be called without any argument to yield a table of `system_id` and\n",
    "`entry_pdb_id`.\n",
    "However, the function could be called by passing `columns` argument, which is a list of\n",
    "[column names](#annotation-table-target). "
   ]
  },
  {
   "cell_type": "code",
   "execution_count": null,
   "metadata": {},
   "outputs": [],
   "source": [
    "from plinder.core.scores import query_index\n",
    "# Get system_id and entry_pdb_id columns\n",
    "query_index()"
   ]
  },
  {
   "cell_type": "code",
   "execution_count": null,
   "metadata": {},
   "outputs": [],
   "source": [
    "# Get specific columns from the annotation table\n",
    "cols_of_interest = [\"system_id\", \"entry_pdb_id\", \"entry_release_date\", \"entry_oligomeric_state\",\n",
    "\"entry_clashscore\", \"entry_resolution\"]\n",
    "query_index(columns=cols_of_interest)"
   ]
  },
  {
   "cell_type": "markdown",
   "metadata": {},
   "source": [
    "### Query annotations with specific filters\n",
    "\n",
    "We could also pass additional `filters`, where each filter is a logical comparison\n",
    "of a column name with some given value.\n",
    "Only those rows, that fulfill all conditions, are returned.\n",
    "See the description of\n",
    "[`pandas.read_parquet()`]https://pandas.pydata.org/docs/reference/api/pandas.read_parquet.html\n",
    "for more information on the filter syntax."
   ]
  },
  {
   "cell_type": "code",
   "execution_count": null,
   "metadata": {},
   "outputs": [],
   "source": [
    "# Query for single-ligand systems\n",
    "filters = [(\"system_num_ligand_chains\", \"==\", \"1\")]\n",
    "query_index(columns=cols_of_interest, filters=filters)"
   ]
  },
  {
   "cell_type": "markdown",
   "metadata": {},
   "source": [
    "## Query protein similarity\n",
    "The are three kinds of similarity datasets we provide:\n",
    "- Similarity between ligand bound structures (`holo`)\n",
    "- Similarity between ligand bound and unbound protein structures (`apo`)\n",
    "- Similarity between ligand bound and Alphafold predicted structures (`pred`)\n",
    "Any of these could be specified with {func}`query_protein_similarity()`"
   ]
  },
  {
   "cell_type": "markdown",
   "metadata": {},
   "source": [
    ":::{note} With the full dataset, some similarity queries might require a large amount of memory. For example, `query_protein_similarity(search_db=\"apo\", filters=[(\"similarity\", \">\", \"50\")]) will use up  >500G RAM.:::"
   ]
  },
  {
   "cell_type": "code",
   "execution_count": 72,
   "metadata": {},
   "outputs": [
    {
     "name": "stderr",
     "output_type": "stream",
     "text": [
      "2024-08-27 11:03:39,711 | plinder.core.utils.cpl.download_paths:24 | INFO : runtime succeeded: 0.20s\n",
      "2024-08-27 11:03:39,863 | plinder.core.scores.protein.query_protein_similarity:24 | INFO : runtime succeeded: 1.37s\n"
     ]
    },
    {
     "data": {
      "text/html": [
       "<div>\n",
       "<style scoped>\n",
       "    .dataframe tbody tr th:only-of-type {\n",
       "        vertical-align: middle;\n",
       "    }\n",
       "\n",
       "    .dataframe tbody tr th {\n",
       "        vertical-align: top;\n",
       "    }\n",
       "\n",
       "    .dataframe thead th {\n",
       "        text-align: right;\n",
       "    }\n",
       "</style>\n",
       "<table border=\"1\" class=\"dataframe\">\n",
       "  <thead>\n",
       "    <tr style=\"text-align: right;\">\n",
       "      <th></th>\n",
       "      <th>query_system</th>\n",
       "      <th>target_system</th>\n",
       "      <th>similarity</th>\n",
       "    </tr>\n",
       "  </thead>\n",
       "  <tbody>\n",
       "    <tr>\n",
       "      <th>0</th>\n",
       "      <td>1b5d__1__1.A_1.B__1.D</td>\n",
       "      <td>1b49_A</td>\n",
       "      <td>100</td>\n",
       "    </tr>\n",
       "    <tr>\n",
       "      <th>1</th>\n",
       "      <td>1b5d__1__1.A_1.B__1.D</td>\n",
       "      <td>1b49_B</td>\n",
       "      <td>100</td>\n",
       "    </tr>\n",
       "    <tr>\n",
       "      <th>2</th>\n",
       "      <td>1b5d__1__1.A_1.B__1.D</td>\n",
       "      <td>6a9b_A</td>\n",
       "      <td>100</td>\n",
       "    </tr>\n",
       "    <tr>\n",
       "      <th>3</th>\n",
       "      <td>1s2g__1__1.A_2.C__1.D</td>\n",
       "      <td>1s2l_A</td>\n",
       "      <td>100</td>\n",
       "    </tr>\n",
       "    <tr>\n",
       "      <th>4</th>\n",
       "      <td>1s2g__1__1.A_2.C__1.D</td>\n",
       "      <td>1s2l_B</td>\n",
       "      <td>100</td>\n",
       "    </tr>\n",
       "    <tr>\n",
       "      <th>...</th>\n",
       "      <td>...</td>\n",
       "      <td>...</td>\n",
       "      <td>...</td>\n",
       "    </tr>\n",
       "    <tr>\n",
       "      <th>3093</th>\n",
       "      <td>4n7m__1__1.A_1.B__1.C</td>\n",
       "      <td>6bz9__1__1.A_1.B__1.C</td>\n",
       "      <td>52</td>\n",
       "    </tr>\n",
       "    <tr>\n",
       "      <th>3094</th>\n",
       "      <td>4n7m__1__1.A_1.B__1.C</td>\n",
       "      <td>6f6r__1__1.A_1.B__1.C</td>\n",
       "      <td>52</td>\n",
       "    </tr>\n",
       "    <tr>\n",
       "      <th>3095</th>\n",
       "      <td>4n7m__1__1.A_1.B__1.C</td>\n",
       "      <td>6f6r__1__2.A_2.B__2.C</td>\n",
       "      <td>52</td>\n",
       "    </tr>\n",
       "    <tr>\n",
       "      <th>3096</th>\n",
       "      <td>4n7m__1__1.A_1.B__1.C</td>\n",
       "      <td>6f6r__2__1.A_1.B__1.C</td>\n",
       "      <td>52</td>\n",
       "    </tr>\n",
       "    <tr>\n",
       "      <th>3097</th>\n",
       "      <td>4n7m__1__1.A_1.B__1.C</td>\n",
       "      <td>6pzp__1__1.A_1.B__1.C</td>\n",
       "      <td>52</td>\n",
       "    </tr>\n",
       "  </tbody>\n",
       "</table>\n",
       "<p>3098 rows × 3 columns</p>\n",
       "</div>"
      ],
      "text/plain": [
       "               query_system          target_system  similarity\n",
       "0     1b5d__1__1.A_1.B__1.D                 1b49_A         100\n",
       "1     1b5d__1__1.A_1.B__1.D                 1b49_B         100\n",
       "2     1b5d__1__1.A_1.B__1.D                 6a9b_A         100\n",
       "3     1s2g__1__1.A_2.C__1.D                 1s2l_A         100\n",
       "4     1s2g__1__1.A_2.C__1.D                 1s2l_B         100\n",
       "...                     ...                    ...         ...\n",
       "3093  4n7m__1__1.A_1.B__1.C  6bz9__1__1.A_1.B__1.C          52\n",
       "3094  4n7m__1__1.A_1.B__1.C  6f6r__1__1.A_1.B__1.C          52\n",
       "3095  4n7m__1__1.A_1.B__1.C  6f6r__1__2.A_2.B__2.C          52\n",
       "3096  4n7m__1__1.A_1.B__1.C  6f6r__2__1.A_1.B__1.C          52\n",
       "3097  4n7m__1__1.A_1.B__1.C  6pzp__1__1.A_1.B__1.C          52\n",
       "\n",
       "[3098 rows x 3 columns]"
      ]
     },
     "execution_count": 72,
     "metadata": {},
     "output_type": "execute_result"
    }
   ],
   "source": [
    "from plinder.core.scores import query_protein_similarity\n",
    "query_protein_similarity(\n",
    "    search_db=\"apo\",\n",
    "    columns=[\"query_system\", \"target_system\", \"similarity\"],\n",
    "    filters=[(\"similarity\", \">\", \"50\"), (\"metric\", \"==\", \"protein_qcov_max\")]\n",
    ")"
   ]
  },
  {
   "cell_type": "markdown",
   "metadata": {},
   "source": [
    "## Working with a PLINDER system\n",
    "\n",
    "A {class}`PlinderSystem` is the representation of a single System.\n",
    "This object provides access to all PDB entry and system level annotations, as well as\n",
    "the structures of the system components."
   ]
  },
  {
   "cell_type": "markdown",
   "metadata": {},
   "source": [
    "### Load systems from IDs\n",
    "\n",
    "To reconstitute PLINDER systems directly from a set of IDs use class {class}`PlinderSystem`.\n"
   ]
  },
  {
   "cell_type": "code",
   "execution_count": 57,
   "metadata": {},
   "outputs": [],
   "source": [
    "from plinder.core import PlinderSystem\n",
    "plinder_system = PlinderSystem(system_id=\"4agi__1__1.C__1.W\")"
   ]
  },
  {
   "cell_type": "markdown",
   "metadata": {},
   "source": [
    "Users can choose the granularity level of input:\n",
    "In the cases above the systems were specified by their system ID, but as alternative\n",
    "passing PDB IDs (or their two middle characters) is also possible, which gives you all\n",
    "systems corresponding to the given PDB IDs."
   ]
  },
  {
   "cell_type": "markdown",
   "metadata": {},
   "source": [
    "### Accessing annotations\n",
    "\n",
    "The `PlinderSystem.entry` property provides PDB entry-level annotations for that system.\n",
    "Here, we will list the accessible categories of entry annotations and access the\n",
    "oligomeric state of a given system."
   ]
  },
  {
   "cell_type": "code",
   "execution_count": null,
   "metadata": {},
   "outputs": [],
   "source": [
    "entry_annotations = plinder_system.entry\n",
    "print(list(entry_annotations.keys()))\n",
    "print(entry_annotations[\"oligomeric_state\"])"
   ]
  },
  {
   "cell_type": "markdown",
   "metadata": {},
   "source": [
    "Instead, `PlinderSystem.system` returns annotations on the system level.\n",
    "Here, we will extract the SMILES string of the first ligand of a given system."
   ]
  },
  {
   "cell_type": "code",
   "execution_count": null,
   "metadata": {},
   "outputs": [],
   "source": [
    "system_annotations = plinder_system.system\n",
    "print(list(system_annotations.keys()))\n",
    "# Show ligand smiles of the first ligand of a given system\n",
    "print(system_annotations[\"ligands\"][0][\"smiles\"])"
   ]
  },
  {
   "cell_type": "markdown",
   "metadata": {},
   "source": [
    "### Getting structure file paths\n",
    "\n",
    "The `PlinderSystem` also provides access to the structure files the system is based on.\n",
    "This could be helpful for loading the structures for training a model or performing\n",
    "other calculations that require structural information."
   ]
  },
  {
   "cell_type": "code",
   "execution_count": null,
   "metadata": {},
   "outputs": [],
   "source": [
    "print(plinder_system.ligands)"
   ]
  },
  {
   "cell_type": "markdown",
   "metadata": {},
   "source": [
    "The same can be done for the receptor protein."
   ]
  },
  {
   "cell_type": "code",
   "execution_count": null,
   "metadata": {},
   "outputs": [],
   "source": [
    "print(plinder_system.receptor_pdb)"
   ]
  },
  {
   "cell_type": "markdown",
   "metadata": {},
   "source": [
    "### Inspect apo and predicted annotations\n",
    "\n",
    "For users interested in using apo and predicted structures in model training, the\n",
    "snippet below maps holo system IDs (`reference_system_id`) to apo or predicted\n",
    "IDs (`id`) and reports their similarity measures as well. This similarity data includes protein and pocket similarity\n",
    "(see description [here](/eval.md)), as well as all evaluation metrics calculated upon superposition and transplantation of ligands into each apo/predicted structure.\n",
    "Another way to access the information directly wil be to use {func}`query_links` directly."
   ]
  },
  {
   "cell_type": "code",
   "execution_count": null,
   "metadata": {},
   "outputs": [],
   "source": [
    "plinder_system.linked_structures"
   ]
  },
  {
   "cell_type": "markdown",
   "metadata": {},
   "source": [
    "Querying {func}`query_links` can be done directly via:"
   ]
  },
  {
   "cell_type": "code",
   "execution_count": null,
   "metadata": {},
   "outputs": [],
   "source": [
    "from plinder.core.scores import query_links\n",
    "links = query_links()\n",
    "links"
   ]
  },
  {
   "cell_type": "markdown",
   "metadata": {},
   "source": [
    "Here we will use this table to get the PDB and chain IDs for apo structures\n",
    "corresponding to a given system ID."
   ]
  },
  {
   "cell_type": "code",
   "execution_count": null,
   "metadata": {},
   "outputs": [],
   "source": [
    "print(links[\n",
    "    (links.reference_system_id ==  \"4agi__1__1.C__1.W\") & (links.kind == \"apo\")\n",
    "].id.to_list())"
   ]
  },
  {
   "cell_type": "markdown",
   "metadata": {},
   "source": [
    "\n",
    "The structure file locations for the linked structures can also be obtained.\n",
    "The directory names are named after the `reference_system_id` and `id` column."
   ]
  },
  {
   "cell_type": "code",
   "execution_count": null,
   "metadata": {},
   "outputs": [],
   "source": [
    "for file in plinder_system.linked_archive.glob(\"**/*.cif\"):\n",
    "    print(file)"
   ]
  },
  {
   "cell_type": "markdown",
   "metadata": {},
   "source": [
    "## Working with split data"
   ]
  },
  {
   "cell_type": "markdown",
   "metadata": {},
   "source": [
    "### Get split table\n",
    "\n",
    "The split table sorts each PLINDER system into a cluster and defines the split it is\n",
    "part of.\n",
    "To access the splits, use {func}`get_split()`."
   ]
  },
  {
   "cell_type": "code",
   "execution_count": null,
   "metadata": {},
   "outputs": [],
   "source": [
    "from plinder.core import get_split\n",
    "split_df = get_split()\n",
    "split_df"
   ]
  },
  {
   "cell_type": "markdown",
   "metadata": {},
   "source": [
    "For example this table can be used to get all system IDs that belong to the *test*\n",
    "split."
   ]
  },
  {
   "cell_type": "code",
   "execution_count": null,
   "metadata": {},
   "outputs": [],
   "source": [
    "split_df[split_df.split == \"test\"].system_id.to_list()"
   ]
  }
 ],
 "metadata": {
  "kernelspec": {
   "display_name": "plinder",
   "language": "python",
   "name": "python3"
  },
  "language_info": {
   "codemirror_mode": {
    "name": "ipython",
    "version": 3
   },
   "file_extension": ".py",
   "mimetype": "text/x-python",
   "name": "python",
   "nbconvert_exporter": "python",
   "pygments_lexer": "ipython3",
   "version": "3.10.14"
  }
 },
 "nbformat": 4,
 "nbformat_minor": 2
}
