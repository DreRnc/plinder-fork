{
 "cells": [
  {
   "cell_type": "markdown",
   "metadata": {},
   "source": [
    "# Python API tutorial\n",
    "\n",
    "## Installation\n",
    "\n",
    "### Getting `plinder`\n",
    "\n",
    "Due to dependencies that are not installable via `pip`, `plinder` is currently not\n",
    "available at PyPI.\n",
    "You can download the official\n",
    "[_GitHub_ repository](https://github.com/plinder-org/plinder/)\n",
    "instead, for example via `git`.\n",
    "\n",
    "```console\n",
    "$ git clone https://github.com/plinder-org/plinder.git\n",
    "```\n",
    "\n",
    "### Creating the Conda environment\n",
    "\n",
    "The most convenient way to install the aforementioned extra dependencies is a _Conda_\n",
    "environment.\n",
    "If you have not _Conda_ installed yet, we recommend its installation via\n",
    "[miniforge](https://github.com/conda-forge/miniforge).\n",
    "Afterwards the environment can be created from the `environment.yml` in the local\n",
    "repository clone.\n",
    "\n",
    ":::{note}\n",
    "We currently only support a Linux environment.\n",
    "`plinder` uses `openstructure` for some of its functionality and is available from the\n",
    "`aivant` conda channel using `conda install aivant::openstructure`, but it is only built\n",
    "targeting Linux architectures.\n",
    "For Windows and MacOS users, please see the relevant\n",
    "[_Docker_](#docker-target) resources.\n",
    ":::\n",
    "\n",
    "```console\n",
    "$ mamba env create -f environment.yml\n",
    "$ mamba activate plinder\n",
    "```\n",
    "\n",
    "### Installing `plinder`\n",
    "\n",
    "Now `plinder` can be installed into the created environment:\n",
    "\n",
    "```console\n",
    "$ pip install .\n",
    "```\n",
    "\n",
    "(docker-target)=\n",
    "### Alternative: Using a Docker container\n",
    "\n",
    "We also publish the `plinder` project as a docker container as alternative to the\n",
    "_Conda_-based installation, to ensure the highest level of compatibility with\n",
    "non-Linux platforms.\n",
    "See the relevant docker resources here for more details:\n",
    "\n",
    "- `docker-compose.yml`: defines a `base` image, the `plinder` \"app\" and a `test`\n",
    "  container\n",
    "- `dockerfiles/base/`: contains the files for the `base` image\n",
    "- `dockerfiles/main/`: contains the files for the `plinder` \"app\" image\n",
    "\n",
    "### Configure dataset environment variables\n",
    "\n",
    "We need to set environment variables to point to the release and iteration of choice.\n",
    "For the sake of demonstration, this will be set to point to a smaller tutorial example\n",
    "dataset, which are `PLINDER_RELEASE=2024-06` and `PLINDER_ITERATION=tutorial`.\n",
    "\n",
    ":::{note}\n",
    "The version used for the preprint is `PLINDER_RELEASE=2024-04` and\n",
    "`PLINDER_ITERATION=v1`, while the current version with updated annotations to be used\n",
    "for the MLSB challenge is`PLINDER_RELEASE=2024-06` and `PLINDER_ITERATION=v2`.\n",
    ":::"
   ]
  },
  {
   "cell_type": "code",
   "execution_count": null,
   "metadata": {},
   "outputs": [],
   "source": [
    "import os\n",
    "from pathlib import Path\n",
    "\n",
    "release = \"2024-06\"\n",
    "iteration = \"tutorial\"\n",
    "os.environ[\"PLINDER_RELEASE\"] = release\n",
    "os.environ[\"PLINDER_ITERATION\"] = iteration\n",
    "os.environ[\"PLINDER_REPO\"] =  str(Path.home()/\"plinder-org/plinder\")\n",
    "os.environ[\"PLINDER_LOCAL_DIR\"] =  str(Path.home()/\".local/share/plinder\")\n",
    "os.environ[\"GCLOUD_PROJECT\"] = \"plinder\"\n",
    "version = f\"{release}/{iteration}\""
   ]
  },
  {
   "cell_type": "markdown",
   "metadata": {},
   "source": [
    "As alternative these variables could also be set from terminal via `export` (*UNIX*) or\n",
    "`set` (*Windows*)."
   ]
  },
  {
   "cell_type": "markdown",
   "metadata": {},
   "source": [
    "## Overview\n",
    "\n",
    "The user-facing subpackage of `plinder` is {mod}`plinder.core`.\n",
    "This provides access to the underlying utility functions for accessing the dataset,\n",
    "split and annotations.\n",
    "It provides access to five top-level functions:\n",
    "\n",
    ":::{currentmodule} plinder.core\n",
    ":::\n",
    "\n",
    "- {func}`get_config()`: access *PLINDER* global configuration\n",
    "- {func}`get_plindex()`: access full annotation table\n",
    "- {func}`get_manifest`: map *PLINDER* system to PDB ID\n",
    "- {func}`get_split`: access full split table\n",
    "\n",
    ":::{currentmodule} plinder\n",
    ":::\n",
    "\n",
    "In addition, it provides access to the data class {class}`PlinderSystem` for\n",
    "reconstituting a *PLINDER* system from its `system_id`.\n",
    "\n",
    "To supplement these data, {mod}`plinder.core.scores` provides functionality for\n",
    "querying metrics, such as protein/ligand similarity and cluster identity."
   ]
  },
  {
   "cell_type": "markdown",
   "metadata": {},
   "source": [
    "## Getting the configuration\n",
    "\n",
    "At first we get the configuration to check that all parameters are correctly set. \n",
    "In the snippet below, we will check, if the local and remote *PLINDER* paths point to\n",
    "the expected location."
   ]
  },
  {
   "cell_type": "code",
   "execution_count": null,
   "metadata": {},
   "outputs": [],
   "source": [
    "import plinder.core.utils.config\n",
    "\n",
    "cfg = plinder.core.get_config()\n",
    "print(f\"local cache directory: {cfg.data.plinder_dir}\")\n",
    "print(f\"remote data directory: {cfg.data.plinder_remote}\")"
   ]
  },
  {
   "cell_type": "markdown",
   "metadata": {},
   "source": [
    "## Query annotations\n",
    "\n",
    ":::{currentmodule} plinder.core\n",
    ":::\n",
    "\n",
    "### Full dataset\n",
    "\n",
    "The annotation table is also called *PLINDER index* or *PLINDEX* in short.\n",
    "{func}`get_plindex()` loads the entire annotation table as\n",
    "[`pandas`](https://pandas.pydata.org) data frame.\n",
    "A description of all columns is available in the\n",
    "[Dataset Reference](#annotation-table-target)."
   ]
  },
  {
   "cell_type": "code",
   "execution_count": null,
   "metadata": {},
   "outputs": [],
   "source": [
    "from plinder.core import get_plindex\n",
    "annotation_df = get_plindex()\n",
    "annotation_df.head()"
   ]
  },
  {
   "cell_type": "markdown",
   "metadata": {},
   "source": [
    "### Query specific columns \n",
    "\n",
    ":::{currentmodule} plinder.core.scores\n",
    ":::\n",
    "\n",
    "To query the annotations table for specific columns or filter by specific criteria, use\n",
    "{func}`query_index()`.\n",
    "The function could be called without any argument to yield a table of `system_id` and\n",
    "`entry_pdb_id`.\n",
    "However, the function could be called by passing `columns` argument, which is a list of\n",
    "[column names](#annotation-table-target). "
   ]
  },
  {
   "cell_type": "code",
   "execution_count": null,
   "metadata": {},
   "outputs": [],
   "source": [
    "from plinder.core.scores import query_index\n",
    "# Get system_id and entry_pdb_id columns\n",
    "query_index()"
   ]
  },
  {
   "cell_type": "code",
   "execution_count": null,
   "metadata": {},
   "outputs": [],
   "source": [
    "# Get specific columns from the annotation table\n",
    "cols_of_interest = [\"system_id\", \"entry_pdb_id\", \"entry_release_date\", \"entry_oligomeric_state\",\n",
    "\"entry_clashscore\", \"entry_resolution\"]\n",
    "query_index(columns=cols_of_interest)"
   ]
  },
  {
   "cell_type": "markdown",
   "metadata": {},
   "source": [
    "### Query annotations with specific filters\n",
    "\n",
    "We could also pass additional `filters`, where each filter is a logical comparison\n",
    "of a column name with some given value.\n",
    "Only those rows, that fulfill all conditions, are returned.\n",
    "See the description of\n",
    "[`pandas.read_parquet()`]https://pandas.pydata.org/docs/reference/api/pandas.read_parquet.html\n",
    "for more information on the filter syntax."
   ]
  },
  {
   "cell_type": "code",
   "execution_count": null,
   "metadata": {},
   "outputs": [],
   "source": [
    "# Query for single-ligand systems\n",
    "filters = [(\"system_num_ligand_chains\", \"==\", \"1\")]\n",
    "query_index(columns=cols_of_interest, filters=filters)"
   ]
  },
  {
   "cell_type": "markdown",
   "metadata": {},
   "source": [
    "## Inspect manifest table\n",
    "\n",
    "The manifest table shows the mapping of each PLINDER system ID to their respective PDB\n",
    "entry."
   ]
  },
  {
   "cell_type": "code",
   "execution_count": null,
   "metadata": {},
   "outputs": [],
   "source": [
    "from plinder.core import get_manifest\n",
    "get_manifest()"
   ]
  },
  {
   "cell_type": "markdown",
   "metadata": {},
   "source": [
    "## Query protein similarity\n",
    "The are three kinds of similarity datasets we provide:\n",
    "- Similarity between ligand bound structures (`holo`)\n",
    "- Similarity between ligand bound and unbound protein structures (`apo`)\n",
    "- Similarity between ligand bound and Alphafold predicted structures (`pred`)\n",
    "Any of these could be specified with {func}`query_protein_similarity()`"
   ]
  },
  {
   "cell_type": "code",
   "execution_count": null,
   "metadata": {},
   "outputs": [],
   "source": [
    "\n",
    "from plinder.core.scores import query_protein_similarity\n",
    "query_protein_similarity(\n",
    "    search_db=\"apo\",\n",
    "    filters=[(\"similarity\", \">\", \"50\")]\n",
    ")"
   ]
  },
  {
   "cell_type": "markdown",
   "metadata": {},
   "source": [
    "## Working with a PLINDER system\n",
    "\n",
    "A {class}`PlinderSystem` is the representation of a single System.\n",
    "This object provides access to all PDB entry and system level annotations, as well as\n",
    "the structures of the system components."
   ]
  },
  {
   "cell_type": "markdown",
   "metadata": {},
   "source": [
    "### Load systems from IDs\n",
    "\n",
    "To reconstitute PLINDER systems directly from a set of IDs use {func}`load_systems()`.\n"
   ]
  },
  {
   "cell_type": "code",
   "execution_count": null,
   "metadata": {},
   "outputs": [],
   "source": [
    "from plinder.core.system.utils import load_systems\n",
    "plinder_systems = load_systems(\n",
    "    system_ids=[\"7eek__1__1.A__1.I\", \"4agi__1__1.C__1.W\"]\n",
    ")\n",
    "plinder_system = plinder_systems[\"4agi__1__1.C__1.W\"]"
   ]
  },
  {
   "cell_type": "markdown",
   "metadata": {},
   "source": [
    "Users can choose the granularity level of input:\n",
    "In the cases above the systems were specified by their system ID, but as alternative\n",
    "passing PDB IDs (or their two middle characters) is also possible, which gives you all\n",
    "systems corresponding to the given PDB IDs."
   ]
  },
  {
   "cell_type": "markdown",
   "metadata": {},
   "source": [
    "### Accessing annotations\n",
    "\n",
    "The `PlinderSystem.entry` property provides PDB entry-level annotations for that system.\n",
    "Here, we will list the accessible categories of entry annotations and access the\n",
    "oligomeric state of a given system."
   ]
  },
  {
   "cell_type": "code",
   "execution_count": null,
   "metadata": {},
   "outputs": [],
   "source": [
    "entry_annotations = plinder_system.entry\n",
    "print(list(entry_annotations.keys()))\n",
    "print(entry_annotations[\"oligomeric_state\"])"
   ]
  },
  {
   "cell_type": "markdown",
   "metadata": {},
   "source": [
    "Instead, `PlinderSystem.system` returns annotations on the system level.\n",
    "Here, we will extract the SMILES string of the first ligand of a given system."
   ]
  },
  {
   "cell_type": "code",
   "execution_count": null,
   "metadata": {},
   "outputs": [],
   "source": [
    "system_annotations = plinder_system.system\n",
    "print(list(system_annotations.keys()))\n",
    "# Show ligand smiles of the first ligand of a given system\n",
    "print(system_annotations[\"ligands\"][0][\"smiles\"])"
   ]
  },
  {
   "cell_type": "markdown",
   "metadata": {},
   "source": [
    "### Getting structure file paths\n",
    "\n",
    "The `PlinderSystem` also provides access to the structure files the system is based on.\n",
    "This could be helpful for loading the structures for training a model or performing\n",
    "other calculations that require structural information."
   ]
  },
  {
   "cell_type": "code",
   "execution_count": null,
   "metadata": {},
   "outputs": [],
   "source": [
    "print(plinder_system.ligands)"
   ]
  },
  {
   "cell_type": "markdown",
   "metadata": {},
   "source": [
    "The same can be done for the receptor protein."
   ]
  },
  {
   "cell_type": "code",
   "execution_count": null,
   "metadata": {},
   "outputs": [],
   "source": [
    "print(plinder_system.receptor_pdb)"
   ]
  },
  {
   "cell_type": "markdown",
   "metadata": {},
   "source": [
    "### Inspect apo and predicted annotations\n",
    "\n",
    "For users interested in using apo and predicted structures in model training, the\n",
    "snippet below maps holo system IDs (`reference_system_id`) to apo or predicted\n",
    "IDs (`id`) and reports their similarity measures as well.\n",
    "Another way to access the information directly wil be discussed\n",
    "[later](#query-links-target)."
   ]
  },
  {
   "cell_type": "code",
   "execution_count": null,
   "metadata": {},
   "outputs": [],
   "source": [
    "plinder_system.linked_structures"
   ]
  },
  {
   "cell_type": "markdown",
   "metadata": {},
   "source": [
    "\n",
    "The structure file locations for the linked structures can also be obtained.\n",
    "The directory names are named after the `reference_system_id` and `id` column."
   ]
  },
  {
   "cell_type": "code",
   "execution_count": null,
   "metadata": {},
   "outputs": [],
   "source": [
    "for file in plinder_system.linked_archive.glob(\"**/*.cif\"):\n",
    "    print(file)"
   ]
  },
  {
   "cell_type": "markdown",
   "metadata": {},
   "source": [
    "## Working with split data"
   ]
  },
  {
   "cell_type": "markdown",
   "metadata": {},
   "source": [
    "### Get split table\n",
    "\n",
    "The split table sorts each PLINDER system into a cluster and defines the split it is\n",
    "part of.\n",
    "To access the splits, use {func}`get_split()`."
   ]
  },
  {
   "cell_type": "code",
   "execution_count": null,
   "metadata": {},
   "outputs": [],
   "source": [
    "from plinder.core import get_split\n",
    "split_df = get_split()\n",
    "split_df"
   ]
  },
  {
   "cell_type": "markdown",
   "metadata": {},
   "source": [
    "For example this table can be used to get all system IDs that belong to the *test*\n",
    "split."
   ]
  },
  {
   "cell_type": "code",
   "execution_count": null,
   "metadata": {},
   "outputs": [],
   "source": [
    "split_df[split_df.split == \"test\"].system_id.to_list()"
   ]
  },
  {
   "cell_type": "markdown",
   "metadata": {},
   "source": [
    "(query-links-target)=\n",
    "## Working with apo/predicted structures"
   ]
  },
  {
   "cell_type": "markdown",
   "metadata": {},
   "source": [
    "### Load links table\n",
    "{func}`query_links` returns a table, that relates apo to predicted structures\n",
    "including and reports the similarity to each other.\n",
    "This similarity data includes protein and pocket similarity\n",
    "(see description [here](/eval.md)), as well as\n",
    "[Posebusters](https://posebusters.readthedocs.io/en/latest/) evaluation of the ligand\n",
    "upon transplantation into the apo/predicted structure. "
   ]
  },
  {
   "cell_type": "code",
   "execution_count": null,
   "metadata": {},
   "outputs": [],
   "source": [
    "from plinder.core.scores import query_links\n",
    "links = query_links()\n",
    "links"
   ]
  },
  {
   "cell_type": "markdown",
   "metadata": {},
   "source": [
    "Here we will use this table to get the PDB and chain IDs for apo structures\n",
    "corresponding to a given system ID."
   ]
  },
  {
   "cell_type": "code",
   "execution_count": null,
   "metadata": {},
   "outputs": [],
   "source": [
    "print(links[\n",
    "    (links.reference_system_id ==  \"4agi__1__1.C__1.W\") & (links.kind == \"apo\")\n",
    "].id.to_list())"
   ]
  },
  {
   "cell_type": "code",
   "execution_count": null,
   "metadata": {},
   "outputs": [],
   "source": []
  }
 ],
 "metadata": {
  "kernelspec": {
   "display_name": "plinder",
   "language": "python",
   "name": "python3"
  },
  "language_info": {
   "codemirror_mode": {
    "name": "ipython",
    "version": 3
   },
   "file_extension": ".py",
   "mimetype": "text/x-python",
   "name": "python",
   "nbconvert_exporter": "python",
   "pygments_lexer": "ipython3",
   "version": "3.10.14"
  }
 },
 "nbformat": 4,
 "nbformat_minor": 2
}
