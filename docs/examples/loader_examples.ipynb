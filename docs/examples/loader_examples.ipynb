{
 "cells": [
  {
   "cell_type": "markdown",
   "metadata": {},
   "source": [
    "# Structure, Systems, Dataset and Loader Tutorial"
   ]
  },
  {
   "cell_type": "markdown",
   "metadata": {},
   "source": [
    "# Topics:\n",
    "- Interacting with `Structure` class\n",
    "- Interacting `PlinderSystem`\n",
    "- Interacting `PlinderDataset`\n",
    "- Loader\n"
   ]
  },
  {
   "cell_type": "markdown",
   "metadata": {},
   "source": [
    "\n",
    "## Setup\n",
    "\n",
    "### Installation\n",
    "\n",
    "`plinder` is available on *PyPI*.\n",
    "\n",
    "```\n",
    "pip install plinder\n",
    "```\n",
    "\n",
    "### Environment variable configuration\n",
    ":::{note}\n",
    "We need to set environment variables to point to the release and iteration of choice.\n",
    "For the sake of demonstration, this will be set to point to a smaller tutorial example\n",
    "dataset, which are `PLINDER_RELEASE=2024-06` and `PLINDER_ITERATION=tutorial`.\n",
    ":::\n",
    ":::{note}"
   ]
  },
  {
   "cell_type": "markdown",
   "metadata": {},
   "source": [
    "## Getting the configuration\n",
    "\n",
    "At first we get the configuration to check that all parameters are correctly set. \n",
    "In the snippet below, we will check, if the local and remote *PLINDER* paths point to\n",
    "the expected location."
   ]
  },
  {
   "cell_type": "code",
   "execution_count": 1,
   "metadata": {},
   "outputs": [],
   "source": [
    "# %env PLINDER_MOUNT=/Users/vladas/Projects/public/plinder/tests/test_data\n",
    "# %env PLINDER_RELEASE=mount\n",
    "# %env PLINDER_BUCKET=plinder\n",
    "# %env PLINDER_ITERATION=\n",
    "# %env PLINDER_OFFLINE="
   ]
  },
  {
   "cell_type": "code",
   "execution_count": 2,
   "metadata": {},
   "outputs": [
    {
     "name": "stdout",
     "output_type": "stream",
     "text": [
      "local cache directory: /Users/vladas/.local/share/plinder/2024-06/v2\n",
      "remote data directory: gs://plinder/2024-06/v2\n"
     ]
    }
   ],
   "source": [
    "import plinder.core.utils.config\n",
    "\n",
    "cfg = plinder.core.get_config()\n",
    "print(f\"local cache directory: {cfg.data.plinder_dir}\")\n",
    "print(f\"remote data directory: {cfg.data.plinder_remote}\")"
   ]
  },
  {
   "cell_type": "markdown",
   "metadata": {},
   "source": [
    "## Data ecosystem overview\n",
    "This tutorial assumes user have downloaded _PLINDER_ dataset before now. While the examples will run without users doing anything, we encourage users to download the data for performance sake. _PLINDER_ data hierarchy is shown below. We have organized this tutorial to follow this same hierarchy from ground up\n",
    "![image](../static/asset/data/plinder_data_hierarchy.png)"
   ]
  },
  {
   "cell_type": "markdown",
   "metadata": {},
   "source": [
    "## 0. Structure files"
   ]
  },
  {
   "cell_type": "markdown",
   "metadata": {},
   "source": [
    "After download all files will be store locally at `~/.local/share/plinder/${PLINDER_RELEASE}/${PLINDER_ITERATION}/systems`. The current default is `PLINDER_RELEASE=2024-06` and `PLINDER_ITERATION-v2`\n",
    "\n",
    "There, we have sub-folders that corresponds to each systems. In each sub-folder, we have:\n",
    "- Receptor PDB: receptor.cif and receptor.pdb\n",
    "- Ligand SDF's: `<biounit_instance_id>.<chain_id>.sdf`. For complexes with more than one ligands, all the sdfs are saved separately.\n",
    "- Sequence fasta: sequence.fasta\n",
    "For more information on the file organization, see \"<link-to-dataset-tutorial>\""
   ]
  },
  {
   "cell_type": "markdown",
   "metadata": {},
   "source": [
    "## 1. Structure Python Abstraction\n",
    "To make interacting with our data seamless, {class} class Structure, a pydantic data class that:\n",
    "- Loads all the structure files + smiles \n",
    "- Gets coordinates\n",
    "- Featurizes residues and atoms of associated protein and ligand molecules\n",
    "- Masks molecules to account for resolved vs unresolved part\n",
    "\n",
    "To interact with the example, do the following:"
   ]
  },
  {
   "cell_type": "code",
   "execution_count": 3,
   "metadata": {},
   "outputs": [],
   "source": [
    "from plinder.core.structure.structure import Structure\n",
    "from plinder.core import PlinderSystem\n",
    "from pathlib import Path\n",
    "\n",
    "from biotite.sequence.io.fasta import FastaFile\n",
    "\n",
    "# Load holo structure\n",
    "holo_struc = PlinderSystem(system_id=\"1avd__1__1.A__1.C\")\n",
    "# .holo_structure"
   ]
  },
  {
   "cell_type": "code",
   "execution_count": null,
   "metadata": {},
   "outputs": [],
   "source": []
  },
  {
   "cell_type": "code",
   "execution_count": 4,
   "metadata": {},
   "outputs": [
    {
     "name": "stderr",
     "output_type": "stream",
     "text": [
      "2024-09-24 11:48:51,078 | plinder.core.utils.cpl.download_paths:24 | INFO : runtime succeeded: 0.00s\n",
      "2024-09-24 11:48:51,078 | plinder.core.utils.cpl.download_paths:24 | INFO : runtime succeeded: 0.00s\n",
      "2024-09-24 11:48:51,781 | plinder.core.utils.cpl.download_paths:24 | INFO : runtime succeeded: 0.00s\n",
      "2024-09-24 11:48:51,782 | plinder.core.utils.cpl.download_paths:24 | INFO : runtime succeeded: 0.00s\n",
      "2024-09-24 11:48:51,782 | plinder.core.index.utils:148 | INFO : loading entries from 1 zips\n",
      "2024-09-24 11:48:51,787 | plinder.core.index.utils:163 | INFO : loaded 1 entries\n",
      "2024-09-24 11:48:51,787 | plinder.core.index.utils.load_entries:24 | INFO : runtime succeeded: 0.71s\n"
     ]
    },
    {
     "data": {
      "text/plain": [
       "Structure(\n",
       "    (\n",
       "        'id',\n",
       "        '1avd__1__1.A__1.C',\n",
       "    ),\n",
       "    (\n",
       "        'protein_path',\n",
       "        /Users/vladas/.local/share/plinder/2024-06/v2/systems/1avd__1__1.A__1.C/receptor.cif,\n",
       "    ),\n",
       "    (\n",
       "        'protein_sequence',\n",
       "        {\n",
       "            '1.A': 'ARKCSLTGKWTNDLGSNMTIGAVNSRGEFTGTYTTAVTATSNEIKESPLHGTENTINKRTQPTFGFTVNWKFSESTTVFTGQCFIDRNGKEVLKTMWLLRSSVNDIGDDWKATRVGINIFTRLRTQKE',\n",
       "        },\n",
       "    ),\n",
       "    (\n",
       "        'ligand_sdfs',\n",
       "        {\n",
       "            '1.C': '/Users/vladas/.local/share/plinder/2024-06/v2/systems/1avd__1__1.A__1.C/ligand_files/1.C.sdf',\n",
       "        },\n",
       "    ),\n",
       "    (\n",
       "        'ligand_smiles',\n",
       "        {\n",
       "            '1.C': 'CC(=O)N[C@@H]1[C@@H](O)[C@H](O)[C@@H](CO)O[C@H]1O',\n",
       "        },\n",
       "    ),\n",
       "    (\n",
       "        'protein_atom_array',\n",
       "        <class 'biotite.structure.AtomArray'> with shape (964,),\n",
       "    ),\n",
       "    (\n",
       "        'ligand_mols',\n",
       "        {\n",
       "            '1.C': (\n",
       "                <rdkit.Chem.rdchem.Mol object at 0x1c7afbd10>,\n",
       "                <rdkit.Chem.rdchem.Mol object at 0x1c7afbb50>,\n",
       "                <rdkit.Chem.rdchem.Mol object at 0x1c7afb920>,\n",
       "                (\n",
       "                    <class 'numpy.ndarray'> with shape (1, 14),\n",
       "                    <class 'numpy.ndarray'> with shape (1, 14),\n",
       "                ),\n",
       "            ),\n",
       "        },\n",
       "    ),\n",
       "    (\n",
       "        'add_ligand_hydrogens',\n",
       "        False,\n",
       "    ),\n",
       "    (\n",
       "        'structure_type',\n",
       "        'holo',\n",
       "    ),\n",
       ")"
      ]
     },
     "execution_count": 4,
     "metadata": {},
     "output_type": "execute_result"
    }
   ],
   "source": [
    "holo_struc.holo_structure"
   ]
  },
  {
   "cell_type": "markdown",
   "metadata": {},
   "source": [
    "### Load the structure for a given system_id\n",
    "For this purpose we will use `\"1avd__1__1.A__1.C\"` as our example system id."
   ]
  },
  {
   "cell_type": "code",
   "execution_count": 5,
   "metadata": {},
   "outputs": [
    {
     "name": "stderr",
     "output_type": "stream",
     "text": [
      "2024-09-24 11:48:52,794 | plinder.core.utils.cpl.download_paths:24 | INFO : runtime succeeded: 0.00s\n",
      "2024-09-24 11:48:52,795 | plinder.core.utils.cpl.download_paths:24 | INFO : runtime succeeded: 0.00s\n",
      "2024-09-24 11:48:53,456 | plinder.core.utils.cpl.download_paths:24 | INFO : runtime succeeded: 0.00s\n",
      "2024-09-24 11:48:53,457 | plinder.core.utils.cpl.download_paths:24 | INFO : runtime succeeded: 0.00s\n",
      "2024-09-24 11:48:53,457 | plinder.core.index.utils:148 | INFO : loading entries from 1 zips\n",
      "2024-09-24 11:48:53,460 | plinder.core.index.utils:163 | INFO : loaded 1 entries\n",
      "2024-09-24 11:48:53,460 | plinder.core.index.utils.load_entries:24 | INFO : runtime succeeded: 0.66s\n"
     ]
    }
   ],
   "source": [
    "from plinder.core.structure.structure import Structure\n",
    "from plinder.core import PlinderSystem\n",
    "from pathlib import Path\n",
    "\n",
    "from biotite.sequence.io.fasta import FastaFile\n",
    "\n",
    "input_smiles = \"CC(=O)N[C@@H]1[C@H]([C@@H]([C@H](O[C@H]1O)CO)O)O\" # Need to account for unresolved part of the ligand\n",
    "input_sdf = Path(cfg.data.plinder_dir)/\"systems/1avd__1__1.A__1.C/ligand_files/1.C.sdf\"\n",
    "system_id = \"1avd__1__1.A__1.C\"\n",
    "protein_structure_path = Path(cfg.data.plinder_dir)/\"systems/1avd__1__1.A__1.C/receptor.cif\"\n",
    "input_sequence_path = Path(cfg.data.plinder_dir)/\"systems/1avd__1__1.A__1.C/sequences.fasta\"\n",
    "list_ligand_sdf_and_input_smiles = [\n",
    "    (input_sdf,input_smiles)]\n",
    "\n",
    "input_sequences = {k: v for k, v in FastaFile.read_iter(input_sequence_path)}\n",
    "\n",
    "# Load holo structure\n",
    "holo_struc = PlinderSystem(system_id=system_id).holo_structure"
   ]
  },
  {
   "cell_type": "code",
   "execution_count": 6,
   "metadata": {},
   "outputs": [
    {
     "data": {
      "text/plain": [
       "{'id': FieldInfo(annotation=str, required=True),\n",
       " 'protein_path': FieldInfo(annotation=Path, required=True),\n",
       " 'protein_sequence': FieldInfo(annotation=Union[dict[str, str], NoneType], required=False, default=None),\n",
       " 'ligand_sdfs': FieldInfo(annotation=Union[dict[str, str], NoneType], required=False, default=None),\n",
       " 'ligand_smiles': FieldInfo(annotation=Union[dict[str, str], NoneType], required=False, default=None),\n",
       " 'protein_atom_array': FieldInfo(annotation=Union[AtomArray, NoneType], required=False, default=None),\n",
       " 'ligand_mols': FieldInfo(annotation=Union[dict[str, tuple[Mol, Mol, Mol, tuple[ndarray[Any, dtype[+_ScalarType_co]], ndarray[Any, dtype[+_ScalarType_co]]]]], NoneType], required=False, default=None),\n",
       " 'add_ligand_hydrogens': FieldInfo(annotation=bool, required=False, default=False),\n",
       " 'structure_type': FieldInfo(annotation=str, required=False, default='holo')}"
      ]
     },
     "execution_count": 6,
     "metadata": {},
     "output_type": "execute_result"
    }
   ],
   "source": [
    "# Show fields\n",
    "holo_struc.model_fields"
   ]
  },
  {
   "cell_type": "markdown",
   "metadata": {},
   "source": [
    "### List fields\n",
    "- We list all fields and their `FieldInfo` to show which ones are required. `id`, `protein_path` and `protein_sequence` are required. Everything else is optionally. Particularly worth mentioning is the decision to make `list_ligand_sdf_and_input_smiles` optional; this is because ligand will not be availbale in apo and predicted structures.\n",
    "- Out of these field `ligand_mols` and `protein_atom_array` is computed within the object if set to default. \n",
    "- `ligand_mols` returns a chain-mapped dictionary of of the form:\n",
    "    ```python\n",
    "    {\n",
    "        \"<instance_id>.<chain_id>\": (\n",
    "            RDKit 2D mol from template SMILES of type `Chem.Mol`,\n",
    "            RDKit mol from template SMILES with random 3D conformer of type `Chem.Mol`,\n",
    "            RDKit mol of solved (holo) ligand structure of type `Chem.Mol`,\n",
    "            paired stacked arrays (template vs holo) mapping atom order by index of type `tuple[NDArray.int_, NDArray.int_]`\n",
    "        )\n",
    "\n",
    "    }\n",
    "    ```\n",
    "- While `protein_atom_array` returns [biotite AtomArray](https://www.biotite-python.org/latest/apidoc/biotite.structure.AtomArray.html) of the receptor protein structure.\n",
    "- `add_ligand_hydrogens` specifies whether to adds hydrogens to ligand\n",
    "- `structure_type`: could be `\"holo\"`, `\"apo\"` or `\"pred\"`"
   ]
  },
  {
   "cell_type": "code",
   "execution_count": 7,
   "metadata": {},
   "outputs": [
    {
     "data": {
      "text/plain": [
       "{'1.C': (<rdkit.Chem.rdchem.Mol at 0x1c7cd52a0>,\n",
       "  <rdkit.Chem.rdchem.Mol at 0x1c7cd69d0>,\n",
       "  <rdkit.Chem.rdchem.Mol at 0x1c7cd5380>,\n",
       "  (array([[13,  4,  5,  7,  9, 10,  1,  0,  3,  6,  8, 12, 11,  2]]),\n",
       "   array([[ 0,  1,  2,  3,  4,  5,  6,  7,  8,  9, 10, 11, 12, 13]])))}"
      ]
     },
     "execution_count": 7,
     "metadata": {},
     "output_type": "execute_result"
    }
   ],
   "source": [
    "# Inspect ligand_mols\n",
    "holo_struc.ligand_mols"
   ]
  },
  {
   "cell_type": "code",
   "execution_count": 8,
   "metadata": {},
   "outputs": [
    {
     "data": {
      "text/plain": [
       "{'1.C': 'CC(=O)N[C@@H]1[C@@H](O)[C@H](O)[C@@H](CO)O[C@H]1O'}"
      ]
     },
     "execution_count": 8,
     "metadata": {},
     "output_type": "execute_result"
    }
   ],
   "source": [
    "holo_struc.ligand_smiles"
   ]
  },
  {
   "cell_type": "code",
   "execution_count": 9,
   "metadata": {},
   "outputs": [],
   "source": [
    "# Inspect protein_atom_araay"
   ]
  },
  {
   "cell_type": "code",
   "execution_count": 10,
   "metadata": {},
   "outputs": [
    {
     "data": {
      "text/plain": [
       "Atom(np.array([31.221, 22.957, 43.101], dtype=float32), chain_id=\"1.A\", res_id=3, ins_code=\"\", res_name=\"LYS\", hetero=False, atom_name=\"N\", element=\"N\", b_factor=0.0)"
      ]
     },
     "execution_count": 10,
     "metadata": {},
     "output_type": "execute_result"
    }
   ],
   "source": [
    "holo_struc.protein_atom_array[0]"
   ]
  },
  {
   "cell_type": "markdown",
   "metadata": {},
   "source": [
    "### List structure protein properties\n",
    "Show protein related properties"
   ]
  },
  {
   "cell_type": "code",
   "execution_count": 11,
   "metadata": {},
   "outputs": [
    {
     "name": "stdout",
     "output_type": "stream",
     "text": [
      "protein_backbone_mask\n",
      "protein_calpha_coords\n",
      "protein_calpha_mask\n",
      "protein_chain_ordered\n",
      "protein_chains\n",
      "protein_coords\n",
      "protein_n_atoms\n",
      "protein_sequence_from_structure\n",
      "protein_structure_b_factor\n",
      "protein_structure_tokenized_sequence\n",
      "protein_unique_atom_names\n",
      "protein_unique_residue_ids\n",
      "protein_unique_residue_names\n"
     ]
    }
   ],
   "source": [
    "for property in holo_struc.get_properties():\n",
    "    if \"protein\" in property:\n",
    "        print(property)"
   ]
  },
  {
   "cell_type": "markdown",
   "metadata": {},
   "source": [
    "#### Protein backbone mask\n",
    "This is a boolean mask that can be used to select backbone atoms from biotite `AtomArray`. The indices of `True` corresponds to backbone indices."
   ]
  },
  {
   "cell_type": "code",
   "execution_count": 12,
   "metadata": {},
   "outputs": [
    {
     "data": {
      "text/plain": [
       "array([ True,  True,  True, False, False, False, False, False, False,\n",
       "        True,  True,  True, False, False, False,  True,  True,  True,\n",
       "       False, False, False,  True,  True,  True, False, False, False,\n",
       "       False, False,  True,  True,  True, False, False, False, False,\n",
       "        True,  True,  True, False,  True,  True,  True, False, False,\n",
       "       False, False, False, False,  True,  True,  True, False, False,\n",
       "       False, False, False, False, False, False, False, False, False,\n",
       "        True,  True,  True, False, False, False, False,  True,  True,\n",
       "        True, False, False, False, False, False,  True,  True,  True,\n",
       "       False, False, False, False, False,  True,  True,  True, False,\n",
       "       False, False, False, False,  True,  True,  True, False,  True,\n",
       "        True,  True, False, False, False,  True,  True,  True, False,\n",
       "       False, False, False, False,  True,  True,  True, False, False,\n",
       "       False, False, False,  True,  True,  True, False, False, False,\n",
       "       False,  True,  True,  True, False, False, False, False, False,\n",
       "        True,  True,  True, False,  True,  True,  True, False, False,\n",
       "        True,  True,  True, False, False, False, False,  True,  True,\n",
       "        True, False, False, False, False, False,  True,  True,  True,\n",
       "       False, False, False,  True,  True,  True, False, False, False,\n",
       "       False, False, False, False, False,  True,  True,  True, False,\n",
       "        True,  True,  True, False, False, False, False, False, False,\n",
       "        True,  True,  True, False, False, False, False, False, False,\n",
       "       False, False,  True,  True,  True, False, False, False, False,\n",
       "        True,  True,  True, False,  True,  True,  True, False, False,\n",
       "       False, False,  True,  True,  True, False, False, False, False,\n",
       "       False, False, False, False, False,  True,  True,  True, False,\n",
       "       False, False, False,  True,  True,  True, False, False, False,\n",
       "       False,  True,  True,  True, False, False,  True,  True,  True,\n",
       "       False, False, False, False,  True,  True,  True, False, False,\n",
       "       False, False,  True,  True,  True, False, False,  True,  True,\n",
       "        True, False, False, False, False,  True,  True,  True, False,\n",
       "       False, False,  True,  True,  True, False, False, False, False,\n",
       "       False,  True,  True,  True, False, False, False, False, False,\n",
       "       False,  True,  True,  True, False, False, False, False, False,\n",
       "        True,  True,  True, False, False, False, False, False, False,\n",
       "        True,  True,  True, False, False, False, False, False, False,\n",
       "        True,  True,  True, False, False, False,  True,  True,  True,\n",
       "       False, False, False, False,  True,  True,  True, False, False,\n",
       "       False, False, False,  True,  True,  True, False, False, False,\n",
       "       False, False, False, False,  True,  True,  True, False,  True,\n",
       "        True,  True, False, False, False, False,  True,  True,  True,\n",
       "       False, False, False, False, False, False,  True,  True,  True,\n",
       "       False, False, False, False, False,  True,  True,  True, False,\n",
       "       False, False, False,  True,  True,  True, False, False, False,\n",
       "       False, False,  True,  True,  True, False, False, False, False,\n",
       "       False,  True,  True,  True, False, False, False, False, False,\n",
       "       False,  True,  True,  True, False, False, False, False, False,\n",
       "       False, False, False,  True,  True,  True, False, False, False,\n",
       "       False,  True,  True,  True, False, False, False, False, False,\n",
       "       False,  True,  True,  True, False, False, False, False,  True,\n",
       "        True,  True, False, False, False, False,  True,  True,  True,\n",
       "       False, False, False, False, False, False, False, False,  True,\n",
       "        True,  True, False,  True,  True,  True, False, False, False,\n",
       "       False, False, False, False, False,  True,  True,  True, False,\n",
       "       False, False, False,  True,  True,  True, False, False, False,\n",
       "       False,  True,  True,  True, False, False, False, False, False,\n",
       "        True,  True,  True, False, False, False, False, False, False,\n",
       "       False, False, False, False, False,  True,  True,  True, False,\n",
       "       False, False, False, False, False,  True,  True,  True, False,\n",
       "       False, False, False, False, False, False, False,  True,  True,\n",
       "        True, False, False, False,  True,  True,  True, False, False,\n",
       "       False, False, False, False,  True,  True,  True, False, False,\n",
       "       False,  True,  True,  True, False, False, False, False,  True,\n",
       "        True,  True, False, False, False, False,  True,  True,  True,\n",
       "       False, False, False, False,  True,  True,  True, False, False,\n",
       "       False, False, False, False, False, False,  True,  True,  True,\n",
       "       False, False, False, False,  True,  True,  True, False,  True,\n",
       "        True,  True, False, False, False, False, False, False,  True,\n",
       "        True,  True, False, False, False,  True,  True,  True, False,\n",
       "       False, False, False, False, False, False, False,  True,  True,\n",
       "        True, False, False, False, False, False,  True,  True,  True,\n",
       "       False, False, False, False, False,  True,  True,  True, False,\n",
       "       False, False, False, False, False, False, False,  True,  True,\n",
       "        True, False, False, False, False, False,  True,  True,  True,\n",
       "       False,  True,  True,  True, False, False, False, False, False,\n",
       "       False,  True,  True,  True, False, False, False, False, False,\n",
       "       False,  True,  True,  True, False, False, False, False,  True,\n",
       "        True,  True, False, False, False, False, False,  True,  True,\n",
       "        True, False, False, False, False, False, False,  True,  True,\n",
       "        True, False, False, False, False,  True,  True,  True, False,\n",
       "       False, False, False, False,  True,  True,  True, False, False,\n",
       "       False, False, False, False, False, False, False, False, False,\n",
       "        True,  True,  True, False, False, False, False, False,  True,\n",
       "        True,  True, False, False, False, False, False,  True,  True,\n",
       "        True, False, False, False, False, False, False, False, False,\n",
       "        True,  True,  True, False, False, False,  True,  True,  True,\n",
       "       False, False, False,  True,  True,  True, False, False, False,\n",
       "       False,  True,  True,  True, False, False, False, False, False,\n",
       "        True,  True,  True, False, False, False, False, False,  True,\n",
       "        True,  True, False, False, False, False, False,  True,  True,\n",
       "        True, False,  True,  True,  True, False, False, False, False,\n",
       "       False,  True,  True,  True, False, False, False, False, False,\n",
       "        True,  True,  True, False, False, False, False, False, False,\n",
       "       False, False, False, False, False,  True,  True,  True, False,\n",
       "       False, False, False, False, False,  True,  True,  True, False,\n",
       "       False,  True,  True,  True, False, False, False, False,  True,\n",
       "        True,  True, False, False, False, False, False, False, False,\n",
       "       False,  True,  True,  True, False, False, False, False,  True,\n",
       "        True,  True, False,  True,  True,  True, False, False, False,\n",
       "       False, False,  True,  True,  True, False, False, False, False,\n",
       "       False,  True,  True,  True, False, False, False, False, False,\n",
       "        True,  True,  True, False, False, False, False, False, False,\n",
       "       False, False,  True,  True,  True, False, False, False, False,\n",
       "        True,  True,  True, False, False, False, False, False, False,\n",
       "       False, False,  True,  True,  True, False, False, False, False,\n",
       "       False,  True,  True,  True, False, False, False, False, False,\n",
       "       False, False, False,  True,  True,  True, False, False, False,\n",
       "       False])"
      ]
     },
     "execution_count": 12,
     "metadata": {},
     "output_type": "execute_result"
    }
   ],
   "source": [
    "holo_struc.protein_backbone_mask"
   ]
  },
  {
   "cell_type": "markdown",
   "metadata": {},
   "source": [
    "#### Protein Calpha mask\n",
    "This shows the mask of calpha atoms"
   ]
  },
  {
   "cell_type": "code",
   "execution_count": 13,
   "metadata": {},
   "outputs": [
    {
     "data": {
      "text/plain": [
       "array([False,  True, False, False, False, False, False, False, False,\n",
       "       False,  True, False, False, False, False, False,  True, False,\n",
       "       False, False, False, False,  True, False, False, False, False,\n",
       "       False, False, False,  True, False, False, False, False, False,\n",
       "       False,  True, False, False, False,  True, False, False, False,\n",
       "       False, False, False, False, False,  True, False, False, False,\n",
       "       False, False, False, False, False, False, False, False, False,\n",
       "       False,  True, False, False, False, False, False, False,  True,\n",
       "       False, False, False, False, False, False, False,  True, False,\n",
       "       False, False, False, False, False, False,  True, False, False,\n",
       "       False, False, False, False, False,  True, False, False, False,\n",
       "        True, False, False, False, False, False,  True, False, False,\n",
       "       False, False, False, False, False,  True, False, False, False,\n",
       "       False, False, False, False,  True, False, False, False, False,\n",
       "       False, False,  True, False, False, False, False, False, False,\n",
       "       False,  True, False, False, False,  True, False, False, False,\n",
       "       False,  True, False, False, False, False, False, False,  True,\n",
       "       False, False, False, False, False, False, False,  True, False,\n",
       "       False, False, False, False,  True, False, False, False, False,\n",
       "       False, False, False, False, False, False,  True, False, False,\n",
       "       False,  True, False, False, False, False, False, False, False,\n",
       "       False,  True, False, False, False, False, False, False, False,\n",
       "       False, False, False,  True, False, False, False, False, False,\n",
       "       False,  True, False, False, False,  True, False, False, False,\n",
       "       False, False, False,  True, False, False, False, False, False,\n",
       "       False, False, False, False, False, False,  True, False, False,\n",
       "       False, False, False, False,  True, False, False, False, False,\n",
       "       False, False,  True, False, False, False, False,  True, False,\n",
       "       False, False, False, False, False,  True, False, False, False,\n",
       "       False, False, False,  True, False, False, False, False,  True,\n",
       "       False, False, False, False, False, False,  True, False, False,\n",
       "       False, False, False,  True, False, False, False, False, False,\n",
       "       False, False,  True, False, False, False, False, False, False,\n",
       "       False, False,  True, False, False, False, False, False, False,\n",
       "       False,  True, False, False, False, False, False, False, False,\n",
       "       False,  True, False, False, False, False, False, False, False,\n",
       "       False,  True, False, False, False, False, False,  True, False,\n",
       "       False, False, False, False, False,  True, False, False, False,\n",
       "       False, False, False, False,  True, False, False, False, False,\n",
       "       False, False, False, False, False,  True, False, False, False,\n",
       "        True, False, False, False, False, False, False,  True, False,\n",
       "       False, False, False, False, False, False, False,  True, False,\n",
       "       False, False, False, False, False, False,  True, False, False,\n",
       "       False, False, False, False,  True, False, False, False, False,\n",
       "       False, False, False,  True, False, False, False, False, False,\n",
       "       False, False,  True, False, False, False, False, False, False,\n",
       "       False, False,  True, False, False, False, False, False, False,\n",
       "       False, False, False, False,  True, False, False, False, False,\n",
       "       False, False,  True, False, False, False, False, False, False,\n",
       "       False, False,  True, False, False, False, False, False, False,\n",
       "        True, False, False, False, False, False, False,  True, False,\n",
       "       False, False, False, False, False, False, False, False, False,\n",
       "        True, False, False, False,  True, False, False, False, False,\n",
       "       False, False, False, False, False, False,  True, False, False,\n",
       "       False, False, False, False,  True, False, False, False, False,\n",
       "       False, False,  True, False, False, False, False, False, False,\n",
       "       False,  True, False, False, False, False, False, False, False,\n",
       "       False, False, False, False, False, False,  True, False, False,\n",
       "       False, False, False, False, False, False,  True, False, False,\n",
       "       False, False, False, False, False, False, False, False,  True,\n",
       "       False, False, False, False, False,  True, False, False, False,\n",
       "       False, False, False, False, False,  True, False, False, False,\n",
       "       False, False,  True, False, False, False, False, False, False,\n",
       "        True, False, False, False, False, False, False,  True, False,\n",
       "       False, False, False, False, False,  True, False, False, False,\n",
       "       False, False, False, False, False, False, False,  True, False,\n",
       "       False, False, False, False, False,  True, False, False, False,\n",
       "        True, False, False, False, False, False, False, False, False,\n",
       "        True, False, False, False, False, False,  True, False, False,\n",
       "       False, False, False, False, False, False, False, False,  True,\n",
       "       False, False, False, False, False, False, False,  True, False,\n",
       "       False, False, False, False, False, False,  True, False, False,\n",
       "       False, False, False, False, False, False, False, False,  True,\n",
       "       False, False, False, False, False, False, False,  True, False,\n",
       "       False, False,  True, False, False, False, False, False, False,\n",
       "       False, False,  True, False, False, False, False, False, False,\n",
       "       False, False,  True, False, False, False, False, False, False,\n",
       "        True, False, False, False, False, False, False, False,  True,\n",
       "       False, False, False, False, False, False, False, False,  True,\n",
       "       False, False, False, False, False, False,  True, False, False,\n",
       "       False, False, False, False, False,  True, False, False, False,\n",
       "       False, False, False, False, False, False, False, False, False,\n",
       "       False,  True, False, False, False, False, False, False, False,\n",
       "        True, False, False, False, False, False, False, False,  True,\n",
       "       False, False, False, False, False, False, False, False, False,\n",
       "       False,  True, False, False, False, False, False,  True, False,\n",
       "       False, False, False, False,  True, False, False, False, False,\n",
       "       False, False,  True, False, False, False, False, False, False,\n",
       "       False,  True, False, False, False, False, False, False, False,\n",
       "        True, False, False, False, False, False, False, False,  True,\n",
       "       False, False, False,  True, False, False, False, False, False,\n",
       "       False, False,  True, False, False, False, False, False, False,\n",
       "       False,  True, False, False, False, False, False, False, False,\n",
       "       False, False, False, False, False, False,  True, False, False,\n",
       "       False, False, False, False, False, False,  True, False, False,\n",
       "       False, False,  True, False, False, False, False, False, False,\n",
       "        True, False, False, False, False, False, False, False, False,\n",
       "       False, False,  True, False, False, False, False, False, False,\n",
       "        True, False, False, False,  True, False, False, False, False,\n",
       "       False, False, False,  True, False, False, False, False, False,\n",
       "       False, False,  True, False, False, False, False, False, False,\n",
       "       False,  True, False, False, False, False, False, False, False,\n",
       "       False, False, False,  True, False, False, False, False, False,\n",
       "       False,  True, False, False, False, False, False, False, False,\n",
       "       False, False, False,  True, False, False, False, False, False,\n",
       "       False, False,  True, False, False, False, False, False, False,\n",
       "       False, False, False, False,  True, False, False, False, False,\n",
       "       False])"
      ]
     },
     "execution_count": 13,
     "metadata": {},
     "output_type": "execute_result"
    }
   ],
   "source": [
    "holo_struc.protein_calpha_mask"
   ]
  },
  {
   "cell_type": "markdown",
   "metadata": {},
   "source": [
    "### Get protein chain ordered\n",
    "This gives a list of protein chains ordered by how they are in the structure"
   ]
  },
  {
   "cell_type": "code",
   "execution_count": 14,
   "metadata": {},
   "outputs": [
    {
     "data": {
      "text/plain": [
       "['1.A']"
      ]
     },
     "execution_count": 14,
     "metadata": {},
     "output_type": "execute_result"
    }
   ],
   "source": [
    "holo_struc.protein_chain_ordered"
   ]
  },
  {
   "cell_type": "markdown",
   "metadata": {},
   "source": [
    "### Get protein chain ordered\n",
    "This gives a list of protein chains ordered by how they are in the structure"
   ]
  },
  {
   "cell_type": "markdown",
   "metadata": {},
   "source": [
    "### Get protein chains for all atoms\n",
    "The list of chain IDs in the structure. Order of how they appear not kept."
   ]
  },
  {
   "cell_type": "code",
   "execution_count": 15,
   "metadata": {},
   "outputs": [
    {
     "data": {
      "text/plain": [
       "['1.A']"
      ]
     },
     "execution_count": 15,
     "metadata": {},
     "output_type": "execute_result"
    }
   ],
   "source": [
    "holo_struc.protein_chains"
   ]
  },
  {
   "cell_type": "markdown",
   "metadata": {},
   "source": [
    "### Get protein coordinates\n",
    "This property gets the 3D positions of each of the atoms in protein molecules"
   ]
  },
  {
   "cell_type": "code",
   "execution_count": 16,
   "metadata": {},
   "outputs": [
    {
     "data": {
      "text/plain": [
       "[array([[31.221, 22.957, 43.101],\n",
       "        [31.828, 24.118, 42.476],\n",
       "        [31.979, 23.854, 41.021],\n",
       "        ...,\n",
       "        [34.341, 35.018, 24.674],\n",
       "        [35.484, 35.831, 24.497],\n",
       "        [33.105, 35.742, 24.15 ]], dtype=float32)]"
      ]
     },
     "execution_count": 16,
     "metadata": {},
     "output_type": "execute_result"
    }
   ],
   "source": [
    "holo_struc.protein_coords"
   ]
  },
  {
   "cell_type": "markdown",
   "metadata": {},
   "source": [
    "### Get number of atoms of protein molecule"
   ]
  },
  {
   "cell_type": "code",
   "execution_count": 17,
   "metadata": {},
   "outputs": [
    {
     "data": {
      "text/plain": [
       "964"
      ]
     },
     "execution_count": 17,
     "metadata": {},
     "output_type": "execute_result"
    }
   ],
   "source": [
    "holo_struc.protein_n_atoms"
   ]
  },
  {
   "cell_type": "markdown",
   "metadata": {},
   "source": [
    "### Get protein structure atom names\n",
    "Returns all atoms names the same way they appear in the structure"
   ]
  },
  {
   "cell_type": "code",
   "execution_count": 18,
   "metadata": {},
   "outputs": [
    {
     "data": {
      "text/plain": [
       "['C',\n",
       " 'CA',\n",
       " 'CB',\n",
       " 'CD',\n",
       " 'CD1',\n",
       " 'CD2',\n",
       " 'CE',\n",
       " 'CE1',\n",
       " 'CE2',\n",
       " 'CE3',\n",
       " 'CG',\n",
       " 'CG1',\n",
       " 'CG2',\n",
       " 'CH2',\n",
       " 'CZ',\n",
       " 'CZ2',\n",
       " 'CZ3',\n",
       " 'N',\n",
       " 'ND1',\n",
       " 'ND2',\n",
       " 'NE',\n",
       " 'NE1',\n",
       " 'NE2',\n",
       " 'NH1',\n",
       " 'NH2',\n",
       " 'NZ',\n",
       " 'O',\n",
       " 'OD1',\n",
       " 'OD2',\n",
       " 'OE1',\n",
       " 'OE2',\n",
       " 'OG',\n",
       " 'OG1',\n",
       " 'OH',\n",
       " 'SD',\n",
       " 'SG']"
      ]
     },
     "execution_count": 18,
     "metadata": {},
     "output_type": "execute_result"
    }
   ],
   "source": [
    "holo_struc.protein_unique_atom_names"
   ]
  },
  {
   "cell_type": "markdown",
   "metadata": {},
   "source": [
    "### Get protein b-factors\n",
    "Get protein atom occupancies. If not available in a structure, it's set to zero."
   ]
  },
  {
   "cell_type": "code",
   "execution_count": 19,
   "metadata": {},
   "outputs": [
    {
     "data": {
      "text/plain": [
       "[0.0,\n",
       " 0.0,\n",
       " 0.0,\n",
       " 0.0,\n",
       " 0.0,\n",
       " 0.0,\n",
       " 0.0,\n",
       " 0.0,\n",
       " 0.0,\n",
       " 0.0,\n",
       " 0.0,\n",
       " 0.0,\n",
       " 0.0,\n",
       " 0.0,\n",
       " 0.0,\n",
       " 0.0,\n",
       " 0.0,\n",
       " 0.0,\n",
       " 0.0,\n",
       " 0.0,\n",
       " 0.0,\n",
       " 0.0,\n",
       " 0.0,\n",
       " 0.0,\n",
       " 0.0,\n",
       " 0.0,\n",
       " 0.0,\n",
       " 0.0,\n",
       " 0.0,\n",
       " 0.0,\n",
       " 0.0,\n",
       " 0.0,\n",
       " 0.0,\n",
       " 0.0,\n",
       " 0.0,\n",
       " 0.0,\n",
       " 0.0,\n",
       " 0.0,\n",
       " 0.0,\n",
       " 0.0,\n",
       " 0.0,\n",
       " 0.0,\n",
       " 0.0,\n",
       " 0.0,\n",
       " 0.0,\n",
       " 0.0,\n",
       " 0.0,\n",
       " 0.0,\n",
       " 0.0,\n",
       " 0.0,\n",
       " 0.0,\n",
       " 0.0,\n",
       " 0.0,\n",
       " 0.0,\n",
       " 0.0,\n",
       " 0.0,\n",
       " 0.0,\n",
       " 0.0,\n",
       " 0.0,\n",
       " 0.0,\n",
       " 0.0,\n",
       " 0.0,\n",
       " 0.0,\n",
       " 0.0,\n",
       " 0.0,\n",
       " 0.0,\n",
       " 0.0,\n",
       " 0.0,\n",
       " 0.0,\n",
       " 0.0,\n",
       " 0.0,\n",
       " 0.0,\n",
       " 0.0,\n",
       " 0.0,\n",
       " 0.0,\n",
       " 0.0,\n",
       " 0.0,\n",
       " 0.0,\n",
       " 0.0,\n",
       " 0.0,\n",
       " 0.0,\n",
       " 0.0,\n",
       " 0.0,\n",
       " 0.0,\n",
       " 0.0,\n",
       " 0.0,\n",
       " 0.0,\n",
       " 0.0,\n",
       " 0.0,\n",
       " 0.0,\n",
       " 0.0,\n",
       " 0.0,\n",
       " 0.0,\n",
       " 0.0,\n",
       " 0.0,\n",
       " 0.0,\n",
       " 0.0,\n",
       " 0.0,\n",
       " 0.0,\n",
       " 0.0,\n",
       " 0.0,\n",
       " 0.0,\n",
       " 0.0,\n",
       " 0.0,\n",
       " 0.0,\n",
       " 0.0,\n",
       " 0.0,\n",
       " 0.0,\n",
       " 0.0,\n",
       " 0.0,\n",
       " 0.0,\n",
       " 0.0,\n",
       " 0.0,\n",
       " 0.0,\n",
       " 0.0,\n",
       " 0.0,\n",
       " 0.0,\n",
       " 0.0,\n",
       " 0.0,\n",
       " 0.0,\n",
       " 0.0,\n",
       " 0.0,\n",
       " 0.0,\n",
       " 0.0,\n",
       " 0.0,\n",
       " 0.0,\n",
       " 0.0,\n",
       " 0.0,\n",
       " 0.0,\n",
       " 0.0,\n",
       " 0.0,\n",
       " 0.0,\n",
       " 0.0,\n",
       " 0.0,\n",
       " 0.0,\n",
       " 0.0,\n",
       " 0.0,\n",
       " 0.0,\n",
       " 0.0,\n",
       " 0.0,\n",
       " 0.0,\n",
       " 0.0,\n",
       " 0.0,\n",
       " 0.0,\n",
       " 0.0,\n",
       " 0.0,\n",
       " 0.0,\n",
       " 0.0,\n",
       " 0.0,\n",
       " 0.0,\n",
       " 0.0,\n",
       " 0.0,\n",
       " 0.0,\n",
       " 0.0,\n",
       " 0.0,\n",
       " 0.0,\n",
       " 0.0,\n",
       " 0.0,\n",
       " 0.0,\n",
       " 0.0,\n",
       " 0.0,\n",
       " 0.0,\n",
       " 0.0,\n",
       " 0.0,\n",
       " 0.0,\n",
       " 0.0,\n",
       " 0.0,\n",
       " 0.0,\n",
       " 0.0,\n",
       " 0.0,\n",
       " 0.0,\n",
       " 0.0,\n",
       " 0.0,\n",
       " 0.0,\n",
       " 0.0,\n",
       " 0.0,\n",
       " 0.0,\n",
       " 0.0,\n",
       " 0.0,\n",
       " 0.0,\n",
       " 0.0,\n",
       " 0.0,\n",
       " 0.0,\n",
       " 0.0,\n",
       " 0.0,\n",
       " 0.0,\n",
       " 0.0,\n",
       " 0.0,\n",
       " 0.0,\n",
       " 0.0,\n",
       " 0.0,\n",
       " 0.0,\n",
       " 0.0,\n",
       " 0.0,\n",
       " 0.0,\n",
       " 0.0,\n",
       " 0.0,\n",
       " 0.0,\n",
       " 0.0,\n",
       " 0.0,\n",
       " 0.0,\n",
       " 0.0,\n",
       " 0.0,\n",
       " 0.0,\n",
       " 0.0,\n",
       " 0.0,\n",
       " 0.0,\n",
       " 0.0,\n",
       " 0.0,\n",
       " 0.0,\n",
       " 0.0,\n",
       " 0.0,\n",
       " 0.0,\n",
       " 0.0,\n",
       " 0.0,\n",
       " 0.0,\n",
       " 0.0,\n",
       " 0.0,\n",
       " 0.0,\n",
       " 0.0,\n",
       " 0.0,\n",
       " 0.0,\n",
       " 0.0,\n",
       " 0.0,\n",
       " 0.0,\n",
       " 0.0,\n",
       " 0.0,\n",
       " 0.0,\n",
       " 0.0,\n",
       " 0.0,\n",
       " 0.0,\n",
       " 0.0,\n",
       " 0.0,\n",
       " 0.0,\n",
       " 0.0,\n",
       " 0.0,\n",
       " 0.0,\n",
       " 0.0,\n",
       " 0.0,\n",
       " 0.0,\n",
       " 0.0,\n",
       " 0.0,\n",
       " 0.0,\n",
       " 0.0,\n",
       " 0.0,\n",
       " 0.0,\n",
       " 0.0,\n",
       " 0.0,\n",
       " 0.0,\n",
       " 0.0,\n",
       " 0.0,\n",
       " 0.0,\n",
       " 0.0,\n",
       " 0.0,\n",
       " 0.0,\n",
       " 0.0,\n",
       " 0.0,\n",
       " 0.0,\n",
       " 0.0,\n",
       " 0.0,\n",
       " 0.0,\n",
       " 0.0,\n",
       " 0.0,\n",
       " 0.0,\n",
       " 0.0,\n",
       " 0.0,\n",
       " 0.0,\n",
       " 0.0,\n",
       " 0.0,\n",
       " 0.0,\n",
       " 0.0,\n",
       " 0.0,\n",
       " 0.0,\n",
       " 0.0,\n",
       " 0.0,\n",
       " 0.0,\n",
       " 0.0,\n",
       " 0.0,\n",
       " 0.0,\n",
       " 0.0,\n",
       " 0.0,\n",
       " 0.0,\n",
       " 0.0,\n",
       " 0.0,\n",
       " 0.0,\n",
       " 0.0,\n",
       " 0.0,\n",
       " 0.0,\n",
       " 0.0,\n",
       " 0.0,\n",
       " 0.0,\n",
       " 0.0,\n",
       " 0.0,\n",
       " 0.0,\n",
       " 0.0,\n",
       " 0.0,\n",
       " 0.0,\n",
       " 0.0,\n",
       " 0.0,\n",
       " 0.0,\n",
       " 0.0,\n",
       " 0.0,\n",
       " 0.0,\n",
       " 0.0,\n",
       " 0.0,\n",
       " 0.0,\n",
       " 0.0,\n",
       " 0.0,\n",
       " 0.0,\n",
       " 0.0,\n",
       " 0.0,\n",
       " 0.0,\n",
       " 0.0,\n",
       " 0.0,\n",
       " 0.0,\n",
       " 0.0,\n",
       " 0.0,\n",
       " 0.0,\n",
       " 0.0,\n",
       " 0.0,\n",
       " 0.0,\n",
       " 0.0,\n",
       " 0.0,\n",
       " 0.0,\n",
       " 0.0,\n",
       " 0.0,\n",
       " 0.0,\n",
       " 0.0,\n",
       " 0.0,\n",
       " 0.0,\n",
       " 0.0,\n",
       " 0.0,\n",
       " 0.0,\n",
       " 0.0,\n",
       " 0.0,\n",
       " 0.0,\n",
       " 0.0,\n",
       " 0.0,\n",
       " 0.0,\n",
       " 0.0,\n",
       " 0.0,\n",
       " 0.0,\n",
       " 0.0,\n",
       " 0.0,\n",
       " 0.0,\n",
       " 0.0,\n",
       " 0.0,\n",
       " 0.0,\n",
       " 0.0,\n",
       " 0.0,\n",
       " 0.0,\n",
       " 0.0,\n",
       " 0.0,\n",
       " 0.0,\n",
       " 0.0,\n",
       " 0.0,\n",
       " 0.0,\n",
       " 0.0,\n",
       " 0.0,\n",
       " 0.0,\n",
       " 0.0,\n",
       " 0.0,\n",
       " 0.0,\n",
       " 0.0,\n",
       " 0.0,\n",
       " 0.0,\n",
       " 0.0,\n",
       " 0.0,\n",
       " 0.0,\n",
       " 0.0,\n",
       " 0.0,\n",
       " 0.0,\n",
       " 0.0,\n",
       " 0.0,\n",
       " 0.0,\n",
       " 0.0,\n",
       " 0.0,\n",
       " 0.0,\n",
       " 0.0,\n",
       " 0.0,\n",
       " 0.0,\n",
       " 0.0,\n",
       " 0.0,\n",
       " 0.0,\n",
       " 0.0,\n",
       " 0.0,\n",
       " 0.0,\n",
       " 0.0,\n",
       " 0.0,\n",
       " 0.0,\n",
       " 0.0,\n",
       " 0.0,\n",
       " 0.0,\n",
       " 0.0,\n",
       " 0.0,\n",
       " 0.0,\n",
       " 0.0,\n",
       " 0.0,\n",
       " 0.0,\n",
       " 0.0,\n",
       " 0.0,\n",
       " 0.0,\n",
       " 0.0,\n",
       " 0.0,\n",
       " 0.0,\n",
       " 0.0,\n",
       " 0.0,\n",
       " 0.0,\n",
       " 0.0,\n",
       " 0.0,\n",
       " 0.0,\n",
       " 0.0,\n",
       " 0.0,\n",
       " 0.0,\n",
       " 0.0,\n",
       " 0.0,\n",
       " 0.0,\n",
       " 0.0,\n",
       " 0.0,\n",
       " 0.0,\n",
       " 0.0,\n",
       " 0.0,\n",
       " 0.0,\n",
       " 0.0,\n",
       " 0.0,\n",
       " 0.0,\n",
       " 0.0,\n",
       " 0.0,\n",
       " 0.0,\n",
       " 0.0,\n",
       " 0.0,\n",
       " 0.0,\n",
       " 0.0,\n",
       " 0.0,\n",
       " 0.0,\n",
       " 0.0,\n",
       " 0.0,\n",
       " 0.0,\n",
       " 0.0,\n",
       " 0.0,\n",
       " 0.0,\n",
       " 0.0,\n",
       " 0.0,\n",
       " 0.0,\n",
       " 0.0,\n",
       " 0.0,\n",
       " 0.0,\n",
       " 0.0,\n",
       " 0.0,\n",
       " 0.0,\n",
       " 0.0,\n",
       " 0.0,\n",
       " 0.0,\n",
       " 0.0,\n",
       " 0.0,\n",
       " 0.0,\n",
       " 0.0,\n",
       " 0.0,\n",
       " 0.0,\n",
       " 0.0,\n",
       " 0.0,\n",
       " 0.0,\n",
       " 0.0,\n",
       " 0.0,\n",
       " 0.0,\n",
       " 0.0,\n",
       " 0.0,\n",
       " 0.0,\n",
       " 0.0,\n",
       " 0.0,\n",
       " 0.0,\n",
       " 0.0,\n",
       " 0.0,\n",
       " 0.0,\n",
       " 0.0,\n",
       " 0.0,\n",
       " 0.0,\n",
       " 0.0,\n",
       " 0.0,\n",
       " 0.0,\n",
       " 0.0,\n",
       " 0.0,\n",
       " 0.0,\n",
       " 0.0,\n",
       " 0.0,\n",
       " 0.0,\n",
       " 0.0,\n",
       " 0.0,\n",
       " 0.0,\n",
       " 0.0,\n",
       " 0.0,\n",
       " 0.0,\n",
       " 0.0,\n",
       " 0.0,\n",
       " 0.0,\n",
       " 0.0,\n",
       " 0.0,\n",
       " 0.0,\n",
       " 0.0,\n",
       " 0.0,\n",
       " 0.0,\n",
       " 0.0,\n",
       " 0.0,\n",
       " 0.0,\n",
       " 0.0,\n",
       " 0.0,\n",
       " 0.0,\n",
       " 0.0,\n",
       " 0.0,\n",
       " 0.0,\n",
       " 0.0,\n",
       " 0.0,\n",
       " 0.0,\n",
       " 0.0,\n",
       " 0.0,\n",
       " 0.0,\n",
       " 0.0,\n",
       " 0.0,\n",
       " 0.0,\n",
       " 0.0,\n",
       " 0.0,\n",
       " 0.0,\n",
       " 0.0,\n",
       " 0.0,\n",
       " 0.0,\n",
       " 0.0,\n",
       " 0.0,\n",
       " 0.0,\n",
       " 0.0,\n",
       " 0.0,\n",
       " 0.0,\n",
       " 0.0,\n",
       " 0.0,\n",
       " 0.0,\n",
       " 0.0,\n",
       " 0.0,\n",
       " 0.0,\n",
       " 0.0,\n",
       " 0.0,\n",
       " 0.0,\n",
       " 0.0,\n",
       " 0.0,\n",
       " 0.0,\n",
       " 0.0,\n",
       " 0.0,\n",
       " 0.0,\n",
       " 0.0,\n",
       " 0.0,\n",
       " 0.0,\n",
       " 0.0,\n",
       " 0.0,\n",
       " 0.0,\n",
       " 0.0,\n",
       " 0.0,\n",
       " 0.0,\n",
       " 0.0,\n",
       " 0.0,\n",
       " 0.0,\n",
       " 0.0,\n",
       " 0.0,\n",
       " 0.0,\n",
       " 0.0,\n",
       " 0.0,\n",
       " 0.0,\n",
       " 0.0,\n",
       " 0.0,\n",
       " 0.0,\n",
       " 0.0,\n",
       " 0.0,\n",
       " 0.0,\n",
       " 0.0,\n",
       " 0.0,\n",
       " 0.0,\n",
       " 0.0,\n",
       " 0.0,\n",
       " 0.0,\n",
       " 0.0,\n",
       " 0.0,\n",
       " 0.0,\n",
       " 0.0,\n",
       " 0.0,\n",
       " 0.0,\n",
       " 0.0,\n",
       " 0.0,\n",
       " 0.0,\n",
       " 0.0,\n",
       " 0.0,\n",
       " 0.0,\n",
       " 0.0,\n",
       " 0.0,\n",
       " 0.0,\n",
       " 0.0,\n",
       " 0.0,\n",
       " 0.0,\n",
       " 0.0,\n",
       " 0.0,\n",
       " 0.0,\n",
       " 0.0,\n",
       " 0.0,\n",
       " 0.0,\n",
       " 0.0,\n",
       " 0.0,\n",
       " 0.0,\n",
       " 0.0,\n",
       " 0.0,\n",
       " 0.0,\n",
       " 0.0,\n",
       " 0.0,\n",
       " 0.0,\n",
       " 0.0,\n",
       " 0.0,\n",
       " 0.0,\n",
       " 0.0,\n",
       " 0.0,\n",
       " 0.0,\n",
       " 0.0,\n",
       " 0.0,\n",
       " 0.0,\n",
       " 0.0,\n",
       " 0.0,\n",
       " 0.0,\n",
       " 0.0,\n",
       " 0.0,\n",
       " 0.0,\n",
       " 0.0,\n",
       " 0.0,\n",
       " 0.0,\n",
       " 0.0,\n",
       " 0.0,\n",
       " 0.0,\n",
       " 0.0,\n",
       " 0.0,\n",
       " 0.0,\n",
       " 0.0,\n",
       " 0.0,\n",
       " 0.0,\n",
       " 0.0,\n",
       " 0.0,\n",
       " 0.0,\n",
       " 0.0,\n",
       " 0.0,\n",
       " 0.0,\n",
       " 0.0,\n",
       " 0.0,\n",
       " 0.0,\n",
       " 0.0,\n",
       " 0.0,\n",
       " 0.0,\n",
       " 0.0,\n",
       " 0.0,\n",
       " 0.0,\n",
       " 0.0,\n",
       " 0.0,\n",
       " 0.0,\n",
       " 0.0,\n",
       " 0.0,\n",
       " 0.0,\n",
       " 0.0,\n",
       " 0.0,\n",
       " 0.0,\n",
       " 0.0,\n",
       " 0.0,\n",
       " 0.0,\n",
       " 0.0,\n",
       " 0.0,\n",
       " 0.0,\n",
       " 0.0,\n",
       " 0.0,\n",
       " 0.0,\n",
       " 0.0,\n",
       " 0.0,\n",
       " 0.0,\n",
       " 0.0,\n",
       " 0.0,\n",
       " 0.0,\n",
       " 0.0,\n",
       " 0.0,\n",
       " 0.0,\n",
       " 0.0,\n",
       " 0.0,\n",
       " 0.0,\n",
       " 0.0,\n",
       " 0.0,\n",
       " 0.0,\n",
       " 0.0,\n",
       " 0.0,\n",
       " 0.0,\n",
       " 0.0,\n",
       " 0.0,\n",
       " 0.0,\n",
       " 0.0,\n",
       " 0.0,\n",
       " 0.0,\n",
       " 0.0,\n",
       " 0.0,\n",
       " 0.0,\n",
       " 0.0,\n",
       " 0.0,\n",
       " 0.0,\n",
       " 0.0,\n",
       " 0.0,\n",
       " 0.0,\n",
       " 0.0,\n",
       " 0.0,\n",
       " 0.0,\n",
       " 0.0,\n",
       " 0.0,\n",
       " 0.0,\n",
       " 0.0,\n",
       " 0.0,\n",
       " 0.0,\n",
       " 0.0,\n",
       " 0.0,\n",
       " 0.0,\n",
       " 0.0,\n",
       " 0.0,\n",
       " 0.0,\n",
       " 0.0,\n",
       " 0.0,\n",
       " 0.0,\n",
       " 0.0,\n",
       " 0.0,\n",
       " 0.0,\n",
       " 0.0,\n",
       " 0.0,\n",
       " 0.0,\n",
       " 0.0,\n",
       " 0.0,\n",
       " 0.0,\n",
       " 0.0,\n",
       " 0.0,\n",
       " 0.0,\n",
       " 0.0,\n",
       " 0.0,\n",
       " 0.0,\n",
       " 0.0,\n",
       " 0.0,\n",
       " 0.0,\n",
       " 0.0,\n",
       " 0.0,\n",
       " 0.0,\n",
       " 0.0,\n",
       " 0.0,\n",
       " 0.0,\n",
       " 0.0,\n",
       " 0.0,\n",
       " 0.0,\n",
       " 0.0,\n",
       " 0.0,\n",
       " 0.0,\n",
       " 0.0,\n",
       " 0.0,\n",
       " 0.0,\n",
       " 0.0,\n",
       " 0.0,\n",
       " 0.0,\n",
       " 0.0,\n",
       " 0.0,\n",
       " 0.0,\n",
       " 0.0,\n",
       " 0.0,\n",
       " 0.0,\n",
       " 0.0,\n",
       " 0.0,\n",
       " 0.0,\n",
       " 0.0,\n",
       " 0.0,\n",
       " 0.0,\n",
       " 0.0,\n",
       " 0.0,\n",
       " 0.0,\n",
       " 0.0,\n",
       " 0.0,\n",
       " 0.0,\n",
       " 0.0,\n",
       " 0.0,\n",
       " 0.0,\n",
       " 0.0,\n",
       " 0.0,\n",
       " 0.0,\n",
       " 0.0,\n",
       " 0.0,\n",
       " 0.0,\n",
       " 0.0,\n",
       " 0.0,\n",
       " 0.0,\n",
       " 0.0,\n",
       " 0.0,\n",
       " 0.0,\n",
       " 0.0,\n",
       " 0.0,\n",
       " 0.0,\n",
       " 0.0,\n",
       " 0.0,\n",
       " 0.0,\n",
       " 0.0,\n",
       " 0.0,\n",
       " 0.0,\n",
       " 0.0,\n",
       " 0.0,\n",
       " 0.0,\n",
       " 0.0,\n",
       " 0.0,\n",
       " 0.0,\n",
       " 0.0,\n",
       " 0.0,\n",
       " 0.0,\n",
       " 0.0,\n",
       " 0.0,\n",
       " 0.0,\n",
       " 0.0,\n",
       " 0.0,\n",
       " 0.0,\n",
       " 0.0,\n",
       " 0.0,\n",
       " 0.0,\n",
       " 0.0,\n",
       " 0.0,\n",
       " 0.0,\n",
       " 0.0,\n",
       " 0.0,\n",
       " 0.0,\n",
       " 0.0,\n",
       " 0.0,\n",
       " 0.0,\n",
       " 0.0,\n",
       " 0.0,\n",
       " 0.0,\n",
       " 0.0,\n",
       " 0.0,\n",
       " 0.0,\n",
       " 0.0,\n",
       " 0.0,\n",
       " 0.0,\n",
       " 0.0,\n",
       " 0.0,\n",
       " 0.0,\n",
       " 0.0,\n",
       " 0.0,\n",
       " 0.0,\n",
       " 0.0,\n",
       " 0.0,\n",
       " 0.0,\n",
       " 0.0,\n",
       " 0.0,\n",
       " 0.0,\n",
       " 0.0,\n",
       " 0.0,\n",
       " 0.0,\n",
       " 0.0,\n",
       " 0.0,\n",
       " 0.0,\n",
       " 0.0,\n",
       " 0.0,\n",
       " 0.0,\n",
       " 0.0,\n",
       " 0.0,\n",
       " 0.0,\n",
       " 0.0,\n",
       " 0.0,\n",
       " 0.0,\n",
       " 0.0,\n",
       " 0.0,\n",
       " 0.0,\n",
       " 0.0,\n",
       " 0.0,\n",
       " 0.0,\n",
       " 0.0,\n",
       " 0.0,\n",
       " 0.0,\n",
       " 0.0,\n",
       " 0.0,\n",
       " 0.0,\n",
       " 0.0,\n",
       " 0.0,\n",
       " 0.0,\n",
       " 0.0,\n",
       " 0.0,\n",
       " 0.0,\n",
       " 0.0,\n",
       " 0.0,\n",
       " 0.0,\n",
       " 0.0,\n",
       " 0.0,\n",
       " 0.0,\n",
       " 0.0,\n",
       " 0.0,\n",
       " 0.0,\n",
       " 0.0,\n",
       " 0.0,\n",
       " 0.0,\n",
       " 0.0,\n",
       " 0.0,\n",
       " 0.0,\n",
       " 0.0,\n",
       " 0.0,\n",
       " 0.0,\n",
       " 0.0,\n",
       " 0.0,\n",
       " 0.0,\n",
       " 0.0,\n",
       " 0.0,\n",
       " 0.0,\n",
       " 0.0,\n",
       " 0.0,\n",
       " 0.0,\n",
       " 0.0,\n",
       " 0.0,\n",
       " 0.0,\n",
       " 0.0,\n",
       " 0.0,\n",
       " 0.0,\n",
       " 0.0,\n",
       " 0.0,\n",
       " 0.0,\n",
       " 0.0,\n",
       " 0.0,\n",
       " 0.0,\n",
       " 0.0,\n",
       " 0.0,\n",
       " 0.0,\n",
       " 0.0,\n",
       " 0.0,\n",
       " 0.0,\n",
       " 0.0,\n",
       " 0.0,\n",
       " 0.0,\n",
       " 0.0,\n",
       " 0.0,\n",
       " 0.0,\n",
       " 0.0,\n",
       " 0.0,\n",
       " 0.0,\n",
       " 0.0,\n",
       " 0.0,\n",
       " 0.0,\n",
       " 0.0,\n",
       " 0.0,\n",
       " 0.0,\n",
       " 0.0,\n",
       " 0.0,\n",
       " 0.0,\n",
       " 0.0,\n",
       " 0.0,\n",
       " 0.0,\n",
       " 0.0,\n",
       " 0.0,\n",
       " 0.0,\n",
       " 0.0,\n",
       " 0.0,\n",
       " 0.0,\n",
       " 0.0,\n",
       " 0.0,\n",
       " 0.0,\n",
       " 0.0,\n",
       " 0.0,\n",
       " 0.0,\n",
       " 0.0,\n",
       " 0.0,\n",
       " 0.0,\n",
       " 0.0,\n",
       " 0.0,\n",
       " 0.0,\n",
       " 0.0]"
      ]
     },
     "execution_count": 19,
     "metadata": {},
     "output_type": "execute_result"
    }
   ],
   "source": [
    "holo_struc.protein_structure_b_factor"
   ]
  },
  {
   "cell_type": "markdown",
   "metadata": {},
   "source": [
    "### Get protein residue names"
   ]
  },
  {
   "cell_type": "code",
   "execution_count": 20,
   "metadata": {},
   "outputs": [
    {
     "data": {
      "text/plain": [
       "['ALA',\n",
       " 'ARG',\n",
       " 'ASN',\n",
       " 'ASP',\n",
       " 'CYS',\n",
       " 'GLN',\n",
       " 'GLU',\n",
       " 'GLY',\n",
       " 'HIS',\n",
       " 'ILE',\n",
       " 'LEU',\n",
       " 'LYS',\n",
       " 'MET',\n",
       " 'PHE',\n",
       " 'PRO',\n",
       " 'SER',\n",
       " 'THR',\n",
       " 'TRP',\n",
       " 'TYR',\n",
       " 'VAL']"
      ]
     },
     "execution_count": 20,
     "metadata": {},
     "output_type": "execute_result"
    }
   ],
   "source": [
    "holo_struc.protein_unique_residue_names"
   ]
  },
  {
   "cell_type": "markdown",
   "metadata": {},
   "source": [
    "### Get protein residues number\n",
    "Residue number as they appear in structure"
   ]
  },
  {
   "cell_type": "code",
   "execution_count": 21,
   "metadata": {},
   "outputs": [
    {
     "data": {
      "text/plain": [
       "[3,\n",
       " 4,\n",
       " 5,\n",
       " 6,\n",
       " 7,\n",
       " 8,\n",
       " 9,\n",
       " 10,\n",
       " 11,\n",
       " 12,\n",
       " 13,\n",
       " 14,\n",
       " 15,\n",
       " 16,\n",
       " 17,\n",
       " 18,\n",
       " 19,\n",
       " 20,\n",
       " 21,\n",
       " 22,\n",
       " 23,\n",
       " 24,\n",
       " 25,\n",
       " 26,\n",
       " 27,\n",
       " 28,\n",
       " 29,\n",
       " 30,\n",
       " 31,\n",
       " 32,\n",
       " 33,\n",
       " 34,\n",
       " 35,\n",
       " 36,\n",
       " 37,\n",
       " 38,\n",
       " 39,\n",
       " 40,\n",
       " 41,\n",
       " 42,\n",
       " 43,\n",
       " 44,\n",
       " 45,\n",
       " 46,\n",
       " 47,\n",
       " 48,\n",
       " 49,\n",
       " 50,\n",
       " 51,\n",
       " 52,\n",
       " 53,\n",
       " 54,\n",
       " 55,\n",
       " 56,\n",
       " 57,\n",
       " 58,\n",
       " 59,\n",
       " 60,\n",
       " 61,\n",
       " 62,\n",
       " 63,\n",
       " 64,\n",
       " 65,\n",
       " 66,\n",
       " 67,\n",
       " 68,\n",
       " 69,\n",
       " 70,\n",
       " 71,\n",
       " 72,\n",
       " 73,\n",
       " 74,\n",
       " 75,\n",
       " 76,\n",
       " 77,\n",
       " 78,\n",
       " 79,\n",
       " 80,\n",
       " 81,\n",
       " 82,\n",
       " 83,\n",
       " 84,\n",
       " 85,\n",
       " 86,\n",
       " 87,\n",
       " 88,\n",
       " 89,\n",
       " 90,\n",
       " 91,\n",
       " 92,\n",
       " 93,\n",
       " 94,\n",
       " 95,\n",
       " 96,\n",
       " 97,\n",
       " 98,\n",
       " 99,\n",
       " 100,\n",
       " 101,\n",
       " 102,\n",
       " 103,\n",
       " 104,\n",
       " 105,\n",
       " 106,\n",
       " 107,\n",
       " 108,\n",
       " 109,\n",
       " 110,\n",
       " 111,\n",
       " 112,\n",
       " 113,\n",
       " 114,\n",
       " 115,\n",
       " 116,\n",
       " 117,\n",
       " 118,\n",
       " 119,\n",
       " 120,\n",
       " 121,\n",
       " 122,\n",
       " 123,\n",
       " 124,\n",
       " 125]"
      ]
     },
     "execution_count": 21,
     "metadata": {},
     "output_type": "execute_result"
    }
   ],
   "source": [
    "holo_struc.protein_unique_residue_ids"
   ]
  },
  {
   "cell_type": "markdown",
   "metadata": {},
   "source": [
    "### Get sequence from protein structure\n"
   ]
  },
  {
   "cell_type": "code",
   "execution_count": 22,
   "metadata": {},
   "outputs": [
    {
     "data": {
      "text/plain": [
       "'KCSLTGKWTNDLGSNMTIGAVNSRGEFTGTYTTAVTATSNEIKESPLHGTENTINKRTQPTFGFTVNWKFSESTTVFTGQCFIDRNGKEVLKTMWLLRSSVNDIGDDWKATRVGINIFTRLRT'"
      ]
     },
     "execution_count": 22,
     "metadata": {},
     "output_type": "execute_result"
    }
   ],
   "source": [
    "holo_struc.protein_sequence_from_structure"
   ]
  },
  {
   "cell_type": "code",
   "execution_count": 23,
   "metadata": {},
   "outputs": [
    {
     "data": {
      "text/plain": [
       "{'1.A': 'ARKCSLTGKWTNDLGSNMTIGAVNSRGEFTGTYTTAVTATSNEIKESPLHGTENTINKRTQPTFGFTVNWKFSESTTVFTGQCFIDRNGKEVLKTMWLLRSSVNDIGDDWKATRVGINIFTRLRTQKE'}"
      ]
     },
     "execution_count": 23,
     "metadata": {},
     "output_type": "execute_result"
    }
   ],
   "source": [
    "holo_struc.protein_sequence"
   ]
  },
  {
   "cell_type": "markdown",
   "metadata": {},
   "source": [
    "### Get tokenized sequence\n",
    "Get tensor of sequence converted to integer-based amino acid token"
   ]
  },
  {
   "cell_type": "code",
   "execution_count": 24,
   "metadata": {},
   "outputs": [
    {
     "data": {
      "text/plain": [
       "tensor([11,  4, 15, 10, 16,  7, 11, 17, 16,  2,  3, 10,  7, 15,  2, 12, 16,  9,\n",
       "         7,  0, 19,  2, 15,  1,  7,  6, 13, 16,  7, 16, 18, 16, 16,  0, 19, 16,\n",
       "         0, 16, 15,  2,  6,  9, 11,  6, 15, 14, 10,  8,  7, 16,  6,  2, 16,  9,\n",
       "         2, 11,  1, 16,  5, 14, 16, 13,  7, 13, 16, 19,  2, 17, 11, 13, 15,  6,\n",
       "        15, 16, 16, 19, 13, 16,  7,  5,  4, 13,  9,  3,  1,  2,  7, 11,  6, 19,\n",
       "        10, 11, 16, 12, 17, 10, 10,  1, 15, 15, 19,  2,  3,  9,  7,  3,  3, 17,\n",
       "        11,  0, 16,  1, 19,  7,  9,  2,  9, 13, 16,  1, 10,  1, 16])"
      ]
     },
     "execution_count": 24,
     "metadata": {},
     "output_type": "execute_result"
    }
   ],
   "source": [
    "holo_struc.protein_structure_tokenized_sequence"
   ]
  },
  {
   "cell_type": "markdown",
   "metadata": {},
   "source": [
    "#### Inspect holo sequences\n",
    "Returns a chain-mapped dictionary of sequences from seqres\n",
    "```python\n",
    "{\n",
    "    \"<instance_id>.<chain_id>\": sequence of type `str`\n",
    "\n",
    "}\n",
    "```"
   ]
  },
  {
   "cell_type": "code",
   "execution_count": 25,
   "metadata": {},
   "outputs": [
    {
     "data": {
      "text/plain": [
       "{'1.A': 'ARKCSLTGKWTNDLGSNMTIGAVNSRGEFTGTYTTAVTATSNEIKESPLHGTENTINKRTQPTFGFTVNWKFSESTTVFTGQCFIDRNGKEVLKTMWLLRSSVNDIGDDWKATRVGINIFTRLRTQKE'}"
      ]
     },
     "execution_count": 25,
     "metadata": {},
     "output_type": "execute_result"
    }
   ],
   "source": [
    "holo_struc.protein_sequence"
   ]
  },
  {
   "cell_type": "code",
   "execution_count": 26,
   "metadata": {},
   "outputs": [
    {
     "data": {
      "text/plain": [
       "Structure(\n",
       "    (\n",
       "        'id',\n",
       "        '1avd__1__1.A__1.C',\n",
       "    ),\n",
       "    (\n",
       "        'protein_path',\n",
       "        /Users/vladas/.local/share/plinder/2024-06/v2/systems/1avd__1__1.A__1.C/receptor.cif,\n",
       "    ),\n",
       "    (\n",
       "        'protein_sequence',\n",
       "        {\n",
       "            '1.A': 'ARKCSLTGKWTNDLGSNMTIGAVNSRGEFTGTYTTAVTATSNEIKESPLHGTENTINKRTQPTFGFTVNWKFSESTTVFTGQCFIDRNGKEVLKTMWLLRSSVNDIGDDWKATRVGINIFTRLRTQKE',\n",
       "        },\n",
       "    ),\n",
       "    (\n",
       "        'ligand_sdfs',\n",
       "        {\n",
       "            '1.C': '/Users/vladas/.local/share/plinder/2024-06/v2/systems/1avd__1__1.A__1.C/ligand_files/1.C.sdf',\n",
       "        },\n",
       "    ),\n",
       "    (\n",
       "        'ligand_smiles',\n",
       "        {\n",
       "            '1.C': 'CC(=O)N[C@@H]1[C@@H](O)[C@H](O)[C@@H](CO)O[C@H]1O',\n",
       "        },\n",
       "    ),\n",
       "    (\n",
       "        'protein_atom_array',\n",
       "        <class 'biotite.structure.AtomArray'> with shape (123,),\n",
       "    ),\n",
       "    (\n",
       "        'ligand_mols',\n",
       "        {\n",
       "            '1.C': (\n",
       "                <rdkit.Chem.rdchem.Mol object at 0x1cf81eea0>,\n",
       "                <rdkit.Chem.rdchem.Mol object at 0x1cf313a70>,\n",
       "                <rdkit.Chem.rdchem.Mol object at 0x1c7cd6810>,\n",
       "                (\n",
       "                    <class 'numpy.ndarray'> with shape (1, 14),\n",
       "                    <class 'numpy.ndarray'> with shape (1, 14),\n",
       "                ),\n",
       "            ),\n",
       "        },\n",
       "    ),\n",
       "    (\n",
       "        'add_ligand_hydrogens',\n",
       "        False,\n",
       "    ),\n",
       "    (\n",
       "        'structure_type',\n",
       "        'holo',\n",
       "    ),\n",
       ")"
      ]
     },
     "execution_count": 26,
     "metadata": {},
     "output_type": "execute_result"
    }
   ],
   "source": [
    "holo_struc.filter(\n",
    "        property=\"atom_name\",\n",
    "        mask=\"CA\",\n",
    "\n",
    "    )"
   ]
  },
  {
   "cell_type": "markdown",
   "metadata": {},
   "source": [
    "### List ligand properties\n",
    "Show ligand related properties"
   ]
  },
  {
   "cell_type": "code",
   "execution_count": 27,
   "metadata": {},
   "outputs": [
    {
     "name": "stdout",
     "output_type": "stream",
     "text": [
      "input_ligand_conformer_atom_array\n",
      "input_ligand_conformers\n",
      "input_ligand_conformers_coords\n",
      "input_ligand_templates\n",
      "ligand_atom_array\n",
      "ligand_chain_ordered\n",
      "ligand_template2resolved_atom_order_stacks\n",
      "resolved_ligand_mols\n",
      "resolved_ligand_mols_coords\n"
     ]
    }
   ],
   "source": [
    "for property in holo_struc.get_properties():\n",
    "    if \"ligand\" in property:\n",
    "        print(property)"
   ]
  },
  {
   "cell_type": "markdown",
   "metadata": {},
   "source": [
    ":::{todo}\n",
    "\n",
    "The input ligands are provided using dictionaries.\n",
    "These dictionaries contain information for each ligand:\n",
    "- input_ligand_templates: 2D RDKit mols generated from RDKit canonical SMILES (taken from annotation table)\n",
    "- input_ligand_conformers: 3D (random) conformers generated for each input mol\n",
    "- input_ligand_conformers_coords: positional coordintates for 3D conformers\n",
    "- resolved_ligand_mols: RDKit mols of solved (holo) ligand structures\n",
    "- resolved_ligand_mols_coords: positional coordintates for holo ligand structures\n",
    "- ligand_template2resolved_atom_order_stacks: paired stacked arrays (template vs holo) mapping atom order by index\n",
    "- ligand_chain_ordered: ordered list of all ligands by their keys\n",
    "\n",
    ":::"
   ]
  },
  {
   "cell_type": "markdown",
   "metadata": {},
   "source": [
    "### Ligand atom id mapping mapping\n",
    "\n",
    "Unlike the protein sequence - there is no canonical order to ligand atoms in the molecule.\n",
    "It can be further complicated by automorphisms present in the structure due to symmetry, i.e. there is more than one match that is possible between the structures.\n",
    "\n",
    "This is important when calculating ligand structure loss, as the most optimal atom order can change between the different inference results. Typically, it is accepted to take the atom ordering resulting in the best objective score and use that for the loss calculation.\n",
    "\n",
    "Occasionally futher ambiguity arises to to part of the ligand structure being unresolved in the holo structure - this can lead to multiple available matches. We use RascalMCES algorithm from RDKit to provide all the possible matches between the atom order in the input structure (from SMILES) to the resolved holo structure.\n",
    "\n",
    "This is provided as stacks of atom order arrays that reorder the template and holo indices to provide matches. Each stack is a unique order transformation and should be iterated."
   ]
  },
  {
   "cell_type": "markdown",
   "metadata": {},
   "source": [
    "### Ligand conformer to input smiles mapping\n",
    "\n",
    "Each RDKit ligand mol that is generated from SMILES matches the atom order that is in the starting SMILES.\n",
    "This order is retained when 3D conformer is generated.\n",
    "\n",
    "! NOTE: While we ensure that each PLINDER ligand can be loaded and sanitized into RDKit 2D molecule, some ligands may struggle to generate sanitizeable 3D conformers. We nonetheless are trying to provide each ligand with as sensible starting structure as possible and make it accessible via coordinate arrays."
   ]
  },
  {
   "cell_type": "code",
   "execution_count": 28,
   "metadata": {},
   "outputs": [],
   "source": [
    "# sample_system_2 = PlinderSystem(\n",
    "#     system_id=\"102m__1__1.A__1.C\",\n",
    "# )\n",
    "# sample_system_2.holo_structure.ligand_mols['1.C'][1]"
   ]
  },
  {
   "cell_type": "code",
   "execution_count": 29,
   "metadata": {},
   "outputs": [
    {
     "data": {
      "text/plain": [
       "{'1.C': (array([[13,  4,  5,  7,  9, 10,  1,  0,  3,  6,  8, 12, 11,  2]]),\n",
       "  array([[ 0,  1,  2,  3,  4,  5,  6,  7,  8,  9, 10, 11, 12, 13]]))}"
      ]
     },
     "execution_count": 29,
     "metadata": {},
     "output_type": "execute_result"
    }
   ],
   "source": [
    "holo_struc.ligand_template2resolved_atom_order_stacks"
   ]
  },
  {
   "cell_type": "markdown",
   "metadata": {},
   "source": [
    "Below we use RDKit functionality to draw indixes for `'1.C'` ligand 2D, conformer and holo structures"
   ]
  },
  {
   "cell_type": "code",
   "execution_count": 30,
   "metadata": {},
   "outputs": [],
   "source": [
    "from rdkit.Chem.Draw import IPythonConsole\n",
    "IPythonConsole.drawOptions.addAtomIndices = True"
   ]
  },
  {
   "cell_type": "code",
   "execution_count": 31,
   "metadata": {},
   "outputs": [
    {
     "data": {
      "image/png": "[encoded data removed]",
      "text/plain": [
       "<rdkit.Chem.rdchem.Mol at 0x1c7cd52a0>"
      ]
     },
     "execution_count": 31,
     "metadata": {},
     "output_type": "execute_result"
    }
   ],
   "source": [
    "holo_struc.input_ligand_templates[\"1.C\"]"
   ]
  },
  {
   "cell_type": "code",
   "execution_count": 32,
   "metadata": {},
   "outputs": [
    {
     "data": {
      "image/png": "[encoded data removed]",
      "text/plain": [
       "<rdkit.Chem.rdchem.Mol at 0x1c7cd69d0>"
      ]
     },
     "execution_count": 32,
     "metadata": {},
     "output_type": "execute_result"
    }
   ],
   "source": [
    "holo_struc.input_ligand_conformers[\"1.C\"]"
   ]
  },
  {
   "cell_type": "code",
   "execution_count": 33,
   "metadata": {},
   "outputs": [
    {
     "data": {
      "image/png": "[encoded data removed]",
      "text/plain": [
       "<rdkit.Chem.rdchem.Mol at 0x1c7cd5380>"
      ]
     },
     "execution_count": 33,
     "metadata": {},
     "output_type": "execute_result"
    }
   ],
   "source": [
    "holo_struc.resolved_ligand_mols[\"1.C\"]"
   ]
  },
  {
   "cell_type": "markdown",
   "metadata": {},
   "source": [
    "### Ligand conformer coordinates\n",
    "\n",
    "As you can tell, the input 2D and 3D conformer indices match, but the resolved ligand is different.\n",
    "Thus to perform a correct comparison for their coordinates one should use atom order stacks.\n"
   ]
  },
  {
   "cell_type": "code",
   "execution_count": 34,
   "metadata": {},
   "outputs": [],
   "source": [
    "input_atom_order_stack, holo_atom_order_stack = holo_struc.ligand_template2resolved_atom_order_stacks[\"1.C\"]"
   ]
  },
  {
   "cell_type": "code",
   "execution_count": 35,
   "metadata": {},
   "outputs": [
    {
     "data": {
      "text/plain": [
       "array([[36.097, 24.731, 18.551],\n",
       "       [36.841, 24.28 , 17.298],\n",
       "       [38.191, 24.996, 17.307],\n",
       "       [37.93 , 26.507, 17.335],\n",
       "       [37.118, 26.889, 18.595],\n",
       "       [36.636, 28.326, 18.719],\n",
       "       [35.948, 22.08 , 16.874],\n",
       "       [34.96 , 22.767, 15.881],\n",
       "       [36.989, 22.845, 17.232],\n",
       "       [38.879, 24.744, 16.078],\n",
       "       [39.175, 27.211, 17.276],\n",
       "       [35.883, 26.133, 18.477],\n",
       "       [35.31 , 28.501, 19.242],\n",
       "       [35.767, 20.938, 17.325]])"
      ]
     },
     "execution_count": 35,
     "metadata": {},
     "output_type": "execute_result"
    }
   ],
   "source": [
    "holo_struc.resolved_ligand_mols_coords['1.C']"
   ]
  },
  {
   "cell_type": "code",
   "execution_count": 36,
   "metadata": {},
   "outputs": [
    {
     "data": {
      "text/plain": [
       "array([[[ 4.3813846 ,  0.41928008, -0.94581396],\n",
       "        [ 3.05057178,  0.80964945, -0.36443604],\n",
       "        [ 2.88393027,  1.84542537,  0.27279943],\n",
       "        [ 2.03926275, -0.0932829 , -0.59307729],\n",
       "        [ 0.73567666,  0.05273174,  0.07102964],\n",
       "        [-0.05178081, -1.26281853, -0.04161451],\n",
       "        [ 0.70773615, -2.34070956,  0.53053007],\n",
       "        [-1.41155424, -1.15850518,  0.66048274],\n",
       "        [-2.10024692, -2.39521192,  0.44904366],\n",
       "        [-2.17464716,  0.04574057,  0.09595386],\n",
       "        [-3.48989133,  0.28955041,  0.84148991],\n",
       "        [-4.15835844,  1.41704912,  0.27817669],\n",
       "        [-1.39221873,  1.24117422,  0.23460389],\n",
       "        [-0.16285811,  1.19076378, -0.4944873 ]]])"
      ]
     },
     "execution_count": 36,
     "metadata": {},
     "output_type": "execute_result"
    }
   ],
   "source": [
    "holo_struc.input_ligand_conformers_coords['1.C'][holo_atom_order_stack]"
   ]
  },
  {
   "cell_type": "markdown",
   "metadata": {},
   "source": [
    "## 2. Interacting with PLINDER systems\n",
    "PlinderSystem is the next layer of abstraction above `Structure`. It provides encapsulation around all structures associated with a particular `system_id`. With these, we can access the `holo` and alternate (`apo` and `pred`) structure."
   ]
  },
  {
   "cell_type": "code",
   "execution_count": 37,
   "metadata": {},
   "outputs": [],
   "source": [
    "sample_system = PlinderSystem(\n",
    "    system_id=\"1avd__1__1.A__1.C\",\n",
    ")"
   ]
  },
  {
   "cell_type": "markdown",
   "metadata": {},
   "source": [
    "### Check holo structure\n",
    "Since having `holo` structure is a defining feature of _PLINDER_ system, holo structures is by definition available for all systems "
   ]
  },
  {
   "cell_type": "code",
   "execution_count": 38,
   "metadata": {},
   "outputs": [
    {
     "name": "stderr",
     "output_type": "stream",
     "text": [
      "2024-09-24 11:49:14,467 | plinder.core.utils.cpl.download_paths:24 | INFO : runtime succeeded: 0.00s\n",
      "2024-09-24 11:49:14,468 | plinder.core.utils.cpl.download_paths:24 | INFO : runtime succeeded: 0.00s\n",
      "2024-09-24 11:49:15,133 | plinder.core.utils.cpl.download_paths:24 | INFO : runtime succeeded: 0.00s\n",
      "2024-09-24 11:49:15,135 | plinder.core.utils.cpl.download_paths:24 | INFO : runtime succeeded: 0.00s\n",
      "2024-09-24 11:49:15,136 | plinder.core.index.utils:148 | INFO : loading entries from 1 zips\n",
      "2024-09-24 11:49:15,142 | plinder.core.index.utils:163 | INFO : loaded 1 entries\n",
      "2024-09-24 11:49:15,143 | plinder.core.index.utils.load_entries:24 | INFO : runtime succeeded: 0.67s\n"
     ]
    },
    {
     "data": {
      "text/plain": [
       "Structure(\n",
       "    (\n",
       "        'id',\n",
       "        '1avd__1__1.A__1.C',\n",
       "    ),\n",
       "    (\n",
       "        'protein_path',\n",
       "        /Users/vladas/.local/share/plinder/2024-06/v2/systems/1avd__1__1.A__1.C/receptor.cif,\n",
       "    ),\n",
       "    (\n",
       "        'protein_sequence',\n",
       "        {\n",
       "            '1.A': 'ARKCSLTGKWTNDLGSNMTIGAVNSRGEFTGTYTTAVTATSNEIKESPLHGTENTINKRTQPTFGFTVNWKFSESTTVFTGQCFIDRNGKEVLKTMWLLRSSVNDIGDDWKATRVGINIFTRLRTQKE',\n",
       "        },\n",
       "    ),\n",
       "    (\n",
       "        'ligand_sdfs',\n",
       "        {\n",
       "            '1.C': '/Users/vladas/.local/share/plinder/2024-06/v2/systems/1avd__1__1.A__1.C/ligand_files/1.C.sdf',\n",
       "        },\n",
       "    ),\n",
       "    (\n",
       "        'ligand_smiles',\n",
       "        {\n",
       "            '1.C': 'CC(=O)N[C@@H]1[C@@H](O)[C@H](O)[C@@H](CO)O[C@H]1O',\n",
       "        },\n",
       "    ),\n",
       "    (\n",
       "        'protein_atom_array',\n",
       "        <class 'biotite.structure.AtomArray'> with shape (964,),\n",
       "    ),\n",
       "    (\n",
       "        'ligand_mols',\n",
       "        {\n",
       "            '1.C': (\n",
       "                <rdkit.Chem.rdchem.Mol object at 0x1cf81e6c0>,\n",
       "                <rdkit.Chem.rdchem.Mol object at 0x1cf32c4a0>,\n",
       "                <rdkit.Chem.rdchem.Mol object at 0x1cf359bd0>,\n",
       "                (\n",
       "                    <class 'numpy.ndarray'> with shape (1, 14),\n",
       "                    <class 'numpy.ndarray'> with shape (1, 14),\n",
       "                ),\n",
       "            ),\n",
       "        },\n",
       "    ),\n",
       "    (\n",
       "        'add_ligand_hydrogens',\n",
       "        False,\n",
       "    ),\n",
       "    (\n",
       "        'structure_type',\n",
       "        'holo',\n",
       "    ),\n",
       ")"
      ]
     },
     "execution_count": 38,
     "metadata": {},
     "output_type": "execute_result"
    }
   ],
   "source": [
    "sample_system.holo_structure"
   ]
  },
  {
   "cell_type": "markdown",
   "metadata": {},
   "source": [
    "### Get annotations \n",
    "This `system` property returns `json` data of annotations for a the system in question. To get the annotations of all other systems sharing the same PDB entry ids, use `.entry` property."
   ]
  },
  {
   "cell_type": "code",
   "execution_count": 39,
   "metadata": {},
   "outputs": [
    {
     "data": {
      "text/plain": [
       "{'pdb_id': '1avd',\n",
       " 'biounit_id': '1',\n",
       " 'ligands': [{'pdb_id': '1avd',\n",
       "   'biounit_id': '1',\n",
       "   'asym_id': 'C',\n",
       "   'instance': 1,\n",
       "   'ccd_code': 'NAG',\n",
       "   'plip_type': 'SMALLMOLECULE',\n",
       "   'bird_id': '',\n",
       "   'centroid': [36.85636520385742, 25.090288162231445, 17.591215133666992],\n",
       "   'smiles': 'CC(=O)N[C@@H]1[C@@H](O)[C@H](O)[C@@H](CO)O[C@H]1O',\n",
       "   'resolved_smiles': 'OC[C@H]1O[CH][C@@H]([C@H]([C@@H]1O)O)NC(=O)C',\n",
       "   'residue_numbers': [1],\n",
       "   'rdkit_canonical_smiles': 'CC(=O)N[C@@H]1[C@@H](O)[C@H](O)[C@@H](CO)O[C@H]1O',\n",
       "   'molecular_weight': 221.0899372,\n",
       "   'crippen_clogp': -3.077599999999999,\n",
       "   'num_rot_bonds': 2,\n",
       "   'num_hbd': 5,\n",
       "   'num_hba': 6,\n",
       "   'num_rings': 1,\n",
       "   'num_heavy_atoms': 15,\n",
       "   'is_covalent': True,\n",
       "   'covalent_linkages': ['17:ASN:A:17:ND2__600:NAG:C:.:C1'],\n",
       "   'neighboring_residues': {'1.A': [9, 11, 15, 16, 17, 34, 35, 36, 123]},\n",
       "   'neighboring_ligands': [],\n",
       "   'interacting_residues': {'1.A': [34, 15]},\n",
       "   'interacting_ligands': [],\n",
       "   'interactions': {'1.A': {'15': ['type:hydrogen_bonds__protisdon:False__sidechain:False'],\n",
       "     '34': ['type:hydrophobic_contacts']}},\n",
       "   'neighboring_residue_threshold': 6.0,\n",
       "   'neighboring_ligand_threshold': 4.0,\n",
       "   'num_neighboring_ppi_atoms_within_4A_of_gap': 0,\n",
       "   'num_neighboring_ppi_atoms_within_8A_of_gap': 0,\n",
       "   'num_missing_ppi_interface_residues': 0,\n",
       "   'num_pli_atoms_within_4A_of_gap': 0,\n",
       "   'num_pli_atoms_within_8A_of_gap': 0,\n",
       "   'num_missing_pli_interface_residues': 0,\n",
       "   'num_resolved_heavy_atoms': 14,\n",
       "   'num_unresolved_heavy_atoms': 1,\n",
       "   'tpsa': 119.25000000000001,\n",
       "   'qed': 0.33723889506423077,\n",
       "   'is_ion': False,\n",
       "   'is_lipinski': True,\n",
       "   'is_fragment': False,\n",
       "   'is_oligo': False,\n",
       "   'is_cofactor': False,\n",
       "   'in_artifact_list': False,\n",
       "   'is_artifact': False,\n",
       "   'is_other': False,\n",
       "   'is_invalid': False,\n",
       "   'posebusters_result': {'mol_pred_loaded': True,\n",
       "    'mol_true_loaded': True,\n",
       "    'mol_cond_loaded': True,\n",
       "    'sanitization': True,\n",
       "    'all_atoms_connected': True,\n",
       "    'molecular_formula': True,\n",
       "    'molecular_bonds': True,\n",
       "    'double_bond_stereochemistry': True,\n",
       "    'tetrahedral_chirality': True,\n",
       "    'bond_lengths': True,\n",
       "    'bond_angles': True,\n",
       "    'internal_steric_clash': True,\n",
       "    'aromatic_ring_flatness': True,\n",
       "    'double_bond_flatness': True,\n",
       "    'internal_energy': True,\n",
       "    'protein-ligand_maximum_distance': True,\n",
       "    'minimum_distance_to_organic_cofactors': True,\n",
       "    'minimum_distance_to_inorganic_cofactors': True,\n",
       "    'minimum_distance_to_waters': True,\n",
       "    'volume_overlap_with_protein': True,\n",
       "    'volume_overlap_with_organic_cofactors': True,\n",
       "    'volume_overlap_with_inorganic_cofactors': True,\n",
       "    'volume_overlap_with_waters': True,\n",
       "    'rmsd_≤_2å': True,\n",
       "    'passes_valence_checks': True,\n",
       "    'passes_kekulization': True,\n",
       "    'inchi_crystal_valid': True,\n",
       "    'inchi_docked_valid': True,\n",
       "    'inchi_crystal': 'InChI=1S/C8H15NO5/c1-4(11)9-5-3-14-6(2-10)8(13)7(5)12/h5-8,10,12-13H,2-3H2,1H3,(H,9,11)/t5-,6+,7+,8+/m0/s1',\n",
       "    'inchi_docked': 'InChI=1S/C8H15NO5/c1-4(11)9-5-3-14-6(2-10)8(13)7(5)12/h5-8,10,12-13H,2-3H2,1H3,(H,9,11)/t5-,6+,7+,8+/m0/s1',\n",
       "    'inchi_overall': True,\n",
       "    'inchi_version': True,\n",
       "    'stereochemistry_preserved': True,\n",
       "    'hydrogens': True,\n",
       "    'net_charge': True,\n",
       "    'protons': True,\n",
       "    'stereo_sp3': True,\n",
       "    'stereo_sp3_inverted': True,\n",
       "    'stereo_type': True,\n",
       "    'number_bonds': 14,\n",
       "    'shortest_bond_relative_length': 0.9492650185663352,\n",
       "    'longest_bond_relative_length': 1.0429011482666541,\n",
       "    'number_angles': 19,\n",
       "    'most_extreme_relative_angle': 1.0452636472719188,\n",
       "    'number_noncov_pairs': 58,\n",
       "    'shortest_noncovalent_relative_distance': 0.7386533194416193,\n",
       "    'number_valid_bonds': 14,\n",
       "    'number_valid_angles': 19,\n",
       "    'number_valid_noncov_pairs': 58,\n",
       "    'aromatic_ring_maximum_distance_from_plane': None,\n",
       "    'double_bond_maximum_distance_from_plane': None,\n",
       "    'ensemble_avg_energy': 32.10719429562964,\n",
       "    'mol_pred_energy': 81.78525064878713,\n",
       "    'energy_ratio': 2.54725622848707,\n",
       "    'smallest_distance_protein': 1.4676218859093153,\n",
       "    'num_pairwise_clashes_protein': 2,\n",
       "    'most_extreme_protein_atom_id_protein': 111,\n",
       "    'most_extreme_ligand_element_protein': 'C',\n",
       "    'most_extreme_protein_element_protein': 'N',\n",
       "    'most_extreme_ligand_vdw_protein': 1.7,\n",
       "    'most_extreme_protein_vdw_protein': 1.6,\n",
       "    'most_extreme_sum_radii_protein': 3.3,\n",
       "    'most_extreme_distance_protein': 1.4676218859093153,\n",
       "    'most_extreme_sum_radii_scaled_protein': 3.3,\n",
       "    'most_extreme_relative_distance_protein': 0.44473390482100467,\n",
       "    'most_extreme_clash_protein': True,\n",
       "    'smallest_distance_organic_cofactors': None,\n",
       "    'smallest_distance_inorganic_cofactors': None,\n",
       "    'smallest_distance_waters': None,\n",
       "    'volume_overlap_protein': 0.052308591466978374,\n",
       "    'volume_overlap_organic_cofactors': None,\n",
       "    'volume_overlap_inorganic_cofactors': None,\n",
       "    'volume_overlap_waters': None},\n",
       "   'unique_ccd_code': 'HSR',\n",
       "   'waters': {},\n",
       "   'crystal_contacts': {'B,125': [1946, 1947]}}],\n",
       " 'ligand_validation': {'num_residues': 1,\n",
       "  'num_processed_residues': 1,\n",
       "  'percent_processed_residues': 100.0,\n",
       "  'average_rsr': 0.192,\n",
       "  'average_rsrz': nan,\n",
       "  'average_rscc': 0.851,\n",
       "  'average_occupancy': 0.8571428571428571,\n",
       "  'percent_rsr_under_threshold': 100.0,\n",
       "  'percent_rscc_over_threshold': 100.0,\n",
       "  'percent_occupancy_over_threshold': 0.0,\n",
       "  'average_b_factor': 70.71357142857143,\n",
       "  'unknown_residue_count': 0,\n",
       "  'atom_count': 14,\n",
       "  'heavy_atom_count': 14,\n",
       "  'num_unresolved_heavy_atoms': 1,\n",
       "  'max_alt_count': 1,\n",
       "  'percent_outliers': {'geometry': 0.0,\n",
       "   'density': 0.0,\n",
       "   'chirality': 0.0,\n",
       "   'clashes': 0.0}},\n",
       " 'pocket_validation': {'num_residues': 9,\n",
       "  'num_processed_residues': 9,\n",
       "  'percent_processed_residues': 100.0,\n",
       "  'average_rsr': 0.12877777777777777,\n",
       "  'average_rsrz': -0.6723333333333333,\n",
       "  'average_rscc': 0.9612222222222222,\n",
       "  'average_occupancy': 0.9367283950617283,\n",
       "  'percent_rsr_under_threshold': 100.0,\n",
       "  'percent_rscc_over_threshold': 100.0,\n",
       "  'percent_occupancy_over_threshold': 77.77777777777777,\n",
       "  'average_b_factor': 31.81567680776014,\n",
       "  'unknown_residue_count': 0,\n",
       "  'atom_count': 61,\n",
       "  'heavy_atom_count': 61,\n",
       "  'num_unresolved_heavy_atoms': 0,\n",
       "  'max_alt_count': 1,\n",
       "  'percent_outliers': {'geometry': 0.0,\n",
       "   'density': 0.0,\n",
       "   'chirality': 0.0,\n",
       "   'clashes': 0.0}},\n",
       " 'pass_criteria': False}"
      ]
     },
     "execution_count": 39,
     "metadata": {},
     "output_type": "execute_result"
    }
   ],
   "source": [
    "sample_system.system"
   ]
  },
  {
   "cell_type": "markdown",
   "metadata": {},
   "source": [
    "### Get paths of the underlying structure files"
   ]
  },
  {
   "cell_type": "markdown",
   "metadata": {},
   "source": [
    "`archive` points to the subfolder where all the files (except `apo` and `pred` files) relating to a given system are stored"
   ]
  },
  {
   "cell_type": "code",
   "execution_count": 40,
   "metadata": {},
   "outputs": [
    {
     "data": {
      "text/plain": [
       "PosixPath('/Users/vladas/.local/share/plinder/2024-06/v2/systems/1avd__1__1.A__1.C')"
      ]
     },
     "execution_count": 40,
     "metadata": {},
     "output_type": "execute_result"
    }
   ],
   "source": [
    "sample_system.archive"
   ]
  },
  {
   "cell_type": "markdown",
   "metadata": {},
   "source": [
    "Similarly, the  `system.cif`, `receptor.cif`, `receptor.pdb`, `sequence.fasta`, and ligand sdfs can be accessed via `.system_cif`, `.receptor_cif`, `.receptor_pdb`, `.sequence_fasta` and `.ligand_sdf` properties respectively. \n",
    "\n",
    "To get all the paths of the structures together, use `.structures`"
   ]
  },
  {
   "cell_type": "code",
   "execution_count": 41,
   "metadata": {},
   "outputs": [
    {
     "data": {
      "text/plain": [
       "['/Users/vladas/.local/share/plinder/2024-06/v2/systems/1avd__1__1.A__1.C/receptor.cif',\n",
       " '/Users/vladas/.local/share/plinder/2024-06/v2/systems/1avd__1__1.A__1.C/receptor.pdb',\n",
       " '/Users/vladas/.local/share/plinder/2024-06/v2/systems/1avd__1__1.A__1.C/chain_mapping.json',\n",
       " '/Users/vladas/.local/share/plinder/2024-06/v2/systems/1avd__1__1.A__1.C/sequences.fasta',\n",
       " '/Users/vladas/.local/share/plinder/2024-06/v2/systems/1avd__1__1.A__1.C/system.cif',\n",
       " '/Users/vladas/.local/share/plinder/2024-06/v2/systems/1avd__1__1.A__1.C/ligand_files/1.C.sdf']"
      ]
     },
     "execution_count": 41,
     "metadata": {},
     "output_type": "execute_result"
    }
   ],
   "source": [
    "sample_system.structures"
   ]
  },
  {
   "cell_type": "code",
   "execution_count": 42,
   "metadata": {},
   "outputs": [
    {
     "data": {
      "text/plain": [
       "'/Users/vladas/.local/share/plinder/2024-06/v2/systems/1avd__1__1.A__1.C/system.cif'"
      ]
     },
     "execution_count": 42,
     "metadata": {},
     "output_type": "execute_result"
    }
   ],
   "source": [
    "sample_system.system_cif"
   ]
  },
  {
   "cell_type": "markdown",
   "metadata": {},
   "source": [
    "### Get binding site water (`.water_mapping`)\n",
    "This returns the information about binding site water "
   ]
  },
  {
   "cell_type": "code",
   "execution_count": 43,
   "metadata": {},
   "outputs": [],
   "source": [
    "sample_system.water_mapping"
   ]
  },
  {
   "cell_type": "markdown",
   "metadata": {},
   "source": [
    "### Chain mapping \n",
    ":::{todo}\n",
    "Confirm with Jay\n",
    ":::\n",
    "\n",
    "`.chain_mapping` maps chain ids in system (`<instance_id>.<asym_id>`) to PDB author chain ids "
   ]
  },
  {
   "cell_type": "code",
   "execution_count": 44,
   "metadata": {},
   "outputs": [
    {
     "data": {
      "text/plain": [
       "{'1.A': 'A'}"
      ]
     },
     "execution_count": 44,
     "metadata": {},
     "output_type": "execute_result"
    }
   ],
   "source": [
    "sample_system.chain_mapping"
   ]
  },
  {
   "cell_type": "markdown",
   "metadata": {},
   "source": [
    "linked_structures, linked_archive, get_linked_structure \n",
    "linked_archive, linked_structures,  get_linked_structure, alt_structures"
   ]
  },
  {
   "cell_type": "markdown",
   "metadata": {},
   "source": [
    "### Linked apo and predicted structures.\n",
    "The following properties provides different kind of information about linked structures as described below:\n",
    "- `.linked_archive`: returns paths the local subfolder where the linked structures are saved; \n",
    "- `.linked_structures`: returns the dataframe of linked structures along with all their metrics while \n",
    "- `.get_linked_structure`:  gives the path to a specific linked structure.\n",
    "- `.best_linked_structures_paths`: Gives the best linked structures based on `scrmsd_wave` which is average symmetry-corrected RMSD across mapped ligands weighted by number of atoms. This selects maximum of two alternate structure with at most one `apo` and `pred` each when available\n",
    "- `.alt_structures`: returns the dictionary`Structure` object of the best `apo` and `pred` which the corresponding `holo` chain as key"
   ]
  },
  {
   "cell_type": "code",
   "execution_count": 45,
   "metadata": {},
   "outputs": [
    {
     "name": "stderr",
     "output_type": "stream",
     "text": [
      "2024-09-24 11:49:31,305 | plinder.core.utils.cpl.download_paths:24 | INFO : runtime succeeded: 0.00s\n",
      "2024-09-24 11:49:31,305 | plinder.core.utils.cpl.download_paths:24 | INFO : runtime succeeded: 0.00s\n"
     ]
    },
    {
     "data": {
      "application/vnd.jupyter.widget-view+json": {
       "model_id": "fdfe86870f494a0ebef9e6374e191dc2",
       "version_major": 2,
       "version_minor": 0
      },
      "text/plain": [
       "  0%|          | 0/11 [00:00<?, ?it/s]"
      ]
     },
     "metadata": {},
     "output_type": "display_data"
    },
    {
     "data": {
      "text/plain": [
       "PosixPath('/Users/vladas/.local/share/plinder/2024-06/v2/linked_structures')"
      ]
     },
     "execution_count": 45,
     "metadata": {},
     "output_type": "execute_result"
    }
   ],
   "source": [
    "sample_system.linked_archive"
   ]
  },
  {
   "cell_type": "code",
   "execution_count": 47,
   "metadata": {},
   "outputs": [
    {
     "data": {
      "text/html": [
       "<div>\n",
       "<style scoped>\n",
       "    .dataframe tbody tr th:only-of-type {\n",
       "        vertical-align: middle;\n",
       "    }\n",
       "\n",
       "    .dataframe tbody tr th {\n",
       "        vertical-align: top;\n",
       "    }\n",
       "\n",
       "    .dataframe thead th {\n",
       "        text-align: right;\n",
       "    }\n",
       "</style>\n",
       "<table border=\"1\" class=\"dataframe\">\n",
       "  <thead>\n",
       "    <tr style=\"text-align: right;\">\n",
       "      <th></th>\n",
       "      <th>reference_system_id</th>\n",
       "      <th>id</th>\n",
       "      <th>pocket_fident</th>\n",
       "      <th>pocket_lddt</th>\n",
       "      <th>protein_fident_qcov_weighted_sum</th>\n",
       "      <th>protein_fident_weighted_sum</th>\n",
       "      <th>protein_lddt_weighted_sum</th>\n",
       "      <th>target_id</th>\n",
       "      <th>sort_score</th>\n",
       "      <th>receptor_file</th>\n",
       "      <th>...</th>\n",
       "      <th>posebusters_most_extreme_ligand_element_waters</th>\n",
       "      <th>posebusters_most_extreme_protein_element_waters</th>\n",
       "      <th>posebusters_most_extreme_ligand_vdw_waters</th>\n",
       "      <th>posebusters_most_extreme_protein_vdw_waters</th>\n",
       "      <th>posebusters_most_extreme_sum_radii_waters</th>\n",
       "      <th>posebusters_most_extreme_distance_waters</th>\n",
       "      <th>posebusters_most_extreme_sum_radii_scaled_waters</th>\n",
       "      <th>posebusters_most_extreme_relative_distance_waters</th>\n",
       "      <th>posebusters_most_extreme_clash_waters</th>\n",
       "      <th>kind</th>\n",
       "    </tr>\n",
       "  </thead>\n",
       "  <tbody>\n",
       "    <tr>\n",
       "      <th>0</th>\n",
       "      <td>1avd__1__1.A__1.C</td>\n",
       "      <td>1vyo_B</td>\n",
       "      <td>100.0</td>\n",
       "      <td>83.0</td>\n",
       "      <td>98.0</td>\n",
       "      <td>98.0</td>\n",
       "      <td>93.0</td>\n",
       "      <td>1vyo</td>\n",
       "      <td>1.48</td>\n",
       "      <td>/plinder/2024-06/assignments/apo/1avd__1__1.A_...</td>\n",
       "      <td>...</td>\n",
       "      <td>None</td>\n",
       "      <td>None</td>\n",
       "      <td>NaN</td>\n",
       "      <td>NaN</td>\n",
       "      <td>NaN</td>\n",
       "      <td>NaN</td>\n",
       "      <td>NaN</td>\n",
       "      <td>NaN</td>\n",
       "      <td>NaN</td>\n",
       "      <td>apo</td>\n",
       "    </tr>\n",
       "    <tr>\n",
       "      <th>1</th>\n",
       "      <td>1avd__1__1.A__1.C</td>\n",
       "      <td>1vyo_A</td>\n",
       "      <td>100.0</td>\n",
       "      <td>82.0</td>\n",
       "      <td>98.0</td>\n",
       "      <td>98.0</td>\n",
       "      <td>93.0</td>\n",
       "      <td>1vyo</td>\n",
       "      <td>1.48</td>\n",
       "      <td>/plinder/2024-06/assignments/apo/1avd__1__1.A_...</td>\n",
       "      <td>...</td>\n",
       "      <td>None</td>\n",
       "      <td>None</td>\n",
       "      <td>NaN</td>\n",
       "      <td>NaN</td>\n",
       "      <td>NaN</td>\n",
       "      <td>NaN</td>\n",
       "      <td>NaN</td>\n",
       "      <td>NaN</td>\n",
       "      <td>NaN</td>\n",
       "      <td>apo</td>\n",
       "    </tr>\n",
       "    <tr>\n",
       "      <th>2</th>\n",
       "      <td>1avd__1__1.A__1.C</td>\n",
       "      <td>1nqn_A</td>\n",
       "      <td>100.0</td>\n",
       "      <td>76.0</td>\n",
       "      <td>94.0</td>\n",
       "      <td>99.0</td>\n",
       "      <td>88.0</td>\n",
       "      <td>1nqn</td>\n",
       "      <td>1.80</td>\n",
       "      <td>/plinder/2024-06/assignments/apo/1avd__1__1.A_...</td>\n",
       "      <td>...</td>\n",
       "      <td>None</td>\n",
       "      <td>None</td>\n",
       "      <td>NaN</td>\n",
       "      <td>NaN</td>\n",
       "      <td>NaN</td>\n",
       "      <td>NaN</td>\n",
       "      <td>NaN</td>\n",
       "      <td>NaN</td>\n",
       "      <td>NaN</td>\n",
       "      <td>apo</td>\n",
       "    </tr>\n",
       "    <tr>\n",
       "      <th>3</th>\n",
       "      <td>1avd__1__1.A__1.C</td>\n",
       "      <td>1rav_B</td>\n",
       "      <td>100.0</td>\n",
       "      <td>81.0</td>\n",
       "      <td>99.0</td>\n",
       "      <td>99.0</td>\n",
       "      <td>90.0</td>\n",
       "      <td>1rav</td>\n",
       "      <td>2.20</td>\n",
       "      <td>/plinder/2024-06/assignments/apo/1avd__1__1.A_...</td>\n",
       "      <td>...</td>\n",
       "      <td>None</td>\n",
       "      <td>None</td>\n",
       "      <td>NaN</td>\n",
       "      <td>NaN</td>\n",
       "      <td>NaN</td>\n",
       "      <td>NaN</td>\n",
       "      <td>NaN</td>\n",
       "      <td>NaN</td>\n",
       "      <td>NaN</td>\n",
       "      <td>apo</td>\n",
       "    </tr>\n",
       "    <tr>\n",
       "      <th>4</th>\n",
       "      <td>1avd__1__1.A__1.C</td>\n",
       "      <td>1rav_A</td>\n",
       "      <td>100.0</td>\n",
       "      <td>83.0</td>\n",
       "      <td>99.0</td>\n",
       "      <td>99.0</td>\n",
       "      <td>90.0</td>\n",
       "      <td>1rav</td>\n",
       "      <td>2.20</td>\n",
       "      <td>/plinder/2024-06/assignments/apo/1avd__1__1.A_...</td>\n",
       "      <td>...</td>\n",
       "      <td>None</td>\n",
       "      <td>None</td>\n",
       "      <td>NaN</td>\n",
       "      <td>NaN</td>\n",
       "      <td>NaN</td>\n",
       "      <td>NaN</td>\n",
       "      <td>NaN</td>\n",
       "      <td>NaN</td>\n",
       "      <td>NaN</td>\n",
       "      <td>apo</td>\n",
       "    </tr>\n",
       "    <tr>\n",
       "      <th>5</th>\n",
       "      <td>1avd__1__1.A__1.C</td>\n",
       "      <td>P02701_A</td>\n",
       "      <td>100.0</td>\n",
       "      <td>94.0</td>\n",
       "      <td>98.0</td>\n",
       "      <td>98.0</td>\n",
       "      <td>93.0</td>\n",
       "      <td>P02701</td>\n",
       "      <td>91.22</td>\n",
       "      <td>/plinder/2024-06/assignments/pred/1avd__1__1.A...</td>\n",
       "      <td>...</td>\n",
       "      <td>None</td>\n",
       "      <td>None</td>\n",
       "      <td>NaN</td>\n",
       "      <td>NaN</td>\n",
       "      <td>NaN</td>\n",
       "      <td>NaN</td>\n",
       "      <td>NaN</td>\n",
       "      <td>NaN</td>\n",
       "      <td>NaN</td>\n",
       "      <td>pred</td>\n",
       "    </tr>\n",
       "  </tbody>\n",
       "</table>\n",
       "<p>6 rows × 135 columns</p>\n",
       "</div>"
      ],
      "text/plain": [
       "  reference_system_id        id  pocket_fident  pocket_lddt  \\\n",
       "0   1avd__1__1.A__1.C    1vyo_B          100.0         83.0   \n",
       "1   1avd__1__1.A__1.C    1vyo_A          100.0         82.0   \n",
       "2   1avd__1__1.A__1.C    1nqn_A          100.0         76.0   \n",
       "3   1avd__1__1.A__1.C    1rav_B          100.0         81.0   \n",
       "4   1avd__1__1.A__1.C    1rav_A          100.0         83.0   \n",
       "5   1avd__1__1.A__1.C  P02701_A          100.0         94.0   \n",
       "\n",
       "   protein_fident_qcov_weighted_sum  protein_fident_weighted_sum  \\\n",
       "0                              98.0                         98.0   \n",
       "1                              98.0                         98.0   \n",
       "2                              94.0                         99.0   \n",
       "3                              99.0                         99.0   \n",
       "4                              99.0                         99.0   \n",
       "5                              98.0                         98.0   \n",
       "\n",
       "   protein_lddt_weighted_sum target_id  sort_score  \\\n",
       "0                       93.0      1vyo        1.48   \n",
       "1                       93.0      1vyo        1.48   \n",
       "2                       88.0      1nqn        1.80   \n",
       "3                       90.0      1rav        2.20   \n",
       "4                       90.0      1rav        2.20   \n",
       "5                       93.0    P02701       91.22   \n",
       "\n",
       "                                       receptor_file  ...  \\\n",
       "0  /plinder/2024-06/assignments/apo/1avd__1__1.A_...  ...   \n",
       "1  /plinder/2024-06/assignments/apo/1avd__1__1.A_...  ...   \n",
       "2  /plinder/2024-06/assignments/apo/1avd__1__1.A_...  ...   \n",
       "3  /plinder/2024-06/assignments/apo/1avd__1__1.A_...  ...   \n",
       "4  /plinder/2024-06/assignments/apo/1avd__1__1.A_...  ...   \n",
       "5  /plinder/2024-06/assignments/pred/1avd__1__1.A...  ...   \n",
       "\n",
       "  posebusters_most_extreme_ligand_element_waters  \\\n",
       "0                                           None   \n",
       "1                                           None   \n",
       "2                                           None   \n",
       "3                                           None   \n",
       "4                                           None   \n",
       "5                                           None   \n",
       "\n",
       "   posebusters_most_extreme_protein_element_waters  \\\n",
       "0                                             None   \n",
       "1                                             None   \n",
       "2                                             None   \n",
       "3                                             None   \n",
       "4                                             None   \n",
       "5                                             None   \n",
       "\n",
       "   posebusters_most_extreme_ligand_vdw_waters  \\\n",
       "0                                         NaN   \n",
       "1                                         NaN   \n",
       "2                                         NaN   \n",
       "3                                         NaN   \n",
       "4                                         NaN   \n",
       "5                                         NaN   \n",
       "\n",
       "   posebusters_most_extreme_protein_vdw_waters  \\\n",
       "0                                          NaN   \n",
       "1                                          NaN   \n",
       "2                                          NaN   \n",
       "3                                          NaN   \n",
       "4                                          NaN   \n",
       "5                                          NaN   \n",
       "\n",
       "   posebusters_most_extreme_sum_radii_waters  \\\n",
       "0                                        NaN   \n",
       "1                                        NaN   \n",
       "2                                        NaN   \n",
       "3                                        NaN   \n",
       "4                                        NaN   \n",
       "5                                        NaN   \n",
       "\n",
       "   posebusters_most_extreme_distance_waters  \\\n",
       "0                                       NaN   \n",
       "1                                       NaN   \n",
       "2                                       NaN   \n",
       "3                                       NaN   \n",
       "4                                       NaN   \n",
       "5                                       NaN   \n",
       "\n",
       "   posebusters_most_extreme_sum_radii_scaled_waters  \\\n",
       "0                                               NaN   \n",
       "1                                               NaN   \n",
       "2                                               NaN   \n",
       "3                                               NaN   \n",
       "4                                               NaN   \n",
       "5                                               NaN   \n",
       "\n",
       "   posebusters_most_extreme_relative_distance_waters  \\\n",
       "0                                                NaN   \n",
       "1                                                NaN   \n",
       "2                                                NaN   \n",
       "3                                                NaN   \n",
       "4                                                NaN   \n",
       "5                                                NaN   \n",
       "\n",
       "   posebusters_most_extreme_clash_waters  kind  \n",
       "0                                    NaN   apo  \n",
       "1                                    NaN   apo  \n",
       "2                                    NaN   apo  \n",
       "3                                    NaN   apo  \n",
       "4                                    NaN   apo  \n",
       "5                                    NaN  pred  \n",
       "\n",
       "[6 rows x 135 columns]"
      ]
     },
     "execution_count": 47,
     "metadata": {},
     "output_type": "execute_result"
    }
   ],
   "source": [
    "sample_system.linked_structures"
   ]
  },
  {
   "cell_type": "code",
   "execution_count": 48,
   "metadata": {},
   "outputs": [
    {
     "data": {
      "text/plain": [
       "'/Users/vladas/.local/share/plinder/2024-06/v2/linked_structures/1vyo_B.cif'"
      ]
     },
     "execution_count": 48,
     "metadata": {},
     "output_type": "execute_result"
    }
   ],
   "source": [
    "sample_system.get_linked_structure(link_kind=\"apo\", link_id='1vyo_B')"
   ]
  },
  {
   "cell_type": "code",
   "execution_count": 49,
   "metadata": {},
   "outputs": [
    {
     "data": {
      "text/plain": [
       "{'1vyo_B': Structure(\n",
       "     (\n",
       "         'id',\n",
       "         '1vyo_B',\n",
       "     ),\n",
       "     (\n",
       "         'protein_path',\n",
       "         /Users/vladas/.local/share/plinder/2024-06/v2/linked_structures/1vyo_B.cif,\n",
       "     ),\n",
       "     (\n",
       "         'protein_sequence',\n",
       "         {\n",
       "             '1.A': 'ARKCSLTGKWTNDLGSNMTIGAVNSRGEFTGTYTTAVTATSNEIKESPLHGTENTINKRTQPTFGFTVNWKFSESTTVFTGQCFIDRNGKEVLKTMWLLRSSVNDIGDDWKATRVGINIFTRLRTQKE',\n",
       "         },\n",
       "     ),\n",
       "     (\n",
       "         'ligand_sdfs',\n",
       "         None,\n",
       "     ),\n",
       "     (\n",
       "         'ligand_smiles',\n",
       "         None,\n",
       "     ),\n",
       "     (\n",
       "         'protein_atom_array',\n",
       "         <class 'biotite.structure.AtomArray'> with shape (958,),\n",
       "     ),\n",
       "     (\n",
       "         'ligand_mols',\n",
       "         None,\n",
       "     ),\n",
       "     (\n",
       "         'add_ligand_hydrogens',\n",
       "         False,\n",
       "     ),\n",
       "     (\n",
       "         'structure_type',\n",
       "         'apo',\n",
       "     ),\n",
       " ),\n",
       " '1vyo_A': Structure(\n",
       "     (\n",
       "         'id',\n",
       "         '1vyo_A',\n",
       "     ),\n",
       "     (\n",
       "         'protein_path',\n",
       "         /Users/vladas/.local/share/plinder/2024-06/v2/linked_structures/1vyo_A.cif,\n",
       "     ),\n",
       "     (\n",
       "         'protein_sequence',\n",
       "         {\n",
       "             '1.A': 'ARKCSLTGKWTNDLGSNMTIGAVNSRGEFTGTYTTAVTATSNEIKESPLHGTENTINKRTQPTFGFTVNWKFSESTTVFTGQCFIDRNGKEVLKTMWLLRSSVNDIGDDWKATRVGINIFTRLRTQKE',\n",
       "         },\n",
       "     ),\n",
       "     (\n",
       "         'ligand_sdfs',\n",
       "         None,\n",
       "     ),\n",
       "     (\n",
       "         'ligand_smiles',\n",
       "         None,\n",
       "     ),\n",
       "     (\n",
       "         'protein_atom_array',\n",
       "         <class 'biotite.structure.AtomArray'> with shape (947,),\n",
       "     ),\n",
       "     (\n",
       "         'ligand_mols',\n",
       "         None,\n",
       "     ),\n",
       "     (\n",
       "         'add_ligand_hydrogens',\n",
       "         False,\n",
       "     ),\n",
       "     (\n",
       "         'structure_type',\n",
       "         'apo',\n",
       "     ),\n",
       " ),\n",
       " '1nqn_A': Structure(\n",
       "     (\n",
       "         'id',\n",
       "         '1nqn_A',\n",
       "     ),\n",
       "     (\n",
       "         'protein_path',\n",
       "         /Users/vladas/.local/share/plinder/2024-06/v2/linked_structures/1nqn_A.cif,\n",
       "     ),\n",
       "     (\n",
       "         'protein_sequence',\n",
       "         {\n",
       "             '1.A': 'ARKCSLTGKWTNDLGSNMTIGAVNSRGEFTGTYTTAVTATSNEIKESPLHGTENTINKRTQPTFGFTVNWKFSESTTVFTGQCFIDRNGKEVLKTMWLLRSSVNDIGDDWKATRVGINIFTRLRTQKE',\n",
       "         },\n",
       "     ),\n",
       "     (\n",
       "         'ligand_sdfs',\n",
       "         None,\n",
       "     ),\n",
       "     (\n",
       "         'ligand_smiles',\n",
       "         None,\n",
       "     ),\n",
       "     (\n",
       "         'protein_atom_array',\n",
       "         <class 'biotite.structure.AtomArray'> with shape (928,),\n",
       "     ),\n",
       "     (\n",
       "         'ligand_mols',\n",
       "         None,\n",
       "     ),\n",
       "     (\n",
       "         'add_ligand_hydrogens',\n",
       "         False,\n",
       "     ),\n",
       "     (\n",
       "         'structure_type',\n",
       "         'apo',\n",
       "     ),\n",
       " ),\n",
       " '1rav_B': Structure(\n",
       "     (\n",
       "         'id',\n",
       "         '1rav_B',\n",
       "     ),\n",
       "     (\n",
       "         'protein_path',\n",
       "         /Users/vladas/.local/share/plinder/2024-06/v2/linked_structures/1rav_B.cif,\n",
       "     ),\n",
       "     (\n",
       "         'protein_sequence',\n",
       "         {\n",
       "             '1.A': 'ARKCSLTGKWTNDLGSNMTIGAVNSRGEFTGTYTTAVTATSNEIKESPLHGTENTINKRTQPTFGFTVNWKFSESTTVFTGQCFIDRNGKEVLKTMWLLRSSVNDIGDDWKATRVGINIFTRLRTQKE',\n",
       "         },\n",
       "     ),\n",
       "     (\n",
       "         'ligand_sdfs',\n",
       "         None,\n",
       "     ),\n",
       "     (\n",
       "         'ligand_smiles',\n",
       "         None,\n",
       "     ),\n",
       "     (\n",
       "         'protein_atom_array',\n",
       "         <class 'biotite.structure.AtomArray'> with shape (976,),\n",
       "     ),\n",
       "     (\n",
       "         'ligand_mols',\n",
       "         None,\n",
       "     ),\n",
       "     (\n",
       "         'add_ligand_hydrogens',\n",
       "         False,\n",
       "     ),\n",
       "     (\n",
       "         'structure_type',\n",
       "         'apo',\n",
       "     ),\n",
       " ),\n",
       " '1rav_A': Structure(\n",
       "     (\n",
       "         'id',\n",
       "         '1rav_A',\n",
       "     ),\n",
       "     (\n",
       "         'protein_path',\n",
       "         /Users/vladas/.local/share/plinder/2024-06/v2/linked_structures/1rav_A.cif,\n",
       "     ),\n",
       "     (\n",
       "         'protein_sequence',\n",
       "         {\n",
       "             '1.A': 'ARKCSLTGKWTNDLGSNMTIGAVNSRGEFTGTYTTAVTATSNEIKESPLHGTENTINKRTQPTFGFTVNWKFSESTTVFTGQCFIDRNGKEVLKTMWLLRSSVNDIGDDWKATRVGINIFTRLRTQKE',\n",
       "         },\n",
       "     ),\n",
       "     (\n",
       "         'ligand_sdfs',\n",
       "         None,\n",
       "     ),\n",
       "     (\n",
       "         'ligand_smiles',\n",
       "         None,\n",
       "     ),\n",
       "     (\n",
       "         'protein_atom_array',\n",
       "         <class 'biotite.structure.AtomArray'> with shape (976,),\n",
       "     ),\n",
       "     (\n",
       "         'ligand_mols',\n",
       "         None,\n",
       "     ),\n",
       "     (\n",
       "         'add_ligand_hydrogens',\n",
       "         False,\n",
       "     ),\n",
       "     (\n",
       "         'structure_type',\n",
       "         'apo',\n",
       "     ),\n",
       " ),\n",
       " 'P02701_A': Structure(\n",
       "     (\n",
       "         'id',\n",
       "         'P02701_A',\n",
       "     ),\n",
       "     (\n",
       "         'protein_path',\n",
       "         /Users/vladas/.local/share/plinder/2024-06/v2/linked_structures/P02701_A.cif,\n",
       "     ),\n",
       "     (\n",
       "         'protein_sequence',\n",
       "         {\n",
       "             '1.A': 'ARKCSLTGKWTNDLGSNMTIGAVNSRGEFTGTYTTAVTATSNEIKESPLHGTENTINKRTQPTFGFTVNWKFSESTTVFTGQCFIDRNGKEVLKTMWLLRSSVNDIGDDWKATRVGINIFTRLRTQKE',\n",
       "         },\n",
       "     ),\n",
       "     (\n",
       "         'ligand_sdfs',\n",
       "         None,\n",
       "     ),\n",
       "     (\n",
       "         'ligand_smiles',\n",
       "         None,\n",
       "     ),\n",
       "     (\n",
       "         'protein_atom_array',\n",
       "         <class 'biotite.structure.AtomArray'> with shape (1179,),\n",
       "     ),\n",
       "     (\n",
       "         'ligand_mols',\n",
       "         None,\n",
       "     ),\n",
       "     (\n",
       "         'add_ligand_hydrogens',\n",
       "         False,\n",
       "     ),\n",
       "     (\n",
       "         'structure_type',\n",
       "         'pred',\n",
       "     ),\n",
       " )}"
      ]
     },
     "execution_count": 49,
     "metadata": {},
     "output_type": "execute_result"
    }
   ],
   "source": [
    "sample_system.alternate_structures"
   ]
  },
  {
   "cell_type": "markdown",
   "metadata": {},
   "source": [
    "### Get `Openstructure` entities and views\n",
    "`.receptor_entity` returns receptor `mol.EntityHandle` object\n",
    "`.ligand_views` returns `mol.ResidueView` for all ligands\n",
    "\n",
    ":::{note}\n",
    "You must have Openstructure installed to use this property\n",
    ":::\n"
   ]
  },
  {
   "cell_type": "markdown",
   "metadata": {},
   "source": [
    "### Others properties\n",
    "This includes:\n",
    "- `num_ligands`: Number of ligand chains\n",
    "- `smiles`: Ligand smiles dictionary\n",
    "- `num_proteins`: Number of protein chains\n"
   ]
  },
  {
   "cell_type": "markdown",
   "metadata": {},
   "source": [
    "## 3. Interacting with the PLINDER dataset\n",
    "`PlinderDataset` provides an interface to interact with _PLINDER_ data as a dataset. It is a subclass of `torch.utils.data.Dataset`, as such subclassing it and extending should be familiar to most users. Flexibility and general applicability is our top concern when designing this interface and `PlinderDataset` allows users to not only define their own split but to also bring their own featurizer.\n",
    "It can be initialized with the following parameters\n",
    "```\n",
    "Parameters\n",
    "    ----------\n",
    "    df : pd.DataFrame | None\n",
    "        the split to use\n",
    "    split : str\n",
    "        the split to sample from\n",
    "    split_parquet_path : str | Path, default=None\n",
    "        split parquet file\n",
    "    input_structure_priority : str, default=\"apo\"\n",
    "        Which alternate structure to proritize\n",
    "    featurizer: Callable[\n",
    "            [Structure, int], dict[str, torch.Tensor]\n",
    "    ] = structure_featurizer,\n",
    "        Transformation to turn structure to input tensors\n",
    "    padding_value : int\n",
    "        Value for padding uneven array\n",
    "    **kwargs : Any\n",
    "        Any other keyword args\n",
    "``` "
   ]
  },
  {
   "cell_type": "markdown",
   "metadata": {},
   "source": [
    "#### Make _PLINDER_ training dataset with default parameters\n",
    "When no parameter is set, PlinderDataset automatically defaults to the training set of the most current version of the dataset. To change this behaviour, we can explicitly pass a data frame to the parameter `df` or split file to `split_parquet_path`. Either of these must have at least two columns named `system_id` and `split`. This also use our default featurizer `plinder.core.loader.featurizer.featurizer`. \n",
    "NOTE: We have provided this `plinder.core.loader.featurizer.featurizer` as an example featurizer; users are encourage to use featurizers that suit their need."
   ]
  },
  {
   "cell_type": "code",
   "execution_count": 51,
   "metadata": {},
   "outputs": [],
   "source": [
    "from plinder.core.loader import PlinderDataset, get_torch_loader"
   ]
  },
  {
   "cell_type": "code",
   "execution_count": 52,
   "metadata": {},
   "outputs": [
    {
     "name": "stderr",
     "output_type": "stream",
     "text": [
      "2024-09-24 11:49:53,525 | plinder.core.utils.cpl.download_paths:24 | INFO : runtime succeeded: 0.65s\n",
      "2024-09-24 11:49:55,633 | plinder.core.utils.cpl.download_paths:24 | INFO : runtime succeeded: 0.73s\n",
      "2024-09-24 11:49:56,441 | plinder.core.split.utils:40 | INFO : reading /Users/vladas/.local/share/plinder/2024-06/v2/splits/split.parquet\n",
      "2024-09-24 11:49:56,709 | plinder.core.split.utils.get_split:24 | INFO : runtime succeeded: 2.03s\n"
     ]
    }
   ],
   "source": [
    "val_dataset = PlinderDataset(split=\"val\")\n",
    "#train_dataset = PlinderDataset(df=splits_df[splits_df.system_id ==\"6pl9__1__1.A__1.C\"])"
   ]
  },
  {
   "cell_type": "markdown",
   "metadata": {},
   "source": [
    "This takes some time an memory - thus we only load on `val` here rather than `train`."
   ]
  },
  {
   "cell_type": "code",
   "execution_count": 53,
   "metadata": {},
   "outputs": [
    {
     "name": "stderr",
     "output_type": "stream",
     "text": [
      "2024-09-24 11:50:05,355 | plinder.core.utils.cpl.download_paths:24 | INFO : runtime succeeded: 6.71s\n",
      "2024-09-24 11:50:06,017 | plinder.core.utils.cpl.download_paths:24 | INFO : runtime succeeded: 0.66s\n",
      "2024-09-24 11:50:11,753 | plinder.core.utils.cpl.download_paths:24 | INFO : runtime succeeded: 2.98s\n",
      "2024-09-24 11:50:12,396 | plinder.core.utils.cpl.download_paths:24 | INFO : runtime succeeded: 0.64s\n",
      "2024-09-24 11:50:12,397 | plinder.core.index.utils:148 | INFO : loading entries from 1 zips\n",
      "2024-09-24 11:50:12,401 | plinder.core.index.utils:163 | INFO : loaded 1 entries\n",
      "2024-09-24 11:50:12,402 | plinder.core.index.utils.load_entries:24 | INFO : runtime succeeded: 4.28s\n",
      "2024-09-24 11:50:12,522 | plinder.core.structure.atoms:123 | INFO : generate_conformer: MMFFOptimizeMolecule - more iterations are required, extending by 500 steps\n"
     ]
    }
   ],
   "source": [
    "val_data = val_dataset[1]"
   ]
  },
  {
   "cell_type": "markdown",
   "metadata": {},
   "source": [
    "test_data[110]"
   ]
  },
  {
   "cell_type": "markdown",
   "metadata": {},
   "source": [
    "## 4. Loader"
   ]
  },
  {
   "cell_type": "code",
   "execution_count": null,
   "metadata": {},
   "outputs": [],
   "source": [
    "val_loader = get_torch_loader(\n",
    "    val_dataset\n",
    ")"
   ]
  },
  {
   "cell_type": "code",
   "execution_count": null,
   "metadata": {},
   "outputs": [],
   "source": [
    "for data in val_loader:\n",
    "\n",
    "    test_torch = data\n",
    "    break\n",
    "    #for k, v in test_torch['input_features'].items():\n",
    "    #    if v.shape[1] > 1:\n",
    "    #        break"
   ]
  },
  {
   "cell_type": "code",
   "execution_count": null,
   "metadata": {},
   "outputs": [],
   "source": [
    "test_torch.keys()"
   ]
  },
  {
   "cell_type": "code",
   "execution_count": null,
   "metadata": {},
   "outputs": [],
   "source": [
    "test_torch['system_ids']"
   ]
  },
  {
   "cell_type": "code",
   "execution_count": null,
   "metadata": {},
   "outputs": [],
   "source": [
    "for k, v in test_torch['features_and_coords'].items():\n",
    "    print(k, v.shape)"
   ]
  },
  {
   "cell_type": "code",
   "execution_count": null,
   "metadata": {},
   "outputs": [],
   "source": []
  }
 ],
 "metadata": {
  "kernelspec": {
   "display_name": "Python 3",
   "language": "python",
   "name": "python3"
  },
  "language_info": {
   "codemirror_mode": {
    "name": "ipython",
    "version": 3
   },
   "file_extension": ".py",
   "mimetype": "text/x-python",
   "name": "python",
   "nbconvert_exporter": "python",
   "pygments_lexer": "ipython3",
   "version": "3.10.15"
  }
 },
 "nbformat": 4,
 "nbformat_minor": 2
}
